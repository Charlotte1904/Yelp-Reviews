{
 "cells": [
  {
   "cell_type": "markdown",
   "metadata": {},
   "source": [
    "# YELP DATASET\n"
   ]
  },
  {
   "cell_type": "markdown",
   "metadata": {},
   "source": [
    "## Goal\n",
    "1. Rename columns\n",
    "2. Reset Index\n",
    "3. Get Restaurant Reviews + Businesses only\n",
    "4. Get Users that have more than 50 reviews only\n",
    "5. Clean Text ( lower , lemmatizing , remove punctuation )\n",
    "5. Add Features to User Panda Frame\n",
    "    - Elite Status --- 1: Yes 0:No\n",
    "    - Add total user compliments \n",
    "    - Number of friends\n",
    "    - Number of Tips Given --- Merge with tips pandaframe\n",
    "    - Fill Null with 0 \n",
    "7. Check to see continuous vs discrete data in pd\n",
    "\n",
    "    "
   ]
  },
  {
   "cell_type": "markdown",
   "metadata": {},
   "source": [
    "Dataset Source: https://www.yelp.com/dataset_challenge"
   ]
  },
  {
   "cell_type": "code",
   "execution_count": 1,
   "metadata": {
    "collapsed": false
   },
   "outputs": [
    {
     "name": "stdout",
     "output_type": "stream",
     "text": [
      "Populating the interactive namespace from numpy and matplotlib\n"
     ]
    }
   ],
   "source": [
    "%pylab inline\n",
    "import pandas as pd\n",
    "import numpy as np\n",
    "import seaborn as sns\n",
    "import re, string\n",
    "from collections import Counter\n",
    "\n",
    "from nltk.stem.wordnet import WordNetLemmatizer\n",
    "from nltk.corpus import stopwords\n",
    "from nltk.tokenize import word_tokenize\n",
    "from sklearn.feature_extraction.text import CountVectorizer, TfidfVectorizer\n",
    "from sklearn.decomposition import NMF\n",
    "from sklearn.decomposition.online_lda import LatentDirichletAllocation\n",
    "from sklearn.pipeline import Pipeline"
   ]
  },
  {
   "cell_type": "markdown",
   "metadata": {},
   "source": [
    "# Read Data"
   ]
  },
  {
   "cell_type": "code",
   "execution_count": 2,
   "metadata": {
    "collapsed": false,
    "scrolled": true
   },
   "outputs": [
    {
     "name": "stderr",
     "output_type": "stream",
     "text": [
      "/Users/Charlotte/anaconda/lib/python3.5/site-packages/IPython/core/interactiveshell.py:2723: DtypeWarning: Columns (1,4,7,17,26,29,49,60,62,79,86,94) have mixed types. Specify dtype option on import or set low_memory=False.\n",
      "  interactivity=interactivity, compiler=compiler, result=result)\n"
     ]
    }
   ],
   "source": [
    "user = pd.read_csv('csv/user.csv')\n",
    "business = pd.read_csv('csv/business.csv')\n",
    "review = pd.read_csv('csv/review.csv')\n",
    "tip = pd.read_csv('csv/tip.csv')"
   ]
  },
  {
   "cell_type": "code",
   "execution_count": 3,
   "metadata": {
    "collapsed": false
   },
   "outputs": [],
   "source": [
    "def rename_column(file):\n",
    "    new_names = list()\n",
    "    for col in file:\n",
    "        new_names.append(col.replace('.', '_', len(col)).replace(' ', '_', len(col)).lower())\n",
    "    return new_names"
   ]
  },
  {
   "cell_type": "code",
   "execution_count": 4,
   "metadata": {
    "collapsed": false
   },
   "outputs": [],
   "source": [
    "user.columns = rename_column(user.columns)\n",
    "business.columns = rename_column(business.columns)\n",
    "business.columns = [ re.sub('attributes_', '', c) for c in business.columns ]\n",
    "review.columns = rename_column(review.columns)"
   ]
  },
  {
   "cell_type": "code",
   "execution_count": 5,
   "metadata": {
    "collapsed": false
   },
   "outputs": [],
   "source": [
    "# user = user.ix[user['review_count'] > 50]\n",
    "# business = business.ix[business['review_count'] > 50]"
   ]
  },
  {
   "cell_type": "code",
   "execution_count": 6,
   "metadata": {
    "collapsed": true
   },
   "outputs": [],
   "source": [
    "user = user.reset_index()\n",
    "business = business.reset_index()"
   ]
  },
  {
   "cell_type": "code",
   "execution_count": null,
   "metadata": {
    "collapsed": false
   },
   "outputs": [],
   "source": []
  },
  {
   "cell_type": "markdown",
   "metadata": {},
   "source": [
    "# Get Restaurants Businesses and Reviews"
   ]
  },
  {
   "cell_type": "code",
   "execution_count": 7,
   "metadata": {
    "collapsed": false,
    "scrolled": true
   },
   "outputs": [
    {
     "data": {
      "text/plain": [
       "0            ['Fast Food', 'Restaurants']\n",
       "1                           ['Nightlife']\n",
       "2    ['Active Life', 'Mini Golf', 'Golf']\n",
       "Name: categories, dtype: object"
      ]
     },
     "execution_count": 7,
     "metadata": {},
     "output_type": "execute_result"
    }
   ],
   "source": [
    "business.categories[:3]"
   ]
  },
  {
   "cell_type": "code",
   "execution_count": 8,
   "metadata": {
    "collapsed": true
   },
   "outputs": [],
   "source": [
    "# create a dataframe with business id and category\n",
    "all_businesses = pd.concat([business['business_id'], business['categories']], axis=1, keys=['business_id', 'category'])"
   ]
  },
  {
   "cell_type": "code",
   "execution_count": 9,
   "metadata": {
    "collapsed": true
   },
   "outputs": [],
   "source": [
    "# get index of businesses that are not restaurants\n",
    "not_restaurant = [i for i,e in enumerate(all_businesses.values) if \"Restaurant\" not in e[1]]"
   ]
  },
  {
   "cell_type": "code",
   "execution_count": 10,
   "metadata": {
    "collapsed": true
   },
   "outputs": [],
   "source": [
    "all_businesses.drop(all_businesses.index[not_restaurant], inplace=True)"
   ]
  },
  {
   "cell_type": "code",
   "execution_count": 11,
   "metadata": {
    "collapsed": false
   },
   "outputs": [],
   "source": [
    "restaurant = all_businesses # after dropping all businesses that are not restaurants business.tail(2)"
   ]
  },
  {
   "cell_type": "code",
   "execution_count": 12,
   "metadata": {
    "collapsed": true
   },
   "outputs": [],
   "source": [
    "restaurant = restaurant.reset_index() # reset the index "
   ]
  },
  {
   "cell_type": "code",
   "execution_count": 13,
   "metadata": {
    "collapsed": false,
    "scrolled": false
   },
   "outputs": [
    {
     "data": {
      "text/html": [
       "<div>\n",
       "<table border=\"1\" class=\"dataframe\">\n",
       "  <thead>\n",
       "    <tr style=\"text-align: right;\">\n",
       "      <th></th>\n",
       "      <th>index</th>\n",
       "      <th>business_id</th>\n",
       "      <th>category</th>\n",
       "    </tr>\n",
       "  </thead>\n",
       "  <tbody>\n",
       "    <tr>\n",
       "      <th>0</th>\n",
       "      <td>0</td>\n",
       "      <td>5UmKMjUEUNdYWqANhGckJw</td>\n",
       "      <td>['Fast Food', 'Restaurants']</td>\n",
       "    </tr>\n",
       "    <tr>\n",
       "      <th>1</th>\n",
       "      <td>3</td>\n",
       "      <td>mVHrayjG3uZ_RLHkLj-AMg</td>\n",
       "      <td>['Bars', 'American (New)', 'Nightlife', 'Loung...</td>\n",
       "    </tr>\n",
       "  </tbody>\n",
       "</table>\n",
       "</div>"
      ],
      "text/plain": [
       "   index             business_id  \\\n",
       "0      0  5UmKMjUEUNdYWqANhGckJw   \n",
       "1      3  mVHrayjG3uZ_RLHkLj-AMg   \n",
       "\n",
       "                                            category  \n",
       "0                       ['Fast Food', 'Restaurants']  \n",
       "1  ['Bars', 'American (New)', 'Nightlife', 'Loung...  "
      ]
     },
     "execution_count": 13,
     "metadata": {},
     "output_type": "execute_result"
    }
   ],
   "source": [
    "restaurant.head(2)"
   ]
  },
  {
   "cell_type": "code",
   "execution_count": 14,
   "metadata": {
    "collapsed": false
   },
   "outputs": [
    {
     "data": {
      "text/plain": [
       "2685066"
      ]
     },
     "execution_count": 14,
     "metadata": {},
     "output_type": "execute_result"
    }
   ],
   "source": [
    "len(review)"
   ]
  },
  {
   "cell_type": "code",
   "execution_count": 15,
   "metadata": {
    "collapsed": false
   },
   "outputs": [],
   "source": [
    "review_indices = review['business_id'].isin(restaurant['business_id'])"
   ]
  },
  {
   "cell_type": "code",
   "execution_count": 16,
   "metadata": {
    "collapsed": true
   },
   "outputs": [],
   "source": [
    "restaurant_review = review[review_indices]"
   ]
  },
  {
   "cell_type": "code",
   "execution_count": 17,
   "metadata": {
    "collapsed": false
   },
   "outputs": [],
   "source": [
    "count_reviews = pd.DataFrame(restaurant_review['business_id'].value_counts())\n",
    "count_reviews = count_reviews.reset_index()"
   ]
  },
  {
   "cell_type": "code",
   "execution_count": 18,
   "metadata": {
    "collapsed": true
   },
   "outputs": [],
   "source": [
    "count_reviews.columns = ['business_id','count']"
   ]
  },
  {
   "cell_type": "code",
   "execution_count": 19,
   "metadata": {
    "collapsed": true
   },
   "outputs": [],
   "source": [
    "business_id = count_reviews['business_id'].ix[count_reviews['count'] > 400]"
   ]
  },
  {
   "cell_type": "code",
   "execution_count": 20,
   "metadata": {
    "collapsed": true
   },
   "outputs": [],
   "source": [
    "limited_index = restaurant_review['business_id'].isin(business_id)"
   ]
  },
  {
   "cell_type": "code",
   "execution_count": 21,
   "metadata": {
    "collapsed": false
   },
   "outputs": [],
   "source": [
    "restaurant_review = restaurant_review[limited_index]"
   ]
  },
  {
   "cell_type": "code",
   "execution_count": 22,
   "metadata": {
    "collapsed": true
   },
   "outputs": [],
   "source": [
    "restaurant_review = restaurant_review.reset_index()"
   ]
  },
  {
   "cell_type": "code",
   "execution_count": 23,
   "metadata": {
    "collapsed": true
   },
   "outputs": [],
   "source": [
    "#clean text data\n",
    "def clean_text(x):\n",
    "    wordnet = WordNetLemmatizer()\n",
    "    stop = set(stopwords.words('english'))\n",
    "    words =  [re.sub('['+string.punctuation+']', '', i.lower().replace('\\n','')) for i in x.split()]\n",
    "    lemmetized_words = [wordnet.lemmatize(word) for word in words if word not in stop  ]\n",
    "    return \" \".join(lemmetized_words)"
   ]
  },
  {
   "cell_type": "code",
   "execution_count": 24,
   "metadata": {
    "collapsed": false
   },
   "outputs": [],
   "source": [
    "restaurant_review['text'] = restaurant_review.text.apply(clean_text) #2/;24"
   ]
  },
  {
   "cell_type": "code",
   "execution_count": 25,
   "metadata": {
    "collapsed": false
   },
   "outputs": [
    {
     "data": {
      "text/plain": [
       "'mr hoagie institution walking seem like throwback 30 year ago old fashioned menu board booth 70 large selection food speciality italian hoagie voted best area year year usually order burger patty obviously cooked frozen ingredient fresh overall good alternative subway road'"
      ]
     },
     "execution_count": 25,
     "metadata": {},
     "output_type": "execute_result"
    }
   ],
   "source": [
    "clean_text(review['text'][0])"
   ]
  },
  {
   "cell_type": "markdown",
   "metadata": {},
   "source": [
    "# Add Features to User PD"
   ]
  },
  {
   "cell_type": "code",
   "execution_count": 26,
   "metadata": {
    "collapsed": false,
    "scrolled": true
   },
   "outputs": [
    {
     "data": {
      "text/html": [
       "<div>\n",
       "<table border=\"1\" class=\"dataframe\">\n",
       "  <thead>\n",
       "    <tr style=\"text-align: right;\">\n",
       "      <th></th>\n",
       "      <th>index</th>\n",
       "      <th>yelping_since</th>\n",
       "      <th>compliments_plain</th>\n",
       "      <th>review_count</th>\n",
       "      <th>friends</th>\n",
       "      <th>compliments_cute</th>\n",
       "      <th>compliments_writer</th>\n",
       "      <th>fans</th>\n",
       "      <th>compliments_note</th>\n",
       "      <th>type</th>\n",
       "      <th>...</th>\n",
       "      <th>compliments_more</th>\n",
       "      <th>elite</th>\n",
       "      <th>name</th>\n",
       "      <th>user_id</th>\n",
       "      <th>votes_cool</th>\n",
       "      <th>compliments_list</th>\n",
       "      <th>votes_funny</th>\n",
       "      <th>compliments_photos</th>\n",
       "      <th>compliments_funny</th>\n",
       "      <th>votes_useful</th>\n",
       "    </tr>\n",
       "  </thead>\n",
       "  <tbody>\n",
       "    <tr>\n",
       "      <th>0</th>\n",
       "      <td>0</td>\n",
       "      <td>2004-10</td>\n",
       "      <td>25.0</td>\n",
       "      <td>108</td>\n",
       "      <td>['rpOyqD_893cqmDAtJLbdog', '4U9kSBLuBDU391x6bx...</td>\n",
       "      <td>15.0</td>\n",
       "      <td>9.0</td>\n",
       "      <td>69</td>\n",
       "      <td>20.0</td>\n",
       "      <td>user</td>\n",
       "      <td>...</td>\n",
       "      <td>3.0</td>\n",
       "      <td>[2005, 2006]</td>\n",
       "      <td>Russel</td>\n",
       "      <td>18kPq7GPye-YQ3LyKyAZPw</td>\n",
       "      <td>246</td>\n",
       "      <td>NaN</td>\n",
       "      <td>167</td>\n",
       "      <td>14.0</td>\n",
       "      <td>11.0</td>\n",
       "      <td>282</td>\n",
       "    </tr>\n",
       "    <tr>\n",
       "      <th>1</th>\n",
       "      <td>1</td>\n",
       "      <td>2004-10</td>\n",
       "      <td>970.0</td>\n",
       "      <td>1292</td>\n",
       "      <td>['18kPq7GPye-YQ3LyKyAZPw', '4U9kSBLuBDU391x6bx...</td>\n",
       "      <td>204.0</td>\n",
       "      <td>346.0</td>\n",
       "      <td>1345</td>\n",
       "      <td>611.0</td>\n",
       "      <td>user</td>\n",
       "      <td>...</td>\n",
       "      <td>137.0</td>\n",
       "      <td>[2005, 2006, 2007, 2008, 2009, 2010, 2011, 201...</td>\n",
       "      <td>Jeremy</td>\n",
       "      <td>rpOyqD_893cqmDAtJLbdog</td>\n",
       "      <td>12091</td>\n",
       "      <td>38.0</td>\n",
       "      <td>8399</td>\n",
       "      <td>361.0</td>\n",
       "      <td>594.0</td>\n",
       "      <td>15242</td>\n",
       "    </tr>\n",
       "  </tbody>\n",
       "</table>\n",
       "<p>2 rows × 24 columns</p>\n",
       "</div>"
      ],
      "text/plain": [
       "   index yelping_since  compliments_plain  review_count  \\\n",
       "0      0       2004-10               25.0           108   \n",
       "1      1       2004-10              970.0          1292   \n",
       "\n",
       "                                             friends  compliments_cute  \\\n",
       "0  ['rpOyqD_893cqmDAtJLbdog', '4U9kSBLuBDU391x6bx...              15.0   \n",
       "1  ['18kPq7GPye-YQ3LyKyAZPw', '4U9kSBLuBDU391x6bx...             204.0   \n",
       "\n",
       "   compliments_writer  fans  compliments_note  type      ...       \\\n",
       "0                 9.0    69              20.0  user      ...        \n",
       "1               346.0  1345             611.0  user      ...        \n",
       "\n",
       "   compliments_more                                              elite  \\\n",
       "0               3.0                                       [2005, 2006]   \n",
       "1             137.0  [2005, 2006, 2007, 2008, 2009, 2010, 2011, 201...   \n",
       "\n",
       "     name                 user_id  votes_cool compliments_list votes_funny  \\\n",
       "0  Russel  18kPq7GPye-YQ3LyKyAZPw         246              NaN         167   \n",
       "1  Jeremy  rpOyqD_893cqmDAtJLbdog       12091             38.0        8399   \n",
       "\n",
       "  compliments_photos  compliments_funny  votes_useful  \n",
       "0               14.0               11.0           282  \n",
       "1              361.0              594.0         15242  \n",
       "\n",
       "[2 rows x 24 columns]"
      ]
     },
     "execution_count": 26,
     "metadata": {},
     "output_type": "execute_result"
    }
   ],
   "source": [
    "user.head(2)"
   ]
  },
  {
   "cell_type": "code",
   "execution_count": 27,
   "metadata": {
    "collapsed": true
   },
   "outputs": [],
   "source": [
    "# User membership period in days\n",
    "user['yelping_period'] = [(pd.to_datetime('2016-11') - pd.Timestamp(i)).days for i in user['yelping_since'] ]"
   ]
  },
  {
   "cell_type": "code",
   "execution_count": 28,
   "metadata": {
    "collapsed": true
   },
   "outputs": [],
   "source": [
    "# Get the first year of elite status\n",
    "user['elite_since'] = [i.replace('[','').replace(']','').split(',')[0] for i in user['elite']]\n",
    "user['elite_since'] = [int(i) if i!= '' else 0 for i in user['elite_since'] ]"
   ]
  },
  {
   "cell_type": "code",
   "execution_count": 29,
   "metadata": {
    "collapsed": true
   },
   "outputs": [],
   "source": [
    "# Label members --- 1: Elite 0: None Elite\n",
    "user['elite_status'] = [0 if i == 0 else 1 for i in user['elite_since']]"
   ]
  },
  {
   "cell_type": "code",
   "execution_count": 30,
   "metadata": {
    "collapsed": true
   },
   "outputs": [],
   "source": [
    "# Get number of friends \n",
    "user['n_friends'] = [len(i) for i in user['friends']]"
   ]
  },
  {
   "cell_type": "code",
   "execution_count": 31,
   "metadata": {
    "collapsed": false
   },
   "outputs": [],
   "source": [
    "# Count number of tips each user gives\n",
    "tip_count = pd.DataFrame(tip['user_id'].value_counts())\n",
    "tip_count = tip_count.reset_index()\n",
    "tip_count.columns = ['user_id','tip_count']"
   ]
  },
  {
   "cell_type": "code",
   "execution_count": 32,
   "metadata": {
    "collapsed": true
   },
   "outputs": [],
   "source": [
    "# Merge tip count and user\n",
    "user = user.merge(tip_count,how='left', left_on='user_id', right_on='user_id')"
   ]
  },
  {
   "cell_type": "code",
   "execution_count": 33,
   "metadata": {
    "collapsed": true
   },
   "outputs": [],
   "source": [
    "# aggregate all compliment features to one feature\n",
    "comp_col = [i for i in list(user.columns) if 'compliments' in i]\n",
    "user['compliments'] =user[comp_col].sum(axis = 1)"
   ]
  },
  {
   "cell_type": "code",
   "execution_count": 34,
   "metadata": {
    "collapsed": false
   },
   "outputs": [],
   "source": [
    "# Fill Null with 0 \n",
    "user = user.fillna(0)"
   ]
  },
  {
   "cell_type": "code",
   "execution_count": 35,
   "metadata": {
    "collapsed": false
   },
   "outputs": [
    {
     "data": {
      "text/html": [
       "<div>\n",
       "<table border=\"1\" class=\"dataframe\">\n",
       "  <thead>\n",
       "    <tr style=\"text-align: right;\">\n",
       "      <th></th>\n",
       "      <th>index</th>\n",
       "      <th>yelping_since</th>\n",
       "      <th>compliments_plain</th>\n",
       "      <th>review_count</th>\n",
       "      <th>friends</th>\n",
       "      <th>compliments_cute</th>\n",
       "      <th>compliments_writer</th>\n",
       "      <th>fans</th>\n",
       "      <th>compliments_note</th>\n",
       "      <th>type</th>\n",
       "      <th>...</th>\n",
       "      <th>votes_funny</th>\n",
       "      <th>compliments_photos</th>\n",
       "      <th>compliments_funny</th>\n",
       "      <th>votes_useful</th>\n",
       "      <th>yelping_period</th>\n",
       "      <th>elite_since</th>\n",
       "      <th>elite_status</th>\n",
       "      <th>n_friends</th>\n",
       "      <th>tip_count</th>\n",
       "      <th>compliments</th>\n",
       "    </tr>\n",
       "  </thead>\n",
       "  <tbody>\n",
       "    <tr>\n",
       "      <th>686554</th>\n",
       "      <td>686554</td>\n",
       "      <td>2016-02</td>\n",
       "      <td>0.0</td>\n",
       "      <td>1</td>\n",
       "      <td>[]</td>\n",
       "      <td>0.0</td>\n",
       "      <td>0.0</td>\n",
       "      <td>0</td>\n",
       "      <td>0.0</td>\n",
       "      <td>user</td>\n",
       "      <td>...</td>\n",
       "      <td>0</td>\n",
       "      <td>0.0</td>\n",
       "      <td>0.0</td>\n",
       "      <td>2</td>\n",
       "      <td>274</td>\n",
       "      <td>0</td>\n",
       "      <td>0</td>\n",
       "      <td>2</td>\n",
       "      <td>0.0</td>\n",
       "      <td>0.0</td>\n",
       "    </tr>\n",
       "    <tr>\n",
       "      <th>686555</th>\n",
       "      <td>686555</td>\n",
       "      <td>2016-04</td>\n",
       "      <td>0.0</td>\n",
       "      <td>1</td>\n",
       "      <td>[]</td>\n",
       "      <td>0.0</td>\n",
       "      <td>0.0</td>\n",
       "      <td>0</td>\n",
       "      <td>0.0</td>\n",
       "      <td>user</td>\n",
       "      <td>...</td>\n",
       "      <td>1</td>\n",
       "      <td>0.0</td>\n",
       "      <td>0.0</td>\n",
       "      <td>0</td>\n",
       "      <td>214</td>\n",
       "      <td>0</td>\n",
       "      <td>0</td>\n",
       "      <td>2</td>\n",
       "      <td>0.0</td>\n",
       "      <td>0.0</td>\n",
       "    </tr>\n",
       "  </tbody>\n",
       "</table>\n",
       "<p>2 rows × 30 columns</p>\n",
       "</div>"
      ],
      "text/plain": [
       "         index yelping_since  compliments_plain  review_count friends  \\\n",
       "686554  686554       2016-02                0.0             1      []   \n",
       "686555  686555       2016-04                0.0             1      []   \n",
       "\n",
       "        compliments_cute  compliments_writer  fans  compliments_note  type  \\\n",
       "686554               0.0                 0.0     0               0.0  user   \n",
       "686555               0.0                 0.0     0               0.0  user   \n",
       "\n",
       "           ...       votes_funny  compliments_photos  compliments_funny  \\\n",
       "686554     ...                 0                 0.0                0.0   \n",
       "686555     ...                 1                 0.0                0.0   \n",
       "\n",
       "        votes_useful  yelping_period elite_since elite_status n_friends  \\\n",
       "686554             2             274           0            0         2   \n",
       "686555             0             214           0            0         2   \n",
       "\n",
       "        tip_count  compliments  \n",
       "686554        0.0          0.0  \n",
       "686555        0.0          0.0  \n",
       "\n",
       "[2 rows x 30 columns]"
      ]
     },
     "execution_count": 35,
     "metadata": {},
     "output_type": "execute_result"
    }
   ],
   "source": [
    "user.tail(2)"
   ]
  },
  {
   "cell_type": "code",
   "execution_count": 36,
   "metadata": {
    "collapsed": false,
    "scrolled": false
   },
   "outputs": [
    {
     "data": {
      "text/plain": [
       "Index(['index', 'yelping_since', 'compliments_plain', 'review_count',\n",
       "       'friends', 'compliments_cute', 'compliments_writer', 'fans',\n",
       "       'compliments_note', 'type', 'compliments_hot', 'compliments_cool',\n",
       "       'compliments_profile', 'average_stars', 'compliments_more', 'elite',\n",
       "       'name', 'user_id', 'votes_cool', 'compliments_list', 'votes_funny',\n",
       "       'compliments_photos', 'compliments_funny', 'votes_useful',\n",
       "       'yelping_period', 'elite_since', 'elite_status', 'n_friends',\n",
       "       'tip_count', 'compliments'],\n",
       "      dtype='object')"
      ]
     },
     "execution_count": 36,
     "metadata": {},
     "output_type": "execute_result"
    }
   ],
   "source": [
    "(user.columns)"
   ]
  },
  {
   "cell_type": "markdown",
   "metadata": {},
   "source": [
    "# Check all PD before Export"
   ]
  },
  {
   "cell_type": "code",
   "execution_count": 37,
   "metadata": {
    "collapsed": true
   },
   "outputs": [],
   "source": [
    "business = business.drop(['index','type'],axis = 1)"
   ]
  },
  {
   "cell_type": "code",
   "execution_count": 38,
   "metadata": {
    "collapsed": true
   },
   "outputs": [],
   "source": [
    "restaurant_review = restaurant_review.drop(['index','type'],axis = 1)"
   ]
  },
  {
   "cell_type": "code",
   "execution_count": 39,
   "metadata": {
    "collapsed": true
   },
   "outputs": [],
   "source": [
    "# drop unnecessary column \n",
    "user = user.drop(['index','type','name','friends','elite_since'],axis = 1)"
   ]
  },
  {
   "cell_type": "code",
   "execution_count": 40,
   "metadata": {
    "collapsed": false,
    "scrolled": true
   },
   "outputs": [
    {
     "data": {
      "text/html": [
       "<div>\n",
       "<table border=\"1\" class=\"dataframe\">\n",
       "  <thead>\n",
       "    <tr style=\"text-align: right;\">\n",
       "      <th></th>\n",
       "      <th>yelping_since</th>\n",
       "      <th>compliments_plain</th>\n",
       "      <th>review_count</th>\n",
       "      <th>compliments_cute</th>\n",
       "      <th>compliments_writer</th>\n",
       "      <th>fans</th>\n",
       "      <th>compliments_note</th>\n",
       "      <th>compliments_hot</th>\n",
       "      <th>compliments_cool</th>\n",
       "      <th>compliments_profile</th>\n",
       "      <th>...</th>\n",
       "      <th>compliments_list</th>\n",
       "      <th>votes_funny</th>\n",
       "      <th>compliments_photos</th>\n",
       "      <th>compliments_funny</th>\n",
       "      <th>votes_useful</th>\n",
       "      <th>yelping_period</th>\n",
       "      <th>elite_status</th>\n",
       "      <th>n_friends</th>\n",
       "      <th>tip_count</th>\n",
       "      <th>compliments</th>\n",
       "    </tr>\n",
       "  </thead>\n",
       "  <tbody>\n",
       "    <tr>\n",
       "      <th>0</th>\n",
       "      <td>2004-10</td>\n",
       "      <td>25.0</td>\n",
       "      <td>108</td>\n",
       "      <td>15.0</td>\n",
       "      <td>9.0</td>\n",
       "      <td>69</td>\n",
       "      <td>20.0</td>\n",
       "      <td>48.0</td>\n",
       "      <td>76.0</td>\n",
       "      <td>8.0</td>\n",
       "      <td>...</td>\n",
       "      <td>0.0</td>\n",
       "      <td>167</td>\n",
       "      <td>14.0</td>\n",
       "      <td>11.0</td>\n",
       "      <td>282</td>\n",
       "      <td>4414</td>\n",
       "      <td>1</td>\n",
       "      <td>5200</td>\n",
       "      <td>0.0</td>\n",
       "      <td>229.0</td>\n",
       "    </tr>\n",
       "    <tr>\n",
       "      <th>1</th>\n",
       "      <td>2004-10</td>\n",
       "      <td>970.0</td>\n",
       "      <td>1292</td>\n",
       "      <td>204.0</td>\n",
       "      <td>346.0</td>\n",
       "      <td>1345</td>\n",
       "      <td>611.0</td>\n",
       "      <td>1111.0</td>\n",
       "      <td>1675.0</td>\n",
       "      <td>117.0</td>\n",
       "      <td>...</td>\n",
       "      <td>38.0</td>\n",
       "      <td>8399</td>\n",
       "      <td>361.0</td>\n",
       "      <td>594.0</td>\n",
       "      <td>15242</td>\n",
       "      <td>4414</td>\n",
       "      <td>1</td>\n",
       "      <td>50414</td>\n",
       "      <td>6.0</td>\n",
       "      <td>6164.0</td>\n",
       "    </tr>\n",
       "  </tbody>\n",
       "</table>\n",
       "<p>2 rows × 25 columns</p>\n",
       "</div>"
      ],
      "text/plain": [
       "  yelping_since  compliments_plain  review_count  compliments_cute  \\\n",
       "0       2004-10               25.0           108              15.0   \n",
       "1       2004-10              970.0          1292             204.0   \n",
       "\n",
       "   compliments_writer  fans  compliments_note  compliments_hot  \\\n",
       "0                 9.0    69              20.0             48.0   \n",
       "1               346.0  1345             611.0           1111.0   \n",
       "\n",
       "   compliments_cool  compliments_profile     ...       compliments_list  \\\n",
       "0              76.0                  8.0     ...                    0.0   \n",
       "1            1675.0                117.0     ...                   38.0   \n",
       "\n",
       "   votes_funny compliments_photos compliments_funny  votes_useful  \\\n",
       "0          167               14.0              11.0           282   \n",
       "1         8399              361.0             594.0         15242   \n",
       "\n",
       "   yelping_period  elite_status  n_friends  tip_count  compliments  \n",
       "0            4414             1       5200        0.0        229.0  \n",
       "1            4414             1      50414        6.0       6164.0  \n",
       "\n",
       "[2 rows x 25 columns]"
      ]
     },
     "execution_count": 40,
     "metadata": {},
     "output_type": "execute_result"
    }
   ],
   "source": [
    "user.head(2)"
   ]
  },
  {
   "cell_type": "code",
   "execution_count": 41,
   "metadata": {
    "collapsed": false,
    "scrolled": false
   },
   "outputs": [
    {
     "data": {
      "text/html": [
       "<div>\n",
       "<table border=\"1\" class=\"dataframe\">\n",
       "  <thead>\n",
       "    <tr style=\"text-align: right;\">\n",
       "      <th></th>\n",
       "      <th>user_id</th>\n",
       "      <th>review_id</th>\n",
       "      <th>text</th>\n",
       "      <th>votes_cool</th>\n",
       "      <th>business_id</th>\n",
       "      <th>votes_funny</th>\n",
       "      <th>stars</th>\n",
       "      <th>date</th>\n",
       "      <th>votes_useful</th>\n",
       "    </tr>\n",
       "  </thead>\n",
       "  <tbody>\n",
       "    <tr>\n",
       "      <th>0</th>\n",
       "      <td>83ctfLRkC7roE1qOy0IuhA</td>\n",
       "      <td>FNnXv7iKidwPhu7dRgddsg</td>\n",
       "      <td>boy miss primate bros remember going packing d...</td>\n",
       "      <td>0</td>\n",
       "      <td>NeUf9FyCCIN4MEseNyqkXQ</td>\n",
       "      <td>0</td>\n",
       "      <td>4</td>\n",
       "      <td>2006-04-28</td>\n",
       "      <td>0</td>\n",
       "    </tr>\n",
       "    <tr>\n",
       "      <th>1</th>\n",
       "      <td>57ghQ4PJbGy-3LP7zSVnEg</td>\n",
       "      <td>odTD3ohAIP-i-hHqcUkd3A</td>\n",
       "      <td>pastrami cole slaw fry oh id heard hype place ...</td>\n",
       "      <td>1</td>\n",
       "      <td>NeUf9FyCCIN4MEseNyqkXQ</td>\n",
       "      <td>1</td>\n",
       "      <td>4</td>\n",
       "      <td>2007-09-24</td>\n",
       "      <td>1</td>\n",
       "    </tr>\n",
       "  </tbody>\n",
       "</table>\n",
       "</div>"
      ],
      "text/plain": [
       "                  user_id               review_id  \\\n",
       "0  83ctfLRkC7roE1qOy0IuhA  FNnXv7iKidwPhu7dRgddsg   \n",
       "1  57ghQ4PJbGy-3LP7zSVnEg  odTD3ohAIP-i-hHqcUkd3A   \n",
       "\n",
       "                                                text  votes_cool  \\\n",
       "0  boy miss primate bros remember going packing d...           0   \n",
       "1  pastrami cole slaw fry oh id heard hype place ...           1   \n",
       "\n",
       "              business_id  votes_funny  stars        date  votes_useful  \n",
       "0  NeUf9FyCCIN4MEseNyqkXQ            0      4  2006-04-28             0  \n",
       "1  NeUf9FyCCIN4MEseNyqkXQ            1      4  2007-09-24             1  "
      ]
     },
     "execution_count": 41,
     "metadata": {},
     "output_type": "execute_result"
    }
   ],
   "source": [
    "restaurant_review.head(2)"
   ]
  },
  {
   "cell_type": "code",
   "execution_count": 42,
   "metadata": {
    "collapsed": false
   },
   "outputs": [
    {
     "data": {
      "text/html": [
       "<div>\n",
       "<table border=\"1\" class=\"dataframe\">\n",
       "  <thead>\n",
       "    <tr style=\"text-align: right;\">\n",
       "      <th></th>\n",
       "      <th>ambience_divey</th>\n",
       "      <th>dietary_restrictions_vegan</th>\n",
       "      <th>happy_hour</th>\n",
       "      <th>hours_thursday_open</th>\n",
       "      <th>order_at_counter</th>\n",
       "      <th>hair_types_specialized_in_africanamerican</th>\n",
       "      <th>hair_types_specialized_in_kids</th>\n",
       "      <th>byob</th>\n",
       "      <th>hours_friday_open</th>\n",
       "      <th>good_for_latenight</th>\n",
       "      <th>...</th>\n",
       "      <th>noise_level</th>\n",
       "      <th>smoking</th>\n",
       "      <th>attire</th>\n",
       "      <th>hair_types_specialized_in_curly</th>\n",
       "      <th>good_for_groups</th>\n",
       "      <th>neighborhoods</th>\n",
       "      <th>open_24_hours</th>\n",
       "      <th>ambience_romantic</th>\n",
       "      <th>music_jukebox</th>\n",
       "      <th>ambience_upscale</th>\n",
       "    </tr>\n",
       "  </thead>\n",
       "  <tbody>\n",
       "    <tr>\n",
       "      <th>0</th>\n",
       "      <td>False</td>\n",
       "      <td>NaN</td>\n",
       "      <td>NaN</td>\n",
       "      <td>11:00</td>\n",
       "      <td>NaN</td>\n",
       "      <td>NaN</td>\n",
       "      <td>NaN</td>\n",
       "      <td>NaN</td>\n",
       "      <td>11:00</td>\n",
       "      <td>False</td>\n",
       "      <td>...</td>\n",
       "      <td>average</td>\n",
       "      <td>NaN</td>\n",
       "      <td>casual</td>\n",
       "      <td>NaN</td>\n",
       "      <td>True</td>\n",
       "      <td>[]</td>\n",
       "      <td>NaN</td>\n",
       "      <td>False</td>\n",
       "      <td>NaN</td>\n",
       "      <td>False</td>\n",
       "    </tr>\n",
       "    <tr>\n",
       "      <th>1</th>\n",
       "      <td>NaN</td>\n",
       "      <td>NaN</td>\n",
       "      <td>True</td>\n",
       "      <td>NaN</td>\n",
       "      <td>NaN</td>\n",
       "      <td>NaN</td>\n",
       "      <td>NaN</td>\n",
       "      <td>NaN</td>\n",
       "      <td>NaN</td>\n",
       "      <td>NaN</td>\n",
       "      <td>...</td>\n",
       "      <td>NaN</td>\n",
       "      <td>NaN</td>\n",
       "      <td>NaN</td>\n",
       "      <td>NaN</td>\n",
       "      <td>True</td>\n",
       "      <td>[]</td>\n",
       "      <td>NaN</td>\n",
       "      <td>NaN</td>\n",
       "      <td>NaN</td>\n",
       "      <td>NaN</td>\n",
       "    </tr>\n",
       "  </tbody>\n",
       "</table>\n",
       "<p>2 rows × 97 columns</p>\n",
       "</div>"
      ],
      "text/plain": [
       "  ambience_divey dietary_restrictions_vegan happy_hour hours_thursday_open  \\\n",
       "0          False                        NaN        NaN               11:00   \n",
       "1            NaN                        NaN       True                 NaN   \n",
       "\n",
       "  order_at_counter hair_types_specialized_in_africanamerican  \\\n",
       "0              NaN                                       NaN   \n",
       "1              NaN                                       NaN   \n",
       "\n",
       "  hair_types_specialized_in_kids byob hours_friday_open good_for_latenight  \\\n",
       "0                            NaN  NaN             11:00              False   \n",
       "1                            NaN  NaN               NaN                NaN   \n",
       "\n",
       "        ...        noise_level smoking  attire  \\\n",
       "0       ...            average     NaN  casual   \n",
       "1       ...                NaN     NaN     NaN   \n",
       "\n",
       "  hair_types_specialized_in_curly good_for_groups neighborhoods open_24_hours  \\\n",
       "0                             NaN            True            []           NaN   \n",
       "1                             NaN            True            []           NaN   \n",
       "\n",
       "  ambience_romantic music_jukebox ambience_upscale  \n",
       "0             False           NaN            False  \n",
       "1               NaN           NaN              NaN  \n",
       "\n",
       "[2 rows x 97 columns]"
      ]
     },
     "execution_count": 42,
     "metadata": {},
     "output_type": "execute_result"
    }
   ],
   "source": [
    "business.head(2)"
   ]
  },
  {
   "cell_type": "code",
   "execution_count": 43,
   "metadata": {
    "collapsed": false
   },
   "outputs": [
    {
     "data": {
      "text/html": [
       "<div>\n",
       "<table border=\"1\" class=\"dataframe\">\n",
       "  <thead>\n",
       "    <tr style=\"text-align: right;\">\n",
       "      <th></th>\n",
       "      <th>user_id</th>\n",
       "      <th>text</th>\n",
       "      <th>business_id</th>\n",
       "      <th>likes</th>\n",
       "      <th>date</th>\n",
       "      <th>type</th>\n",
       "    </tr>\n",
       "  </thead>\n",
       "  <tbody>\n",
       "    <tr>\n",
       "      <th>0</th>\n",
       "      <td>ZxdojCZgZhw36xuSGaryRg</td>\n",
       "      <td>Pizza is garbage. Hoagies are excellent.</td>\n",
       "      <td>5UmKMjUEUNdYWqANhGckJw</td>\n",
       "      <td>0</td>\n",
       "      <td>2016-07-17</td>\n",
       "      <td>tip</td>\n",
       "    </tr>\n",
       "  </tbody>\n",
       "</table>\n",
       "</div>"
      ],
      "text/plain": [
       "                  user_id                                      text  \\\n",
       "0  ZxdojCZgZhw36xuSGaryRg  Pizza is garbage. Hoagies are excellent.   \n",
       "\n",
       "              business_id  likes        date type  \n",
       "0  5UmKMjUEUNdYWqANhGckJw      0  2016-07-17  tip  "
      ]
     },
     "execution_count": 43,
     "metadata": {},
     "output_type": "execute_result"
    }
   ],
   "source": [
    "tip.head(1)"
   ]
  },
  {
   "cell_type": "markdown",
   "metadata": {},
   "source": [
    "# Minor Tweak"
   ]
  },
  {
   "cell_type": "code",
   "execution_count": 44,
   "metadata": {
    "collapsed": false
   },
   "outputs": [
    {
     "name": "stdout",
     "output_type": "stream",
     "text": [
      "1\n"
     ]
    }
   ],
   "source": [
    "print(1)"
   ]
  },
  {
   "cell_type": "code",
   "execution_count": 45,
   "metadata": {
    "collapsed": false
   },
   "outputs": [
    {
     "data": {
      "text/plain": [
       "<matplotlib.axes._subplots.AxesSubplot at 0x1f466e5f8>"
      ]
     },
     "execution_count": 45,
     "metadata": {},
     "output_type": "execute_result"
    },
    {
     "data": {
      "image/png": "[encoded data removed]",
      "text/plain": [
       "<matplotlib.figure.Figure at 0x117331cc0>"
      ]
     },
     "metadata": {},
     "output_type": "display_data"
    }
   ],
   "source": [
    "sns.countplot(user['elite_status'])"
   ]
  },
  {
   "cell_type": "code",
   "execution_count": 46,
   "metadata": {
    "collapsed": false
   },
   "outputs": [
    {
     "data": {
      "text/plain": [
       "0.9478615000087393"
      ]
     },
     "execution_count": 46,
     "metadata": {},
     "output_type": "execute_result"
    }
   ],
   "source": [
    "1 - mean(user['elite_status'])"
   ]
  },
  {
   "cell_type": "code",
   "execution_count": 47,
   "metadata": {
    "collapsed": false
   },
   "outputs": [
    {
     "data": {
      "text/plain": [
       "686556"
      ]
     },
     "execution_count": 47,
     "metadata": {},
     "output_type": "execute_result"
    }
   ],
   "source": [
    "len(user)"
   ]
  },
  {
   "cell_type": "code",
   "execution_count": 48,
   "metadata": {
    "collapsed": true
   },
   "outputs": [],
   "source": [
    "test =  user.ix[user['review_count'] > 40]"
   ]
  },
  {
   "cell_type": "code",
   "execution_count": 49,
   "metadata": {
    "collapsed": false
   },
   "outputs": [
    {
     "data": {
      "text/plain": [
       "85925"
      ]
     },
     "execution_count": 49,
     "metadata": {},
     "output_type": "execute_result"
    }
   ],
   "source": [
    "len(test)"
   ]
  },
  {
   "cell_type": "code",
   "execution_count": 50,
   "metadata": {
    "collapsed": false
   },
   "outputs": [
    {
     "data": {
      "text/plain": [
       "0.5955891766075065"
      ]
     },
     "execution_count": 50,
     "metadata": {},
     "output_type": "execute_result"
    }
   ],
   "source": [
    "1 - mean(test['elite_status'])"
   ]
  },
  {
   "cell_type": "markdown",
   "metadata": {},
   "source": [
    "# Export to pickle"
   ]
  },
  {
   "cell_type": "code",
   "execution_count": 51,
   "metadata": {
    "collapsed": true
   },
   "outputs": [],
   "source": [
    "restaurant_review.to_pickle('data/review') \n",
    "business.to_pickle('data/business')\n",
    "user.to_pickle('data/user')\n"
   ]
  },
  {
   "cell_type": "code",
   "execution_count": 52,
   "metadata": {
    "collapsed": false
   },
   "outputs": [],
   "source": [
    "checking = pd.read_pickle('data/user')"
   ]
  },
  {
   "cell_type": "code",
   "execution_count": 53,
   "metadata": {
    "collapsed": false
   },
   "outputs": [
    {
     "data": {
      "text/html": [
       "<div>\n",
       "<table border=\"1\" class=\"dataframe\">\n",
       "  <thead>\n",
       "    <tr style=\"text-align: right;\">\n",
       "      <th></th>\n",
       "      <th>yelping_since</th>\n",
       "      <th>compliments_plain</th>\n",
       "      <th>review_count</th>\n",
       "      <th>compliments_cute</th>\n",
       "      <th>compliments_writer</th>\n",
       "      <th>fans</th>\n",
       "      <th>compliments_note</th>\n",
       "      <th>compliments_hot</th>\n",
       "      <th>compliments_cool</th>\n",
       "      <th>compliments_profile</th>\n",
       "      <th>...</th>\n",
       "      <th>compliments_list</th>\n",
       "      <th>votes_funny</th>\n",
       "      <th>compliments_photos</th>\n",
       "      <th>compliments_funny</th>\n",
       "      <th>votes_useful</th>\n",
       "      <th>yelping_period</th>\n",
       "      <th>elite_status</th>\n",
       "      <th>n_friends</th>\n",
       "      <th>tip_count</th>\n",
       "      <th>compliments</th>\n",
       "    </tr>\n",
       "  </thead>\n",
       "  <tbody>\n",
       "    <tr>\n",
       "      <th>0</th>\n",
       "      <td>2004-10</td>\n",
       "      <td>25.0</td>\n",
       "      <td>108</td>\n",
       "      <td>15.0</td>\n",
       "      <td>9.0</td>\n",
       "      <td>69</td>\n",
       "      <td>20.0</td>\n",
       "      <td>48.0</td>\n",
       "      <td>76.0</td>\n",
       "      <td>8.0</td>\n",
       "      <td>...</td>\n",
       "      <td>0.0</td>\n",
       "      <td>167</td>\n",
       "      <td>14.0</td>\n",
       "      <td>11.0</td>\n",
       "      <td>282</td>\n",
       "      <td>4414</td>\n",
       "      <td>1</td>\n",
       "      <td>5200</td>\n",
       "      <td>0.0</td>\n",
       "      <td>229.0</td>\n",
       "    </tr>\n",
       "    <tr>\n",
       "      <th>1</th>\n",
       "      <td>2004-10</td>\n",
       "      <td>970.0</td>\n",
       "      <td>1292</td>\n",
       "      <td>204.0</td>\n",
       "      <td>346.0</td>\n",
       "      <td>1345</td>\n",
       "      <td>611.0</td>\n",
       "      <td>1111.0</td>\n",
       "      <td>1675.0</td>\n",
       "      <td>117.0</td>\n",
       "      <td>...</td>\n",
       "      <td>38.0</td>\n",
       "      <td>8399</td>\n",
       "      <td>361.0</td>\n",
       "      <td>594.0</td>\n",
       "      <td>15242</td>\n",
       "      <td>4414</td>\n",
       "      <td>1</td>\n",
       "      <td>50414</td>\n",
       "      <td>6.0</td>\n",
       "      <td>6164.0</td>\n",
       "    </tr>\n",
       "  </tbody>\n",
       "</table>\n",
       "<p>2 rows × 25 columns</p>\n",
       "</div>"
      ],
      "text/plain": [
       "  yelping_since  compliments_plain  review_count  compliments_cute  \\\n",
       "0       2004-10               25.0           108              15.0   \n",
       "1       2004-10              970.0          1292             204.0   \n",
       "\n",
       "   compliments_writer  fans  compliments_note  compliments_hot  \\\n",
       "0                 9.0    69              20.0             48.0   \n",
       "1               346.0  1345             611.0           1111.0   \n",
       "\n",
       "   compliments_cool  compliments_profile     ...       compliments_list  \\\n",
       "0              76.0                  8.0     ...                    0.0   \n",
       "1            1675.0                117.0     ...                   38.0   \n",
       "\n",
       "   votes_funny compliments_photos compliments_funny  votes_useful  \\\n",
       "0          167               14.0              11.0           282   \n",
       "1         8399              361.0             594.0         15242   \n",
       "\n",
       "   yelping_period  elite_status  n_friends  tip_count  compliments  \n",
       "0            4414             1       5200        0.0        229.0  \n",
       "1            4414             1      50414        6.0       6164.0  \n",
       "\n",
       "[2 rows x 25 columns]"
      ]
     },
     "execution_count": 53,
     "metadata": {},
     "output_type": "execute_result"
    }
   ],
   "source": [
    "checking.head(2)"
   ]
  },
  {
   "cell_type": "code",
   "execution_count": null,
   "metadata": {
    "collapsed": true
   },
   "outputs": [],
   "source": []
  }
 ],
 "metadata": {
  "anaconda-cloud": {},
  "kernelspec": {
   "display_name": "Python [Root]",
   "language": "python",
   "name": "Python [Root]"
  },
  "language_info": {
   "codemirror_mode": {
    "name": "ipython",
    "version": 3
   },
   "file_extension": ".py",
   "mimetype": "text/x-python",
   "name": "python",
   "nbconvert_exporter": "python",
   "pygments_lexer": "ipython3",
   "version": "3.5.2"
  }
 },
 "nbformat": 4,
 "nbformat_minor": 0
}
