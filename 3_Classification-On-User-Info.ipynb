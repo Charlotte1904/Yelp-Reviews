{
 "cells": [
  {
   "cell_type": "markdown",
   "metadata": {},
   "source": [
    "GOAL: Elite Classifier basing on User Basic Information \n",
    "\n",
    "Models to Compare On: \n",
    "\n",
    "    -Logistic Regression\n",
    "\n",
    "    -Random Forest\n",
    "\n",
    "    -Gradient Boosting\n",
    "\n",
    "    -AdaBoost Classifier\n",
    "    \n",
    "    - Support vector machines.\n",
    "\n"
   ]
  },
  {
   "cell_type": "code",
   "execution_count": 5,
   "metadata": {
    "collapsed": false,
    "scrolled": true
   },
   "outputs": [
    {
     "name": "stdout",
     "output_type": "stream",
     "text": [
      "Populating the interactive namespace from numpy and matplotlib\n"
     ]
    },
    {
     "ename": "ImportError",
     "evalue": "cannot import name 'plot_roc'",
     "output_type": "error",
     "traceback": [
      "\u001b[0;31m---------------------------------------------------------------------------\u001b[0m",
      "\u001b[0;31mImportError\u001b[0m                               Traceback (most recent call last)",
      "\u001b[0;32m<ipython-input-5-9f9bf0c220eb>\u001b[0m in \u001b[0;36m<module>\u001b[0;34m()\u001b[0m\n\u001b[1;32m      7\u001b[0m \u001b[0;32mfrom\u001b[0m \u001b[0mcollections\u001b[0m \u001b[0;32mimport\u001b[0m \u001b[0mCounter\u001b[0m\u001b[0;34m\u001b[0m\u001b[0m\n\u001b[1;32m      8\u001b[0m \u001b[0;32mfrom\u001b[0m \u001b[0mcollections\u001b[0m \u001b[0;32mimport\u001b[0m \u001b[0mdefaultdict\u001b[0m\u001b[0;34m\u001b[0m\u001b[0m\n\u001b[0;32m----> 9\u001b[0;31m \u001b[0;32mfrom\u001b[0m \u001b[0mconfusion_mat\u001b[0m \u001b[0;32mimport\u001b[0m \u001b[0mshow_confusion_matrix\u001b[0m\u001b[0;34m,\u001b[0m\u001b[0mplot_roc\u001b[0m\u001b[0;34m\u001b[0m\u001b[0m\n\u001b[0m\u001b[1;32m     10\u001b[0m \u001b[0;34m\u001b[0m\u001b[0m\n\u001b[1;32m     11\u001b[0m \u001b[0;31m# Evaluation - Optimization Tools\u001b[0m\u001b[0;34m\u001b[0m\u001b[0;34m\u001b[0m\u001b[0m\n",
      "\u001b[0;31mImportError\u001b[0m: cannot import name 'plot_roc'"
     ]
    }
   ],
   "source": [
    "%pylab inline\n",
    "import pandas as pd\n",
    "import numpy as np\n",
    "import seaborn as sns\n",
    "import re\n",
    "import string\n",
    "from collections import Counter\n",
    "from collections import defaultdict\n",
    "from confusion_mat import show_confusion_matrix,plot_roc\n",
    "\n",
    "# Evaluation - Optimization Tools\n",
    "from sklearn.pipeline import Pipeline,make_pipeline\n",
    "from sklearn.model_selection import cross_val_score,train_test_split\n",
    "from sklearn.metrics import accuracy_score, precision_score, recall_score, f1_score, roc_curve, auc, classification_report\n",
    "from sklearn.preprocessing import normalize, scale, StandardScaler, Normalizer\n",
    "from sklearn.grid_search import GridSearchCV\n",
    "\n",
    "# Classification Algorithms\n",
    "from sklearn.linear_model import LogisticRegression,SGDClassifier\n",
    "from sklearn.neighbors import KNeighborsClassifier\n",
    "from sklearn.naive_bayes import GaussianNB\n",
    "from sklearn.svm import SVC\n",
    "from sklearn.tree import DecisionTreeClassifier\n",
    "from sklearn.ensemble import RandomForestClassifier,AdaBoostClassifier, GradientBoostingClassifier\n"
   ]
  },
  {
   "cell_type": "code",
   "execution_count": 2,
   "metadata": {
    "collapsed": true
   },
   "outputs": [],
   "source": [
    "user = pd.read_pickle('data/user')"
   ]
  },
  {
   "cell_type": "code",
   "execution_count": 3,
   "metadata": {
    "collapsed": false,
    "scrolled": false
   },
   "outputs": [
    {
     "data": {
      "text/plain": [
       "Index(['yelping_since', 'compliments_plain', 'review_count',\n",
       "       'compliments_cute', 'compliments_writer', 'fans', 'compliments_note',\n",
       "       'compliments_hot', 'compliments_cool', 'compliments_profile',\n",
       "       'average_stars', 'compliments_more', 'elite', 'user_id', 'votes_cool',\n",
       "       'compliments_list', 'votes_funny', 'compliments_photos',\n",
       "       'compliments_funny', 'votes_useful', 'yelping_period', 'elite_status',\n",
       "       'n_friends', 'tip_count', 'compliments'],\n",
       "      dtype='object')"
      ]
     },
     "execution_count": 3,
     "metadata": {},
     "output_type": "execute_result"
    }
   ],
   "source": [
    "user.columns"
   ]
  },
  {
   "cell_type": "code",
   "execution_count": 5,
   "metadata": {
    "collapsed": false,
    "scrolled": true
   },
   "outputs": [
    {
     "data": {
      "text/plain": [
       "<matplotlib.axes._subplots.AxesSubplot at 0x1171f1080>"
      ]
     },
     "execution_count": 5,
     "metadata": {},
     "output_type": "execute_result"
    },
    {
     "data": {
      "image/png": "[encoded data removed]",
      "text/plain": [
       "<matplotlib.figure.Figure at 0x103e83240>"
      ]
     },
     "metadata": {},
     "output_type": "display_data"
    }
   ],
   "source": [
    "sns.countplot(user['elite_status'])"
   ]
  },
  {
   "cell_type": "markdown",
   "metadata": {},
   "source": [
    "# Feature Selection "
   ]
  },
  {
   "cell_type": "code",
   "execution_count": 7,
   "metadata": {
    "collapsed": false
   },
   "outputs": [
    {
     "data": {
      "text/plain": [
       "20"
      ]
     },
     "execution_count": 7,
     "metadata": {},
     "output_type": "execute_result"
    }
   ],
   "source": [
    "# use all features given in user information \n",
    "all_features = [ 'compliments_plain', 'review_count',\n",
    "       'compliments_cute', 'compliments_writer', 'fans', 'compliments_note',\n",
    "       'compliments_hot', 'compliments_cool', 'compliments_profile',\n",
    "       'average_stars', 'compliments_more', 'votes_cool',\n",
    "       'compliments_list', 'votes_funny', 'compliments_photos',\n",
    "       'compliments_funny', 'votes_useful', 'yelping_period', \n",
    "       'n_friends', 'tip_count']\n",
    "len(all_features)"
   ]
  },
  {
   "cell_type": "code",
   "execution_count": 8,
   "metadata": {
    "collapsed": false
   },
   "outputs": [],
   "source": [
    "X_original = user[all_features]\n",
    "y_original= user.elite_status\n",
    "X_train_original, X_test_original, y_train_original, y_test_original = train_test_split(X_original,y_original,test_size=0.2)\n",
    "scale = StandardScaler()\n",
    "X_train_original = scale.fit_transform(X_train_original)\n",
    "X_test_original= scale.fit_transform(X_test_original)"
   ]
  },
  {
   "cell_type": "code",
   "execution_count": 9,
   "metadata": {
    "collapsed": true
   },
   "outputs": [],
   "source": [
    "# combine all compliments into one \n",
    "features = [ 'review_count','fans', 'average_stars','yelping_period','n_friends','tip_count',\n",
    "            'votes_cool','votes_funny', 'votes_useful', 'compliments']\n",
    "X_1 = user[features]\n",
    "y_1= user.elite_status\n",
    "X_train_1, X_test_1, y_train_1, y_test_1 = train_test_split(X_1,y_1,test_size=0.2)\n",
    "X_train_1 = scale.fit_transform(X_train_1)\n",
    "X_test_1 = scale.fit_transform(X_test_1)"
   ]
  },
  {
   "cell_type": "markdown",
   "metadata": {},
   "source": [
    "# Choose Best Models on CV"
   ]
  },
  {
   "cell_type": "code",
   "execution_count": 10,
   "metadata": {
    "collapsed": false
   },
   "outputs": [],
   "source": [
    "def cross_val(models,X_train,y_train):\n",
    "    for model in models:\n",
    "        model.fit(X_train,y_train)\n",
    "        \n",
    "        print(str(model).split('(')[0],'CV:')\n",
    "        print('-- Accuracy:', round((cross_val_score(model, X_train, y_train, cv=5,scoring='accuracy').mean()), 3),\n",
    "              '| Recall:', round(cross_val_score(model, X_train, y_train, cv=5, scoring='recall').mean(), 3),\n",
    "              '| Precision:', round(cross_val_score(model, X_train, y_train, cv=5, scoring='precision').mean(), 3),\n",
    "              '| f1:', round(cross_val_score(model, X_train, y_train, cv=5, scoring='f1').mean(), 3),\n",
    "             '| auc:',round(cross_val_score(model, X_train, y_train, cv=5, scoring= 'roc_auc').mean(), 3))\n",
    "            "
   ]
  },
  {
   "cell_type": "code",
   "execution_count": 11,
   "metadata": {
    "collapsed": true
   },
   "outputs": [],
   "source": [
    "clf = [LogisticRegression(),RandomForestClassifier(),AdaBoostClassifier(),\n",
    "      DecisionTreeClassifier(),SGDClassifier(),GradientBoostingClassifier()]"
   ]
  },
  {
   "cell_type": "code",
   "execution_count": 13,
   "metadata": {
    "collapsed": true
   },
   "outputs": [],
   "source": [
    "# Warning: This takes a long time to run. So get ready to sit back and wait! More than an hour already!"
   ]
  },
  {
   "cell_type": "code",
   "execution_count": 18,
   "metadata": {
    "collapsed": true
   },
   "outputs": [],
   "source": [
    "gbc = GradientBoostingClassifier()"
   ]
  },
  {
   "cell_type": "code",
   "execution_count": null,
   "metadata": {
    "collapsed": false
   },
   "outputs": [
    {
     "name": "stdout",
     "output_type": "stream",
     "text": [
      "GradientBoostingClassifier CV:\n"
     ]
    }
   ],
   "source": [
    "cross_val([gbc], X_train_1,y_train_1)"
   ]
  },
  {
   "cell_type": "code",
   "execution_count": 14,
   "metadata": {
    "collapsed": false,
    "scrolled": true
   },
   "outputs": [
    {
     "name": "stdout",
     "output_type": "stream",
     "text": [
      "LogisticRegression CV:\n",
      "-- Accuracy: 0.974 | Recall: 0.602 | Precision: 0.847 | f1: 0.704 | auc: 0.987\n",
      "RandomForestClassifier CV:\n",
      "-- Accuracy: 0.979 | Recall: 0.726 | Precision: 0.84 | f1: 0.779 | auc: 0.976\n",
      "AdaBoostClassifier CV:\n",
      "-- Accuracy: 0.979 | Recall: 0.778 | Precision: 0.81 | f1: 0.794 | auc: 0.992\n",
      "DecisionTreeClassifier CV:\n",
      "-- Accuracy: 0.97 | Recall: 0.724 | Precision: 0.708 | f1: 0.717 | auc: 0.854\n",
      "SGDClassifier CV:\n",
      "-- Accuracy: 0.975 | Recall: 0.617 | Precision: 0.867 | f1: 0.71 | auc: 0.979\n"
     ]
    }
   ],
   "source": [
    "# CV of combined compliment features\n",
    "cross_val(clf,X_train_1,y_train_1)"
   ]
  },
  {
   "cell_type": "code",
   "execution_count": null,
   "metadata": {
    "collapsed": true
   },
   "outputs": [],
   "source": [
    "# CV of all features\n",
    "cross_val(clf,X_train_orginal,y_train_orginal)"
   ]
  },
  {
   "cell_type": "code",
   "execution_count": null,
   "metadata": {
    "collapsed": true
   },
   "outputs": [],
   "source": [
    "LogisticRegression CV:\n",
    "-- Accuracy: 0.971 | Recall: 0.568 | Precision: 0.824 | f1: 0.672 | auc: 0.985\n",
    "RandomForestClassifier CV:\n",
    "-- Accuracy: 0.978 | Recall: 0.72 | Precision: 0.828 | f1: 0.769 | auc: 0.973\n",
    "AdaBoostClassifier CV:\n",
    "-- Accuracy: 0.978 | Recall: 0.769 | Precision: 0.796 | f1: 0.782 | auc: 0.991\n",
    "DecisionTreeClassifier CV:\n",
    "-- Accuracy: 0.969 | Recall: 0.712 | Precision: 0.698 | f1: 0.704 | auc: 0.847\n",
    "SGDClassifier CV:\n",
    "-- Accuracy: 0.972 | Recall: 0.545 | Precision: 0.862 | f1: 0.676 | auc: 0.98"
   ]
  },
  {
   "cell_type": "markdown",
   "metadata": {},
   "source": [
    "# We see the AdaBoostClassifier and RandomForestClassifier have the highest score for accuracy, recall and precision and f1 out of all the estimators "
   ]
  },
  {
   "cell_type": "code",
   "execution_count": 12,
   "metadata": {
    "collapsed": true
   },
   "outputs": [],
   "source": [
    "new_clf = [RandomForestClassifier(),AdaBoostClassifier()]"
   ]
  },
  {
   "cell_type": "markdown",
   "metadata": {},
   "source": [
    "# Optimize Chosen Models - GridSearch"
   ]
  },
  {
   "cell_type": "code",
   "execution_count": 94,
   "metadata": {
    "collapsed": false
   },
   "outputs": [],
   "source": [
    "def gs_rf(X_train,y_train):\n",
    "\n",
    "    param =  [{'max_features': [3,8],'max_depth': [10,20], \n",
    "                     'n_estimators' : [500,1000] }]\n",
    "    grid_search = GridSearchCV(RandomForestClassifier(), param_grid = param, verbose = 3, cv = 3,n_jobs= -1, scoring = 'accuracy')\n",
    "    grid_search.fit(X_train, y_train)\n",
    "    output =  grid_search.best_params_\n",
    "        \n",
    "    return output \n",
    "                   "
   ]
  },
  {
   "cell_type": "code",
   "execution_count": 96,
   "metadata": {
    "collapsed": true
   },
   "outputs": [
    {
     "name": "stdout",
     "output_type": "stream",
     "text": [
      "Fitting 3 folds for each of 8 candidates, totalling 24 fits\n",
      "[CV] max_features=3, max_depth=10, n_estimators=500 ..................\n",
      "[CV] max_features=3, max_depth=10, n_estimators=500 ..................\n",
      "[CV] max_features=3, max_depth=10, n_estimators=500 ..................\n",
      "[CV] max_features=3, max_depth=10, n_estimators=1000 .................\n",
      "[CV]  max_features=3, max_depth=10, n_estimators=500, score=0.979463 -14.3min\n",
      "[CV] max_features=3, max_depth=10, n_estimators=1000 .................\n",
      "[CV]  max_features=3, max_depth=10, n_estimators=500, score=0.979102 -14.4min\n",
      "[CV] max_features=3, max_depth=10, n_estimators=1000 .................\n",
      "[CV]  max_features=3, max_depth=10, n_estimators=500, score=0.979009 -14.4min\n",
      "[CV] max_features=8, max_depth=10, n_estimators=500 ..................\n",
      "[CV]  max_features=3, max_depth=10, n_estimators=1000, score=0.979583 -24.7min\n",
      "[CV] max_features=8, max_depth=10, n_estimators=500 ..................\n",
      "[CV]  max_features=3, max_depth=10, n_estimators=1000, score=0.978998 -22.9min\n",
      "[CV] max_features=8, max_depth=10, n_estimators=500 ..................\n",
      "[CV]  max_features=3, max_depth=10, n_estimators=1000, score=0.979151 -22.8min\n",
      "[CV] max_features=8, max_depth=10, n_estimators=1000 .................\n",
      "[CV]  max_features=8, max_depth=10, n_estimators=500, score=0.979638 -22.9min\n",
      "[CV] max_features=8, max_depth=10, n_estimators=1000 .................\n",
      "[CV]  max_features=8, max_depth=10, n_estimators=500, score=0.979037 -22.1min\n",
      "[CV] max_features=8, max_depth=10, n_estimators=1000 .................\n",
      "[CV]  max_features=8, max_depth=10, n_estimators=500, score=0.979124 -27.9min\n",
      "[CV] max_features=3, max_depth=20, n_estimators=500 ..................\n",
      "[CV]  max_features=3, max_depth=20, n_estimators=500, score=0.979692 -18.9min\n",
      "[CV] max_features=3, max_depth=20, n_estimators=500 ..................\n",
      "[CV]  max_features=8, max_depth=10, n_estimators=1000, score=0.979632 -55.6min\n",
      "[CV] max_features=3, max_depth=20, n_estimators=500 ..................\n",
      "[CV]  max_features=8, max_depth=10, n_estimators=1000, score=0.979113 -56.2min\n",
      "[CV] max_features=3, max_depth=20, n_estimators=1000 .................\n",
      "[CV]  max_features=3, max_depth=20, n_estimators=500, score=0.979222 -11.1min\n",
      "[CV] max_features=3, max_depth=20, n_estimators=1000 .................\n",
      "[CV]  max_features=8, max_depth=10, n_estimators=1000, score=0.979135 -56.0min\n",
      "[CV] max_features=3, max_depth=20, n_estimators=1000 .................\n",
      "[CV]  max_features=3, max_depth=20, n_estimators=500, score=0.979539 -11.2min\n",
      "[CV] max_features=8, max_depth=20, n_estimators=500 ..................\n"
     ]
    },
    {
     "ename": "KeyboardInterrupt",
     "evalue": "",
     "output_type": "error",
     "traceback": [
      "\u001b[0;31m---------------------------------------------------------------------------\u001b[0m",
      "\u001b[0;31mKeyboardInterrupt\u001b[0m                         Traceback (most recent call last)",
      "\u001b[0;32m<ipython-input-96-fd1a0fb8d8ab>\u001b[0m in \u001b[0;36m<module>\u001b[0;34m()\u001b[0m\n\u001b[0;32m----> 1\u001b[0;31m \u001b[0mrf_1\u001b[0m \u001b[0;34m=\u001b[0m \u001b[0mgs_rf\u001b[0m\u001b[0;34m(\u001b[0m\u001b[0mX_train_1\u001b[0m\u001b[0;34m,\u001b[0m\u001b[0my_train_1\u001b[0m\u001b[0;34m)\u001b[0m\u001b[0;34m\u001b[0m\u001b[0m\n\u001b[0m",
      "\u001b[0;32m<ipython-input-94-f51cfdd7f2ce>\u001b[0m in \u001b[0;36mgs_rf\u001b[0;34m(X_train, y_train)\u001b[0m\n\u001b[1;32m      6\u001b[0m                      'n_estimators' : [500,1000] }]\n\u001b[1;32m      7\u001b[0m     \u001b[0mgrid_search\u001b[0m \u001b[0;34m=\u001b[0m \u001b[0mGridSearchCV\u001b[0m\u001b[0;34m(\u001b[0m\u001b[0mRandomForestClassifier\u001b[0m\u001b[0;34m(\u001b[0m\u001b[0;34m)\u001b[0m\u001b[0;34m,\u001b[0m \u001b[0mparam_grid\u001b[0m \u001b[0;34m=\u001b[0m \u001b[0mparam\u001b[0m\u001b[0;34m,\u001b[0m \u001b[0mverbose\u001b[0m \u001b[0;34m=\u001b[0m \u001b[0;36m3\u001b[0m\u001b[0;34m,\u001b[0m \u001b[0mcv\u001b[0m \u001b[0;34m=\u001b[0m \u001b[0;36m3\u001b[0m\u001b[0;34m,\u001b[0m\u001b[0mn_jobs\u001b[0m\u001b[0;34m=\u001b[0m \u001b[0;34m-\u001b[0m\u001b[0;36m1\u001b[0m\u001b[0;34m,\u001b[0m \u001b[0mscoring\u001b[0m \u001b[0;34m=\u001b[0m \u001b[0;34m'accuracy'\u001b[0m\u001b[0;34m)\u001b[0m\u001b[0;34m\u001b[0m\u001b[0m\n\u001b[0;32m----> 8\u001b[0;31m     \u001b[0mgrid_search\u001b[0m\u001b[0;34m.\u001b[0m\u001b[0mfit\u001b[0m\u001b[0;34m(\u001b[0m\u001b[0mX_train\u001b[0m\u001b[0;34m,\u001b[0m \u001b[0my_train\u001b[0m\u001b[0;34m)\u001b[0m\u001b[0;34m\u001b[0m\u001b[0m\n\u001b[0m\u001b[1;32m      9\u001b[0m     \u001b[0moutput\u001b[0m \u001b[0;34m=\u001b[0m  \u001b[0mgrid_search\u001b[0m\u001b[0;34m.\u001b[0m\u001b[0mbest_params_\u001b[0m\u001b[0;34m\u001b[0m\u001b[0m\n\u001b[1;32m     10\u001b[0m \u001b[0;34m\u001b[0m\u001b[0m\n",
      "\u001b[0;32m/Users/Charlotte/anaconda/lib/python3.5/site-packages/sklearn/grid_search.py\u001b[0m in \u001b[0;36mfit\u001b[0;34m(self, X, y)\u001b[0m\n\u001b[1;32m    811\u001b[0m \u001b[0;34m\u001b[0m\u001b[0m\n\u001b[1;32m    812\u001b[0m         \"\"\"\n\u001b[0;32m--> 813\u001b[0;31m         \u001b[0;32mreturn\u001b[0m \u001b[0mself\u001b[0m\u001b[0;34m.\u001b[0m\u001b[0m_fit\u001b[0m\u001b[0;34m(\u001b[0m\u001b[0mX\u001b[0m\u001b[0;34m,\u001b[0m \u001b[0my\u001b[0m\u001b[0;34m,\u001b[0m \u001b[0mParameterGrid\u001b[0m\u001b[0;34m(\u001b[0m\u001b[0mself\u001b[0m\u001b[0;34m.\u001b[0m\u001b[0mparam_grid\u001b[0m\u001b[0;34m)\u001b[0m\u001b[0;34m)\u001b[0m\u001b[0;34m\u001b[0m\u001b[0m\n\u001b[0m\u001b[1;32m    814\u001b[0m \u001b[0;34m\u001b[0m\u001b[0m\n\u001b[1;32m    815\u001b[0m \u001b[0;34m\u001b[0m\u001b[0m\n",
      "\u001b[0;32m/Users/Charlotte/anaconda/lib/python3.5/site-packages/sklearn/grid_search.py\u001b[0m in \u001b[0;36m_fit\u001b[0;34m(self, X, y, parameter_iterable)\u001b[0m\n\u001b[1;32m    559\u001b[0m                                     \u001b[0mself\u001b[0m\u001b[0;34m.\u001b[0m\u001b[0mfit_params\u001b[0m\u001b[0;34m,\u001b[0m \u001b[0mreturn_parameters\u001b[0m\u001b[0;34m=\u001b[0m\u001b[0;32mTrue\u001b[0m\u001b[0;34m,\u001b[0m\u001b[0;34m\u001b[0m\u001b[0m\n\u001b[1;32m    560\u001b[0m                                     error_score=self.error_score)\n\u001b[0;32m--> 561\u001b[0;31m                 \u001b[0;32mfor\u001b[0m \u001b[0mparameters\u001b[0m \u001b[0;32min\u001b[0m \u001b[0mparameter_iterable\u001b[0m\u001b[0;34m\u001b[0m\u001b[0m\n\u001b[0m\u001b[1;32m    562\u001b[0m                 for train, test in cv)\n\u001b[1;32m    563\u001b[0m \u001b[0;34m\u001b[0m\u001b[0m\n",
      "\u001b[0;32m/Users/Charlotte/anaconda/lib/python3.5/site-packages/sklearn/externals/joblib/parallel.py\u001b[0m in \u001b[0;36m__call__\u001b[0;34m(self, iterable)\u001b[0m\n\u001b[1;32m    766\u001b[0m                 \u001b[0;31m# consumption.\u001b[0m\u001b[0;34m\u001b[0m\u001b[0;34m\u001b[0m\u001b[0m\n\u001b[1;32m    767\u001b[0m                 \u001b[0mself\u001b[0m\u001b[0;34m.\u001b[0m\u001b[0m_iterating\u001b[0m \u001b[0;34m=\u001b[0m \u001b[0;32mFalse\u001b[0m\u001b[0;34m\u001b[0m\u001b[0m\n\u001b[0;32m--> 768\u001b[0;31m             \u001b[0mself\u001b[0m\u001b[0;34m.\u001b[0m\u001b[0mretrieve\u001b[0m\u001b[0;34m(\u001b[0m\u001b[0;34m)\u001b[0m\u001b[0;34m\u001b[0m\u001b[0m\n\u001b[0m\u001b[1;32m    769\u001b[0m             \u001b[0;31m# Make sure that we get a last message telling us we are done\u001b[0m\u001b[0;34m\u001b[0m\u001b[0;34m\u001b[0m\u001b[0m\n\u001b[1;32m    770\u001b[0m             \u001b[0melapsed_time\u001b[0m \u001b[0;34m=\u001b[0m \u001b[0mtime\u001b[0m\u001b[0;34m.\u001b[0m\u001b[0mtime\u001b[0m\u001b[0;34m(\u001b[0m\u001b[0;34m)\u001b[0m \u001b[0;34m-\u001b[0m \u001b[0mself\u001b[0m\u001b[0;34m.\u001b[0m\u001b[0m_start_time\u001b[0m\u001b[0;34m\u001b[0m\u001b[0m\n",
      "\u001b[0;32m/Users/Charlotte/anaconda/lib/python3.5/site-packages/sklearn/externals/joblib/parallel.py\u001b[0m in \u001b[0;36mretrieve\u001b[0;34m(self)\u001b[0m\n\u001b[1;32m    717\u001b[0m                     \u001b[0mensure_ready\u001b[0m \u001b[0;34m=\u001b[0m \u001b[0mself\u001b[0m\u001b[0;34m.\u001b[0m\u001b[0m_managed_backend\u001b[0m\u001b[0;34m\u001b[0m\u001b[0m\n\u001b[1;32m    718\u001b[0m                     \u001b[0mbackend\u001b[0m\u001b[0;34m.\u001b[0m\u001b[0mabort_everything\u001b[0m\u001b[0;34m(\u001b[0m\u001b[0mensure_ready\u001b[0m\u001b[0;34m=\u001b[0m\u001b[0mensure_ready\u001b[0m\u001b[0;34m)\u001b[0m\u001b[0;34m\u001b[0m\u001b[0m\n\u001b[0;32m--> 719\u001b[0;31m                 \u001b[0;32mraise\u001b[0m \u001b[0mexception\u001b[0m\u001b[0;34m\u001b[0m\u001b[0m\n\u001b[0m\u001b[1;32m    720\u001b[0m \u001b[0;34m\u001b[0m\u001b[0m\n\u001b[1;32m    721\u001b[0m     \u001b[0;32mdef\u001b[0m \u001b[0m__call__\u001b[0m\u001b[0;34m(\u001b[0m\u001b[0mself\u001b[0m\u001b[0;34m,\u001b[0m \u001b[0miterable\u001b[0m\u001b[0;34m)\u001b[0m\u001b[0;34m:\u001b[0m\u001b[0;34m\u001b[0m\u001b[0m\n",
      "\u001b[0;32m/Users/Charlotte/anaconda/lib/python3.5/site-packages/sklearn/externals/joblib/parallel.py\u001b[0m in \u001b[0;36mretrieve\u001b[0;34m(self)\u001b[0m\n\u001b[1;32m    680\u001b[0m                 \u001b[0;31m# check if timeout supported in backend future implementation\u001b[0m\u001b[0;34m\u001b[0m\u001b[0;34m\u001b[0m\u001b[0m\n\u001b[1;32m    681\u001b[0m                 \u001b[0;32mif\u001b[0m \u001b[0;34m'timeout'\u001b[0m \u001b[0;32min\u001b[0m \u001b[0mgetfullargspec\u001b[0m\u001b[0;34m(\u001b[0m\u001b[0mjob\u001b[0m\u001b[0;34m.\u001b[0m\u001b[0mget\u001b[0m\u001b[0;34m)\u001b[0m\u001b[0;34m.\u001b[0m\u001b[0margs\u001b[0m\u001b[0;34m:\u001b[0m\u001b[0;34m\u001b[0m\u001b[0m\n\u001b[0;32m--> 682\u001b[0;31m                     \u001b[0mself\u001b[0m\u001b[0;34m.\u001b[0m\u001b[0m_output\u001b[0m\u001b[0;34m.\u001b[0m\u001b[0mextend\u001b[0m\u001b[0;34m(\u001b[0m\u001b[0mjob\u001b[0m\u001b[0;34m.\u001b[0m\u001b[0mget\u001b[0m\u001b[0;34m(\u001b[0m\u001b[0mtimeout\u001b[0m\u001b[0;34m=\u001b[0m\u001b[0mself\u001b[0m\u001b[0;34m.\u001b[0m\u001b[0mtimeout\u001b[0m\u001b[0;34m)\u001b[0m\u001b[0;34m)\u001b[0m\u001b[0;34m\u001b[0m\u001b[0m\n\u001b[0m\u001b[1;32m    683\u001b[0m                 \u001b[0;32melse\u001b[0m\u001b[0;34m:\u001b[0m\u001b[0;34m\u001b[0m\u001b[0m\n\u001b[1;32m    684\u001b[0m                     \u001b[0mself\u001b[0m\u001b[0;34m.\u001b[0m\u001b[0m_output\u001b[0m\u001b[0;34m.\u001b[0m\u001b[0mextend\u001b[0m\u001b[0;34m(\u001b[0m\u001b[0mjob\u001b[0m\u001b[0;34m.\u001b[0m\u001b[0mget\u001b[0m\u001b[0;34m(\u001b[0m\u001b[0;34m)\u001b[0m\u001b[0;34m)\u001b[0m\u001b[0;34m\u001b[0m\u001b[0m\n",
      "\u001b[0;32m/Users/Charlotte/anaconda/lib/python3.5/multiprocessing/pool.py\u001b[0m in \u001b[0;36mget\u001b[0;34m(self, timeout)\u001b[0m\n\u001b[1;32m    600\u001b[0m \u001b[0;34m\u001b[0m\u001b[0m\n\u001b[1;32m    601\u001b[0m     \u001b[0;32mdef\u001b[0m \u001b[0mget\u001b[0m\u001b[0;34m(\u001b[0m\u001b[0mself\u001b[0m\u001b[0;34m,\u001b[0m \u001b[0mtimeout\u001b[0m\u001b[0;34m=\u001b[0m\u001b[0;32mNone\u001b[0m\u001b[0;34m)\u001b[0m\u001b[0;34m:\u001b[0m\u001b[0;34m\u001b[0m\u001b[0m\n\u001b[0;32m--> 602\u001b[0;31m         \u001b[0mself\u001b[0m\u001b[0;34m.\u001b[0m\u001b[0mwait\u001b[0m\u001b[0;34m(\u001b[0m\u001b[0mtimeout\u001b[0m\u001b[0;34m)\u001b[0m\u001b[0;34m\u001b[0m\u001b[0m\n\u001b[0m\u001b[1;32m    603\u001b[0m         \u001b[0;32mif\u001b[0m \u001b[0;32mnot\u001b[0m \u001b[0mself\u001b[0m\u001b[0;34m.\u001b[0m\u001b[0mready\u001b[0m\u001b[0;34m(\u001b[0m\u001b[0;34m)\u001b[0m\u001b[0;34m:\u001b[0m\u001b[0;34m\u001b[0m\u001b[0m\n\u001b[1;32m    604\u001b[0m             \u001b[0;32mraise\u001b[0m \u001b[0mTimeoutError\u001b[0m\u001b[0;34m\u001b[0m\u001b[0m\n",
      "\u001b[0;32m/Users/Charlotte/anaconda/lib/python3.5/multiprocessing/pool.py\u001b[0m in \u001b[0;36mwait\u001b[0;34m(self, timeout)\u001b[0m\n\u001b[1;32m    597\u001b[0m \u001b[0;34m\u001b[0m\u001b[0m\n\u001b[1;32m    598\u001b[0m     \u001b[0;32mdef\u001b[0m \u001b[0mwait\u001b[0m\u001b[0;34m(\u001b[0m\u001b[0mself\u001b[0m\u001b[0;34m,\u001b[0m \u001b[0mtimeout\u001b[0m\u001b[0;34m=\u001b[0m\u001b[0;32mNone\u001b[0m\u001b[0;34m)\u001b[0m\u001b[0;34m:\u001b[0m\u001b[0;34m\u001b[0m\u001b[0m\n\u001b[0;32m--> 599\u001b[0;31m         \u001b[0mself\u001b[0m\u001b[0;34m.\u001b[0m\u001b[0m_event\u001b[0m\u001b[0;34m.\u001b[0m\u001b[0mwait\u001b[0m\u001b[0;34m(\u001b[0m\u001b[0mtimeout\u001b[0m\u001b[0;34m)\u001b[0m\u001b[0;34m\u001b[0m\u001b[0m\n\u001b[0m\u001b[1;32m    600\u001b[0m \u001b[0;34m\u001b[0m\u001b[0m\n\u001b[1;32m    601\u001b[0m     \u001b[0;32mdef\u001b[0m \u001b[0mget\u001b[0m\u001b[0;34m(\u001b[0m\u001b[0mself\u001b[0m\u001b[0;34m,\u001b[0m \u001b[0mtimeout\u001b[0m\u001b[0;34m=\u001b[0m\u001b[0;32mNone\u001b[0m\u001b[0;34m)\u001b[0m\u001b[0;34m:\u001b[0m\u001b[0;34m\u001b[0m\u001b[0m\n",
      "\u001b[0;32m/Users/Charlotte/anaconda/lib/python3.5/threading.py\u001b[0m in \u001b[0;36mwait\u001b[0;34m(self, timeout)\u001b[0m\n\u001b[1;32m    547\u001b[0m             \u001b[0msignaled\u001b[0m \u001b[0;34m=\u001b[0m \u001b[0mself\u001b[0m\u001b[0;34m.\u001b[0m\u001b[0m_flag\u001b[0m\u001b[0;34m\u001b[0m\u001b[0m\n\u001b[1;32m    548\u001b[0m             \u001b[0;32mif\u001b[0m \u001b[0;32mnot\u001b[0m \u001b[0msignaled\u001b[0m\u001b[0;34m:\u001b[0m\u001b[0;34m\u001b[0m\u001b[0m\n\u001b[0;32m--> 549\u001b[0;31m                 \u001b[0msignaled\u001b[0m \u001b[0;34m=\u001b[0m \u001b[0mself\u001b[0m\u001b[0;34m.\u001b[0m\u001b[0m_cond\u001b[0m\u001b[0;34m.\u001b[0m\u001b[0mwait\u001b[0m\u001b[0;34m(\u001b[0m\u001b[0mtimeout\u001b[0m\u001b[0;34m)\u001b[0m\u001b[0;34m\u001b[0m\u001b[0m\n\u001b[0m\u001b[1;32m    550\u001b[0m             \u001b[0;32mreturn\u001b[0m \u001b[0msignaled\u001b[0m\u001b[0;34m\u001b[0m\u001b[0m\n\u001b[1;32m    551\u001b[0m \u001b[0;34m\u001b[0m\u001b[0m\n",
      "\u001b[0;32m/Users/Charlotte/anaconda/lib/python3.5/threading.py\u001b[0m in \u001b[0;36mwait\u001b[0;34m(self, timeout)\u001b[0m\n\u001b[1;32m    291\u001b[0m         \u001b[0;32mtry\u001b[0m\u001b[0;34m:\u001b[0m    \u001b[0;31m# restore state no matter what (e.g., KeyboardInterrupt)\u001b[0m\u001b[0;34m\u001b[0m\u001b[0m\n\u001b[1;32m    292\u001b[0m             \u001b[0;32mif\u001b[0m \u001b[0mtimeout\u001b[0m \u001b[0;32mis\u001b[0m \u001b[0;32mNone\u001b[0m\u001b[0;34m:\u001b[0m\u001b[0;34m\u001b[0m\u001b[0m\n\u001b[0;32m--> 293\u001b[0;31m                 \u001b[0mwaiter\u001b[0m\u001b[0;34m.\u001b[0m\u001b[0macquire\u001b[0m\u001b[0;34m(\u001b[0m\u001b[0;34m)\u001b[0m\u001b[0;34m\u001b[0m\u001b[0m\n\u001b[0m\u001b[1;32m    294\u001b[0m                 \u001b[0mgotit\u001b[0m \u001b[0;34m=\u001b[0m \u001b[0;32mTrue\u001b[0m\u001b[0;34m\u001b[0m\u001b[0m\n\u001b[1;32m    295\u001b[0m             \u001b[0;32melse\u001b[0m\u001b[0;34m:\u001b[0m\u001b[0;34m\u001b[0m\u001b[0m\n",
      "\u001b[0;31mKeyboardInterrupt\u001b[0m: "
     ]
    }
   ],
   "source": [
    "rf_1 = gs_rf(X_train_1,y_train_1)"
   ]
  },
  {
   "cell_type": "code",
   "execution_count": 15,
   "metadata": {
    "collapsed": false,
    "scrolled": false
   },
   "outputs": [
    {
     "data": {
      "text/plain": [
       "defaultdict(list,\n",
       "            {'accuracy': (0.9789164742810117,\n",
       "              {'max_depth': 12, 'max_features': None, 'min_samples_leaf': 8}),\n",
       "             'f1': (0.7900932763034957,\n",
       "              {'max_depth': 12, 'max_features': None, 'min_samples_leaf': 5}),\n",
       "             'precision': (0.8250082235314551,\n",
       "              {'max_depth': 9, 'max_features': 'auto', 'min_samples_leaf': 2}),\n",
       "             'recall': (0.7673704426659572,\n",
       "              {'max_depth': 12, 'max_features': None, 'min_samples_leaf': 5})})"
      ]
     },
     "execution_count": 15,
     "metadata": {},
     "output_type": "execute_result"
    }
   ],
   "source": [
    "rf_1 "
   ]
  },
  {
   "cell_type": "code",
   "execution_count": null,
   "metadata": {
    "collapsed": false
   },
   "outputs": [],
   "source": [
    "stage_score_plot(ada, X_train_1,y_train_1,X_test_1,y_test_1)"
   ]
  },
  {
   "cell_type": "code",
   "execution_count": 63,
   "metadata": {
    "collapsed": true
   },
   "outputs": [],
   "source": [
    "def gs_abc(X_train,y_train):\n",
    "    param = [{'learning_rate': [0.5,0.8,1],'n_estimators': [100,500,800]}]\n",
    "    grid_search = GridSearchCV(AdaBoostClassifier(), param_grid = param, verbose = 1, cv = 3,n_jobs= -1, scoring = 'accuracy')\n",
    "    grid_search.fit(X_train, y_train)\n",
    "    param = grid_search.best_params_\n",
    "    return param\n"
   ]
  },
  {
   "cell_type": "code",
   "execution_count": 93,
   "metadata": {
    "collapsed": true
   },
   "outputs": [
    {
     "name": "stdout",
     "output_type": "stream",
     "text": [
      "AdaBoosting Classifer\n",
      "accuracy \n",
      "\n",
      "Fitting 5 folds for each of 9 candidates, totalling 45 fits\n"
     ]
    },
    {
     "name": "stderr",
     "output_type": "stream",
     "text": [
      "[Parallel(n_jobs=-1)]: Done  45 out of  45 | elapsed:  6.3min finished\n"
     ]
    },
    {
     "name": "stdout",
     "output_type": "stream",
     "text": [
      "recall \n",
      "\n",
      "Fitting 5 folds for each of 9 candidates, totalling 45 fits\n"
     ]
    },
    {
     "name": "stderr",
     "output_type": "stream",
     "text": [
      "[Parallel(n_jobs=-1)]: Done  45 out of  45 | elapsed:  6.0min finished\n"
     ]
    },
    {
     "name": "stdout",
     "output_type": "stream",
     "text": [
      "precision \n",
      "\n",
      "Fitting 5 folds for each of 9 candidates, totalling 45 fits\n"
     ]
    },
    {
     "name": "stderr",
     "output_type": "stream",
     "text": [
      "[Parallel(n_jobs=-1)]: Done  45 out of  45 | elapsed:  6.8min finished\n"
     ]
    },
    {
     "name": "stdout",
     "output_type": "stream",
     "text": [
      "f1 \n",
      "\n",
      "Fitting 5 folds for each of 9 candidates, totalling 45 fits\n"
     ]
    },
    {
     "name": "stderr",
     "output_type": "stream",
     "text": [
      "[Parallel(n_jobs=-1)]: Done  45 out of  45 | elapsed:  7.0min finished\n"
     ]
    }
   ],
   "source": [
    "abc_1 = gs_abc(X_train_1,y_train_1)"
   ]
  },
  {
   "cell_type": "code",
   "execution_count": 94,
   "metadata": {
    "collapsed": false
   },
   "outputs": [
    {
     "data": {
      "text/plain": [
       "defaultdict(list,\n",
       "            {'accuracy': (0.8261497288541446,\n",
       "              {'learning_rate': 0.8, 'n_estimators': 800}),\n",
       "             'f1': (0.8156364736219641,\n",
       "              {'learning_rate': 0.8, 'n_estimators': 800}),\n",
       "             'precision': (0.8187658548023466,\n",
       "              {'learning_rate': 0.8, 'n_estimators': 800}),\n",
       "             'recall': (0.8129603337782988,\n",
       "              {'learning_rate': 0.8, 'n_estimators': 500})})"
      ]
     },
     "execution_count": 94,
     "metadata": {},
     "output_type": "execute_result"
    }
   ],
   "source": [
    "abc_1"
   ]
  },
  {
   "cell_type": "markdown",
   "metadata": {
    "collapsed": true
   },
   "source": [
    "# Apply Model to Testing Dataset"
   ]
  },
  {
   "cell_type": "code",
   "execution_count": 2,
   "metadata": {
    "collapsed": true
   },
   "outputs": [],
   "source": [
    "def fit_model(model,features,X_train,y_train,X_test,y_test):\n",
    "    \"Fit Model --- Return Evaluation Metrics\"\n",
    "    \n",
    "    model = model.fit(X_train, y_train)\n",
    "    train_pred = model.predict(X_train)\n",
    "    test_pred = model.predict(X_test)\n",
    "\n",
    "    print(str(model).split('(')[0],':')\n",
    "    print('Train | Accuracy:', round(accuracy_score(y_train, train_pred),3),\n",
    "          '| Recall',round(recall_score(y_train, train_pred),3),\n",
    "          '| Precision',round(precision_score(y_train, train_pred),3),\n",
    "          '| f1',round(f1_score(y_train, train_pred),3))\n",
    "\n",
    "    print('Test | Accuracy:', round(accuracy_score(y_test, test_pred),3),\n",
    "          '| Recall',round(recall_score(y_test, test_pred),3),\n",
    "          '| Precision',round(precision_score(y_test, test_pred),3),\n",
    "          '| f1',round(f1_score(y_test, test_pred),3))\n",
    "    \n",
    "    feature_importances = model.feature_importances_\n",
    "    feature_indices = np.argsort(feature_importances)[::-1]\n",
    "    print(' ')\n",
    "    print('Features Importance Order')\n",
    "    for f,index in enumerate(feature_indices):\n",
    "        print(\"%2d) %-*s %f\" % (f + 1, 30,features[index], feature_importances[index]))\n",
    "    return test_pred\n"
   ]
  },
  {
   "cell_type": "code",
   "execution_count": 15,
   "metadata": {
    "collapsed": false
   },
   "outputs": [],
   "source": [
    "rf = RandomForestClassifier(max_depth= 12,\n",
    "               max_features= None,\n",
    "               min_samples_leaf= 8, n_estimators = 500)"
   ]
  },
  {
   "cell_type": "code",
   "execution_count": null,
   "metadata": {
    "collapsed": false,
    "scrolled": true
   },
   "outputs": [],
   "source": [
    "'RF - combined compliments '\n",
    "fit_model(rf,features,X_train_1,y_train_1,X_test_1,y_test_1)"
   ]
  },
  {
   "cell_type": "code",
   "execution_count": 72,
   "metadata": {
    "collapsed": false
   },
   "outputs": [
    {
     "name": "stdout",
     "output_type": "stream",
     "text": [
      "RandomForestClassifier :\n",
      "Train | Accuracy: 0.984 | Recall 0.813 | Precision 0.879 | f1 0.845\n",
      "Test | Accuracy: 0.98 | Recall 0.755 | Precision 0.838 | f1 0.794\n",
      " \n",
      "Features Importance Order\n",
      " 1) votes_cool                     0.680027\n",
      " 2) review_count                   0.087457\n",
      " 3) compliments_writer             0.074926\n",
      " 4) compliments_hot                0.038218\n",
      " 5) yelping_period                 0.026169\n",
      " 6) n_friends                      0.017266\n",
      " 7) average_stars                  0.012710\n",
      " 8) compliments_cool               0.011843\n",
      " 9) votes_useful                   0.010568\n",
      "10) votes_funny                    0.009311\n",
      "11) compliments_more               0.005683\n",
      "12) fans                           0.005556\n",
      "13) compliments_funny              0.004328\n",
      "14) compliments_note               0.003547\n",
      "15) compliments_plain              0.003522\n",
      "16) tip_count                      0.002481\n",
      "17) compliments_photos             0.002119\n",
      "18) compliments_profile            0.002037\n",
      "19) compliments_cute               0.001846\n",
      "20) compliments_list               0.000386\n"
     ]
    }
   ],
   "source": [
    "'RF - all features'\n",
    "fit_model(rf,all_features,X_train_original,y_train_original,X_test_original,y_test_original) #2:10 "
   ]
  },
  {
   "cell_type": "code",
   "execution_count": 40,
   "metadata": {
    "collapsed": true
   },
   "outputs": [],
   "source": [
    "ada = AdaBoostClassifier(learning_rate=0.8,n_estimators=500)"
   ]
  },
  {
   "cell_type": "code",
   "execution_count": 41,
   "metadata": {
    "collapsed": false,
    "scrolled": false
   },
   "outputs": [
    {
     "name": "stdout",
     "output_type": "stream",
     "text": [
      "AdaBoostClassifier :\n",
      "Train | Accuracy: 0.98 | Recall 0.783 | Precision 0.826 | f1 0.804\n",
      "Test | Accuracy: 0.98 | Recall 0.768 | Precision 0.835 | f1 0.8\n",
      " \n",
      "Features Importance Order\n",
      " 1) review_count                   0.206000\n",
      " 2) votes_useful                   0.114000\n",
      " 3) average_stars                  0.076000\n",
      " 4) compliments_writer             0.068000\n",
      " 5) votes_funny                    0.064000\n",
      " 6) tip_count                      0.064000\n",
      " 7) compliments_cool               0.054000\n",
      " 8) votes_cool                     0.050000\n",
      " 9) yelping_period                 0.044000\n",
      "10) compliments_hot                0.042000\n",
      "11) compliments_more               0.028000\n",
      "12) n_friends                      0.028000\n",
      "13) fans                           0.028000\n",
      "14) compliments_cute               0.024000\n",
      "15) compliments_plain              0.024000\n",
      "16) compliments_photos             0.022000\n",
      "17) compliments_funny              0.022000\n",
      "18) compliments_note               0.020000\n",
      "19) compliments_profile            0.014000\n",
      "20) compliments_list               0.008000\n"
     ]
    }
   ],
   "source": [
    "fit_model(ada,all_features,X_train_original,y_train_original,X_test_original,y_test_original) #2:10 "
   ]
  },
  {
   "cell_type": "code",
   "execution_count": 48,
   "metadata": {
    "collapsed": false
   },
   "outputs": [
    {
     "name": "stdout",
     "output_type": "stream",
     "text": [
      "AdaBoostClassifier :\n",
      "Train | Accuracy: 0.979 | Recall 0.779 | Precision 0.81 | f1 0.794\n",
      "Test | Accuracy: 0.978 | Recall 0.745 | Precision 0.809 | f1 0.776\n",
      " \n",
      "Features Importance Order\n",
      " 1) review_count                   0.210000\n",
      " 2) votes_useful                   0.180000\n",
      " 3) compliments                    0.154000\n",
      " 4) average_stars                  0.120000\n",
      " 5) votes_funny                    0.088000\n",
      " 6) votes_cool                     0.060000\n",
      " 7) yelping_period                 0.060000\n",
      " 8) tip_count                      0.056000\n",
      " 9) n_friends                      0.038000\n",
      "10) fans                           0.034000\n"
     ]
    }
   ],
   "source": [
    "fit_model(ada,X_train,y_train,X_test,y_test) #2:10 "
   ]
  },
  {
   "cell_type": "markdown",
   "metadata": {},
   "source": [
    "# Different dataset\n",
    "\n",
    "## For user that have at at least 30 reviews"
   ]
  },
  {
   "cell_type": "code",
   "execution_count": 74,
   "metadata": {
    "collapsed": true
   },
   "outputs": [],
   "source": [
    "user_40 = user.ix[user['review_count'] > 40]"
   ]
  },
  {
   "cell_type": "code",
   "execution_count": 76,
   "metadata": {
    "collapsed": false
   },
   "outputs": [
    {
     "data": {
      "text/plain": [
       "<matplotlib.axes._subplots.AxesSubplot at 0x12aa2ccc0>"
      ]
     },
     "execution_count": 76,
     "metadata": {},
     "output_type": "execute_result"
    },
    {
     "data": {
      "image/png": "[encoded data removed]",
      "text/plain": [
       "<matplotlib.figure.Figure at 0x12aa45f98>"
      ]
     },
     "metadata": {},
     "output_type": "display_data"
    }
   ],
   "source": [
    "sns.countplot(user_40['elite_status'])"
   ]
  },
  {
   "cell_type": "code",
   "execution_count": 52,
   "metadata": {
    "collapsed": false
   },
   "outputs": [],
   "source": [
    "X_40 = user_40[features]\n",
    "y_40 = user_40.elite_status\n",
    "X_train_40, X_test_40, y_train_40, y_test_40 = train_test_split(X_40,y_40,test_size=0.2)"
   ]
  },
  {
   "cell_type": "code",
   "execution_count": 53,
   "metadata": {
    "collapsed": true
   },
   "outputs": [],
   "source": [
    "scale = StandardScaler()\n",
    "X_train_40 = scale.fit_transform(X_train_40)\n",
    "X_test_40 = scale.fit_transform(X_test_40)"
   ]
  },
  {
   "cell_type": "code",
   "execution_count": 54,
   "metadata": {
    "collapsed": true
   },
   "outputs": [],
   "source": [
    "new_clf = [RandomForestClassifier(),AdaBoostClassifier()]"
   ]
  },
  {
   "cell_type": "code",
   "execution_count": 27,
   "metadata": {
    "collapsed": false,
    "scrolled": true
   },
   "outputs": [
    {
     "name": "stdout",
     "output_type": "stream",
     "text": [
      "RandomForestClassifier CV:\n",
      "-- Accuracy: 0.833 | Recall: 0.739 | Precision: 0.827 | f1: 0.783 | auc: 0.898\n",
      "AdaBoostClassifier CV:\n",
      "-- Accuracy: 0.838 | Recall: 0.785 | Precision: 0.808 | f1: 0.797 | auc: 0.913\n"
     ]
    }
   ],
   "source": [
    "cross_val(new_clf,X_train_40,y_train_40)"
   ]
  },
  {
   "cell_type": "markdown",
   "metadata": {},
   "source": [
    "## -- Tunning Hyperparameters"
   ]
  },
  {
   "cell_type": "code",
   "execution_count": 58,
   "metadata": {
    "collapsed": true
   },
   "outputs": [
    {
     "name": "stdout",
     "output_type": "stream",
     "text": [
      "Random Forest\n",
      "accuracy \n",
      "\n",
      "Fitting 5 folds for each of 27 candidates, totalling 135 fits\n",
      "[CV] min_samples_leaf=2, max_depth=6, max_features=auto ..............\n",
      "[CV] min_samples_leaf=2, max_depth=6, max_features=auto ..............\n",
      "[CV] min_samples_leaf=2, max_depth=6, max_features=auto ..............\n",
      "[CV] min_samples_leaf=2, max_depth=6, max_features=auto ..............\n",
      "[CV]  min_samples_leaf=2, max_depth=6, max_features=auto, score=0.831988 -   1.2s\n",
      "[CV] min_samples_leaf=2, max_depth=6, max_features=auto ..............\n",
      "[CV]  min_samples_leaf=2, max_depth=6, max_features=auto, score=0.839395 -   1.2s\n",
      "[CV]  min_samples_leaf=2, max_depth=6, max_features=auto, score=0.838388 -   1.2s\n",
      "[CV]  min_samples_leaf=2, max_depth=6, max_features=auto, score=0.836328 -   1.2s\n",
      "[CV] min_samples_leaf=5, max_depth=6, max_features=auto ..............\n",
      "[CV] min_samples_leaf=5, max_depth=6, max_features=auto ..............\n",
      "[CV] min_samples_leaf=5, max_depth=6, max_features=auto ..............\n",
      "[CV]  min_samples_leaf=5, max_depth=6, max_features=auto, score=0.835261 -   0.9s\n",
      "[CV]  min_samples_leaf=2, max_depth=6, max_features=auto, score=0.831672 -   1.0s\n",
      "[CV] min_samples_leaf=5, max_depth=6, max_features=auto ..............\n",
      "[CV] min_samples_leaf=5, max_depth=6, max_features=auto ..............\n",
      "[CV]  min_samples_leaf=5, max_depth=6, max_features=auto, score=0.837952 -   1.0s\n",
      "[CV] min_samples_leaf=8, max_depth=6, max_features=auto ..............\n",
      "[CV]  min_samples_leaf=5, max_depth=6, max_features=auto, score=0.838958 -   1.0s\n",
      "[CV] min_samples_leaf=8, max_depth=6, max_features=auto ..............\n",
      "[CV]  min_samples_leaf=5, max_depth=6, max_features=auto, score=0.836692 -   0.9s\n",
      "[CV]  min_samples_leaf=5, max_depth=6, max_features=auto, score=0.835310 -   0.9s\n",
      "[CV] min_samples_leaf=8, max_depth=6, max_features=auto ..............\n",
      "[CV] min_samples_leaf=8, max_depth=6, max_features=auto ..............\n",
      "[CV]  min_samples_leaf=8, max_depth=6, max_features=auto, score=0.835188 -   1.1s\n",
      "[CV] min_samples_leaf=8, max_depth=6, max_features=auto ..............\n",
      "[CV]  min_samples_leaf=8, max_depth=6, max_features=auto, score=0.837734 -   1.1s\n",
      "[CV] min_samples_leaf=2, max_depth=6, max_features=log2 ..............\n",
      "[CV]  min_samples_leaf=8, max_depth=6, max_features=auto, score=0.836255 -   1.4s\n",
      "[CV] min_samples_leaf=2, max_depth=6, max_features=log2 ..............\n",
      "[CV]  min_samples_leaf=8, max_depth=6, max_features=auto, score=0.836255 -   1.6s\n",
      "[CV]  min_samples_leaf=8, max_depth=6, max_features=auto, score=0.840413 -   1.6s\n",
      "[CV] min_samples_leaf=2, max_depth=6, max_features=log2 ..............\n",
      "[CV] min_samples_leaf=2, max_depth=6, max_features=log2 ..............\n",
      "[CV]  min_samples_leaf=2, max_depth=6, max_features=log2, score=0.832861 -   1.6s\n",
      "[CV] min_samples_leaf=2, max_depth=6, max_features=log2 ..............\n",
      "[CV]  min_samples_leaf=2, max_depth=6, max_features=log2, score=0.838752 -   1.4s\n",
      "[CV]  min_samples_leaf=2, max_depth=6, max_features=log2, score=0.838595 -   1.4s\n",
      "[CV] min_samples_leaf=5, max_depth=6, max_features=log2 ..............\n",
      "[CV] min_samples_leaf=5, max_depth=6, max_features=log2 ..............\n",
      "[CV]  min_samples_leaf=2, max_depth=6, max_features=log2, score=0.836255 -   1.4s\n",
      "[CV] min_samples_leaf=5, max_depth=6, max_features=log2 ..............\n",
      "[CV]  min_samples_leaf=2, max_depth=6, max_features=log2, score=0.832473 -   1.4s\n",
      "[CV] min_samples_leaf=5, max_depth=6, max_features=log2 ..............\n",
      "[CV]  min_samples_leaf=5, max_depth=6, max_features=log2, score=0.836934 -   1.3s\n",
      "[CV]  min_samples_leaf=5, max_depth=6, max_features=log2, score=0.839334 -   1.3s\n",
      "[CV] min_samples_leaf=5, max_depth=6, max_features=log2 ..............\n",
      "[CV] min_samples_leaf=8, max_depth=6, max_features=log2 ..............\n",
      "[CV]  min_samples_leaf=5, max_depth=6, max_features=log2, score=0.839104 -   1.4s\n",
      "[CV] min_samples_leaf=8, max_depth=6, max_features=log2 ..............\n",
      "[CV]  min_samples_leaf=5, max_depth=6, max_features=log2, score=0.837346 -   1.5s\n",
      "[CV] min_samples_leaf=8, max_depth=6, max_features=log2 ..............\n"
     ]
    },
    {
     "name": "stderr",
     "output_type": "stream",
     "text": [
      "[Parallel(n_jobs=-1)]: Done  24 tasks      | elapsed:    8.3s\n"
     ]
    },
    {
     "name": "stdout",
     "output_type": "stream",
     "text": [
      "[CV]  min_samples_leaf=5, max_depth=6, max_features=log2, score=0.833709 -   1.5s\n",
      "[CV] min_samples_leaf=8, max_depth=6, max_features=log2 ..............\n",
      "[CV]  min_samples_leaf=8, max_depth=6, max_features=log2, score=0.836715 -   1.4s\n",
      "[CV] min_samples_leaf=8, max_depth=6, max_features=log2 ..............\n",
      "[CV]  min_samples_leaf=8, max_depth=6, max_features=log2, score=0.838897 -   1.4s\n",
      "[CV] min_samples_leaf=2, max_depth=6, max_features=None ..............\n",
      "[CV]  min_samples_leaf=8, max_depth=6, max_features=log2, score=0.841141 -   1.3s\n",
      "[CV] min_samples_leaf=2, max_depth=6, max_features=None ..............\n",
      "[CV]  min_samples_leaf=8, max_depth=6, max_features=log2, score=0.835310 -   1.3s\n",
      "[CV] min_samples_leaf=2, max_depth=6, max_features=None ..............\n",
      "[CV]  min_samples_leaf=8, max_depth=6, max_features=log2, score=0.836401 -   1.5s\n",
      "[CV] min_samples_leaf=2, max_depth=6, max_features=None ..............\n",
      "[CV]  min_samples_leaf=2, max_depth=6, max_features=None, score=0.836352 -   2.6s\n",
      "[CV] min_samples_leaf=2, max_depth=6, max_features=None ..............\n",
      "[CV]  min_samples_leaf=2, max_depth=6, max_features=None, score=0.840497 -   2.7s\n",
      "[CV] min_samples_leaf=5, max_depth=6, max_features=None ..............\n",
      "[CV]  min_samples_leaf=2, max_depth=6, max_features=None, score=0.840777 -   2.4s\n",
      "[CV] min_samples_leaf=5, max_depth=6, max_features=None ..............\n",
      "[CV]  min_samples_leaf=2, max_depth=6, max_features=None, score=0.837419 -   2.5s\n",
      "[CV] min_samples_leaf=5, max_depth=6, max_features=None ..............\n",
      "[CV]  min_samples_leaf=2, max_depth=6, max_features=None, score=0.835746 -   2.6s\n",
      "[CV] min_samples_leaf=5, max_depth=6, max_features=None ..............\n",
      "[CV]  min_samples_leaf=5, max_depth=6, max_features=None, score=0.836788 -   2.9s\n",
      "[CV] min_samples_leaf=5, max_depth=6, max_features=None ..............\n",
      "[CV]  min_samples_leaf=5, max_depth=6, max_features=None, score=0.840279 -   3.1s\n",
      "[CV] min_samples_leaf=8, max_depth=6, max_features=None ..............\n",
      "[CV]  min_samples_leaf=5, max_depth=6, max_features=None, score=0.839977 -   3.0s\n",
      "[CV] min_samples_leaf=8, max_depth=6, max_features=None ..............\n",
      "[CV]  min_samples_leaf=5, max_depth=6, max_features=None, score=0.836619 -   3.0s\n",
      "[CV] min_samples_leaf=8, max_depth=6, max_features=None ..............\n",
      "[CV]  min_samples_leaf=5, max_depth=6, max_features=None, score=0.837055 -   2.8s\n",
      "[CV] min_samples_leaf=8, max_depth=6, max_features=None ..............\n",
      "[CV]  min_samples_leaf=8, max_depth=6, max_features=None, score=0.838025 -   2.5s\n",
      "[CV] min_samples_leaf=8, max_depth=6, max_features=None ..............\n",
      "[CV]  min_samples_leaf=8, max_depth=6, max_features=None, score=0.838170 -   2.4s\n",
      "[CV] min_samples_leaf=2, max_depth=9, max_features=auto ..............\n",
      "[CV]  min_samples_leaf=2, max_depth=9, max_features=auto, score=0.839916 -   1.5s\n",
      "[CV] min_samples_leaf=2, max_depth=9, max_features=auto ..............\n",
      "[CV]  min_samples_leaf=8, max_depth=6, max_features=None, score=0.842159 -   2.7s\n",
      "[CV] min_samples_leaf=2, max_depth=9, max_features=auto ..............\n",
      "[CV]  min_samples_leaf=8, max_depth=6, max_features=None, score=0.838510 -   2.7s\n",
      "[CV] min_samples_leaf=2, max_depth=9, max_features=auto ..............\n",
      "[CV]  min_samples_leaf=8, max_depth=6, max_features=None, score=0.837419 -   2.9s\n",
      "[CV] min_samples_leaf=2, max_depth=9, max_features=auto ..............\n",
      "[CV]  min_samples_leaf=2, max_depth=9, max_features=auto, score=0.844280 -   1.5s\n",
      "[CV] min_samples_leaf=5, max_depth=9, max_features=auto ..............\n",
      "[CV]  min_samples_leaf=2, max_depth=9, max_features=auto, score=0.845432 -   1.5s\n",
      "[CV] min_samples_leaf=5, max_depth=9, max_features=auto ..............\n",
      "[CV]  min_samples_leaf=2, max_depth=9, max_features=auto, score=0.839892 -   1.6s\n",
      "[CV] min_samples_leaf=5, max_depth=9, max_features=auto ..............\n",
      "[CV]  min_samples_leaf=2, max_depth=9, max_features=auto, score=0.838583 -   1.5s\n",
      "[CV] min_samples_leaf=5, max_depth=9, max_features=auto ..............\n",
      "[CV]  min_samples_leaf=5, max_depth=9, max_features=auto, score=0.846825 -   1.5s\n",
      "[CV]  min_samples_leaf=5, max_depth=9, max_features=auto, score=0.843261 -   1.6s\n",
      "[CV] min_samples_leaf=5, max_depth=9, max_features=auto ..............\n",
      "[CV] min_samples_leaf=8, max_depth=9, max_features=auto ..............\n",
      "[CV]  min_samples_leaf=5, max_depth=9, max_features=auto, score=0.844196 -   1.4s\n",
      "[CV] min_samples_leaf=8, max_depth=9, max_features=auto ..............\n",
      "[CV]  min_samples_leaf=5, max_depth=9, max_features=auto, score=0.839747 -   1.5s\n",
      "[CV] min_samples_leaf=8, max_depth=9, max_features=auto ..............\n",
      "[CV]  min_samples_leaf=5, max_depth=9, max_features=auto, score=0.839529 -   1.4s\n",
      "[CV] min_samples_leaf=8, max_depth=9, max_features=auto ..............\n",
      "[CV]  min_samples_leaf=8, max_depth=9, max_features=auto, score=0.840061 -   1.4s\n",
      "[CV] min_samples_leaf=8, max_depth=9, max_features=auto ..............\n",
      "[CV]  min_samples_leaf=8, max_depth=9, max_features=auto, score=0.845880 -   1.4s\n",
      "[CV] min_samples_leaf=2, max_depth=9, max_features=log2 ..............\n",
      "[CV]  min_samples_leaf=8, max_depth=9, max_features=auto, score=0.844341 -   1.4s\n",
      "[CV] min_samples_leaf=2, max_depth=9, max_features=log2 ..............\n",
      "[CV]  min_samples_leaf=8, max_depth=9, max_features=auto, score=0.841274 -   1.3s\n",
      "[CV] min_samples_leaf=2, max_depth=9, max_features=log2 ..............\n",
      "[CV]  min_samples_leaf=8, max_depth=9, max_features=auto, score=0.840183 -   1.3s\n",
      "[CV] min_samples_leaf=2, max_depth=9, max_features=log2 ..............\n",
      "[CV]  min_samples_leaf=2, max_depth=9, max_features=log2, score=0.838388 -   1.2s\n",
      "[CV] min_samples_leaf=2, max_depth=9, max_features=log2 ..............\n",
      "[CV]  min_samples_leaf=2, max_depth=9, max_features=log2, score=0.845807 -   1.2s\n",
      "[CV] min_samples_leaf=5, max_depth=9, max_features=log2 ..............\n",
      "[CV]  min_samples_leaf=2, max_depth=9, max_features=log2, score=0.844196 -   1.3s\n",
      "[CV]  min_samples_leaf=2, max_depth=9, max_features=log2, score=0.842002 -   1.3s\n",
      "[CV] min_samples_leaf=5, max_depth=9, max_features=log2 ..............\n",
      "[CV] min_samples_leaf=5, max_depth=9, max_features=log2 ..............\n",
      "[CV]  min_samples_leaf=2, max_depth=9, max_features=log2, score=0.839165 -   1.4s\n",
      "[CV] min_samples_leaf=5, max_depth=9, max_features=log2 ..............\n",
      "[CV]  min_samples_leaf=5, max_depth=9, max_features=log2, score=0.839479 -   1.7s\n",
      "[CV] min_samples_leaf=5, max_depth=9, max_features=log2 ..............\n",
      "[CV]  min_samples_leaf=5, max_depth=9, max_features=log2, score=0.845359 -   1.7s\n",
      "[CV] min_samples_leaf=8, max_depth=9, max_features=log2 ..............\n",
      "[CV]  min_samples_leaf=5, max_depth=9, max_features=log2, score=0.845589 -   1.8s\n",
      "[CV] min_samples_leaf=8, max_depth=9, max_features=log2 ..............\n",
      "[CV]  min_samples_leaf=5, max_depth=9, max_features=log2, score=0.841929 -   1.7s\n",
      "[CV] min_samples_leaf=8, max_depth=9, max_features=log2 ..............\n",
      "[CV]  min_samples_leaf=5, max_depth=9, max_features=log2, score=0.839529 -   1.5s\n",
      "[CV] min_samples_leaf=8, max_depth=9, max_features=log2 ..............\n",
      "[CV]  min_samples_leaf=8, max_depth=9, max_features=log2, score=0.842243 -   1.6s\n",
      "[CV] min_samples_leaf=8, max_depth=9, max_features=log2 ..............\n",
      "[CV]  min_samples_leaf=8, max_depth=9, max_features=log2, score=0.844134 -   1.5s\n",
      "[CV] min_samples_leaf=2, max_depth=9, max_features=None ..............\n",
      "[CV]  min_samples_leaf=8, max_depth=9, max_features=log2, score=0.842814 -   1.5s\n",
      "[CV] min_samples_leaf=2, max_depth=9, max_features=None ..............\n",
      "[CV]  min_samples_leaf=8, max_depth=9, max_features=log2, score=0.843239 -   1.7s\n",
      "[CV] min_samples_leaf=2, max_depth=9, max_features=None ..............\n",
      "[CV]  min_samples_leaf=8, max_depth=9, max_features=log2, score=0.839092 -   1.7s\n",
      "[CV] min_samples_leaf=2, max_depth=9, max_features=None ..............\n",
      "[CV]  min_samples_leaf=2, max_depth=9, max_features=None, score=0.840716 -   4.2s\n",
      "[CV] min_samples_leaf=2, max_depth=9, max_features=None ..............\n",
      "[CV]  min_samples_leaf=2, max_depth=9, max_features=None, score=0.844571 -   4.2s\n",
      "[CV] min_samples_leaf=5, max_depth=9, max_features=None ..............\n",
      "[CV]  min_samples_leaf=2, max_depth=9, max_features=None, score=0.842523 -   4.2s\n",
      "[CV] min_samples_leaf=5, max_depth=9, max_features=None ..............\n",
      "[CV]  min_samples_leaf=2, max_depth=9, max_features=None, score=0.843239 -   4.1s\n",
      "[CV] min_samples_leaf=5, max_depth=9, max_features=None ..............\n",
      "[CV]  min_samples_leaf=2, max_depth=9, max_features=None, score=0.837637 -   4.3s\n",
      "[CV] min_samples_leaf=5, max_depth=9, max_features=None ..............\n",
      "[CV]  min_samples_leaf=5, max_depth=9, max_features=None, score=0.841952 -   4.1s\n",
      "[CV] min_samples_leaf=5, max_depth=9, max_features=None ..............\n",
      "[CV]  min_samples_leaf=5, max_depth=9, max_features=None, score=0.845080 -   4.2s\n",
      "[CV] min_samples_leaf=8, max_depth=9, max_features=None ..............\n",
      "[CV]  min_samples_leaf=5, max_depth=9, max_features=None, score=0.844341 -   4.1s\n",
      "[CV] min_samples_leaf=8, max_depth=9, max_features=None ..............\n",
      "[CV]  min_samples_leaf=5, max_depth=9, max_features=None, score=0.841493 -   3.8s\n",
      "[CV] min_samples_leaf=8, max_depth=9, max_features=None ..............\n",
      "[CV]  min_samples_leaf=5, max_depth=9, max_features=None, score=0.836837 -   3.9s\n",
      "[CV] min_samples_leaf=8, max_depth=9, max_features=None ..............\n",
      "[CV]  min_samples_leaf=8, max_depth=9, max_features=None, score=0.841879 -   3.8s\n",
      "[CV] min_samples_leaf=8, max_depth=9, max_features=None ..............\n",
      "[CV]  min_samples_leaf=8, max_depth=9, max_features=None, score=0.845952 -   3.7s\n",
      "[CV] min_samples_leaf=2, max_depth=12, max_features=auto .............\n",
      "[CV]  min_samples_leaf=2, max_depth=12, max_features=auto, score=0.842389 -   1.8s\n",
      "[CV] min_samples_leaf=2, max_depth=12, max_features=auto .............\n",
      "[CV]  min_samples_leaf=8, max_depth=9, max_features=None, score=0.843541 -   3.9s\n",
      "[CV] min_samples_leaf=2, max_depth=12, max_features=auto .............\n",
      "[CV]  min_samples_leaf=8, max_depth=9, max_features=None, score=0.841202 -   3.9s\n",
      "[CV] min_samples_leaf=2, max_depth=12, max_features=auto .............\n",
      "[CV]  min_samples_leaf=8, max_depth=9, max_features=None, score=0.840256 -   3.9s\n",
      "[CV] min_samples_leaf=2, max_depth=12, max_features=auto .............\n",
      "[CV]  min_samples_leaf=2, max_depth=12, max_features=auto, score=0.841879 -   1.8s\n",
      "[CV] min_samples_leaf=5, max_depth=12, max_features=auto .............\n",
      "[CV]  min_samples_leaf=2, max_depth=12, max_features=auto, score=0.843468 -   1.7s\n",
      "[CV] min_samples_leaf=5, max_depth=12, max_features=auto .............\n",
      "[CV]  min_samples_leaf=2, max_depth=12, max_features=auto, score=0.839092 -   1.8s\n",
      "[CV] min_samples_leaf=5, max_depth=12, max_features=auto .............\n",
      "[CV]  min_samples_leaf=2, max_depth=12, max_features=auto, score=0.836910 -   1.8s\n",
      "[CV] min_samples_leaf=5, max_depth=12, max_features=auto .............\n",
      "[CV]  min_samples_leaf=5, max_depth=12, max_features=auto, score=0.841298 -   1.8s\n",
      "[CV] min_samples_leaf=5, max_depth=12, max_features=auto .............\n",
      "[CV]  min_samples_leaf=5, max_depth=12, max_features=auto, score=0.846171 -   1.8s\n",
      "[CV] min_samples_leaf=8, max_depth=12, max_features=auto .............\n",
      "[CV]  min_samples_leaf=5, max_depth=12, max_features=auto, score=0.844414 -   1.8s\n",
      "[CV] min_samples_leaf=8, max_depth=12, max_features=auto .............\n",
      "[CV]  min_samples_leaf=5, max_depth=12, max_features=auto, score=0.843675 -   1.9s\n",
      "[CV] min_samples_leaf=8, max_depth=12, max_features=auto .............\n",
      "[CV]  min_samples_leaf=5, max_depth=12, max_features=auto, score=0.838728 -   1.8s\n",
      "[CV] min_samples_leaf=8, max_depth=12, max_features=auto .............\n",
      "[CV]  min_samples_leaf=8, max_depth=12, max_features=auto, score=0.844061 -   1.7s\n",
      "[CV] min_samples_leaf=8, max_depth=12, max_features=auto .............\n",
      "[CV]  min_samples_leaf=8, max_depth=12, max_features=auto, score=0.844571 -   1.5s\n",
      "[CV] min_samples_leaf=2, max_depth=12, max_features=log2 .............\n",
      "[CV]  min_samples_leaf=8, max_depth=12, max_features=auto, score=0.841431 -   1.3s\n",
      "[CV] min_samples_leaf=2, max_depth=12, max_features=log2 .............\n",
      "[CV]  min_samples_leaf=8, max_depth=12, max_features=auto, score=0.841565 -   1.4s\n",
      "[CV] min_samples_leaf=2, max_depth=12, max_features=log2 .............\n",
      "[CV]  min_samples_leaf=8, max_depth=12, max_features=auto, score=0.840983 -   1.4s\n",
      "[CV] min_samples_leaf=2, max_depth=12, max_features=log2 .............\n",
      "[CV]  min_samples_leaf=2, max_depth=12, max_features=log2, score=0.839188 -   1.4s\n",
      "[CV] min_samples_leaf=2, max_depth=12, max_features=log2 .............\n",
      "[CV]  min_samples_leaf=2, max_depth=12, max_features=log2, score=0.846462 -   1.4s\n",
      "[CV] min_samples_leaf=5, max_depth=12, max_features=log2 .............\n",
      "[CV]  min_samples_leaf=2, max_depth=12, max_features=log2, score=0.842668 -   1.4s\n",
      "[CV] min_samples_leaf=5, max_depth=12, max_features=log2 .............\n",
      "[CV]  min_samples_leaf=2, max_depth=12, max_features=log2, score=0.842075 -   1.4s\n",
      "[CV] min_samples_leaf=5, max_depth=12, max_features=log2 .............\n",
      "[CV]  min_samples_leaf=2, max_depth=12, max_features=log2, score=0.838437 -   1.4s\n",
      "[CV] min_samples_leaf=5, max_depth=12, max_features=log2 .............\n",
      "[CV]  min_samples_leaf=5, max_depth=12, max_features=log2, score=0.840788 -   1.4s\n",
      "[CV] min_samples_leaf=5, max_depth=12, max_features=log2 .............\n",
      "[CV]  min_samples_leaf=5, max_depth=12, max_features=log2, score=0.845152 -   1.4s\n",
      "[CV] min_samples_leaf=8, max_depth=12, max_features=log2 .............\n",
      "[CV]  min_samples_leaf=5, max_depth=12, max_features=log2, score=0.843395 -   1.5s\n",
      "[CV] min_samples_leaf=8, max_depth=12, max_features=log2 .............\n",
      "[CV]  min_samples_leaf=5, max_depth=12, max_features=log2, score=0.841274 -   1.4s\n",
      "[CV] min_samples_leaf=8, max_depth=12, max_features=log2 .............\n",
      "[CV]  min_samples_leaf=5, max_depth=12, max_features=log2, score=0.838147 -   1.4s\n",
      "[CV] min_samples_leaf=8, max_depth=12, max_features=log2 .............\n",
      "[CV]  min_samples_leaf=8, max_depth=12, max_features=log2, score=0.842025 -   1.3s\n",
      "[CV] min_samples_leaf=8, max_depth=12, max_features=log2 .............\n",
      "[CV]  min_samples_leaf=8, max_depth=12, max_features=log2, score=0.845298 -   1.4s\n",
      "[CV] min_samples_leaf=2, max_depth=12, max_features=None .............\n",
      "[CV]  min_samples_leaf=8, max_depth=12, max_features=log2, score=0.843323 -   1.3s\n",
      "[CV] min_samples_leaf=2, max_depth=12, max_features=None .............\n",
      "[CV]  min_samples_leaf=8, max_depth=12, max_features=log2, score=0.841274 -   1.5s\n",
      "[CV] min_samples_leaf=2, max_depth=12, max_features=None .............\n",
      "[CV]  min_samples_leaf=8, max_depth=12, max_features=log2, score=0.840111 -   1.5s\n",
      "[CV] min_samples_leaf=2, max_depth=12, max_features=None .............\n"
     ]
    },
    {
     "name": "stderr",
     "output_type": "stream",
     "text": [
      "[Parallel(n_jobs=-1)]: Done 120 tasks      | elapsed:   59.9s\n"
     ]
    },
    {
     "name": "stdout",
     "output_type": "stream",
     "text": [
      "[CV]  min_samples_leaf=2, max_depth=12, max_features=None, score=0.840061 -   3.7s\n",
      "[CV] min_samples_leaf=2, max_depth=12, max_features=None .............\n",
      "[CV]  min_samples_leaf=2, max_depth=12, max_features=None, score=0.843552 -   3.7s\n",
      "[CV] min_samples_leaf=5, max_depth=12, max_features=None .............\n",
      "[CV]  min_samples_leaf=2, max_depth=12, max_features=None, score=0.843468 -   3.5s\n",
      "[CV] min_samples_leaf=5, max_depth=12, max_features=None .............\n",
      "[CV]  min_samples_leaf=2, max_depth=12, max_features=None, score=0.841929 -   3.4s\n",
      "[CV] min_samples_leaf=5, max_depth=12, max_features=None .............\n",
      "[CV]  min_samples_leaf=2, max_depth=12, max_features=None, score=0.836764 -   3.5s\n",
      "[CV] min_samples_leaf=5, max_depth=12, max_features=None .............\n",
      "[CV]  min_samples_leaf=5, max_depth=12, max_features=None, score=0.840497 -   3.4s\n",
      "[CV] min_samples_leaf=5, max_depth=12, max_features=None .............\n",
      "[CV]  min_samples_leaf=5, max_depth=12, max_features=None, score=0.846098 -   3.3s\n",
      "[CV] min_samples_leaf=8, max_depth=12, max_features=None .............\n",
      "[CV]  min_samples_leaf=5, max_depth=12, max_features=None, score=0.845214 -   3.3s\n",
      "[CV] min_samples_leaf=8, max_depth=12, max_features=None .............\n",
      "[CV]  min_samples_leaf=5, max_depth=12, max_features=None, score=0.836546 -   3.2s\n",
      "[CV] min_samples_leaf=8, max_depth=12, max_features=None .............\n",
      "[CV]  min_samples_leaf=5, max_depth=12, max_features=None, score=0.839747 -   3.4s\n",
      "[CV] min_samples_leaf=8, max_depth=12, max_features=None .............\n",
      "[CV]  min_samples_leaf=8, max_depth=12, max_features=None, score=0.841225 -   3.2s\n",
      "[CV] min_samples_leaf=8, max_depth=12, max_features=None .............\n",
      "[CV]  min_samples_leaf=8, max_depth=12, max_features=None, score=0.845589 -   3.2s\n",
      "[CV]  min_samples_leaf=8, max_depth=12, max_features=None, score=0.843977 -   2.7s\n",
      "[CV]  min_samples_leaf=8, max_depth=12, max_features=None, score=0.840474 -   2.7s\n",
      "[CV]  min_samples_leaf=8, max_depth=12, max_features=None, score=0.838219 -   2.5s\n"
     ]
    },
    {
     "name": "stderr",
     "output_type": "stream",
     "text": [
      "[Parallel(n_jobs=-1)]: Done 135 out of 135 | elapsed:  1.2min finished\n"
     ]
    },
    {
     "name": "stdout",
     "output_type": "stream",
     "text": [
      "recall \n",
      "\n",
      "Fitting 5 folds for each of 27 candidates, totalling 135 fits\n",
      "[CV] min_samples_leaf=2, max_depth=6, max_features=auto ..............\n",
      "[CV] min_samples_leaf=2, max_depth=6, max_features=auto ..............\n",
      "[CV] min_samples_leaf=2, max_depth=6, max_features=auto ..............\n",
      "[CV] min_samples_leaf=2, max_depth=6, max_features=auto ..............\n",
      "[CV]  min_samples_leaf=2, max_depth=6, max_features=auto, score=0.769507 -   0.9s\n",
      "[CV]  min_samples_leaf=2, max_depth=6, max_features=auto, score=0.759619 -   0.9s\n",
      "[CV] min_samples_leaf=2, max_depth=6, max_features=auto ..............\n",
      "[CV]  min_samples_leaf=2, max_depth=6, max_features=auto, score=0.764791 -   0.8s\n",
      "[CV]  min_samples_leaf=2, max_depth=6, max_features=auto, score=0.768069 -   0.9s\n",
      "[CV] min_samples_leaf=5, max_depth=6, max_features=auto ..............\n",
      "[CV] min_samples_leaf=5, max_depth=6, max_features=auto ..............\n",
      "[CV] min_samples_leaf=5, max_depth=6, max_features=auto ..............\n",
      "[CV]  min_samples_leaf=2, max_depth=6, max_features=auto, score=0.755799 -   0.9s\n",
      "[CV]  min_samples_leaf=5, max_depth=6, max_features=auto, score=0.757102 -   0.8s\n",
      "[CV] min_samples_leaf=5, max_depth=6, max_features=auto ..............\n",
      "[CV]  min_samples_leaf=5, max_depth=6, max_features=auto, score=0.760698 -   0.8s\n",
      "[CV]  min_samples_leaf=5, max_depth=6, max_features=auto, score=0.752427 -   0.8s\n",
      "[CV] min_samples_leaf=5, max_depth=6, max_features=auto ..............\n",
      "[CV] min_samples_leaf=8, max_depth=6, max_features=auto ..............\n",
      "[CV] min_samples_leaf=8, max_depth=6, max_features=auto ..............\n",
      "[CV]  min_samples_leaf=5, max_depth=6, max_features=auto, score=0.772883 -   0.9s\n",
      "[CV] min_samples_leaf=8, max_depth=6, max_features=auto ..............\n",
      "[CV]  min_samples_leaf=8, max_depth=6, max_features=auto, score=0.772204 -   0.8s\n",
      "[CV]  min_samples_leaf=8, max_depth=6, max_features=auto, score=0.758360 -   0.9s\n",
      "[CV]  min_samples_leaf=5, max_depth=6, max_features=auto, score=0.764791 -   0.9s\n",
      "[CV] min_samples_leaf=8, max_depth=6, max_features=auto ..............\n",
      "[CV] min_samples_leaf=8, max_depth=6, max_features=auto ..............\n",
      "[CV] min_samples_leaf=2, max_depth=6, max_features=log2 ..............\n",
      "[CV]  min_samples_leaf=8, max_depth=6, max_features=auto, score=0.763394 -   0.9s\n",
      "[CV] min_samples_leaf=2, max_depth=6, max_features=log2 ..............\n",
      "[CV]  min_samples_leaf=8, max_depth=6, max_features=auto, score=0.761554 -   0.8s\n",
      "[CV] min_samples_leaf=2, max_depth=6, max_features=log2 ..............\n",
      "[CV]  min_samples_leaf=2, max_depth=6, max_features=log2, score=0.755663 -   0.9s\n",
      "[CV]  min_samples_leaf=8, max_depth=6, max_features=auto, score=0.774141 -   0.9s\n",
      "[CV] min_samples_leaf=2, max_depth=6, max_features=log2 ..............\n",
      "[CV] min_samples_leaf=2, max_depth=6, max_features=log2 ..............\n",
      "[CV]  min_samples_leaf=2, max_depth=6, max_features=log2, score=0.762136 -   0.9s\n",
      "[CV] min_samples_leaf=5, max_depth=6, max_features=log2 ..............\n",
      "[CV]  min_samples_leaf=2, max_depth=6, max_features=log2, score=0.752562 -   0.8s\n",
      "[CV] min_samples_leaf=5, max_depth=6, max_features=log2 ..............\n",
      "[CV]  min_samples_leaf=2, max_depth=6, max_features=log2, score=0.760338 -   0.9s\n",
      "[CV] min_samples_leaf=5, max_depth=6, max_features=log2 ..............\n",
      "[CV]  min_samples_leaf=2, max_depth=6, max_features=log2, score=0.762273 -   0.9s\n",
      "[CV] min_samples_leaf=5, max_depth=6, max_features=log2 ..............\n",
      "[CV]  min_samples_leaf=5, max_depth=6, max_features=log2, score=0.767889 -   0.8s\n",
      "[CV] min_samples_leaf=5, max_depth=6, max_features=log2 ..............\n",
      "[CV]  min_samples_leaf=5, max_depth=6, max_features=log2, score=0.759799 -   0.9s\n",
      "[CV]  min_samples_leaf=5, max_depth=6, max_features=log2, score=0.768968 -   0.9s\n",
      "[CV] min_samples_leaf=8, max_depth=6, max_features=log2 ..............\n",
      "[CV] min_samples_leaf=8, max_depth=6, max_features=log2 ..............\n",
      "[CV]  min_samples_leaf=5, max_depth=6, max_features=log2, score=0.772163 -   0.9s\n",
      "[CV] min_samples_leaf=8, max_depth=6, max_features=log2 ..............\n"
     ]
    },
    {
     "name": "stderr",
     "output_type": "stream",
     "text": [
      "[Parallel(n_jobs=-1)]: Done  24 tasks      | elapsed:    5.6s\n"
     ]
    },
    {
     "name": "stdout",
     "output_type": "stream",
     "text": [
      "[CV]  min_samples_leaf=5, max_depth=6, max_features=log2, score=0.766409 -   0.9s\n",
      "[CV] min_samples_leaf=8, max_depth=6, max_features=log2 ..............\n",
      "[CV]  min_samples_leaf=8, max_depth=6, max_features=log2, score=0.749910 -   0.9s\n",
      "[CV] min_samples_leaf=8, max_depth=6, max_features=log2 ..............\n",
      "[CV]  min_samples_leaf=8, max_depth=6, max_features=log2, score=0.768968 -   0.9s\n",
      "[CV] min_samples_leaf=2, max_depth=6, max_features=None ..............\n",
      "[CV]  min_samples_leaf=8, max_depth=6, max_features=log2, score=0.768069 -   0.9s\n",
      "[CV] min_samples_leaf=2, max_depth=6, max_features=None ..............\n",
      "[CV]  min_samples_leaf=8, max_depth=6, max_features=log2, score=0.762992 -   0.8s\n",
      "[CV]  min_samples_leaf=8, max_depth=6, max_features=log2, score=0.770905 -   0.9s\n",
      "[CV] min_samples_leaf=2, max_depth=6, max_features=None ..............\n",
      "[CV] min_samples_leaf=2, max_depth=6, max_features=None ..............\n",
      "[CV]  min_samples_leaf=2, max_depth=6, max_features=None, score=0.775440 -   2.1s\n",
      "[CV]  min_samples_leaf=2, max_depth=6, max_features=None, score=0.761956 -   2.1s\n",
      "[CV] min_samples_leaf=2, max_depth=6, max_features=None ..............\n",
      "[CV] min_samples_leaf=5, max_depth=6, max_features=None ..............\n",
      "[CV]  min_samples_leaf=2, max_depth=6, max_features=None, score=0.768608 -   2.1s\n",
      "[CV] min_samples_leaf=5, max_depth=6, max_features=None ..............\n",
      "[CV]  min_samples_leaf=2, max_depth=6, max_features=None, score=0.774321 -   2.1s\n",
      "[CV] min_samples_leaf=5, max_depth=6, max_features=None ..............\n",
      "[CV]  min_samples_leaf=5, max_depth=6, max_features=None, score=0.763574 -   2.1s\n",
      "[CV] min_samples_leaf=5, max_depth=6, max_features=None ..............\n",
      "[CV]  min_samples_leaf=2, max_depth=6, max_features=None, score=0.768207 -   2.2s\n",
      "[CV] min_samples_leaf=5, max_depth=6, max_features=None ..............\n",
      "[CV]  min_samples_leaf=5, max_depth=6, max_features=None, score=0.771845 -   2.0s\n",
      "[CV] min_samples_leaf=8, max_depth=6, max_features=None ..............\n",
      "[CV]  min_samples_leaf=5, max_depth=6, max_features=None, score=0.773643 -   2.1s\n",
      "[CV] min_samples_leaf=8, max_depth=6, max_features=None ..............\n",
      "[CV]  min_samples_leaf=5, max_depth=6, max_features=None, score=0.774861 -   2.2s\n",
      "[CV] min_samples_leaf=8, max_depth=6, max_features=None ..............\n",
      "[CV]  min_samples_leaf=5, max_depth=6, max_features=None, score=0.763712 -   2.2s\n",
      "[CV] min_samples_leaf=8, max_depth=6, max_features=None ..............\n",
      "[CV]  min_samples_leaf=8, max_depth=6, max_features=None, score=0.777238 -   2.2s\n",
      "[CV]  min_samples_leaf=8, max_depth=6, max_features=None, score=0.762675 -   2.3s\n",
      "[CV] min_samples_leaf=8, max_depth=6, max_features=None ..............\n",
      "[CV] min_samples_leaf=2, max_depth=9, max_features=auto ..............\n",
      "[CV]  min_samples_leaf=2, max_depth=9, max_features=auto, score=0.771665 -   1.1s\n",
      "[CV] min_samples_leaf=2, max_depth=9, max_features=auto ..............\n",
      "[CV]  min_samples_leaf=8, max_depth=6, max_features=None, score=0.771485 -   2.2s\n",
      "[CV] min_samples_leaf=2, max_depth=9, max_features=auto ..............\n",
      "[CV]  min_samples_leaf=8, max_depth=6, max_features=None, score=0.778097 -   2.3s\n",
      "[CV] min_samples_leaf=2, max_depth=9, max_features=auto ..............\n",
      "[CV]  min_samples_leaf=8, max_depth=6, max_features=None, score=0.769286 -   2.2s\n",
      "[CV] min_samples_leaf=2, max_depth=9, max_features=auto ..............\n",
      "[CV]  min_samples_leaf=2, max_depth=9, max_features=auto, score=0.788026 -   1.1s\n",
      "[CV] min_samples_leaf=5, max_depth=9, max_features=auto ..............\n",
      "[CV]  min_samples_leaf=2, max_depth=9, max_features=auto, score=0.784969 -   1.2s\n",
      "[CV] min_samples_leaf=5, max_depth=9, max_features=auto ..............\n",
      "[CV]  min_samples_leaf=2, max_depth=9, max_features=auto, score=0.781874 -   1.2s\n",
      "[CV] min_samples_leaf=5, max_depth=9, max_features=auto ..............\n",
      "[CV]  min_samples_leaf=2, max_depth=9, max_features=auto, score=0.775760 -   1.2s\n",
      "[CV] min_samples_leaf=5, max_depth=9, max_features=auto ..............\n",
      "[CV]  min_samples_leaf=5, max_depth=9, max_features=auto, score=0.766990 -   1.1s\n",
      "[CV] min_samples_leaf=5, max_depth=9, max_features=auto ..............\n",
      "[CV]  min_samples_leaf=5, max_depth=9, max_features=auto, score=0.782632 -   1.1s\n",
      "[CV] min_samples_leaf=8, max_depth=9, max_features=auto ..............\n",
      "[CV]  min_samples_leaf=5, max_depth=9, max_features=auto, score=0.778857 -   1.2s\n",
      "[CV] min_samples_leaf=8, max_depth=9, max_features=auto ..............\n",
      "[CV]  min_samples_leaf=5, max_depth=9, max_features=auto, score=0.777738 -   1.1s\n",
      "[CV] min_samples_leaf=8, max_depth=9, max_features=auto ..............\n",
      "[CV]  min_samples_leaf=5, max_depth=9, max_features=auto, score=0.772343 -   1.1s\n",
      "[CV] min_samples_leaf=8, max_depth=9, max_features=auto ..............\n",
      "[CV]  min_samples_leaf=8, max_depth=9, max_features=auto, score=0.765372 -   1.1s\n",
      "[CV] min_samples_leaf=8, max_depth=9, max_features=auto ..............\n",
      "[CV]  min_samples_leaf=8, max_depth=9, max_features=auto, score=0.784250 -   1.2s\n",
      "[CV] min_samples_leaf=2, max_depth=9, max_features=log2 ..............\n",
      "[CV]  min_samples_leaf=8, max_depth=9, max_features=auto, score=0.777418 -   1.2s\n",
      "[CV] min_samples_leaf=2, max_depth=9, max_features=log2 ..............\n",
      "[CV]  min_samples_leaf=8, max_depth=9, max_features=auto, score=0.777198 -   1.1s\n",
      "[CV] min_samples_leaf=2, max_depth=9, max_features=log2 ..............\n",
      "[CV]  min_samples_leaf=8, max_depth=9, max_features=auto, score=0.775220 -   1.1s\n",
      "[CV] min_samples_leaf=2, max_depth=9, max_features=log2 ..............\n",
      "[CV]  min_samples_leaf=2, max_depth=9, max_features=log2, score=0.772744 -   1.1s\n",
      "[CV] min_samples_leaf=2, max_depth=9, max_features=log2 ..............\n",
      "[CV]  min_samples_leaf=2, max_depth=9, max_features=log2, score=0.779216 -   1.1s\n",
      "[CV] min_samples_leaf=5, max_depth=9, max_features=log2 ..............\n",
      "[CV]  min_samples_leaf=2, max_depth=9, max_features=log2, score=0.771125 -   1.2s\n",
      "[CV] min_samples_leaf=5, max_depth=9, max_features=log2 ..............\n",
      "[CV]  min_samples_leaf=2, max_depth=9, max_features=log2, score=0.783133 -   1.1s\n",
      "[CV] min_samples_leaf=5, max_depth=9, max_features=log2 ..............\n",
      "[CV]  min_samples_leaf=2, max_depth=9, max_features=log2, score=0.775760 -   1.1s\n",
      "[CV] min_samples_leaf=5, max_depth=9, max_features=log2 ..............\n",
      "[CV]  min_samples_leaf=5, max_depth=9, max_features=log2, score=0.765912 -   1.2s\n",
      "[CV]  min_samples_leaf=5, max_depth=9, max_features=log2, score=0.779935 -   1.1s\n",
      "[CV] min_samples_leaf=8, max_depth=9, max_features=log2 ..............\n",
      "[CV] min_samples_leaf=5, max_depth=9, max_features=log2 ..............\n",
      "[CV]  min_samples_leaf=5, max_depth=9, max_features=log2, score=0.776519 -   1.2s\n",
      "[CV] min_samples_leaf=8, max_depth=9, max_features=log2 ..............\n",
      "[CV]  min_samples_leaf=5, max_depth=9, max_features=log2, score=0.773782 -   1.1s\n",
      "[CV] min_samples_leaf=8, max_depth=9, max_features=log2 ..............\n",
      "[CV]  min_samples_leaf=5, max_depth=9, max_features=log2, score=0.775580 -   1.2s\n",
      "[CV] min_samples_leaf=8, max_depth=9, max_features=log2 ..............\n",
      "[CV]  min_samples_leaf=8, max_depth=9, max_features=log2, score=0.767709 -   1.2s\n",
      "[CV] min_samples_leaf=8, max_depth=9, max_features=log2 ..............\n",
      "[CV]  min_samples_leaf=8, max_depth=9, max_features=log2, score=0.778677 -   1.2s\n",
      "[CV] min_samples_leaf=2, max_depth=9, max_features=None ..............\n",
      "[CV]  min_samples_leaf=8, max_depth=9, max_features=log2, score=0.783531 -   1.0s\n",
      "[CV] min_samples_leaf=2, max_depth=9, max_features=None ..............\n",
      "[CV]  min_samples_leaf=8, max_depth=9, max_features=log2, score=0.782054 -   1.1s\n",
      "[CV] min_samples_leaf=2, max_depth=9, max_features=None ..............\n",
      "[CV]  min_samples_leaf=8, max_depth=9, max_features=log2, score=0.775580 -   1.1s\n",
      "[CV] min_samples_leaf=2, max_depth=9, max_features=None ..............\n",
      "[CV]  min_samples_leaf=2, max_depth=9, max_features=None, score=0.777778 -   2.9s\n",
      "[CV] min_samples_leaf=2, max_depth=9, max_features=None ..............\n",
      "[CV]  min_samples_leaf=2, max_depth=9, max_features=None, score=0.790903 -   2.8s\n",
      "[CV] min_samples_leaf=5, max_depth=9, max_features=None ..............\n",
      "[CV]  min_samples_leaf=2, max_depth=9, max_features=None, score=0.789824 -   2.7s\n",
      "[CV] min_samples_leaf=5, max_depth=9, max_features=None ..............\n",
      "[CV]  min_samples_leaf=2, max_depth=9, max_features=None, score=0.783852 -   2.8s\n",
      "[CV] min_samples_leaf=5, max_depth=9, max_features=None ..............\n",
      "[CV]  min_samples_leaf=2, max_depth=9, max_features=None, score=0.778817 -   2.8s\n",
      "[CV] min_samples_leaf=5, max_depth=9, max_features=None ..............\n",
      "[CV]  min_samples_leaf=5, max_depth=9, max_features=None, score=0.780295 -   2.9s\n",
      "[CV] min_samples_leaf=5, max_depth=9, max_features=None ..............\n",
      "[CV]  min_samples_leaf=5, max_depth=9, max_features=None, score=0.784969 -   3.0s\n",
      "[CV] min_samples_leaf=8, max_depth=9, max_features=None ..............\n",
      "[CV]  min_samples_leaf=5, max_depth=9, max_features=None, score=0.786408 -   3.2s\n",
      "[CV] min_samples_leaf=8, max_depth=9, max_features=None ..............\n",
      "[CV]  min_samples_leaf=5, max_depth=9, max_features=None, score=0.777198 -   3.3s\n",
      "[CV] min_samples_leaf=8, max_depth=9, max_features=None ..............\n",
      "[CV]  min_samples_leaf=5, max_depth=9, max_features=None, score=0.785290 -   3.6s\n",
      "[CV] min_samples_leaf=8, max_depth=9, max_features=None ..............\n",
      "[CV]  min_samples_leaf=8, max_depth=9, max_features=None, score=0.775800 -   3.5s\n",
      "[CV] min_samples_leaf=8, max_depth=9, max_features=None ..............\n",
      "[CV]  min_samples_leaf=8, max_depth=9, max_features=None, score=0.788565 -   3.4s\n",
      "[CV] min_samples_leaf=2, max_depth=12, max_features=auto .............\n",
      "[CV]  min_samples_leaf=2, max_depth=12, max_features=auto, score=0.772564 -   1.4s\n",
      "[CV] min_samples_leaf=2, max_depth=12, max_features=auto .............\n",
      "[CV]  min_samples_leaf=8, max_depth=9, max_features=None, score=0.783531 -   3.1s\n",
      "[CV]  min_samples_leaf=8, max_depth=9, max_features=None, score=0.791404 -   3.0s\n",
      "[CV] min_samples_leaf=2, max_depth=12, max_features=auto .............\n",
      "[CV] min_samples_leaf=2, max_depth=12, max_features=auto .............\n",
      "[CV]  min_samples_leaf=8, max_depth=9, max_features=None, score=0.779716 -   3.3s\n",
      "[CV] min_samples_leaf=2, max_depth=12, max_features=auto .............\n",
      "[CV]  min_samples_leaf=2, max_depth=12, max_features=auto, score=0.785509 -   1.7s\n",
      "[CV] min_samples_leaf=5, max_depth=12, max_features=auto .............\n",
      "[CV]  min_samples_leaf=2, max_depth=12, max_features=auto, score=0.781913 -   1.7s\n",
      "[CV] min_samples_leaf=5, max_depth=12, max_features=auto .............\n",
      "[CV]  min_samples_leaf=2, max_depth=12, max_features=auto, score=0.784571 -   1.8s\n",
      "[CV] min_samples_leaf=5, max_depth=12, max_features=auto .............\n",
      "[CV]  min_samples_leaf=2, max_depth=12, max_features=auto, score=0.776839 -   1.7s\n",
      "[CV] min_samples_leaf=5, max_depth=12, max_features=auto .............\n",
      "[CV]  min_samples_leaf=5, max_depth=12, max_features=auto, score=0.775980 -   1.7s\n",
      "[CV] min_samples_leaf=5, max_depth=12, max_features=auto .............\n",
      "[CV]  min_samples_leaf=5, max_depth=12, max_features=auto, score=0.790543 -   1.7s\n",
      "[CV] min_samples_leaf=8, max_depth=12, max_features=auto .............\n",
      "[CV]  min_samples_leaf=5, max_depth=12, max_features=auto, score=0.782093 -   1.8s\n",
      "[CV] min_samples_leaf=8, max_depth=12, max_features=auto .............\n",
      "[CV]  min_samples_leaf=5, max_depth=12, max_features=auto, score=0.786549 -   1.8s\n",
      "[CV] min_samples_leaf=8, max_depth=12, max_features=auto .............\n",
      "[CV]  min_samples_leaf=5, max_depth=12, max_features=auto, score=0.782233 -   1.8s\n",
      "[CV] min_samples_leaf=8, max_depth=12, max_features=auto .............\n",
      "[CV]  min_samples_leaf=8, max_depth=12, max_features=auto, score=0.777598 -   1.9s\n",
      "[CV] min_samples_leaf=8, max_depth=12, max_features=auto .............\n",
      "[CV]  min_samples_leaf=8, max_depth=12, max_features=auto, score=0.790183 -   2.0s\n",
      "[CV] min_samples_leaf=2, max_depth=12, max_features=log2 .............\n",
      "[CV]  min_samples_leaf=8, max_depth=12, max_features=auto, score=0.784430 -   2.2s\n",
      "[CV] min_samples_leaf=2, max_depth=12, max_features=log2 .............\n",
      "[CV]  min_samples_leaf=8, max_depth=12, max_features=auto, score=0.780435 -   2.2s\n",
      "[CV] min_samples_leaf=2, max_depth=12, max_features=log2 .............\n",
      "[CV]  min_samples_leaf=8, max_depth=12, max_features=auto, score=0.775400 -   2.1s\n",
      "[CV] min_samples_leaf=2, max_depth=12, max_features=log2 .............\n",
      "[CV]  min_samples_leaf=2, max_depth=12, max_features=log2, score=0.777778 -   2.1s\n",
      "[CV] min_samples_leaf=2, max_depth=12, max_features=log2 .............\n",
      "[CV]  min_samples_leaf=2, max_depth=12, max_features=log2, score=0.785509 -   1.9s\n",
      "[CV]  min_samples_leaf=2, max_depth=12, max_features=log2, score=0.784610 -   1.9s\n",
      "[CV] min_samples_leaf=5, max_depth=12, max_features=log2 .............\n",
      "[CV] min_samples_leaf=5, max_depth=12, max_features=log2 .............\n",
      "[CV]  min_samples_leaf=2, max_depth=12, max_features=log2, score=0.789067 -   1.9s\n",
      "[CV] min_samples_leaf=5, max_depth=12, max_features=log2 .............\n",
      "[CV]  min_samples_leaf=2, max_depth=12, max_features=log2, score=0.773422 -   1.9s\n",
      "[CV] min_samples_leaf=5, max_depth=12, max_features=log2 .............\n",
      "[CV]  min_samples_leaf=5, max_depth=12, max_features=log2, score=0.774901 -   1.8s\n",
      "[CV] min_samples_leaf=5, max_depth=12, max_features=log2 .............\n",
      "[CV]  min_samples_leaf=5, max_depth=12, max_features=log2, score=0.788385 -   1.8s\n",
      "[CV] min_samples_leaf=8, max_depth=12, max_features=log2 .............\n",
      "[CV]  min_samples_leaf=5, max_depth=12, max_features=log2, score=0.783711 -   1.8s\n",
      "[CV] min_samples_leaf=8, max_depth=12, max_features=log2 .............\n",
      "[CV]  min_samples_leaf=5, max_depth=12, max_features=log2, score=0.785470 -   1.9s\n",
      "[CV] min_samples_leaf=8, max_depth=12, max_features=log2 .............\n",
      "[CV]  min_samples_leaf=8, max_depth=12, max_features=log2, score=0.771305 -   1.8s\n",
      "[CV]  min_samples_leaf=5, max_depth=12, max_features=log2, score=0.773782 -   1.9s\n",
      "[CV] min_samples_leaf=8, max_depth=12, max_features=log2 .............\n",
      "[CV] min_samples_leaf=8, max_depth=12, max_features=log2 .............\n",
      "[CV]  min_samples_leaf=8, max_depth=12, max_features=log2, score=0.787846 -   1.8s\n",
      "[CV] min_samples_leaf=2, max_depth=12, max_features=None .............\n",
      "[CV]  min_samples_leaf=8, max_depth=12, max_features=log2, score=0.786947 -   1.8s\n",
      "[CV] min_samples_leaf=2, max_depth=12, max_features=None .............\n",
      "[CV]  min_samples_leaf=8, max_depth=12, max_features=log2, score=0.775940 -   1.8s\n",
      "[CV]  min_samples_leaf=8, max_depth=12, max_features=log2, score=0.788168 -   1.8s\n",
      "[CV] min_samples_leaf=2, max_depth=12, max_features=None .............\n",
      "[CV] min_samples_leaf=2, max_depth=12, max_features=None .............\n"
     ]
    },
    {
     "name": "stderr",
     "output_type": "stream",
     "text": [
      "[Parallel(n_jobs=-1)]: Done 120 tasks      | elapsed:   50.6s\n"
     ]
    },
    {
     "name": "stdout",
     "output_type": "stream",
     "text": [
      "[CV]  min_samples_leaf=2, max_depth=12, max_features=None, score=0.779576 -   5.6s\n",
      "[CV] min_samples_leaf=2, max_depth=12, max_features=None .............\n",
      "[CV]  min_samples_leaf=2, max_depth=12, max_features=None, score=0.792700 -   5.7s\n",
      "[CV] min_samples_leaf=5, max_depth=12, max_features=None .............\n",
      "[CV]  min_samples_leaf=2, max_depth=12, max_features=None, score=0.794821 -   5.6s\n",
      "[CV]  min_samples_leaf=2, max_depth=12, max_features=None, score=0.790543 -   5.7s\n",
      "[CV] min_samples_leaf=5, max_depth=12, max_features=None .............\n",
      "[CV] min_samples_leaf=5, max_depth=12, max_features=None .............\n",
      "[CV]  min_samples_leaf=2, max_depth=12, max_features=None, score=0.776299 -   4.7s\n",
      "[CV] min_samples_leaf=5, max_depth=12, max_features=None .............\n",
      "[CV]  min_samples_leaf=5, max_depth=12, max_features=None, score=0.779216 -   4.7s\n",
      "[CV] min_samples_leaf=5, max_depth=12, max_features=None .............\n",
      "[CV]  min_samples_leaf=5, max_depth=12, max_features=None, score=0.793599 -   4.3s\n",
      "[CV] min_samples_leaf=8, max_depth=12, max_features=None .............\n",
      "[CV]  min_samples_leaf=5, max_depth=12, max_features=None, score=0.787666 -   4.3s\n",
      "[CV] min_samples_leaf=8, max_depth=12, max_features=None .............\n",
      "[CV]  min_samples_leaf=5, max_depth=12, max_features=None, score=0.787268 -   4.5s\n",
      "[CV] min_samples_leaf=8, max_depth=12, max_features=None .............\n",
      "[CV]  min_samples_leaf=5, max_depth=12, max_features=None, score=0.779716 -   4.5s\n",
      "[CV] min_samples_leaf=8, max_depth=12, max_features=None .............\n",
      "[CV]  min_samples_leaf=8, max_depth=12, max_features=None, score=0.792341 -   4.3s\n",
      "[CV] min_samples_leaf=8, max_depth=12, max_features=None .............\n",
      "[CV]  min_samples_leaf=8, max_depth=12, max_features=None, score=0.781374 -   4.4s\n",
      "[CV]  min_samples_leaf=8, max_depth=12, max_features=None, score=0.789644 -   2.8s\n",
      "[CV]  min_samples_leaf=8, max_depth=12, max_features=None, score=0.788527 -   2.7s\n",
      "[CV]  min_samples_leaf=8, max_depth=12, max_features=None, score=0.779356 -   2.4s\n"
     ]
    },
    {
     "name": "stderr",
     "output_type": "stream",
     "text": [
      "[Parallel(n_jobs=-1)]: Done 135 out of 135 | elapsed:  1.1min finished\n"
     ]
    },
    {
     "name": "stdout",
     "output_type": "stream",
     "text": [
      "precision \n",
      "\n",
      "Fitting 5 folds for each of 27 candidates, totalling 135 fits\n",
      "[CV] min_samples_leaf=2, max_depth=6, max_features=auto ..............\n",
      "[CV] min_samples_leaf=2, max_depth=6, max_features=auto ..............\n",
      "[CV] min_samples_leaf=2, max_depth=6, max_features=auto ..............\n",
      "[CV] min_samples_leaf=2, max_depth=6, max_features=auto ..............\n",
      "[CV]  min_samples_leaf=2, max_depth=6, max_features=auto, score=0.820777 -   0.8s\n",
      "[CV] min_samples_leaf=2, max_depth=6, max_features=auto ..............\n",
      "[CV]  min_samples_leaf=2, max_depth=6, max_features=auto, score=0.823691 -   0.9s\n",
      "[CV] min_samples_leaf=5, max_depth=6, max_features=auto ..............\n",
      "[CV]  min_samples_leaf=2, max_depth=6, max_features=auto, score=0.826555 -   0.9s\n",
      "[CV] min_samples_leaf=5, max_depth=6, max_features=auto ..............\n",
      "[CV]  min_samples_leaf=2, max_depth=6, max_features=auto, score=0.818129 -   0.9s\n",
      "[CV] min_samples_leaf=5, max_depth=6, max_features=auto ..............\n",
      "[CV]  min_samples_leaf=2, max_depth=6, max_features=auto, score=0.815467 -   0.9s\n",
      "[CV] min_samples_leaf=5, max_depth=6, max_features=auto ..............\n",
      "[CV]  min_samples_leaf=5, max_depth=6, max_features=auto, score=0.820468 -   0.8s\n",
      "[CV] min_samples_leaf=5, max_depth=6, max_features=auto ..............\n",
      "[CV]  min_samples_leaf=5, max_depth=6, max_features=auto, score=0.813518 -   0.8s\n",
      "[CV] min_samples_leaf=8, max_depth=6, max_features=auto ..............\n",
      "[CV]  min_samples_leaf=5, max_depth=6, max_features=auto, score=0.821682 -   0.9s\n",
      "[CV] min_samples_leaf=8, max_depth=6, max_features=auto ..............\n",
      "[CV]  min_samples_leaf=5, max_depth=6, max_features=auto, score=0.813980 -   1.0s\n",
      "[CV]  min_samples_leaf=5, max_depth=6, max_features=auto, score=0.818234 -   1.1s\n",
      "[CV] min_samples_leaf=8, max_depth=6, max_features=auto ..............\n",
      "[CV] min_samples_leaf=8, max_depth=6, max_features=auto ..............\n",
      "[CV]  min_samples_leaf=8, max_depth=6, max_features=auto, score=0.821149 -   1.1s\n",
      "[CV] min_samples_leaf=8, max_depth=6, max_features=auto ..............\n",
      "[CV]  min_samples_leaf=8, max_depth=6, max_features=auto, score=0.821649 -   1.1s\n",
      "[CV] min_samples_leaf=2, max_depth=6, max_features=log2 ..............\n",
      "[CV]  min_samples_leaf=8, max_depth=6, max_features=auto, score=0.823050 -   1.2s\n",
      "[CV] min_samples_leaf=2, max_depth=6, max_features=log2 ..............\n",
      "[CV]  min_samples_leaf=8, max_depth=6, max_features=auto, score=0.829426 -   1.3s\n",
      "[CV] min_samples_leaf=2, max_depth=6, max_features=log2 ..............\n",
      "[CV]  min_samples_leaf=8, max_depth=6, max_features=auto, score=0.823321 -   1.3s\n",
      "[CV] min_samples_leaf=2, max_depth=6, max_features=log2 ..............\n",
      "[CV]  min_samples_leaf=2, max_depth=6, max_features=log2, score=0.826318 -   1.2s\n",
      "[CV] min_samples_leaf=2, max_depth=6, max_features=log2 ..............\n",
      "[CV]  min_samples_leaf=2, max_depth=6, max_features=log2, score=0.823450 -   1.0s\n",
      "[CV]  min_samples_leaf=2, max_depth=6, max_features=log2, score=0.825198 -   1.0s\n",
      "[CV] min_samples_leaf=5, max_depth=6, max_features=log2 ..............\n",
      "[CV] min_samples_leaf=5, max_depth=6, max_features=log2 ..............\n",
      "[CV]  min_samples_leaf=2, max_depth=6, max_features=log2, score=0.819434 -   1.0s\n",
      "[CV]  min_samples_leaf=2, max_depth=6, max_features=log2, score=0.814541 -   1.0s\n",
      "[CV] min_samples_leaf=5, max_depth=6, max_features=log2 ..............\n",
      "[CV] min_samples_leaf=5, max_depth=6, max_features=log2 ..............\n",
      "[CV]  min_samples_leaf=5, max_depth=6, max_features=log2, score=0.823367 -   1.0s\n",
      "[CV]  min_samples_leaf=5, max_depth=6, max_features=log2, score=0.822162 -   1.0s\n",
      "[CV] min_samples_leaf=5, max_depth=6, max_features=log2 ..............\n",
      "[CV] min_samples_leaf=8, max_depth=6, max_features=log2 ..............\n",
      "[CV]  min_samples_leaf=5, max_depth=6, max_features=log2, score=0.825978 -   1.0s\n",
      "[CV] min_samples_leaf=8, max_depth=6, max_features=log2 ..............\n",
      "[CV]  min_samples_leaf=5, max_depth=6, max_features=log2, score=0.813283 -   1.1s\n",
      "[CV] min_samples_leaf=8, max_depth=6, max_features=log2 ..............\n"
     ]
    },
    {
     "name": "stderr",
     "output_type": "stream",
     "text": [
      "[Parallel(n_jobs=-1)]: Done  24 tasks      | elapsed:    6.5s\n"
     ]
    },
    {
     "name": "stdout",
     "output_type": "stream",
     "text": [
      "[CV]  min_samples_leaf=5, max_depth=6, max_features=log2, score=0.813472 -   1.0s\n",
      "[CV]  min_samples_leaf=8, max_depth=6, max_features=log2, score=0.821960 -   1.0s\n",
      "[CV] min_samples_leaf=8, max_depth=6, max_features=log2 ..............\n",
      "[CV] min_samples_leaf=8, max_depth=6, max_features=log2 ..............\n",
      "[CV]  min_samples_leaf=8, max_depth=6, max_features=log2, score=0.821573 -   1.0s\n",
      "[CV] min_samples_leaf=2, max_depth=6, max_features=None ..............\n",
      "[CV]  min_samples_leaf=8, max_depth=6, max_features=log2, score=0.822398 -   0.9s\n",
      "[CV] min_samples_leaf=2, max_depth=6, max_features=None ..............\n",
      "[CV]  min_samples_leaf=8, max_depth=6, max_features=log2, score=0.815443 -   0.9s\n",
      "[CV] min_samples_leaf=2, max_depth=6, max_features=None ..............\n",
      "[CV]  min_samples_leaf=8, max_depth=6, max_features=log2, score=0.817969 -   0.9s\n",
      "[CV] min_samples_leaf=2, max_depth=6, max_features=None ..............\n",
      "[CV]  min_samples_leaf=2, max_depth=6, max_features=None, score=0.820362 -   2.1s\n",
      "[CV]  min_samples_leaf=2, max_depth=6, max_features=None, score=0.825749 -   2.2s\n",
      "[CV] min_samples_leaf=2, max_depth=6, max_features=None ..............\n",
      "[CV] min_samples_leaf=5, max_depth=6, max_features=None ..............\n",
      "[CV]  min_samples_leaf=2, max_depth=6, max_features=None, score=0.816717 -   2.0s\n",
      "[CV] min_samples_leaf=5, max_depth=6, max_features=None ..............\n",
      "[CV]  min_samples_leaf=2, max_depth=6, max_features=None, score=0.826590 -   2.1s\n",
      "[CV] min_samples_leaf=5, max_depth=6, max_features=None ..............\n",
      "[CV]  min_samples_leaf=5, max_depth=6, max_features=None, score=0.820104 -   2.0s\n",
      "[CV] min_samples_leaf=5, max_depth=6, max_features=None ..............\n",
      "[CV]  min_samples_leaf=2, max_depth=6, max_features=None, score=0.819410 -   2.2s\n",
      "[CV] min_samples_leaf=5, max_depth=6, max_features=None ..............\n",
      "[CV]  min_samples_leaf=5, max_depth=6, max_features=None, score=0.821962 -   2.0s\n",
      "[CV] min_samples_leaf=8, max_depth=6, max_features=None ..............\n",
      "[CV]  min_samples_leaf=5, max_depth=6, max_features=None, score=0.817013 -   2.1s\n",
      "[CV] min_samples_leaf=8, max_depth=6, max_features=None ..............\n",
      "[CV]  min_samples_leaf=5, max_depth=6, max_features=None, score=0.820227 -   1.9s\n",
      "[CV]  min_samples_leaf=5, max_depth=6, max_features=None, score=0.812817 -   2.1s\n",
      "[CV] min_samples_leaf=8, max_depth=6, max_features=None ..............\n",
      "[CV] min_samples_leaf=8, max_depth=6, max_features=None ..............\n",
      "[CV]  min_samples_leaf=8, max_depth=6, max_features=None, score=0.819476 -   2.0s\n",
      "[CV]  min_samples_leaf=8, max_depth=6, max_features=None, score=0.818621 -   2.0s\n",
      "[CV] min_samples_leaf=8, max_depth=6, max_features=None ..............\n",
      "[CV] min_samples_leaf=2, max_depth=9, max_features=auto ..............\n",
      "[CV]  min_samples_leaf=2, max_depth=9, max_features=auto, score=0.829928 -   1.0s\n",
      "[CV] min_samples_leaf=2, max_depth=9, max_features=auto ..............\n",
      "[CV]  min_samples_leaf=8, max_depth=6, max_features=None, score=0.825265 -   2.0s\n",
      "[CV] min_samples_leaf=2, max_depth=9, max_features=auto ..............\n",
      "[CV]  min_samples_leaf=8, max_depth=6, max_features=None, score=0.813457 -   2.0s\n",
      "[CV] min_samples_leaf=2, max_depth=9, max_features=auto ..............\n",
      "[CV]  min_samples_leaf=8, max_depth=6, max_features=None, score=0.815820 -   2.3s\n",
      "[CV] min_samples_leaf=2, max_depth=9, max_features=auto ..............\n",
      "[CV]  min_samples_leaf=2, max_depth=9, max_features=auto, score=0.822428 -   1.4s\n",
      "[CV] min_samples_leaf=5, max_depth=9, max_features=auto ..............\n",
      "[CV]  min_samples_leaf=2, max_depth=9, max_features=auto, score=0.827059 -   1.5s\n",
      "[CV] min_samples_leaf=5, max_depth=9, max_features=auto ..............\n",
      "[CV]  min_samples_leaf=2, max_depth=9, max_features=auto, score=0.814627 -   1.5s\n",
      "[CV] min_samples_leaf=5, max_depth=9, max_features=auto ..............\n",
      "[CV]  min_samples_leaf=2, max_depth=9, max_features=auto, score=0.816118 -   1.6s\n",
      "[CV] min_samples_leaf=5, max_depth=9, max_features=auto ..............\n",
      "[CV]  min_samples_leaf=5, max_depth=9, max_features=auto, score=0.824101 -   1.6s\n",
      "[CV] min_samples_leaf=5, max_depth=9, max_features=auto ..............\n",
      "[CV]  min_samples_leaf=5, max_depth=9, max_features=auto, score=0.822432 -   1.6s\n",
      "[CV] min_samples_leaf=8, max_depth=9, max_features=auto ..............\n",
      "[CV]  min_samples_leaf=5, max_depth=9, max_features=auto, score=0.828400 -   1.5s\n",
      "[CV] min_samples_leaf=8, max_depth=9, max_features=auto ..............\n",
      "[CV]  min_samples_leaf=5, max_depth=9, max_features=auto, score=0.817754 -   1.4s\n",
      "[CV] min_samples_leaf=8, max_depth=9, max_features=auto ..............\n",
      "[CV]  min_samples_leaf=5, max_depth=9, max_features=auto, score=0.820469 -   1.5s\n",
      "[CV] min_samples_leaf=8, max_depth=9, max_features=auto ..............\n",
      "[CV]  min_samples_leaf=8, max_depth=9, max_features=auto, score=0.823319 -   1.4s\n",
      "[CV] min_samples_leaf=8, max_depth=9, max_features=auto ..............\n",
      "[CV]  min_samples_leaf=8, max_depth=9, max_features=auto, score=0.825120 -   1.5s\n",
      "[CV] min_samples_leaf=2, max_depth=9, max_features=log2 ..............\n",
      "[CV]  min_samples_leaf=8, max_depth=9, max_features=auto, score=0.826294 -   1.5s\n",
      "[CV] min_samples_leaf=2, max_depth=9, max_features=log2 ..............\n",
      "[CV]  min_samples_leaf=8, max_depth=9, max_features=auto, score=0.817226 -   1.4s\n",
      "[CV] min_samples_leaf=2, max_depth=9, max_features=log2 ..............\n",
      "[CV]  min_samples_leaf=2, max_depth=9, max_features=log2, score=0.822785 -   1.3s\n",
      "[CV] min_samples_leaf=2, max_depth=9, max_features=log2 ..............\n",
      "[CV]  min_samples_leaf=8, max_depth=9, max_features=auto, score=0.820778 -   1.4s\n",
      "[CV] min_samples_leaf=2, max_depth=9, max_features=log2 ..............\n",
      "[CV]  min_samples_leaf=2, max_depth=9, max_features=log2, score=0.823808 -   1.2s\n",
      "[CV] min_samples_leaf=5, max_depth=9, max_features=log2 ..............\n",
      "[CV]  min_samples_leaf=2, max_depth=9, max_features=log2, score=0.826865 -   1.1s\n",
      "[CV] min_samples_leaf=5, max_depth=9, max_features=log2 ..............\n",
      "[CV]  min_samples_leaf=2, max_depth=9, max_features=log2, score=0.823168 -   1.1s\n",
      "[CV] min_samples_leaf=5, max_depth=9, max_features=log2 ..............\n",
      "[CV]  min_samples_leaf=2, max_depth=9, max_features=log2, score=0.821023 -   1.2s\n",
      "[CV] min_samples_leaf=5, max_depth=9, max_features=log2 ..............\n",
      "[CV]  min_samples_leaf=5, max_depth=9, max_features=log2, score=0.825073 -   1.1s\n",
      "[CV] min_samples_leaf=5, max_depth=9, max_features=log2 ..............\n",
      "[CV]  min_samples_leaf=5, max_depth=9, max_features=log2, score=0.824155 -   1.2s\n",
      "[CV] min_samples_leaf=8, max_depth=9, max_features=log2 ..............\n",
      "[CV]  min_samples_leaf=5, max_depth=9, max_features=log2, score=0.819334 -   1.1s\n",
      "[CV] min_samples_leaf=8, max_depth=9, max_features=log2 ..............\n",
      "[CV]  min_samples_leaf=5, max_depth=9, max_features=log2, score=0.825913 -   1.2s\n",
      "[CV] min_samples_leaf=8, max_depth=9, max_features=log2 ..............\n",
      "[CV]  min_samples_leaf=5, max_depth=9, max_features=log2, score=0.823024 -   1.1s\n",
      "[CV] min_samples_leaf=8, max_depth=9, max_features=log2 ..............\n",
      "[CV]  min_samples_leaf=8, max_depth=9, max_features=log2, score=0.824140 -   1.2s\n",
      "[CV] min_samples_leaf=8, max_depth=9, max_features=log2 ..............\n",
      "[CV]  min_samples_leaf=8, max_depth=9, max_features=log2, score=0.823929 -   1.1s\n",
      "[CV] min_samples_leaf=2, max_depth=9, max_features=None ..............\n",
      "[CV]  min_samples_leaf=8, max_depth=9, max_features=log2, score=0.824829 -   1.1s\n",
      "[CV] min_samples_leaf=2, max_depth=9, max_features=None ..............\n",
      "[CV]  min_samples_leaf=8, max_depth=9, max_features=log2, score=0.816804 -   1.1s\n",
      "[CV] min_samples_leaf=2, max_depth=9, max_features=None ..............\n",
      "[CV]  min_samples_leaf=8, max_depth=9, max_features=log2, score=0.818923 -   1.2s\n",
      "[CV] min_samples_leaf=2, max_depth=9, max_features=None ..............\n",
      "[CV]  min_samples_leaf=2, max_depth=9, max_features=None, score=0.818011 -   3.2s\n",
      "[CV] min_samples_leaf=2, max_depth=9, max_features=None ..............\n",
      "[CV]  min_samples_leaf=2, max_depth=9, max_features=None, score=0.820426 -   3.2s\n",
      "[CV] min_samples_leaf=5, max_depth=9, max_features=None ..............\n",
      "[CV]  min_samples_leaf=2, max_depth=9, max_features=None, score=0.820359 -   3.2s\n",
      "[CV] min_samples_leaf=5, max_depth=9, max_features=None ..............\n",
      "[CV]  min_samples_leaf=2, max_depth=9, max_features=None, score=0.813496 -   3.1s\n",
      "[CV] min_samples_leaf=5, max_depth=9, max_features=None ..............\n",
      "[CV]  min_samples_leaf=5, max_depth=9, max_features=None, score=0.819623 -   2.8s\n",
      "[CV] min_samples_leaf=5, max_depth=9, max_features=None ..............\n",
      "[CV]  min_samples_leaf=2, max_depth=9, max_features=None, score=0.818302 -   2.9s\n",
      "[CV] min_samples_leaf=5, max_depth=9, max_features=None ..............\n",
      "[CV]  min_samples_leaf=5, max_depth=9, max_features=None, score=0.819194 -   2.8s\n",
      "[CV] min_samples_leaf=8, max_depth=9, max_features=None ..............\n",
      "[CV]  min_samples_leaf=5, max_depth=9, max_features=None, score=0.826657 -   2.8s\n",
      "[CV] min_samples_leaf=8, max_depth=9, max_features=None ..............\n",
      "[CV]  min_samples_leaf=5, max_depth=9, max_features=None, score=0.814390 -   2.7s\n",
      "[CV] min_samples_leaf=8, max_depth=9, max_features=None ..............\n",
      "[CV]  min_samples_leaf=5, max_depth=9, max_features=None, score=0.815090 -   2.7s\n",
      "[CV] min_samples_leaf=8, max_depth=9, max_features=None ..............\n",
      "[CV]  min_samples_leaf=8, max_depth=9, max_features=None, score=0.820197 -   2.7s\n",
      "[CV] min_samples_leaf=8, max_depth=9, max_features=None ..............\n",
      "[CV]  min_samples_leaf=8, max_depth=9, max_features=None, score=0.822735 -   2.7s\n",
      "[CV] min_samples_leaf=2, max_depth=12, max_features=auto .............\n",
      "[CV]  min_samples_leaf=2, max_depth=12, max_features=auto, score=0.818355 -   1.2s\n",
      "[CV] min_samples_leaf=2, max_depth=12, max_features=auto .............\n",
      "[CV]  min_samples_leaf=8, max_depth=9, max_features=None, score=0.825502 -   2.7s\n",
      "[CV] min_samples_leaf=2, max_depth=12, max_features=auto .............\n",
      "[CV]  min_samples_leaf=8, max_depth=9, max_features=None, score=0.812814 -   2.8s\n",
      "[CV] min_samples_leaf=2, max_depth=12, max_features=auto .............\n",
      "[CV]  min_samples_leaf=8, max_depth=9, max_features=None, score=0.812582 -   2.7s\n",
      "[CV] min_samples_leaf=2, max_depth=12, max_features=auto .............\n",
      "[CV]  min_samples_leaf=2, max_depth=12, max_features=auto, score=0.822825 -   1.3s\n",
      "[CV] min_samples_leaf=5, max_depth=12, max_features=auto .............\n",
      "[CV]  min_samples_leaf=2, max_depth=12, max_features=auto, score=0.822868 -   1.3s\n",
      "[CV] min_samples_leaf=5, max_depth=12, max_features=auto .............\n",
      "[CV]  min_samples_leaf=2, max_depth=12, max_features=auto, score=0.816182 -   1.4s\n",
      "[CV] min_samples_leaf=5, max_depth=12, max_features=auto .............\n",
      "[CV]  min_samples_leaf=2, max_depth=12, max_features=auto, score=0.818698 -   1.4s\n",
      "[CV] min_samples_leaf=5, max_depth=12, max_features=auto .............\n",
      "[CV]  min_samples_leaf=5, max_depth=12, max_features=auto, score=0.820932 -   1.3s\n",
      "[CV] min_samples_leaf=5, max_depth=12, max_features=auto .............\n",
      "[CV]  min_samples_leaf=5, max_depth=12, max_features=auto, score=0.823573 -   1.3s\n",
      "[CV] min_samples_leaf=8, max_depth=12, max_features=auto .............\n",
      "[CV]  min_samples_leaf=5, max_depth=12, max_features=auto, score=0.822840 -   1.4s\n",
      "[CV] min_samples_leaf=8, max_depth=12, max_features=auto .............\n",
      "[CV]  min_samples_leaf=5, max_depth=12, max_features=auto, score=0.815843 -   1.4s\n",
      "[CV] min_samples_leaf=8, max_depth=12, max_features=auto .............\n",
      "[CV]  min_samples_leaf=5, max_depth=12, max_features=auto, score=0.815789 -   1.3s\n",
      "[CV] min_samples_leaf=8, max_depth=12, max_features=auto .............\n",
      "[CV]  min_samples_leaf=8, max_depth=12, max_features=auto, score=0.825485 -   1.3s\n",
      "[CV] min_samples_leaf=8, max_depth=12, max_features=auto .............\n",
      "[CV]  min_samples_leaf=8, max_depth=12, max_features=auto, score=0.826757 -   1.4s\n",
      "[CV] min_samples_leaf=2, max_depth=12, max_features=log2 .............\n",
      "[CV]  min_samples_leaf=8, max_depth=12, max_features=auto, score=0.826112 -   1.3s\n",
      "[CV] min_samples_leaf=2, max_depth=12, max_features=log2 .............\n",
      "[CV]  min_samples_leaf=8, max_depth=12, max_features=auto, score=0.815029 -   1.3s\n",
      "[CV] min_samples_leaf=2, max_depth=12, max_features=log2 .............\n",
      "[CV]  min_samples_leaf=8, max_depth=12, max_features=auto, score=0.815107 -   1.3s\n",
      "[CV] min_samples_leaf=2, max_depth=12, max_features=log2 .............\n",
      "[CV]  min_samples_leaf=2, max_depth=12, max_features=log2, score=0.822050 -   1.3s\n",
      "[CV] min_samples_leaf=2, max_depth=12, max_features=log2 .............\n",
      "[CV]  min_samples_leaf=2, max_depth=12, max_features=log2, score=0.822870 -   1.3s\n",
      "[CV] min_samples_leaf=5, max_depth=12, max_features=log2 .............\n",
      "[CV]  min_samples_leaf=2, max_depth=12, max_features=log2, score=0.820431 -   1.4s\n",
      "[CV] min_samples_leaf=5, max_depth=12, max_features=log2 .............\n",
      "[CV]  min_samples_leaf=2, max_depth=12, max_features=log2, score=0.817625 -   1.3s\n",
      "[CV] min_samples_leaf=5, max_depth=12, max_features=log2 .............\n",
      "[CV]  min_samples_leaf=2, max_depth=12, max_features=log2, score=0.815760 -   1.4s\n",
      "[CV] min_samples_leaf=5, max_depth=12, max_features=log2 .............\n",
      "[CV]  min_samples_leaf=5, max_depth=12, max_features=log2, score=0.822889 -   1.3s\n",
      "[CV] min_samples_leaf=5, max_depth=12, max_features=log2 .............\n",
      "[CV]  min_samples_leaf=5, max_depth=12, max_features=log2, score=0.824958 -   1.4s\n",
      "[CV] min_samples_leaf=8, max_depth=12, max_features=log2 .............\n",
      "[CV]  min_samples_leaf=5, max_depth=12, max_features=log2, score=0.826556 -   1.3s\n",
      "[CV] min_samples_leaf=8, max_depth=12, max_features=log2 .............\n",
      "[CV]  min_samples_leaf=5, max_depth=12, max_features=log2, score=0.819012 -   1.3s\n",
      "[CV] min_samples_leaf=8, max_depth=12, max_features=log2 .............\n",
      "[CV]  min_samples_leaf=5, max_depth=12, max_features=log2, score=0.814968 -   1.3s\n",
      "[CV] min_samples_leaf=8, max_depth=12, max_features=log2 .............\n",
      "[CV]  min_samples_leaf=8, max_depth=12, max_features=log2, score=0.821716 -   1.4s\n",
      "[CV] min_samples_leaf=8, max_depth=12, max_features=log2 .............\n",
      "[CV]  min_samples_leaf=8, max_depth=12, max_features=log2, score=0.823718 -   1.3s\n",
      "[CV] min_samples_leaf=2, max_depth=12, max_features=None .............\n",
      "[CV]  min_samples_leaf=8, max_depth=12, max_features=log2, score=0.825454 -   1.3s\n",
      "[CV] min_samples_leaf=2, max_depth=12, max_features=None .............\n",
      "[CV]  min_samples_leaf=8, max_depth=12, max_features=log2, score=0.818165 -   1.4s\n",
      "[CV] min_samples_leaf=2, max_depth=12, max_features=None .............\n",
      "[CV]  min_samples_leaf=8, max_depth=12, max_features=log2, score=0.819093 -   1.3s\n",
      "[CV] min_samples_leaf=2, max_depth=12, max_features=None .............\n"
     ]
    },
    {
     "name": "stderr",
     "output_type": "stream",
     "text": [
      "[Parallel(n_jobs=-1)]: Done 120 tasks      | elapsed:   47.8s\n"
     ]
    },
    {
     "name": "stdout",
     "output_type": "stream",
     "text": [
      "[CV]  min_samples_leaf=2, max_depth=12, max_features=None, score=0.815399 -   3.4s\n",
      "[CV] min_samples_leaf=2, max_depth=12, max_features=None .............\n",
      "[CV]  min_samples_leaf=2, max_depth=12, max_features=None, score=0.814698 -   3.4s\n",
      "[CV] min_samples_leaf=5, max_depth=12, max_features=None .............\n",
      "[CV]  min_samples_leaf=2, max_depth=12, max_features=None, score=0.815545 -   3.4s\n",
      "[CV] min_samples_leaf=5, max_depth=12, max_features=None .............\n",
      "[CV]  min_samples_leaf=2, max_depth=12, max_features=None, score=0.809902 -   3.3s\n",
      "[CV] min_samples_leaf=5, max_depth=12, max_features=None .............\n",
      "[CV]  min_samples_leaf=2, max_depth=12, max_features=None, score=0.812851 -   3.3s\n",
      "[CV] min_samples_leaf=5, max_depth=12, max_features=None .............\n",
      "[CV]  min_samples_leaf=5, max_depth=12, max_features=None, score=0.816632 -   3.3s\n",
      "[CV] min_samples_leaf=5, max_depth=12, max_features=None .............\n",
      "[CV]  min_samples_leaf=5, max_depth=12, max_features=None, score=0.817459 -   3.2s\n",
      "[CV] min_samples_leaf=8, max_depth=12, max_features=None .............\n",
      "[CV]  min_samples_leaf=5, max_depth=12, max_features=None, score=0.819533 -   3.3s\n",
      "[CV] min_samples_leaf=8, max_depth=12, max_features=None .............\n",
      "[CV]  min_samples_leaf=5, max_depth=12, max_features=None, score=0.811230 -   3.3s\n",
      "[CV] min_samples_leaf=8, max_depth=12, max_features=None .............\n",
      "[CV]  min_samples_leaf=5, max_depth=12, max_features=None, score=0.811043 -   3.3s\n",
      "[CV] min_samples_leaf=8, max_depth=12, max_features=None .............\n",
      "[CV]  min_samples_leaf=8, max_depth=12, max_features=None, score=0.821069 -   3.2s\n",
      "[CV] min_samples_leaf=8, max_depth=12, max_features=None .............\n",
      "[CV]  min_samples_leaf=8, max_depth=12, max_features=None, score=0.819270 -   3.3s\n",
      "[CV]  min_samples_leaf=8, max_depth=12, max_features=None, score=0.822101 -   2.9s\n",
      "[CV]  min_samples_leaf=8, max_depth=12, max_features=None, score=0.814663 -   2.7s\n",
      "[CV]  min_samples_leaf=8, max_depth=12, max_features=None, score=0.810887 -   2.5s\n"
     ]
    },
    {
     "name": "stderr",
     "output_type": "stream",
     "text": [
      "[Parallel(n_jobs=-1)]: Done 135 out of 135 | elapsed:   59.9s finished\n"
     ]
    },
    {
     "name": "stdout",
     "output_type": "stream",
     "text": [
      "f1 \n",
      "\n",
      "Fitting 5 folds for each of 27 candidates, totalling 135 fits\n",
      "[CV] min_samples_leaf=2, max_depth=6, max_features=auto ..............\n",
      "[CV] min_samples_leaf=2, max_depth=6, max_features=auto ..............\n",
      "[CV] min_samples_leaf=2, max_depth=6, max_features=auto ..............\n",
      "[CV] min_samples_leaf=2, max_depth=6, max_features=auto ..............\n",
      "[CV]  min_samples_leaf=2, max_depth=6, max_features=auto, score=0.786034 -   1.0s\n",
      "[CV] min_samples_leaf=2, max_depth=6, max_features=auto ..............\n",
      "[CV]  min_samples_leaf=2, max_depth=6, max_features=auto, score=0.793437 -   1.0s\n",
      "[CV]  min_samples_leaf=2, max_depth=6, max_features=auto, score=0.795884 -   1.0s\n",
      "[CV]  min_samples_leaf=2, max_depth=6, max_features=auto, score=0.793545 -   1.0s\n",
      "[CV] min_samples_leaf=5, max_depth=6, max_features=auto ..............\n",
      "[CV] min_samples_leaf=5, max_depth=6, max_features=auto ..............\n",
      "[CV] min_samples_leaf=5, max_depth=6, max_features=auto ..............\n",
      "[CV]  min_samples_leaf=2, max_depth=6, max_features=auto, score=0.785268 -   0.8s\n",
      "[CV] min_samples_leaf=5, max_depth=6, max_features=auto ..............\n",
      "[CV]  min_samples_leaf=5, max_depth=6, max_features=auto, score=0.786136 -   0.9s\n",
      "[CV]  min_samples_leaf=5, max_depth=6, max_features=auto, score=0.791573 -   0.9s\n",
      "[CV] min_samples_leaf=5, max_depth=6, max_features=auto ..............\n",
      "[CV]  min_samples_leaf=5, max_depth=6, max_features=auto, score=0.792463 -   0.9s\n",
      "[CV] min_samples_leaf=8, max_depth=6, max_features=auto ..............\n",
      "[CV] min_samples_leaf=8, max_depth=6, max_features=auto ..............\n",
      "[CV]  min_samples_leaf=5, max_depth=6, max_features=auto, score=0.791340 -   1.0s\n",
      "[CV] min_samples_leaf=8, max_depth=6, max_features=auto ..............\n",
      "[CV]  min_samples_leaf=5, max_depth=6, max_features=auto, score=0.785674 -   0.9s\n",
      "[CV] min_samples_leaf=8, max_depth=6, max_features=auto ..............\n",
      "[CV]  min_samples_leaf=8, max_depth=6, max_features=auto, score=0.790471 -   1.0s\n",
      "[CV]  min_samples_leaf=8, max_depth=6, max_features=auto, score=0.791612 -   1.0s\n",
      "[CV] min_samples_leaf=8, max_depth=6, max_features=auto ..............\n",
      "[CV] min_samples_leaf=2, max_depth=6, max_features=log2 ..............\n",
      "[CV]  min_samples_leaf=8, max_depth=6, max_features=auto, score=0.797403 -   0.9s\n",
      "[CV] min_samples_leaf=2, max_depth=6, max_features=log2 ..............\n",
      "[CV]  min_samples_leaf=8, max_depth=6, max_features=auto, score=0.792547 -   0.9s\n",
      "[CV] min_samples_leaf=2, max_depth=6, max_features=log2 ..............\n",
      "[CV]  min_samples_leaf=2, max_depth=6, max_features=log2, score=0.789306 -   0.8s\n",
      "[CV] min_samples_leaf=2, max_depth=6, max_features=log2 ..............\n",
      "[CV]  min_samples_leaf=8, max_depth=6, max_features=auto, score=0.788601 -   0.9s\n",
      "[CV] min_samples_leaf=2, max_depth=6, max_features=log2 ..............\n",
      "[CV]  min_samples_leaf=2, max_depth=6, max_features=log2, score=0.794948 -   1.3s\n",
      "[CV]  min_samples_leaf=2, max_depth=6, max_features=log2, score=0.795601 -   1.2s\n",
      "[CV] min_samples_leaf=5, max_depth=6, max_features=log2 ..............\n",
      "[CV] min_samples_leaf=5, max_depth=6, max_features=log2 ..............\n",
      "[CV]  min_samples_leaf=2, max_depth=6, max_features=log2, score=0.791544 -   1.2s\n",
      "[CV] min_samples_leaf=5, max_depth=6, max_features=log2 ..............\n",
      "[CV]  min_samples_leaf=2, max_depth=6, max_features=log2, score=0.790620 -   1.2s\n",
      "[CV] min_samples_leaf=5, max_depth=6, max_features=log2 ..............\n",
      "[CV]  min_samples_leaf=5, max_depth=6, max_features=log2, score=0.791383 -   1.1s\n",
      "[CV] min_samples_leaf=5, max_depth=6, max_features=log2 ..............\n",
      "[CV]  min_samples_leaf=5, max_depth=6, max_features=log2, score=0.794688 -   1.1s\n",
      "[CV] min_samples_leaf=8, max_depth=6, max_features=log2 ..............\n",
      "[CV]  min_samples_leaf=5, max_depth=6, max_features=log2, score=0.795689 -   1.1s\n",
      "[CV] min_samples_leaf=8, max_depth=6, max_features=log2 ..............\n",
      "[CV]  min_samples_leaf=5, max_depth=6, max_features=log2, score=0.793349 -   1.2s\n",
      "[CV] min_samples_leaf=8, max_depth=6, max_features=log2 ..............\n"
     ]
    },
    {
     "name": "stderr",
     "output_type": "stream",
     "text": [
      "[Parallel(n_jobs=-1)]: Done  24 tasks      | elapsed:    6.5s\n"
     ]
    },
    {
     "name": "stdout",
     "output_type": "stream",
     "text": [
      "[CV]  min_samples_leaf=5, max_depth=6, max_features=log2, score=0.785113 -   1.2s\n",
      "[CV] min_samples_leaf=8, max_depth=6, max_features=log2 ..............\n",
      "[CV]  min_samples_leaf=8, max_depth=6, max_features=log2, score=0.787076 -   1.2s\n",
      "[CV] min_samples_leaf=8, max_depth=6, max_features=log2 ..............\n",
      "[CV]  min_samples_leaf=8, max_depth=6, max_features=log2, score=0.795134 -   1.2s\n",
      "[CV] min_samples_leaf=2, max_depth=6, max_features=None ..............\n",
      "[CV]  min_samples_leaf=8, max_depth=6, max_features=log2, score=0.791003 -   1.2s\n",
      "[CV] min_samples_leaf=2, max_depth=6, max_features=None ..............\n",
      "[CV]  min_samples_leaf=8, max_depth=6, max_features=log2, score=0.791039 -   1.2s\n",
      "[CV] min_samples_leaf=2, max_depth=6, max_features=None ..............\n",
      "[CV]  min_samples_leaf=8, max_depth=6, max_features=log2, score=0.783519 -   1.2s\n",
      "[CV] min_samples_leaf=2, max_depth=6, max_features=None ..............\n",
      "[CV]  min_samples_leaf=2, max_depth=6, max_features=None, score=0.794349 -   2.7s\n",
      "[CV]  min_samples_leaf=2, max_depth=6, max_features=None, score=0.792604 -   2.8s\n",
      "[CV] min_samples_leaf=2, max_depth=6, max_features=None ..............\n",
      "[CV] min_samples_leaf=5, max_depth=6, max_features=None ..............\n",
      "[CV]  min_samples_leaf=2, max_depth=6, max_features=None, score=0.795623 -   2.8s\n",
      "[CV] min_samples_leaf=5, max_depth=6, max_features=None ..............\n",
      "[CV]  min_samples_leaf=2, max_depth=6, max_features=None, score=0.794891 -   2.8s\n",
      "[CV] min_samples_leaf=5, max_depth=6, max_features=None ..............\n",
      "[CV]  min_samples_leaf=2, max_depth=6, max_features=None, score=0.792491 -   3.1s\n",
      "[CV] min_samples_leaf=5, max_depth=6, max_features=None ..............\n",
      "[CV]  min_samples_leaf=5, max_depth=6, max_features=None, score=0.790529 -   3.1s\n",
      "[CV] min_samples_leaf=5, max_depth=6, max_features=None ..............\n",
      "[CV]  min_samples_leaf=5, max_depth=6, max_features=None, score=0.796277 -   3.0s\n",
      "[CV]  min_samples_leaf=5, max_depth=6, max_features=None, score=0.796934 -   3.1s\n",
      "[CV] min_samples_leaf=8, max_depth=6, max_features=None ..............\n",
      "[CV] min_samples_leaf=8, max_depth=6, max_features=None ..............\n",
      "[CV]  min_samples_leaf=5, max_depth=6, max_features=None, score=0.793958 -   2.6s\n",
      "[CV] min_samples_leaf=8, max_depth=6, max_features=None ..............\n",
      "[CV]  min_samples_leaf=5, max_depth=6, max_features=None, score=0.792736 -   2.6s\n",
      "[CV] min_samples_leaf=8, max_depth=6, max_features=None ..............\n",
      "[CV]  min_samples_leaf=8, max_depth=6, max_features=None, score=0.797194 -   2.3s\n",
      "[CV] min_samples_leaf=8, max_depth=6, max_features=None ..............\n",
      "[CV]  min_samples_leaf=8, max_depth=6, max_features=None, score=0.789833 -   2.4s\n",
      "[CV] min_samples_leaf=2, max_depth=9, max_features=auto ..............\n",
      "[CV]  min_samples_leaf=2, max_depth=9, max_features=auto, score=0.793648 -   1.1s\n",
      "[CV] min_samples_leaf=2, max_depth=9, max_features=auto ..............\n",
      "[CV]  min_samples_leaf=8, max_depth=6, max_features=None, score=0.795187 -   2.1s\n",
      "[CV] min_samples_leaf=2, max_depth=9, max_features=auto ..............\n",
      "[CV]  min_samples_leaf=8, max_depth=6, max_features=None, score=0.795112 -   2.1s\n",
      "[CV] min_samples_leaf=2, max_depth=9, max_features=auto ..............\n",
      "[CV]  min_samples_leaf=8, max_depth=6, max_features=None, score=0.792736 -   2.1s\n",
      "[CV] min_samples_leaf=2, max_depth=9, max_features=auto ..............\n",
      "[CV]  min_samples_leaf=2, max_depth=9, max_features=auto, score=0.804752 -   1.2s\n",
      "[CV] min_samples_leaf=5, max_depth=9, max_features=auto ..............\n",
      "[CV]  min_samples_leaf=2, max_depth=9, max_features=auto, score=0.802932 -   1.2s\n",
      "[CV] min_samples_leaf=5, max_depth=9, max_features=auto ..............\n",
      "[CV]  min_samples_leaf=2, max_depth=9, max_features=auto, score=0.798261 -   1.2s\n",
      "[CV] min_samples_leaf=5, max_depth=9, max_features=auto ..............\n",
      "[CV]  min_samples_leaf=2, max_depth=9, max_features=auto, score=0.795145 -   1.1s\n",
      "[CV] min_samples_leaf=5, max_depth=9, max_features=auto ..............\n",
      "[CV]  min_samples_leaf=5, max_depth=9, max_features=auto, score=0.793642 -   1.1s\n",
      "[CV] min_samples_leaf=5, max_depth=9, max_features=auto ..............\n",
      "[CV]  min_samples_leaf=5, max_depth=9, max_features=auto, score=0.801699 -   1.2s\n",
      "[CV] min_samples_leaf=8, max_depth=9, max_features=auto ..............\n",
      "[CV]  min_samples_leaf=5, max_depth=9, max_features=auto, score=0.802751 -   1.3s\n",
      "[CV] min_samples_leaf=8, max_depth=9, max_features=auto ..............\n",
      "[CV]  min_samples_leaf=5, max_depth=9, max_features=auto, score=0.800257 -   1.3s\n",
      "[CV] min_samples_leaf=8, max_depth=9, max_features=auto ..............\n",
      "[CV]  min_samples_leaf=5, max_depth=9, max_features=auto, score=0.795551 -   1.4s\n",
      "[CV] min_samples_leaf=8, max_depth=9, max_features=auto ..............\n",
      "[CV]  min_samples_leaf=8, max_depth=9, max_features=auto, score=0.797924 -   1.4s\n",
      "[CV] min_samples_leaf=8, max_depth=9, max_features=auto ..............\n",
      "[CV]  min_samples_leaf=8, max_depth=9, max_features=auto, score=0.805238 -   1.2s\n",
      "[CV] min_samples_leaf=2, max_depth=9, max_features=log2 ..............\n",
      "[CV]  min_samples_leaf=8, max_depth=9, max_features=auto, score=0.798658 -   1.2s\n",
      "[CV] min_samples_leaf=2, max_depth=9, max_features=log2 ..............\n",
      "[CV]  min_samples_leaf=8, max_depth=9, max_features=auto, score=0.801144 -   1.2s\n",
      "[CV] min_samples_leaf=2, max_depth=9, max_features=log2 ..............\n",
      "[CV]  min_samples_leaf=8, max_depth=9, max_features=auto, score=0.794582 -   1.2s\n",
      "[CV] min_samples_leaf=2, max_depth=9, max_features=log2 ..............\n",
      "[CV]  min_samples_leaf=2, max_depth=9, max_features=log2, score=0.796722 -   1.3s\n",
      "[CV] min_samples_leaf=2, max_depth=9, max_features=log2 ..............\n",
      "[CV]  min_samples_leaf=2, max_depth=9, max_features=log2, score=0.804160 -   1.5s\n",
      "[CV] min_samples_leaf=5, max_depth=9, max_features=log2 ..............\n",
      "[CV]  min_samples_leaf=2, max_depth=9, max_features=log2, score=0.800668 -   1.7s\n",
      "[CV] min_samples_leaf=5, max_depth=9, max_features=log2 ..............\n",
      "[CV]  min_samples_leaf=2, max_depth=9, max_features=log2, score=0.802910 -   1.7s\n",
      "[CV] min_samples_leaf=5, max_depth=9, max_features=log2 ..............\n",
      "[CV]  min_samples_leaf=2, max_depth=9, max_features=log2, score=0.795069 -   1.6s\n",
      "[CV] min_samples_leaf=5, max_depth=9, max_features=log2 ..............\n",
      "[CV]  min_samples_leaf=5, max_depth=9, max_features=log2, score=0.797992 -   1.6s\n",
      "[CV] min_samples_leaf=5, max_depth=9, max_features=log2 ..............\n",
      "[CV]  min_samples_leaf=5, max_depth=9, max_features=log2, score=0.805512 -   1.4s\n",
      "[CV] min_samples_leaf=8, max_depth=9, max_features=log2 ..............\n",
      "[CV]  min_samples_leaf=5, max_depth=9, max_features=log2, score=0.800037 -   1.3s\n",
      "[CV]  min_samples_leaf=5, max_depth=9, max_features=log2, score=0.800147 -   1.3s\n",
      "[CV] min_samples_leaf=8, max_depth=9, max_features=log2 ..............\n",
      "[CV] min_samples_leaf=8, max_depth=9, max_features=log2 ..............\n",
      "[CV]  min_samples_leaf=5, max_depth=9, max_features=log2, score=0.797526 -   1.3s\n",
      "[CV] min_samples_leaf=8, max_depth=9, max_features=log2 ..............\n",
      "[CV]  min_samples_leaf=8, max_depth=9, max_features=log2, score=0.796348 -   1.4s\n",
      "[CV] min_samples_leaf=8, max_depth=9, max_features=log2 ..............\n",
      "[CV]  min_samples_leaf=8, max_depth=9, max_features=log2, score=0.806336 -   1.4s\n",
      "[CV] min_samples_leaf=2, max_depth=9, max_features=None ..............\n",
      "[CV]  min_samples_leaf=8, max_depth=9, max_features=log2, score=0.803512 -   1.6s\n",
      "[CV] min_samples_leaf=2, max_depth=9, max_features=None ..............\n",
      "[CV]  min_samples_leaf=8, max_depth=9, max_features=log2, score=0.801842 -   1.7s\n",
      "[CV] min_samples_leaf=2, max_depth=9, max_features=None ..............\n",
      "[CV]  min_samples_leaf=8, max_depth=9, max_features=log2, score=0.793883 -   1.6s\n",
      "[CV] min_samples_leaf=2, max_depth=9, max_features=None ..............\n",
      "[CV]  min_samples_leaf=2, max_depth=9, max_features=None, score=0.799963 -   3.7s\n",
      "[CV] min_samples_leaf=2, max_depth=9, max_features=None ..............\n",
      "[CV]  min_samples_leaf=2, max_depth=9, max_features=None, score=0.802764 -   3.7s\n",
      "[CV] min_samples_leaf=5, max_depth=9, max_features=None ..............\n",
      "[CV]  min_samples_leaf=2, max_depth=9, max_features=None, score=0.802425 -   3.6s\n",
      "[CV] min_samples_leaf=5, max_depth=9, max_features=None ..............\n",
      "[CV]  min_samples_leaf=2, max_depth=9, max_features=None, score=0.800073 -   3.7s\n",
      "[CV] min_samples_leaf=5, max_depth=9, max_features=None ..............\n",
      "[CV]  min_samples_leaf=5, max_depth=9, max_features=None, score=0.796488 -   3.9s\n",
      "[CV]  min_samples_leaf=2, max_depth=9, max_features=None, score=0.797323 -   4.0s\n",
      "[CV] min_samples_leaf=5, max_depth=9, max_features=None ..............\n",
      "[CV] min_samples_leaf=5, max_depth=9, max_features=None ..............\n",
      "[CV]  min_samples_leaf=5, max_depth=9, max_features=None, score=0.802054 -   4.0s\n",
      "[CV] min_samples_leaf=8, max_depth=9, max_features=None ..............\n",
      "[CV]  min_samples_leaf=5, max_depth=9, max_features=None, score=0.803713 -   3.9s\n",
      "[CV] min_samples_leaf=8, max_depth=9, max_features=None ..............\n",
      "[CV]  min_samples_leaf=5, max_depth=9, max_features=None, score=0.796922 -   3.4s\n",
      "[CV]  min_samples_leaf=5, max_depth=9, max_features=None, score=0.800549 -   3.5s\n",
      "[CV] min_samples_leaf=8, max_depth=9, max_features=None ..............\n",
      "[CV] min_samples_leaf=8, max_depth=9, max_features=None ..............\n",
      "[CV]  min_samples_leaf=8, max_depth=9, max_features=None, score=0.797555 -   3.4s\n",
      "[CV] min_samples_leaf=8, max_depth=9, max_features=None ..............\n",
      "[CV]  min_samples_leaf=8, max_depth=9, max_features=None, score=0.802275 -   3.4s\n",
      "[CV] min_samples_leaf=2, max_depth=12, max_features=auto .............\n",
      "[CV]  min_samples_leaf=2, max_depth=12, max_features=auto, score=0.799261 -   1.7s\n",
      "[CV] min_samples_leaf=2, max_depth=12, max_features=auto .............\n",
      "[CV]  min_samples_leaf=8, max_depth=9, max_features=None, score=0.803862 -   3.4s\n",
      "[CV] min_samples_leaf=2, max_depth=12, max_features=auto .............\n",
      "[CV]  min_samples_leaf=8, max_depth=9, max_features=None, score=0.805043 -   3.4s\n",
      "[CV] min_samples_leaf=2, max_depth=12, max_features=auto .............\n",
      "[CV]  min_samples_leaf=2, max_depth=12, max_features=auto, score=0.802904 -   1.4s\n",
      "[CV]  min_samples_leaf=8, max_depth=9, max_features=None, score=0.797435 -   3.3s\n",
      "[CV] min_samples_leaf=2, max_depth=12, max_features=auto .............\n",
      "[CV] min_samples_leaf=5, max_depth=12, max_features=auto .............\n",
      "[CV]  min_samples_leaf=2, max_depth=12, max_features=auto, score=0.801181 -   1.4s\n",
      "[CV] min_samples_leaf=5, max_depth=12, max_features=auto .............\n",
      "[CV]  min_samples_leaf=2, max_depth=12, max_features=auto, score=0.798571 -   1.4s\n",
      "[CV] min_samples_leaf=5, max_depth=12, max_features=auto .............\n",
      "[CV]  min_samples_leaf=2, max_depth=12, max_features=auto, score=0.795540 -   1.4s\n",
      "[CV] min_samples_leaf=5, max_depth=12, max_features=auto .............\n",
      "[CV]  min_samples_leaf=5, max_depth=12, max_features=auto, score=0.800000 -   1.4s\n",
      "[CV] min_samples_leaf=5, max_depth=12, max_features=auto .............\n",
      "[CV]  min_samples_leaf=5, max_depth=12, max_features=auto, score=0.803250 -   1.4s\n",
      "[CV] min_samples_leaf=8, max_depth=12, max_features=auto .............\n",
      "[CV]  min_samples_leaf=5, max_depth=12, max_features=auto, score=0.805164 -   1.5s\n",
      "[CV] min_samples_leaf=8, max_depth=12, max_features=auto .............\n",
      "[CV]  min_samples_leaf=5, max_depth=12, max_features=auto, score=0.804320 -   1.5s\n",
      "[CV] min_samples_leaf=8, max_depth=12, max_features=auto .............\n",
      "[CV]  min_samples_leaf=5, max_depth=12, max_features=auto, score=0.801548 -   1.5s\n",
      "[CV] min_samples_leaf=8, max_depth=12, max_features=auto .............\n",
      "[CV]  min_samples_leaf=8, max_depth=12, max_features=auto, score=0.797220 -   1.7s\n",
      "[CV]  min_samples_leaf=8, max_depth=12, max_features=auto, score=0.803450 -   1.7s\n",
      "[CV] min_samples_leaf=8, max_depth=12, max_features=auto .............\n",
      "[CV] min_samples_leaf=2, max_depth=12, max_features=log2 .............\n",
      "[CV]  min_samples_leaf=8, max_depth=12, max_features=auto, score=0.804608 -   1.8s\n",
      "[CV] min_samples_leaf=2, max_depth=12, max_features=log2 .............\n",
      "[CV]  min_samples_leaf=8, max_depth=12, max_features=auto, score=0.799263 -   1.7s\n",
      "[CV] min_samples_leaf=2, max_depth=12, max_features=log2 .............\n",
      "[CV]  min_samples_leaf=2, max_depth=12, max_features=log2, score=0.796746 -   1.6s\n",
      "[CV]  min_samples_leaf=8, max_depth=12, max_features=auto, score=0.796693 -   1.7s\n",
      "[CV] min_samples_leaf=2, max_depth=12, max_features=log2 .............\n",
      "[CV] min_samples_leaf=2, max_depth=12, max_features=log2 .............\n",
      "[CV]  min_samples_leaf=2, max_depth=12, max_features=log2, score=0.803678 -   1.5s\n",
      "[CV] min_samples_leaf=5, max_depth=12, max_features=log2 .............\n",
      "[CV]  min_samples_leaf=2, max_depth=12, max_features=log2, score=0.803092 -   1.5s\n",
      "[CV] min_samples_leaf=5, max_depth=12, max_features=log2 .............\n",
      "[CV]  min_samples_leaf=2, max_depth=12, max_features=log2, score=0.791375 -   1.6s\n",
      "[CV] min_samples_leaf=5, max_depth=12, max_features=log2 .............\n",
      "[CV]  min_samples_leaf=2, max_depth=12, max_features=log2, score=0.800438 -   1.7s\n",
      "[CV] min_samples_leaf=5, max_depth=12, max_features=log2 .............\n",
      "[CV]  min_samples_leaf=5, max_depth=12, max_features=log2, score=0.798742 -   1.5s\n",
      "[CV] min_samples_leaf=5, max_depth=12, max_features=log2 .............\n",
      "[CV]  min_samples_leaf=5, max_depth=12, max_features=log2, score=0.804735 -   1.6s\n",
      "[CV] min_samples_leaf=8, max_depth=12, max_features=log2 .............\n",
      "[CV]  min_samples_leaf=5, max_depth=12, max_features=log2, score=0.803343 -   1.4s\n",
      "[CV] min_samples_leaf=8, max_depth=12, max_features=log2 .............\n",
      "[CV]  min_samples_leaf=5, max_depth=12, max_features=log2, score=0.800660 -   1.4s\n",
      "[CV] min_samples_leaf=8, max_depth=12, max_features=log2 .............\n",
      "[CV]  min_samples_leaf=5, max_depth=12, max_features=log2, score=0.794763 -   1.4s\n",
      "[CV] min_samples_leaf=8, max_depth=12, max_features=log2 .............\n",
      "[CV]  min_samples_leaf=8, max_depth=12, max_features=log2, score=0.798660 -   1.4s\n",
      "[CV] min_samples_leaf=8, max_depth=12, max_features=log2 .............\n",
      "[CV]  min_samples_leaf=8, max_depth=12, max_features=log2, score=0.805624 -   1.4s\n",
      "[CV] min_samples_leaf=2, max_depth=12, max_features=None .............\n",
      "[CV]  min_samples_leaf=8, max_depth=12, max_features=log2, score=0.804770 -   1.4s\n",
      "[CV] min_samples_leaf=2, max_depth=12, max_features=None .............\n",
      "[CV]  min_samples_leaf=8, max_depth=12, max_features=log2, score=0.799927 -   1.3s\n",
      "[CV] min_samples_leaf=2, max_depth=12, max_features=None .............\n",
      "[CV]  min_samples_leaf=8, max_depth=12, max_features=log2, score=0.794579 -   1.4s\n",
      "[CV] min_samples_leaf=2, max_depth=12, max_features=None .............\n"
     ]
    },
    {
     "name": "stderr",
     "output_type": "stream",
     "text": [
      "[Parallel(n_jobs=-1)]: Done 120 tasks      | elapsed:   54.6s\n"
     ]
    },
    {
     "name": "stdout",
     "output_type": "stream",
     "text": [
      "[CV]  min_samples_leaf=2, max_depth=12, max_features=None, score=0.799267 -   3.9s\n",
      "[CV] min_samples_leaf=2, max_depth=12, max_features=None .............\n",
      "[CV]  min_samples_leaf=2, max_depth=12, max_features=None, score=0.802886 -   3.8s\n",
      "[CV] min_samples_leaf=5, max_depth=12, max_features=None .............\n",
      "[CV]  min_samples_leaf=2, max_depth=12, max_features=None, score=0.799597 -   4.0s\n",
      "[CV] min_samples_leaf=5, max_depth=12, max_features=None .............\n",
      "[CV]  min_samples_leaf=2, max_depth=12, max_features=None, score=0.800400 -   3.9s\n",
      "[CV] min_samples_leaf=5, max_depth=12, max_features=None .............\n",
      "[CV]  min_samples_leaf=5, max_depth=12, max_features=None, score=0.796473 -   3.4s\n",
      "[CV] min_samples_leaf=5, max_depth=12, max_features=None .............\n",
      "[CV]  min_samples_leaf=2, max_depth=12, max_features=None, score=0.795764 -   3.5s\n",
      "[CV] min_samples_leaf=5, max_depth=12, max_features=None .............\n",
      "[CV]  min_samples_leaf=5, max_depth=12, max_features=None, score=0.802524 -   3.3s\n",
      "[CV] min_samples_leaf=8, max_depth=12, max_features=None .............\n",
      "[CV]  min_samples_leaf=5, max_depth=12, max_features=None, score=0.803927 -   3.5s\n",
      "[CV] min_samples_leaf=8, max_depth=12, max_features=None .............\n",
      "[CV]  min_samples_leaf=5, max_depth=12, max_features=None, score=0.799342 -   4.2s\n",
      "[CV] min_samples_leaf=8, max_depth=12, max_features=None .............\n",
      "[CV]  min_samples_leaf=5, max_depth=12, max_features=None, score=0.799231 -   4.2s\n",
      "[CV] min_samples_leaf=8, max_depth=12, max_features=None .............\n",
      "[CV]  min_samples_leaf=8, max_depth=12, max_features=None, score=0.799151 -   4.1s\n",
      "[CV] min_samples_leaf=8, max_depth=12, max_features=None .............\n",
      "[CV]  min_samples_leaf=8, max_depth=12, max_features=None, score=0.805888 -   4.0s\n",
      "[CV]  min_samples_leaf=8, max_depth=12, max_features=None, score=0.801838 -   2.8s\n",
      "[CV]  min_samples_leaf=8, max_depth=12, max_features=None, score=0.803575 -   2.9s\n",
      "[CV]  min_samples_leaf=8, max_depth=12, max_features=None, score=0.793931 -   2.7s\n"
     ]
    },
    {
     "name": "stderr",
     "output_type": "stream",
     "text": [
      "[Parallel(n_jobs=-1)]: Done 135 out of 135 | elapsed:  1.1min finished\n"
     ]
    }
   ],
   "source": [
    "rf_40_outcome = gs_rf(X_train_40,y_train_40)"
   ]
  },
  {
   "cell_type": "code",
   "execution_count": 59,
   "metadata": {
    "collapsed": false,
    "scrolled": true
   },
   "outputs": [
    {
     "data": {
      "text/plain": [
       "defaultdict(list,\n",
       "            {'accuracy': (0.8428571428571429,\n",
       "              {'max_depth': 12,\n",
       "               'max_features': 'auto',\n",
       "               'min_samples_leaf': 5}),\n",
       "             'f1': (0.8028562673235098,\n",
       "              {'max_depth': 12,\n",
       "               'max_features': 'auto',\n",
       "               'min_samples_leaf': 5}),\n",
       "             'precision': (0.8237188479333692,\n",
       "              {'max_depth': 6, 'max_features': 'auto', 'min_samples_leaf': 8}),\n",
       "             'recall': (0.7867879031975912,\n",
       "              {'max_depth': 12, 'max_features': None, 'min_samples_leaf': 2})})"
      ]
     },
     "execution_count": 59,
     "metadata": {},
     "output_type": "execute_result"
    }
   ],
   "source": [
    "rf_40_outcome"
   ]
  },
  {
   "cell_type": "code",
   "execution_count": 61,
   "metadata": {
    "collapsed": true
   },
   "outputs": [],
   "source": [
    "rf_40 = RandomForestClassifier(max_depth= 12,\n",
    "               max_features= 'auto',\n",
    "               min_samples_leaf= 5, n_estimators = 500)"
   ]
  },
  {
   "cell_type": "code",
   "execution_count": 64,
   "metadata": {
    "collapsed": false
   },
   "outputs": [
    {
     "name": "stdout",
     "output_type": "stream",
     "text": [
      "AdaBoosting Classifer\n",
      "accuracy \n",
      "\n",
      "Fitting 5 folds for each of 9 candidates, totalling 45 fits\n"
     ]
    },
    {
     "name": "stderr",
     "output_type": "stream",
     "text": [
      "[Parallel(n_jobs=-1)]: Done  45 out of  45 | elapsed:  6.9min finished\n"
     ]
    },
    {
     "name": "stdout",
     "output_type": "stream",
     "text": [
      "recall \n",
      "\n",
      "Fitting 5 folds for each of 9 candidates, totalling 45 fits\n"
     ]
    },
    {
     "name": "stderr",
     "output_type": "stream",
     "text": [
      "[Parallel(n_jobs=-1)]: Done  45 out of  45 | elapsed:  6.3min finished\n"
     ]
    },
    {
     "name": "stdout",
     "output_type": "stream",
     "text": [
      "precision \n",
      "\n",
      "Fitting 5 folds for each of 9 candidates, totalling 45 fits\n"
     ]
    },
    {
     "name": "stderr",
     "output_type": "stream",
     "text": [
      "[Parallel(n_jobs=-1)]: Done  45 out of  45 | elapsed:  6.7min finished\n"
     ]
    },
    {
     "name": "stdout",
     "output_type": "stream",
     "text": [
      "f1 \n",
      "\n",
      "Fitting 5 folds for each of 9 candidates, totalling 45 fits\n"
     ]
    },
    {
     "name": "stderr",
     "output_type": "stream",
     "text": [
      "[Parallel(n_jobs=-1)]: Done  45 out of  45 | elapsed:  6.4min finished\n"
     ]
    }
   ],
   "source": [
    "abc_outcome = gs_abc(X_train_40,y_train_40)"
   ]
  },
  {
   "cell_type": "code",
   "execution_count": 65,
   "metadata": {
    "collapsed": false,
    "scrolled": false
   },
   "outputs": [
    {
     "data": {
      "text/plain": [
       "defaultdict(list,\n",
       "            {'accuracy': (0.8421734070410242,\n",
       "              {'learning_rate': 0.5, 'n_estimators': 800}),\n",
       "             'f1': (0.8019536391491112,\n",
       "              {'learning_rate': 0.5, 'n_estimators': 800}),\n",
       "             'precision': (0.8145763378719676,\n",
       "              {'learning_rate': 1, 'n_estimators': 500}),\n",
       "             'recall': (0.7900963284991483,\n",
       "              {'learning_rate': 0.5, 'n_estimators': 500})})"
      ]
     },
     "execution_count": 65,
     "metadata": {},
     "output_type": "execute_result"
    }
   ],
   "source": [
    "abc_outcome "
   ]
  },
  {
   "cell_type": "code",
   "execution_count": 66,
   "metadata": {
    "collapsed": true
   },
   "outputs": [],
   "source": [
    "ada_40 = AdaBoostClassifier(learning_rate=0.5,n_estimators =800)"
   ]
  },
  {
   "cell_type": "code",
   "execution_count": 40,
   "metadata": {
    "collapsed": false,
    "scrolled": true
   },
   "outputs": [
    {
     "data": {
      "text/plain": [
       "59.56"
      ]
     },
     "execution_count": 40,
     "metadata": {},
     "output_type": "execute_result"
    }
   ],
   "source": [
    "round(100 - (y_40.mean() * 100),2)"
   ]
  },
  {
   "cell_type": "markdown",
   "metadata": {},
   "source": [
    "# Fit model "
   ]
  },
  {
   "cell_type": "code",
   "execution_count": 62,
   "metadata": {
    "collapsed": false
   },
   "outputs": [
    {
     "name": "stdout",
     "output_type": "stream",
     "text": [
      "RandomForestClassifier :\n",
      "Train | Accuracy: 0.878 | Recall 0.829 | Precision 0.864 | f1 0.846\n",
      "Test | Accuracy: 0.811 | Recall 0.605 | Precision 0.892 | f1 0.721\n",
      " \n",
      "Features Importance Order\n",
      " 1) votes_cool                     0.331488\n",
      " 2) compliments                    0.254898\n",
      " 3) votes_funny                    0.108997\n",
      " 4) review_count                   0.094089\n",
      " 5) yelping_period                 0.052107\n",
      " 6) votes_useful                   0.048632\n",
      " 7) n_friends                      0.043220\n",
      " 8) average_stars                  0.032661\n",
      " 9) fans                           0.026377\n",
      "10) tip_count                      0.007532\n"
     ]
    }
   ],
   "source": [
    "fit_model(rf_40,X_train_40,y_train_40,X_test_40, y_test_40)"
   ]
  },
  {
   "cell_type": "code",
   "execution_count": 67,
   "metadata": {
    "collapsed": false
   },
   "outputs": [
    {
     "name": "stdout",
     "output_type": "stream",
     "text": [
      "AdaBoostClassifier :\n",
      "Train | Accuracy: 0.844 | Recall 0.791 | Precision 0.816 | f1 0.804\n",
      "Test | Accuracy: 0.792 | Recall 0.545 | Precision 0.901 | f1 0.679\n",
      " \n",
      "Features Importance Order\n",
      " 1) compliments                    0.211250\n",
      " 2) votes_useful                   0.145000\n",
      " 3) votes_funny                    0.143750\n",
      " 4) average_stars                  0.120000\n",
      " 5) votes_cool                     0.117500\n",
      " 6) review_count                   0.108750\n",
      " 7) yelping_period                 0.055000\n",
      " 8) n_friends                      0.045000\n",
      " 9) fans                           0.037500\n",
      "10) tip_count                      0.016250\n"
     ]
    }
   ],
   "source": [
    "fit_model(ada_40,X_train_40,y_train_40, X_test_40, y_test_40) "
   ]
  },
  {
   "cell_type": "code",
   "execution_count": null,
   "metadata": {
    "collapsed": true
   },
   "outputs": [],
   "source": []
  }
 ],
 "metadata": {
  "anaconda-cloud": {},
  "kernelspec": {
   "display_name": "Python [Root]",
   "language": "python",
   "name": "Python [Root]"
  },
  "language_info": {
   "codemirror_mode": {
    "name": "ipython",
    "version": 3
   },
   "file_extension": ".py",
   "mimetype": "text/x-python",
   "name": "python",
   "nbconvert_exporter": "python",
   "pygments_lexer": "ipython3",
   "version": "3.5.2"
  }
 },
 "nbformat": 4,
 "nbformat_minor": 0
}
