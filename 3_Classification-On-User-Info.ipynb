{
 "cells": [
  {
   "cell_type": "markdown",
   "metadata": {},
   "source": [
    "GOAL: Elite Classifier basing on User Basic Information \n",
    "\n",
    "Models to Compare On: \n",
    "\n",
    "    -Logistic Regression\n",
    "\n",
    "    -Random Forest\n",
    "\n",
    "    -Gradient Boosting\n",
    "\n",
    "    -AdaBoost Classifier\n",
    "    \n",
    "    - Support vector machines.\n",
    "\n"
   ]
  },
  {
   "cell_type": "code",
   "execution_count": 1,
   "metadata": {
    "collapsed": false,
    "scrolled": true
   },
   "outputs": [
    {
     "name": "stdout",
     "output_type": "stream",
     "text": [
      "Populating the interactive namespace from numpy and matplotlib\n"
     ]
    },
    {
     "name": "stderr",
     "output_type": "stream",
     "text": [
      "/Users/Charlotte/anaconda/lib/python3.5/site-packages/sklearn/cross_validation.py:44: DeprecationWarning: This module was deprecated in version 0.18 in favor of the model_selection module into which all the refactored classes and functions are moved. Also note that the interface of the new CV iterators are different from that of this module. This module will be removed in 0.20.\n",
      "  \"This module will be removed in 0.20.\", DeprecationWarning)\n",
      "/Users/Charlotte/anaconda/lib/python3.5/site-packages/sklearn/grid_search.py:43: DeprecationWarning: This module was deprecated in version 0.18 in favor of the model_selection module into which all the refactored classes and functions are moved. This module will be removed in 0.20.\n",
      "  DeprecationWarning)\n"
     ]
    }
   ],
   "source": [
    "%pylab inline\n",
    "import pandas as pd\n",
    "import numpy as np\n",
    "import seaborn as sns\n",
    "import re\n",
    "import string\n",
    "from collections import Counter\n",
    "from collections import defaultdict\n",
    "from confusion_mat import show_confusion_matrix\n",
    "\n",
    "\n",
    "# Evaluation - Optimization Tools\n",
    "from sklearn.pipeline import Pipeline,make_pipeline\n",
    "from sklearn.model_selection import cross_val_score,train_test_split\n",
    "from sklearn.metrics import accuracy_score, precision_score, recall_score, f1_score, roc_curve, auc,confusion_matrix, classification_report\n",
    "from sklearn.preprocessing import normalize, scale, StandardScaler, Normalizer\n",
    "from sklearn.grid_search import GridSearchCV\n",
    "\n",
    "# Classification Algorithms\n",
    "from sklearn.linear_model import LogisticRegression,SGDClassifier\n",
    "from sklearn.neighbors import KNeighborsClassifier\n",
    "from sklearn.naive_bayes import GaussianNB\n",
    "from sklearn.svm import SVC\n",
    "from sklearn.tree import DecisionTreeClassifier\n",
    "from sklearn.ensemble import RandomForestClassifier,AdaBoostClassifier, GradientBoostingClassifier,VotingClassifier\n"
   ]
  },
  {
   "cell_type": "code",
   "execution_count": 2,
   "metadata": {
    "collapsed": true
   },
   "outputs": [],
   "source": [
    "user = pd.read_pickle('data/user')"
   ]
  },
  {
   "cell_type": "code",
   "execution_count": 3,
   "metadata": {
    "collapsed": false,
    "scrolled": false
   },
   "outputs": [
    {
     "data": {
      "text/plain": [
       "Index(['yelping_since', 'compliments_plain', 'review_count',\n",
       "       'compliments_cute', 'compliments_writer', 'fans', 'compliments_note',\n",
       "       'compliments_hot', 'compliments_cool', 'compliments_profile',\n",
       "       'average_stars', 'compliments_more', 'elite', 'user_id', 'votes_cool',\n",
       "       'compliments_list', 'votes_funny', 'compliments_photos',\n",
       "       'compliments_funny', 'votes_useful', 'yelping_period', 'elite_status',\n",
       "       'n_friends', 'tip_count', 'compliments'],\n",
       "      dtype='object')"
      ]
     },
     "execution_count": 3,
     "metadata": {},
     "output_type": "execute_result"
    }
   ],
   "source": [
    "user.columns"
   ]
  },
  {
   "cell_type": "code",
   "execution_count": 5,
   "metadata": {
    "collapsed": false,
    "scrolled": true
   },
   "outputs": [
    {
     "data": {
      "text/plain": [
       "<matplotlib.axes._subplots.AxesSubplot at 0x1171f1080>"
      ]
     },
     "execution_count": 5,
     "metadata": {},
     "output_type": "execute_result"
    },
    {
     "data": {
      "image/png": "[encoded data removed]",
      "text/plain": [
       "<matplotlib.figure.Figure at 0x103e83240>"
      ]
     },
     "metadata": {},
     "output_type": "display_data"
    }
   ],
   "source": [
    "sns.countplot(user['elite_status'])"
   ]
  },
  {
   "cell_type": "markdown",
   "metadata": {},
   "source": [
    "# Feature Selection "
   ]
  },
  {
   "cell_type": "code",
   "execution_count": 4,
   "metadata": {
    "collapsed": false
   },
   "outputs": [],
   "source": [
    "# use all features given in user information \n",
    "all_features = [ 'compliments_plain', 'review_count',\n",
    "       'compliments_cute', 'compliments_writer', 'fans', 'compliments_note',\n",
    "       'compliments_hot', 'compliments_cool', 'compliments_profile',\n",
    "       'average_stars', 'compliments_more', 'votes_cool',\n",
    "       'compliments_list', 'votes_funny', 'compliments_photos',\n",
    "       'compliments_funny', 'votes_useful', 'yelping_period', \n",
    "       'n_friends', 'tip_count']"
   ]
  },
  {
   "cell_type": "code",
   "execution_count": 5,
   "metadata": {
    "collapsed": false
   },
   "outputs": [],
   "source": [
    "X_original = user[all_features]\n",
    "y_original= user.elite_status\n",
    "X_train_original, X_test_original, y_train_original, y_test_original = train_test_split(X_original,y_original,test_size=0.2)\n",
    "scale = StandardScaler()\n",
    "X_train_original = scale.fit_transform(X_train_original)\n",
    "X_test_original= scale.fit_transform(X_test_original)"
   ]
  },
  {
   "cell_type": "code",
   "execution_count": 6,
   "metadata": {
    "collapsed": true
   },
   "outputs": [],
   "source": [
    "# combine all compliments into one \n",
    "features = [ 'review_count','fans', 'average_stars','yelping_period','n_friends','tip_count',\n",
    "            'votes_cool','votes_funny', 'votes_useful', 'compliments']\n",
    "X_1 = user[features]\n",
    "y_1 = user.elite_status\n",
    "X_train_1, X_test_1, y_train_1, y_test_1 = train_test_split(X_1,y_1,test_size=0.2)\n",
    "X_train_1 = scale.fit_transform(X_train_1)\n",
    "X_test_1 = scale.fit_transform(X_test_1)"
   ]
  },
  {
   "cell_type": "markdown",
   "metadata": {},
   "source": [
    "# Select Best Models"
   ]
  },
  {
   "cell_type": "code",
   "execution_count": 91,
   "metadata": {
    "collapsed": false
   },
   "outputs": [],
   "source": [
    "def cross_val(models,X_train,y_train):\n",
    "    for model in models:\n",
    "        model.fit(X_train,y_train)\n",
    "        \n",
    "        print(str(model).split('(')[0],'CV:')\n",
    "        print('-- Accuracy:', round((cross_val_score(model, X_train, y_train, cv=5,scoring='accuracy').mean()), 3),\n",
    "              '| Recall:', round(cross_val_score(model, X_train, y_train, cv=5, scoring='recall').mean(), 3),\n",
    "              '| Precision:', round(cross_val_score(model, X_train, y_train, cv=5, scoring='precision').mean(), 3),\n",
    "              '| f1:', round(cross_val_score(model, X_train, y_train, cv=5, scoring='f1').mean(), 3),\n",
    "             '| auc:',round(cross_val_score(model, X_train, y_train, cv=5, scoring= 'roc_auc').mean(), 3))\n",
    "            "
   ]
  },
  {
   "cell_type": "code",
   "execution_count": 27,
   "metadata": {
    "collapsed": true
   },
   "outputs": [],
   "source": [
    "clf = [LogisticRegression(),RandomForestClassifier(),AdaBoostClassifier(),\n",
    "      DecisionTreeClassifier(),SGDClassifier()]"
   ]
  },
  {
   "cell_type": "markdown",
   "metadata": {},
   "source": [
    "<img src=\"http://i.giphy.com/l0MYv5EjWCxRt7ONy.gif\">"
   ]
  },
  {
   "cell_type": "code",
   "execution_count": 13,
   "metadata": {
    "collapsed": true
   },
   "outputs": [],
   "source": [
    "# Warning: This takes a long time to run. So run it and go get a coffee!"
   ]
  },
  {
   "cell_type": "code",
   "execution_count": 14,
   "metadata": {
    "collapsed": false,
    "scrolled": true
   },
   "outputs": [
    {
     "name": "stdout",
     "output_type": "stream",
     "text": [
      "LogisticRegression CV:\n",
      "-- Accuracy: 0.974 | Recall: 0.602 | Precision: 0.847 | f1: 0.704 | auc: 0.987\n",
      "RandomForestClassifier CV:\n",
      "-- Accuracy: 0.979 | Recall: 0.726 | Precision: 0.84 | f1: 0.779 | auc: 0.976\n",
      "AdaBoostClassifier CV:\n",
      "-- Accuracy: 0.979 | Recall: 0.778 | Precision: 0.81 | f1: 0.794 | auc: 0.992\n",
      "DecisionTreeClassifier CV:\n",
      "-- Accuracy: 0.97 | Recall: 0.724 | Precision: 0.708 | f1: 0.717 | auc: 0.854\n",
      "SGDClassifier CV:\n",
      "-- Accuracy: 0.975 | Recall: 0.617 | Precision: 0.867 | f1: 0.71 | auc: 0.979\n"
     ]
    }
   ],
   "source": [
    "# CV of combined compliment features\n",
    "cross_val(clf,X_train_1,y_train_1)"
   ]
  },
  {
   "cell_type": "code",
   "execution_count": null,
   "metadata": {
    "collapsed": true
   },
   "outputs": [],
   "source": [
    "# CV of all features\n",
    "cross_val(clf,X_train_orginal,y_train_orginal)"
   ]
  },
  {
   "cell_type": "code",
   "execution_count": null,
   "metadata": {
    "collapsed": true
   },
   "outputs": [],
   "source": [
    "LogisticRegression CV:\n",
    "-- Accuracy: 0.971 | Recall: 0.568 | Precision: 0.824 | f1: 0.672 | auc: 0.985\n",
    "RandomForestClassifier CV:\n",
    "-- Accuracy: 0.978 | Recall: 0.72 | Precision: 0.828 | f1: 0.769 | auc: 0.973\n",
    "AdaBoostClassifier CV:\n",
    "-- Accuracy: 0.978 | Recall: 0.769 | Precision: 0.796 | f1: 0.782 | auc: 0.991\n",
    "DecisionTreeClassifier CV:\n",
    "-- Accuracy: 0.969 | Recall: 0.712 | Precision: 0.698 | f1: 0.704 | auc: 0.847\n",
    "SGDClassifier CV:\n",
    "-- Accuracy: 0.972 | Recall: 0.545 | Precision: 0.862 | f1: 0.676 | auc: 0.98"
   ]
  },
  {
   "cell_type": "markdown",
   "metadata": {},
   "source": [
    ">## AdaBoostClassifier and RandomForestClassifier are selected \n",
    "### to model because they have the highest score for accuracy, recall and precision and f1 out of all the estimators "
   ]
  },
  {
   "cell_type": "markdown",
   "metadata": {},
   "source": [
    "<img src=\"http://i.giphy.com/xThuW5uXxjViPOlLWw.gif\">"
   ]
  },
  {
   "cell_type": "markdown",
   "metadata": {},
   "source": [
    "# Tunning Models"
   ]
  },
  {
   "cell_type": "code",
   "execution_count": 32,
   "metadata": {
    "collapsed": true
   },
   "outputs": [],
   "source": [
    "test = user.sample(frac=0.02, replace=False) #14k"
   ]
  },
  {
   "cell_type": "code",
   "execution_count": 39,
   "metadata": {
    "collapsed": true
   },
   "outputs": [],
   "source": [
    "X_gs = test[all_features]\n",
    "y_gs = test.elite_status\n",
    "X_gs = scale.fit_transform(X_gs)"
   ]
  },
  {
   "cell_type": "code",
   "execution_count": 71,
   "metadata": {
    "collapsed": false
   },
   "outputs": [],
   "source": [
    "def gs_rf(X_train,y_train):\n",
    "\n",
    "    param =  [{'max_features': [8,10,12],'max_depth': [10,15,16], \n",
    "                     'n_estimators' : [300,500] }]\n",
    "    grid_search = GridSearchCV(RandomForestClassifier(), param_grid = param, verbose = 3, cv = 3,n_jobs= -1, scoring = 'accuracy')\n",
    "    grid_search.fit(X_train, y_train)\n",
    "    output =  [grid_search.best_score_,grid_search.best_params_]\n",
    "    \n",
    "        \n",
    "    return output  \n",
    "                   "
   ]
  },
  {
   "cell_type": "code",
   "execution_count": 72,
   "metadata": {
    "collapsed": true
   },
   "outputs": [
    {
     "name": "stdout",
     "output_type": "stream",
     "text": [
      "Fitting 3 folds for each of 18 candidates, totalling 54 fits\n",
      "[CV] n_estimators=300, max_depth=10, max_features=8 ..................\n",
      "[CV] n_estimators=300, max_depth=10, max_features=8 ..................\n",
      "[CV] n_estimators=300, max_depth=10, max_features=8 ..................\n",
      "[CV] n_estimators=500, max_depth=10, max_features=8 ..................\n",
      "[CV]  n_estimators=300, max_depth=10, max_features=8, score=0.979899 -   5.9s\n",
      "[CV] n_estimators=500, max_depth=10, max_features=8 ..................\n",
      "[CV]  n_estimators=300, max_depth=10, max_features=8, score=0.980122 -   6.3s\n",
      "[CV]  n_estimators=300, max_depth=10, max_features=8, score=0.978584 -   6.2s\n",
      "[CV] n_estimators=500, max_depth=10, max_features=8 ..................\n",
      "[CV] n_estimators=300, max_depth=10, max_features=10 .................\n",
      "[CV]  n_estimators=500, max_depth=10, max_features=8, score=0.980122 -  10.4s\n",
      "[CV] n_estimators=300, max_depth=10, max_features=10 .................\n",
      "[CV]  n_estimators=300, max_depth=10, max_features=10, score=0.981215 -   6.8s\n",
      "[CV] n_estimators=300, max_depth=10, max_features=10 .................\n",
      "[CV]  n_estimators=500, max_depth=10, max_features=8, score=0.979244 -   8.9s\n",
      "[CV] n_estimators=500, max_depth=10, max_features=10 .................\n",
      "[CV]  n_estimators=500, max_depth=10, max_features=8, score=0.979240 -   9.2s\n",
      "[CV] n_estimators=500, max_depth=10, max_features=10 .................\n",
      "[CV]  n_estimators=300, max_depth=10, max_features=10, score=0.979026 -   5.7s\n",
      "[CV] n_estimators=500, max_depth=10, max_features=10 .................\n",
      "[CV]  n_estimators=300, max_depth=10, max_features=10, score=0.980114 -   5.6s\n",
      "[CV] n_estimators=300, max_depth=10, max_features=12 .................\n",
      "[CV]  n_estimators=500, max_depth=10, max_features=10, score=0.980122 -  10.3s\n",
      "[CV] n_estimators=300, max_depth=10, max_features=12 .................\n",
      "[CV]  n_estimators=500, max_depth=10, max_features=10, score=0.979681 -   9.9s\n",
      "[CV] n_estimators=300, max_depth=10, max_features=12 .................\n",
      "[CV]  n_estimators=300, max_depth=10, max_features=12, score=0.980559 -   7.3s\n",
      "[CV] n_estimators=500, max_depth=10, max_features=12 .................\n",
      "[CV]  n_estimators=500, max_depth=10, max_features=10, score=0.979677 -  10.1s\n",
      "[CV] n_estimators=500, max_depth=10, max_features=12 .................\n",
      "[CV]  n_estimators=300, max_depth=10, max_features=12, score=0.979681 -   5.0s\n",
      "[CV] n_estimators=500, max_depth=10, max_features=12 .................\n",
      "[CV]  n_estimators=300, max_depth=10, max_features=12, score=0.979021 -   5.3s\n",
      "[CV] n_estimators=300, max_depth=15, max_features=8 ..................\n",
      "[CV]  n_estimators=500, max_depth=10, max_features=12, score=0.979899 -   8.3s\n",
      "[CV] n_estimators=300, max_depth=15, max_features=8 ..................\n",
      "[CV]  n_estimators=500, max_depth=10, max_features=12, score=0.980122 -   8.7s\n",
      "[CV] n_estimators=300, max_depth=15, max_features=8 ..................\n",
      "[CV]  n_estimators=300, max_depth=15, max_features=8, score=0.979467 -   4.1s\n",
      "[CV] n_estimators=500, max_depth=15, max_features=8 ..................\n",
      "[CV]  n_estimators=300, max_depth=15, max_features=8, score=0.980118 -   3.8s\n",
      "[CV] n_estimators=500, max_depth=15, max_features=8 ..................\n",
      "[CV]  n_estimators=300, max_depth=15, max_features=8, score=0.979240 -   3.9s\n",
      "[CV] n_estimators=500, max_depth=15, max_features=8 ..................\n",
      "[CV]  n_estimators=500, max_depth=10, max_features=12, score=0.978802 -   8.6s\n",
      "[CV] n_estimators=300, max_depth=15, max_features=10 .................\n",
      "[CV]  n_estimators=500, max_depth=15, max_features=8, score=0.980559 -   6.6s\n",
      "[CV] n_estimators=300, max_depth=15, max_features=10 .................\n",
      "[CV]  n_estimators=300, max_depth=15, max_features=10, score=0.980996 -   4.6s\n",
      "[CV] n_estimators=300, max_depth=15, max_features=10 .................\n",
      "[CV]  n_estimators=500, max_depth=15, max_features=8, score=0.979244 -   6.3s\n",
      "[CV] n_estimators=500, max_depth=15, max_features=10 .................\n"
     ]
    },
    {
     "name": "stderr",
     "output_type": "stream",
     "text": [
      "[Parallel(n_jobs=-1)]: Done  24 tasks      | elapsed:   44.9s\n"
     ]
    },
    {
     "name": "stdout",
     "output_type": "stream",
     "text": [
      "[CV]  n_estimators=500, max_depth=15, max_features=8, score=0.979458 -   6.6s\n",
      "[CV] n_estimators=500, max_depth=15, max_features=10 .................\n",
      "[CV]  n_estimators=300, max_depth=15, max_features=10, score=0.978370 -   4.5s\n",
      "[CV] n_estimators=500, max_depth=15, max_features=10 .................\n",
      "[CV]  n_estimators=300, max_depth=15, max_features=10, score=0.978365 -   4.5s\n",
      "[CV] n_estimators=300, max_depth=15, max_features=12 .................\n",
      "[CV]  n_estimators=500, max_depth=15, max_features=10, score=0.980778 -   7.5s\n",
      "[CV] n_estimators=300, max_depth=15, max_features=12 .................\n",
      "[CV]  n_estimators=500, max_depth=15, max_features=10, score=0.979244 -   7.3s\n",
      "[CV] n_estimators=300, max_depth=15, max_features=12 .................\n",
      "[CV]  n_estimators=500, max_depth=15, max_features=10, score=0.978802 -   7.4s\n",
      "[CV] n_estimators=500, max_depth=15, max_features=12 .................\n",
      "[CV]  n_estimators=300, max_depth=15, max_features=12, score=0.980559 -   5.2s\n",
      "[CV] n_estimators=500, max_depth=15, max_features=12 .................\n",
      "[CV]  n_estimators=300, max_depth=15, max_features=12, score=0.979681 -   5.0s\n",
      "[CV] n_estimators=500, max_depth=15, max_features=12 .................\n",
      "[CV]  n_estimators=300, max_depth=15, max_features=12, score=0.979677 -   5.1s\n",
      "[CV] n_estimators=300, max_depth=16, max_features=8 ..................\n",
      "[CV]  n_estimators=500, max_depth=15, max_features=12, score=0.979899 -   8.1s\n",
      "[CV] n_estimators=300, max_depth=16, max_features=8 ..................\n",
      "[CV]  n_estimators=300, max_depth=16, max_features=8, score=0.981215 -   4.1s\n",
      "[CV] n_estimators=300, max_depth=16, max_features=8 ..................\n",
      "[CV]  n_estimators=500, max_depth=15, max_features=12, score=0.980122 -   8.7s\n",
      "[CV] n_estimators=500, max_depth=16, max_features=8 ..................\n",
      "[CV]  n_estimators=300, max_depth=16, max_features=8, score=0.978589 -   3.7s\n",
      "[CV] n_estimators=500, max_depth=16, max_features=8 ..................\n",
      "[CV]  n_estimators=500, max_depth=15, max_features=12, score=0.979021 -   8.4s\n",
      "[CV] n_estimators=500, max_depth=16, max_features=8 ..................\n",
      "[CV]  n_estimators=300, max_depth=16, max_features=8, score=0.978584 -   4.0s\n",
      "[CV] n_estimators=300, max_depth=16, max_features=10 .................\n",
      "[CV]  n_estimators=500, max_depth=16, max_features=8, score=0.979904 -   6.7s\n",
      "[CV] n_estimators=300, max_depth=16, max_features=10 .................\n",
      "[CV]  n_estimators=300, max_depth=16, max_features=10, score=0.980341 -   4.5s\n",
      "[CV] n_estimators=300, max_depth=16, max_features=10 .................\n",
      "[CV]  n_estimators=500, max_depth=16, max_features=8, score=0.979681 -   6.4s\n",
      "[CV] n_estimators=500, max_depth=16, max_features=10 .................\n",
      "[CV]  n_estimators=500, max_depth=16, max_features=8, score=0.978584 -   6.5s\n",
      "[CV] n_estimators=500, max_depth=16, max_features=10 .................\n",
      "[CV]  n_estimators=300, max_depth=16, max_features=10, score=0.979463 -   4.3s\n",
      "[CV] n_estimators=500, max_depth=16, max_features=10 .................\n",
      "[CV]  n_estimators=300, max_depth=16, max_features=10, score=0.979895 -   4.6s\n",
      "[CV] n_estimators=300, max_depth=16, max_features=12 .................\n",
      "[CV]  n_estimators=500, max_depth=16, max_features=10, score=0.980559 -   7.7s\n",
      "[CV] n_estimators=300, max_depth=16, max_features=12 .................\n",
      "[CV]  n_estimators=500, max_depth=16, max_features=10, score=0.979244 -   7.4s\n",
      "[CV] n_estimators=300, max_depth=16, max_features=12 .................\n",
      "[CV]  n_estimators=300, max_depth=16, max_features=12, score=0.979904 -   5.2s\n",
      "[CV] n_estimators=500, max_depth=16, max_features=12 .................\n",
      "[CV]  n_estimators=500, max_depth=16, max_features=10, score=0.979021 -   7.5s\n",
      "[CV] n_estimators=500, max_depth=16, max_features=12 .................\n",
      "[CV]  n_estimators=300, max_depth=16, max_features=12, score=0.980118 -   5.3s\n",
      "[CV] n_estimators=500, max_depth=16, max_features=12 .................\n",
      "[CV]  n_estimators=300, max_depth=16, max_features=12, score=0.979458 -   5.5s\n",
      "[CV]  n_estimators=500, max_depth=16, max_features=12, score=0.980122 -   8.2s\n",
      "[CV]  n_estimators=500, max_depth=16, max_features=12, score=0.979244 -   7.9s\n",
      "[CV]  n_estimators=500, max_depth=16, max_features=12, score=0.979240 -   6.0s\n"
     ]
    },
    {
     "name": "stderr",
     "output_type": "stream",
     "text": [
      "[Parallel(n_jobs=-1)]: Done  54 out of  54 | elapsed:  1.5min finished\n"
     ]
    }
   ],
   "source": [
    "rf_1 = gs_rf(X_gs,y_gs)"
   ]
  },
  {
   "cell_type": "code",
   "execution_count": 74,
   "metadata": {
    "collapsed": false
   },
   "outputs": [
    {
     "data": {
      "text/plain": [
       "[0.9801179812103998,\n",
       " {'max_depth': 10, 'max_features': 10, 'n_estimators': 300}]"
      ]
     },
     "execution_count": 74,
     "metadata": {},
     "output_type": "execute_result"
    }
   ],
   "source": [
    "rf_1"
   ]
  },
  {
   "cell_type": "code",
   "execution_count": 77,
   "metadata": {
    "collapsed": true
   },
   "outputs": [],
   "source": [
    "def gs_abc(X_train,y_train):\n",
    "    param = [{'learning_rate': [0.3,0.5,0.8,1],'n_estimators': [100,500,800]}]\n",
    "    grid_search = GridSearchCV(AdaBoostClassifier(), param_grid = param, verbose = 1, cv = 3,n_jobs= -1, scoring = 'accuracy')\n",
    "    grid_search.fit(X_train, y_train)\n",
    "    param = [grid_search.best_score_, grid_search.best_params_ ]\n",
    "    return  param\n"
   ]
  },
  {
   "cell_type": "code",
   "execution_count": 78,
   "metadata": {
    "collapsed": false,
    "scrolled": true
   },
   "outputs": [
    {
     "name": "stdout",
     "output_type": "stream",
     "text": [
      "Fitting 3 folds for each of 12 candidates, totalling 36 fits\n"
     ]
    },
    {
     "name": "stderr",
     "output_type": "stream",
     "text": [
      "[Parallel(n_jobs=-1)]: Done  36 out of  36 | elapsed:   59.3s finished\n"
     ]
    }
   ],
   "source": [
    "abc_1 = gs_abc(X_gs,y_gs)"
   ]
  },
  {
   "cell_type": "code",
   "execution_count": 79,
   "metadata": {
    "collapsed": false
   },
   "outputs": [
    {
     "data": {
      "text/plain": [
       "[0.9790255625955866, {'learning_rate': 0.3, 'n_estimators': 100}]"
      ]
     },
     "execution_count": 79,
     "metadata": {},
     "output_type": "execute_result"
    }
   ],
   "source": [
    "abc_1 "
   ]
  },
  {
   "cell_type": "code",
   "execution_count": 94,
   "metadata": {
    "collapsed": false,
    "scrolled": true
   },
   "outputs": [
    {
     "data": {
      "text/plain": [
       "defaultdict(list,\n",
       "            {'accuracy': (0.8261497288541446,\n",
       "              {'learning_rate': 0.8, 'n_estimators': 800}),\n",
       "             'f1': (0.8156364736219641,\n",
       "              {'learning_rate': 0.8, 'n_estimators': 800}),\n",
       "             'precision': (0.8187658548023466,\n",
       "              {'learning_rate': 0.8, 'n_estimators': 800}),\n",
       "             'recall': (0.8129603337782988,\n",
       "              {'learning_rate': 0.8, 'n_estimators': 500})})"
      ]
     },
     "execution_count": 94,
     "metadata": {},
     "output_type": "execute_result"
    }
   ],
   "source": [
    "abc_1"
   ]
  },
  {
   "cell_type": "markdown",
   "metadata": {
    "collapsed": true
   },
   "source": [
    "# Apply Models to Testing Dataset"
   ]
  },
  {
   "cell_type": "code",
   "execution_count": 7,
   "metadata": {
    "collapsed": true
   },
   "outputs": [],
   "source": [
    "def plot_roc(y_test, pred_test):\n",
    "    fpr, tpr, _= roc_curve(y_test, pred_test)\n",
    "    roc_auc = auc(fpr,tpr)\n",
    "    plt.plot(fpr,tpr, label = 'area %.2f' %roc_auc)\n",
    "    plt.plot(np.linspace(0,1,10),np.linspace(0,1,10))\n",
    "    plt.xlim([-0.05,1.05])\n",
    "    plt.ylim([-0.05,1.05])\n",
    "    plt.legend(loc = 'lower right')\n",
    "    plt.show()"
   ]
  },
  {
   "cell_type": "code",
   "execution_count": 36,
   "metadata": {
    "collapsed": true
   },
   "outputs": [],
   "source": [
    "def fit_model(model,features,X_train,y_train,X_test,y_test):\n",
    "    \"Fit Model --- Return Evaluation Metrics\"\n",
    "    \n",
    "    model = model.fit(X_train, y_train)\n",
    "    train_pred = model.predict(X_train)\n",
    "    test_pred = model.predict(X_test)\n",
    "    prob = model.predict_proba(X_test)\n",
    "    \n",
    "    print(str(model).split('(')[0],':')\n",
    "    print('Train | Accuracy:', round(accuracy_score(y_train, train_pred),3),\n",
    "          '| Recall',round(recall_score(y_train, train_pred),3),\n",
    "          '| Precision',round(precision_score(y_train, train_pred),3),\n",
    "          '| f1',round(f1_score(y_train, train_pred),3))\n",
    "\n",
    "    print('Test | Accuracy:', round(accuracy_score(y_test, test_pred),3),\n",
    "          '| Recall',round(recall_score(y_test, test_pred),3),\n",
    "          '| Precision',round(precision_score(y_test, test_pred),3),\n",
    "          '| f1',round(f1_score(y_test, test_pred),3))\n",
    "    \n",
    "    feature_importances = model.feature_importances_\n",
    "    feature_indices = np.argsort(feature_importances)[::-1]\n",
    "    print(' ')\n",
    "    print('Features Importance Order')\n",
    "    for f,index in enumerate(feature_indices):\n",
    "        print(\"%2d) %-*s %f\" % (f + 1, 30,features[index], feature_importances[index]))\n",
    "    return test_pred, prob[:,1]\n"
   ]
  },
  {
   "cell_type": "markdown",
   "metadata": {},
   "source": [
    "### Random Forest"
   ]
  },
  {
   "cell_type": "code",
   "execution_count": 37,
   "metadata": {
    "collapsed": false
   },
   "outputs": [],
   "source": [
    "rf = RandomForestClassifier(max_depth= 15, max_features = 8, n_estimators = 300)"
   ]
  },
  {
   "cell_type": "code",
   "execution_count": 38,
   "metadata": {
    "collapsed": false,
    "scrolled": true
   },
   "outputs": [
    {
     "name": "stdout",
     "output_type": "stream",
     "text": [
      "RandomForestClassifier :\n",
      "Train | Accuracy: 0.992 | Recall 0.911 | Precision 0.927 | f1 0.919\n",
      "Test | Accuracy: 0.979 | Recall 0.757 | Precision 0.83 | f1 0.792\n",
      " \n",
      "Features Importance Order\n",
      " 1) compliments                    0.548838\n",
      " 2) votes_cool                     0.142948\n",
      " 3) review_count                   0.106185\n",
      " 4) votes_useful                   0.046041\n",
      " 5) yelping_period                 0.041479\n",
      " 6) average_stars                  0.032962\n",
      " 7) n_friends                      0.029213\n",
      " 8) votes_funny                    0.027122\n",
      " 9) fans                           0.015679\n",
      "10) tip_count                      0.009534\n"
     ]
    }
   ],
   "source": [
    "'RF - combined compliments'\n",
    "combined_rf_pred,combined_rf_prob = fit_model(rf,features,X_train_1,y_train_1,X_test_1,y_test_1)"
   ]
  },
  {
   "cell_type": "code",
   "execution_count": 11,
   "metadata": {
    "collapsed": false
   },
   "outputs": [
    {
     "name": "stdout",
     "output_type": "stream",
     "text": [
      "RandomForestClassifier :\n",
      "Train | Accuracy: 0.992 | Recall 0.901 | Precision 0.947 | f1 0.924\n",
      "Test | Accuracy: 0.981 | Recall 0.789 | Precision 0.834 | f1 0.811\n",
      " \n",
      "Features Importance Order\n",
      " 1) votes_cool                     0.266432\n",
      " 2) compliments_cool               0.187547\n",
      " 3) review_count                   0.114862\n",
      " 4) compliments_writer             0.106368\n",
      " 5) votes_useful                   0.098683\n",
      " 6) compliments_hot                0.039513\n",
      " 7) yelping_period                 0.034065\n",
      " 8) votes_funny                    0.024300\n",
      " 9) n_friends                      0.022835\n",
      "10) average_stars                  0.021631\n",
      "11) fans                           0.019316\n",
      "12) compliments_plain              0.018093\n",
      "13) compliments_note               0.009060\n",
      "14) compliments_more               0.008399\n",
      "15) compliments_funny              0.007510\n",
      "16) tip_count                      0.006501\n",
      "17) compliments_photos             0.005409\n",
      "18) compliments_profile            0.003988\n",
      "19) compliments_cute               0.003740\n",
      "20) compliments_list               0.001747\n"
     ]
    }
   ],
   "source": [
    "'RF - all features'\n",
    "all_rf_pred,all_rf_prob = fit_model(rf,all_features,X_train_original,y_train_original,X_test_original,y_test_original) #2:43 "
   ]
  },
  {
   "cell_type": "markdown",
   "metadata": {},
   "source": [
    "### AdaBoost Classfier"
   ]
  },
  {
   "cell_type": "code",
   "execution_count": 12,
   "metadata": {
    "collapsed": true
   },
   "outputs": [],
   "source": [
    "ada = AdaBoostClassifier(learning_rate=0.8,n_estimators=500) # 2:54"
   ]
  },
  {
   "cell_type": "code",
   "execution_count": 13,
   "metadata": {
    "collapsed": false,
    "scrolled": false
   },
   "outputs": [
    {
     "name": "stdout",
     "output_type": "stream",
     "text": [
      "AdaBoostClassifier :\n",
      "Train | Accuracy: 0.98 | Recall 0.784 | Precision 0.826 | f1 0.805\n",
      "Test | Accuracy: 0.978 | Recall 0.82 | Precision 0.765 | f1 0.792\n",
      " \n",
      "Features Importance Order\n",
      " 1) review_count                   0.192000\n",
      " 2) average_stars                  0.096000\n",
      " 3) votes_useful                   0.096000\n",
      " 4) compliments_writer             0.070000\n",
      " 5) votes_cool                     0.070000\n",
      " 6) compliments_cool               0.060000\n",
      " 7) votes_funny                    0.054000\n",
      " 8) compliments_hot                0.052000\n",
      " 9) yelping_period                 0.050000\n",
      "10) fans                           0.032000\n",
      "11) compliments_cute               0.030000\n",
      "12) n_friends                      0.030000\n",
      "13) compliments_plain              0.028000\n",
      "14) compliments_photos             0.028000\n",
      "15) compliments_funny              0.024000\n",
      "16) compliments_note               0.022000\n",
      "17) compliments_more               0.022000\n",
      "18) compliments_profile            0.018000\n",
      "19) tip_count                      0.014000\n",
      "20) compliments_list               0.012000\n"
     ]
    }
   ],
   "source": [
    "'AdaBoost all features'\n",
    "all_ada_pred,all_ada_prob = fit_model(ada,all_features,X_train_original,y_train_original,X_test_original,y_test_original) #2:10 "
   ]
  },
  {
   "cell_type": "code",
   "execution_count": 14,
   "metadata": {
    "collapsed": false,
    "scrolled": false
   },
   "outputs": [
    {
     "name": "stdout",
     "output_type": "stream",
     "text": [
      "AdaBoostClassifier :\n",
      "Train | Accuracy: 0.979 | Recall 0.778 | Precision 0.809 | f1 0.793\n",
      "Test | Accuracy: 0.978 | Recall 0.766 | Precision 0.818 | f1 0.791\n",
      " \n",
      "Features Importance Order\n",
      " 1) review_count                   0.250000\n",
      " 2) compliments                    0.156000\n",
      " 3) votes_useful                   0.138000\n",
      " 4) average_stars                  0.100000\n",
      " 5) votes_funny                    0.096000\n",
      " 6) tip_count                      0.066000\n",
      " 7) votes_cool                     0.062000\n",
      " 8) yelping_period                 0.062000\n",
      " 9) fans                           0.036000\n",
      "10) n_friends                      0.034000\n"
     ]
    }
   ],
   "source": [
    "'AdaBoost Combined Compliments'\n",
    "combined_ada_pred,combined_ada_prob = fit_model(ada,features,X_train_1,y_train_1,X_test_1,y_test_1)"
   ]
  },
  {
   "cell_type": "code",
   "execution_count": 41,
   "metadata": {
    "collapsed": false
   },
   "outputs": [],
   "source": [
    "# rf_confusion = confusion_matrix(y_test_1, all_rf_pred )\n",
    "# ada_confusion = confusion_matrix(y_test_1, all_ada_pred )"
   ]
  },
  {
   "cell_type": "code",
   "execution_count": 1,
   "metadata": {
    "collapsed": false
   },
   "outputs": [],
   "source": [
    "# show_confusion_matrix(rf_confusion,class_labels=[\"Non-Elite\", \"Elite\"])\n",
    "# show_confusion_matrix(ada_confusion,class_labels=[\"Non-Elite\", \"Elite\"])"
   ]
  },
  {
   "cell_type": "code",
   "execution_count": 2,
   "metadata": {
    "collapsed": false
   },
   "outputs": [],
   "source": [
    "# plot_roc(y_test_1, all_rf_prob )\n",
    "# plot_roc(y_test_1, all_ada_prob )"
   ]
  },
  {
   "cell_type": "markdown",
   "metadata": {},
   "source": [
    "# Different dataset\n",
    "\n",
    "> ## We see earlier that number of reviews is a good indicator for elite users. If increasing the threshold for user reviews, I want to test how good the model predicts for elite status. "
   ]
  },
  {
   "cell_type": "code",
   "execution_count": 93,
   "metadata": {
    "collapsed": false
   },
   "outputs": [],
   "source": [
    "user_40 = user.ix[user['review_count'] > 50]"
   ]
  },
  {
   "cell_type": "code",
   "execution_count": 94,
   "metadata": {
    "collapsed": false
   },
   "outputs": [
    {
     "data": {
      "text/plain": [
       "<matplotlib.axes._subplots.AxesSubplot at 0x1307baba8>"
      ]
     },
     "execution_count": 94,
     "metadata": {},
     "output_type": "execute_result"
    },
    {
     "data": {
      "image/png": "[encoded data removed]",
      "text/plain": [
       "<matplotlib.figure.Figure at 0x1307d7a20>"
      ]
     },
     "metadata": {},
     "output_type": "display_data"
    }
   ],
   "source": [
    "sns.countplot(user_40['elite_status'])"
   ]
  },
  {
   "cell_type": "code",
   "execution_count": 95,
   "metadata": {
    "collapsed": false
   },
   "outputs": [],
   "source": [
    "X_40 = user_40[features]\n",
    "y_40 = user_40.elite_status\n",
    "X_train_40, X_test_40, y_train_40, y_test_40 = train_test_split(X_40,y_40,test_size=0.2)\n",
    "X_train_40 = scale.fit_transform(X_train_40)\n",
    "X_test_40 = scale.fit_transform(X_test_40)"
   ]
  },
  {
   "cell_type": "code",
   "execution_count": 96,
   "metadata": {
    "collapsed": false
   },
   "outputs": [
    {
     "data": {
      "text/plain": [
       "52.67"
      ]
     },
     "execution_count": 96,
     "metadata": {},
     "output_type": "execute_result"
    }
   ],
   "source": [
    "'Calculate Baseline'\n",
    "round(100 - (y_40.mean() * 100),2)"
   ]
  },
  {
   "cell_type": "code",
   "execution_count": 97,
   "metadata": {
    "collapsed": true
   },
   "outputs": [],
   "source": [
    "new_clf = [RandomForestClassifier(),AdaBoostClassifier()]"
   ]
  },
  {
   "cell_type": "code",
   "execution_count": 98,
   "metadata": {
    "collapsed": false,
    "scrolled": true
   },
   "outputs": [
    {
     "name": "stdout",
     "output_type": "stream",
     "text": [
      "RandomForestClassifier CV:\n",
      "-- Accuracy: 0.813 | Recall: 0.763 | Precision: 0.829 | f1: 0.795 | auc: 0.887\n",
      "AdaBoostClassifier CV:\n",
      "-- Accuracy: 0.82 | Recall: 0.81 | Precision: 0.811 | f1: 0.81 | auc: 0.9\n"
     ]
    }
   ],
   "source": [
    "cross_val(new_clf,X_train_40,y_train_40)"
   ]
  },
  {
   "cell_type": "code",
   "execution_count": 99,
   "metadata": {
    "collapsed": true
   },
   "outputs": [],
   "source": [
    "rf_40 = RandomForestClassifier(max_depth= 15,max_features= 8, n_estimators = 500)\n",
    "ada_40 = AdaBoostClassifier(learning_rate=0.5,n_estimators =800)\n",
    "esb = VotingClassifier(estimators=[('rf', rf_40), ('ada', ada_40)], voting='hard')"
   ]
  },
  {
   "cell_type": "markdown",
   "metadata": {},
   "source": [
    "# Fit model "
   ]
  },
  {
   "cell_type": "code",
   "execution_count": 115,
   "metadata": {
    "collapsed": false
   },
   "outputs": [
    {
     "name": "stdout",
     "output_type": "stream",
     "text": [
      "RandomForestClassifier :\n",
      "Train | Accuracy: 0.944 | Recall 0.946 | Precision 0.936 | f1 0.941\n",
      "Test | Accuracy: 0.777 | Recall 0.602 | Precision 0.887 | f1 0.717\n",
      " \n",
      "Features Importance Order\n",
      " 1) compliments                    0.458598\n",
      " 2) votes_cool                     0.127252\n",
      " 3) yelping_period                 0.070935\n",
      " 4) review_count                   0.069237\n",
      " 5) votes_useful                   0.063411\n",
      " 6) average_stars                  0.061801\n",
      " 7) n_friends                      0.052765\n",
      " 8) votes_funny                    0.048990\n",
      " 9) fans                           0.029842\n",
      "10) tip_count                      0.017169\n"
     ]
    }
   ],
   "source": [
    "rf_pred_40,rf_prob_40 = fit_model(rf_40,features,X_train_40,y_train_40,X_test_40, y_test_40)"
   ]
  },
  {
   "cell_type": "code",
   "execution_count": 104,
   "metadata": {
    "collapsed": false,
    "scrolled": false
   },
   "outputs": [
    {
     "name": "stdout",
     "output_type": "stream",
     "text": [
      "AdaBoostClassifier :\n",
      "Train | Accuracy: 0.827 | Recall 0.815 | Precision 0.82 | f1 0.817\n",
      "Test | Accuracy: 0.769 | Recall 0.571 | Precision 0.903 | f1 0.699\n",
      " \n",
      "Features Importance Order\n",
      " 1) votes_useful                   0.167500\n",
      " 2) compliments                    0.165000\n",
      " 3) votes_cool                     0.157500\n",
      " 4) votes_funny                    0.135000\n",
      " 5) review_count                   0.086250\n",
      " 6) average_stars                  0.083750\n",
      " 7) n_friends                      0.080000\n",
      " 8) yelping_period                 0.053750\n",
      " 9) fans                           0.051250\n",
      "10) tip_count                      0.020000\n"
     ]
    }
   ],
   "source": [
    "ada_pred_40,ada_prob_40 = fit_model(ada_40,features,X_train_40,y_train_40, X_test_40, y_test_40) "
   ]
  },
  {
   "cell_type": "code",
   "execution_count": 112,
   "metadata": {
    "collapsed": false
   },
   "outputs": [
    {
     "name": "stdout",
     "output_type": "stream",
     "text": [
      "VotingClassifier :\n",
      "Train | Accuracy: 0.881 | Recall 0.815 | Precision 0.926 | f1 0.867\n",
      "Test | Accuracy: 0.764 | Recall 0.549 | Precision 0.913 | f1 0.686\n"
     ]
    }
   ],
   "source": [
    "esb_pred = fit_model(esb,features, X_train_40,y_train_40, X_test_40, y_test_40) "
   ]
  },
  {
   "cell_type": "code",
   "execution_count": 119,
   "metadata": {
    "collapsed": false
   },
   "outputs": [],
   "source": [
    "rf_confusion = confusion_matrix(y_test_40, rf_pred_40 )\n",
    "ada_confusion = confusion_matrix(y_test_40, ada_pred_40 )\n",
    "esb_confusion = confusion_matrix(y_test_40, esb_pred )"
   ]
  },
  {
   "cell_type": "code",
   "execution_count": 121,
   "metadata": {
    "collapsed": false
   },
   "outputs": [
    {
     "data": {
      "image/png": "[encoded data removed]",
      "text/plain": [
       "<matplotlib.figure.Figure at 0x1317024a8>"
      ]
     },
     "metadata": {},
     "output_type": "display_data"
    },
    {
     "data": {
      "image/png": "[encoded data removed]",
      "text/plain": [
       "<matplotlib.figure.Figure at 0x1317024e0>"
      ]
     },
     "metadata": {},
     "output_type": "display_data"
    },
    {
     "data": {
      "image/png": "[encoded data removed]",
      "text/plain": [
       "<matplotlib.figure.Figure at 0x162ded470>"
      ]
     },
     "metadata": {},
     "output_type": "display_data"
    }
   ],
   "source": [
    "show_confusion_matrix(rf_confusion,class_labels=[\"Non-Elite\", \"Elite\"])\n",
    "show_confusion_matrix(ada_confusion,class_labels=[\"Non-Elite\", \"Elite\"])\n",
    "show_confusion_matrix(esb_confusion,class_labels=[\"Non-Elite\", \"Elite\"])"
   ]
  },
  {
   "cell_type": "code",
   "execution_count": 123,
   "metadata": {
    "collapsed": false
   },
   "outputs": [
    {
     "data": {
      "image/png": "[encoded data removed]",
      "text/plain": [
       "<matplotlib.figure.Figure at 0x162953ef0>"
      ]
     },
     "metadata": {},
     "output_type": "display_data"
    },
    {
     "data": {
      "image/png": "[encoded data removed]",
      "text/plain": [
       "<matplotlib.figure.Figure at 0x16295f080>"
      ]
     },
     "metadata": {},
     "output_type": "display_data"
    }
   ],
   "source": [
    "plot_roc(y_test_40, rf_prob_40 )\n",
    "plot_roc(y_test_40, ada_prob_40 )"
   ]
  },
  {
   "cell_type": "code",
   "execution_count": null,
   "metadata": {
    "collapsed": true
   },
   "outputs": [],
   "source": []
  }
 ],
 "metadata": {
  "anaconda-cloud": {},
  "kernelspec": {
   "display_name": "Python [Root]",
   "language": "python",
   "name": "Python [Root]"
  },
  "language_info": {
   "codemirror_mode": {
    "name": "ipython",
    "version": 3
   },
   "file_extension": ".py",
   "mimetype": "text/x-python",
   "name": "python",
   "nbconvert_exporter": "python",
   "pygments_lexer": "ipython3",
   "version": "3.5.2"
  }
 },
 "nbformat": 4,
 "nbformat_minor": 0
}
