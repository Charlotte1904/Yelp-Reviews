{
 "cells": [
  {
   "cell_type": "markdown",
   "metadata": {},
   "source": [
    "# YELP DATASET\n"
   ]
  },
  {
   "cell_type": "markdown",
   "metadata": {},
   "source": [
    "# Goal: Using user information to improve restaurants quality"
   ]
  },
  {
   "cell_type": "markdown",
   "metadata": {},
   "source": [
    "\n",
    "### One: Review \n",
    "> #### Is there a common theme in users' first review? If yes, what is the prevelant theme? "
   ]
  },
  {
   "cell_type": "markdown",
   "metadata": {},
   "source": [
    "### Two: Elite User Program: \n",
    "\n",
    "> #### a. What factors make a user become elite? ( Quality vs Quantity ) \n",
    ">\n",
    "#### b. Is there a trend in users'reviews? If yes, what subtopics they usually pay attention to? \n",
    ">\n",
    "#### c. How many year each user maintain the elite status? \n",
    ">\n",
    "#### d. Is there any user who has quality review and/or with high quantity that does not have elite status? Does it affect there loyalty for yelp?\n",
    ">\n",
    "#### e. Do most people leave reviews when they travel?\n",
    "\n",
    "### Three: Tip \n",
    "> #### Correlation between tips & reviews. What makes one to leave tips? Tips predictions.\n"
   ]
  },
  {
   "cell_type": "markdown",
   "metadata": {},
   "source": [
    "Dataset Source: https://www.yelp.com/dataset_challenge"
   ]
  },
  {
   "cell_type": "code",
   "execution_count": 1,
   "metadata": {
    "collapsed": false
   },
   "outputs": [
    {
     "name": "stdout",
     "output_type": "stream",
     "text": [
      "Populating the interactive namespace from numpy and matplotlib\n"
     ]
    }
   ],
   "source": [
    "%pylab inline\n",
    "import pandas as pd\n",
    "import numpy as np\n",
    "import seaborn as sns\n",
    "import re\n",
    "from collections import Counter\n",
    "from sklearn.feature_extraction.text import CountVectorizer, TfidfVectorizer\n",
    "from sklearn.decomposition import NMF\n",
    "from sklearn.decomposition.online_lda import LatentDirichletAllocation\n",
    "import string\n",
    "from sklearn.pipeline import Pipeline"
   ]
  },
  {
   "cell_type": "code",
   "execution_count": 2,
   "metadata": {
    "collapsed": true
   },
   "outputs": [],
   "source": [
    "# %load_ext sql"
   ]
  },
  {
   "cell_type": "code",
   "execution_count": 3,
   "metadata": {
    "collapsed": false,
    "scrolled": true
   },
   "outputs": [],
   "source": [
    "# !pip install ipython-sql"
   ]
  },
  {
   "cell_type": "markdown",
   "metadata": {},
   "source": [
    "# Read Data"
   ]
  },
  {
   "cell_type": "code",
   "execution_count": 4,
   "metadata": {
    "collapsed": false
   },
   "outputs": [
    {
     "name": "stderr",
     "output_type": "stream",
     "text": [
      "/Users/Charlotte/anaconda/lib/python3.5/site-packages/IPython/core/interactiveshell.py:2723: DtypeWarning: Columns (1,4,7,17,26,29,49,60,62,79,86,94) have mixed types. Specify dtype option on import or set low_memory=False.\n",
      "  interactivity=interactivity, compiler=compiler, result=result)\n"
     ]
    }
   ],
   "source": [
    "user = pd.read_csv('csv/user.csv')\n",
    "business = pd.read_csv('csv/business.csv')\n",
    "review = pd.read_csv('csv/review.csv')\n",
    "tip = pd.read_csv('csv/tip.csv')"
   ]
  },
  {
   "cell_type": "code",
   "execution_count": 5,
   "metadata": {
    "collapsed": true
   },
   "outputs": [],
   "source": [
    "# from sqlalchemy import create_engine\n",
    "# engine = create_engine('sqlite:///csv.db')\n",
    "# conn = engine.connect()"
   ]
  },
  {
   "cell_type": "code",
   "execution_count": 6,
   "metadata": {
    "collapsed": false
   },
   "outputs": [],
   "source": [
    "def rename_column(file):\n",
    "    new_names = list()\n",
    "    for col in file:\n",
    "        new_names.append(col.replace('.', '_', len(col)).replace(' ', '_', len(col)).lower())\n",
    "    return new_names"
   ]
  },
  {
   "cell_type": "code",
   "execution_count": 7,
   "metadata": {
    "collapsed": false
   },
   "outputs": [],
   "source": [
    "user.columns = rename_column(user.columns)\n",
    "business.columns = rename_column(business.columns)\n",
    "business.columns = [ re.sub('attributes_', '', c) for c in business.columns ]\n",
    "review.columns = rename_column(review.columns)"
   ]
  },
  {
   "cell_type": "code",
   "execution_count": 8,
   "metadata": {
    "collapsed": true
   },
   "outputs": [],
   "source": [
    "user = user.ix[user['review_count'] != 0]\n",
    "user = user.drop(['type','friends'],axis = 1 )"
   ]
  },
  {
   "cell_type": "code",
   "execution_count": 9,
   "metadata": {
    "collapsed": false
   },
   "outputs": [],
   "source": [
    "review = review.drop('type',axis = 1)\n",
    "business = business.drop('type',axis = 1)\n",
    "tip = tip.drop('type',axis = 1)"
   ]
  },
  {
   "cell_type": "code",
   "execution_count": 10,
   "metadata": {
    "collapsed": true
   },
   "outputs": [],
   "source": [
    "user = user.reset_index()"
   ]
  },
  {
   "cell_type": "code",
   "execution_count": 11,
   "metadata": {
    "collapsed": false
   },
   "outputs": [
    {
     "data": {
      "text/html": [
       "<div>\n",
       "<table border=\"1\" class=\"dataframe\">\n",
       "  <thead>\n",
       "    <tr style=\"text-align: right;\">\n",
       "      <th></th>\n",
       "      <th>index</th>\n",
       "      <th>yelping_since</th>\n",
       "      <th>compliments_plain</th>\n",
       "      <th>review_count</th>\n",
       "      <th>compliments_cute</th>\n",
       "      <th>compliments_writer</th>\n",
       "      <th>fans</th>\n",
       "      <th>compliments_note</th>\n",
       "      <th>compliments_hot</th>\n",
       "      <th>compliments_cool</th>\n",
       "      <th>...</th>\n",
       "      <th>compliments_more</th>\n",
       "      <th>elite</th>\n",
       "      <th>name</th>\n",
       "      <th>user_id</th>\n",
       "      <th>votes_cool</th>\n",
       "      <th>compliments_list</th>\n",
       "      <th>votes_funny</th>\n",
       "      <th>compliments_photos</th>\n",
       "      <th>compliments_funny</th>\n",
       "      <th>votes_useful</th>\n",
       "    </tr>\n",
       "  </thead>\n",
       "  <tbody>\n",
       "    <tr>\n",
       "      <th>686541</th>\n",
       "      <td>686554</td>\n",
       "      <td>2016-02</td>\n",
       "      <td>NaN</td>\n",
       "      <td>1</td>\n",
       "      <td>NaN</td>\n",
       "      <td>NaN</td>\n",
       "      <td>0</td>\n",
       "      <td>NaN</td>\n",
       "      <td>NaN</td>\n",
       "      <td>NaN</td>\n",
       "      <td>...</td>\n",
       "      <td>NaN</td>\n",
       "      <td>[]</td>\n",
       "      <td>MAureen</td>\n",
       "      <td>uRM8uxxbhum_Bedx1c1frw</td>\n",
       "      <td>1</td>\n",
       "      <td>NaN</td>\n",
       "      <td>0</td>\n",
       "      <td>NaN</td>\n",
       "      <td>NaN</td>\n",
       "      <td>2</td>\n",
       "    </tr>\n",
       "    <tr>\n",
       "      <th>686542</th>\n",
       "      <td>686555</td>\n",
       "      <td>2016-04</td>\n",
       "      <td>NaN</td>\n",
       "      <td>1</td>\n",
       "      <td>NaN</td>\n",
       "      <td>NaN</td>\n",
       "      <td>0</td>\n",
       "      <td>NaN</td>\n",
       "      <td>NaN</td>\n",
       "      <td>NaN</td>\n",
       "      <td>...</td>\n",
       "      <td>NaN</td>\n",
       "      <td>[]</td>\n",
       "      <td>Amelia</td>\n",
       "      <td>DL0S4Ro4KY77akGPbEkrug</td>\n",
       "      <td>0</td>\n",
       "      <td>NaN</td>\n",
       "      <td>1</td>\n",
       "      <td>NaN</td>\n",
       "      <td>NaN</td>\n",
       "      <td>0</td>\n",
       "    </tr>\n",
       "  </tbody>\n",
       "</table>\n",
       "<p>2 rows × 22 columns</p>\n",
       "</div>"
      ],
      "text/plain": [
       "         index yelping_since  compliments_plain  review_count  \\\n",
       "686541  686554       2016-02                NaN             1   \n",
       "686542  686555       2016-04                NaN             1   \n",
       "\n",
       "        compliments_cute  compliments_writer  fans  compliments_note  \\\n",
       "686541               NaN                 NaN     0               NaN   \n",
       "686542               NaN                 NaN     0               NaN   \n",
       "\n",
       "        compliments_hot  compliments_cool      ...       compliments_more  \\\n",
       "686541              NaN               NaN      ...                    NaN   \n",
       "686542              NaN               NaN      ...                    NaN   \n",
       "\n",
       "        elite     name                 user_id votes_cool compliments_list  \\\n",
       "686541     []  MAureen  uRM8uxxbhum_Bedx1c1frw          1              NaN   \n",
       "686542     []   Amelia  DL0S4Ro4KY77akGPbEkrug          0              NaN   \n",
       "\n",
       "        votes_funny  compliments_photos  compliments_funny  votes_useful  \n",
       "686541            0                 NaN                NaN             2  \n",
       "686542            1                 NaN                NaN             0  \n",
       "\n",
       "[2 rows x 22 columns]"
      ]
     },
     "execution_count": 11,
     "metadata": {},
     "output_type": "execute_result"
    }
   ],
   "source": [
    "user.tail(2)"
   ]
  },
  {
   "cell_type": "markdown",
   "metadata": {},
   "source": [
    "# Convert csv to sql database"
   ]
  },
  {
   "cell_type": "code",
   "execution_count": 11,
   "metadata": {
    "collapsed": true
   },
   "outputs": [],
   "source": [
    "# user.to_sql('user', conn)\n",
    "# business.to_sql('business', conn)\n",
    "# review.to_sql('review', conn)"
   ]
  },
  {
   "cell_type": "markdown",
   "metadata": {},
   "source": [
    "# Data visualization"
   ]
  },
  {
   "cell_type": "code",
   "execution_count": 12,
   "metadata": {
    "collapsed": false,
    "scrolled": true
   },
   "outputs": [],
   "source": [
    "restaurant = business.categories.unique()"
   ]
  },
  {
   "cell_type": "code",
   "execution_count": 13,
   "metadata": {
    "collapsed": false
   },
   "outputs": [
    {
     "data": {
      "text/plain": [
       "\"['Fast Food', 'Restaurants']\""
      ]
     },
     "execution_count": 13,
     "metadata": {},
     "output_type": "execute_result"
    }
   ],
   "source": [
    "restaurant[0]"
   ]
  },
  {
   "cell_type": "code",
   "execution_count": 14,
   "metadata": {
    "collapsed": false,
    "scrolled": false
   },
   "outputs": [
    {
     "name": "stdout",
     "output_type": "stream",
     "text": [
      "<_sre.SRE_Match object; span=(15, 25), match='Restaurant'>\n"
     ]
    }
   ],
   "source": [
    "a = (re.search('Restaurant', restaurant[0]))\n",
    "print(a)"
   ]
  },
  {
   "cell_type": "markdown",
   "metadata": {},
   "source": [
    "## Business Rating"
   ]
  },
  {
   "cell_type": "code",
   "execution_count": 15,
   "metadata": {
    "collapsed": false
   },
   "outputs": [
    {
     "data": {
      "text/plain": [
       "<matplotlib.text.Text at 0x11427c6d8>"
      ]
     },
     "execution_count": 15,
     "metadata": {},
     "output_type": "execute_result"
    },
    {
     "data": {
      "image/png": "[encoded data removed]",
      "text/plain": [
       "<matplotlib.figure.Figure at 0x17274b518>"
      ]
     },
     "metadata": {},
     "output_type": "display_data"
    }
   ],
   "source": [
    "plt.figure(figsize=(15,5))\n",
    "sns.countplot(business['stars'])\n",
    "plt.title('Business Rating')\n",
    "plt.xlabel('Rating - Stars')\n",
    "plt.ylabel('Review Count')"
   ]
  },
  {
   "cell_type": "markdown",
   "metadata": {},
   "source": [
    "## Elite Status"
   ]
  },
  {
   "cell_type": "code",
   "execution_count": 12,
   "metadata": {
    "collapsed": true
   },
   "outputs": [],
   "source": [
    "# to find how many users in each elite year period\n",
    "user['elite_year']  = [ len(i.split(',')) for i in user['elite']]"
   ]
  },
  {
   "cell_type": "code",
   "execution_count": 18,
   "metadata": {
    "collapsed": false
   },
   "outputs": [
    {
     "data": {
      "text/plain": [
       "<matplotlib.text.Text at 0x11d286160>"
      ]
     },
     "execution_count": 18,
     "metadata": {},
     "output_type": "execute_result"
    },
    {
     "data": {
      "image/png": "[encoded data removed]",
      "text/plain": [
       "<matplotlib.figure.Figure at 0x11e279e80>"
      ]
     },
     "metadata": {},
     "output_type": "display_data"
    }
   ],
   "source": [
    "plt.figure(figsize=(15,5))\n",
    "sns.countplot(user['elite_year'])\n",
    "plt.title('Distribution of Elite User')\n",
    "plt.xlabel('Year')\n",
    "plt.ylabel('User Count')"
   ]
  },
  {
   "cell_type": "code",
   "execution_count": 19,
   "metadata": {
    "collapsed": false,
    "scrolled": false
   },
   "outputs": [
    {
     "data": {
      "text/plain": [
       "<matplotlib.text.Text at 0x11c36e390>"
      ]
     },
     "execution_count": 19,
     "metadata": {},
     "output_type": "execute_result"
    },
    {
     "data": {
      "image/png": "[encoded data removed]",
      "text/plain": [
       "<matplotlib.figure.Figure at 0x12800b080>"
      ]
     },
     "metadata": {},
     "output_type": "display_data"
    }
   ],
   "source": [
    "plt.figure(figsize=(15,5))\n",
    "sns.countplot(user['elite_year'].ix[user['elite_year'] != 1])\n",
    "plt.title('Distribution of Elite User')\n",
    "plt.xlabel('Year')\n",
    "plt.ylabel('User Count')"
   ]
  },
  {
   "cell_type": "markdown",
   "metadata": {},
   "source": [
    "# Number of years since  Yelp Membership Start Year until Elite Status"
   ]
  },
  {
   "cell_type": "code",
   "execution_count": 13,
   "metadata": {
    "collapsed": true
   },
   "outputs": [],
   "source": [
    "user['elite_since'] = [i.replace('[','').replace(']','').split(',')[0] for i in user['elite']]"
   ]
  },
  {
   "cell_type": "code",
   "execution_count": 14,
   "metadata": {
    "collapsed": false,
    "scrolled": true
   },
   "outputs": [],
   "source": [
    "user['elite_since'] = [int(i) if i!= '' else 0 for i in user['elite_since'] ]"
   ]
  },
  {
   "cell_type": "code",
   "execution_count": 15,
   "metadata": {
    "collapsed": false
   },
   "outputs": [],
   "source": [
    "user['year_before_elite'] = [ user['elite_since'][i] - int(user['yelping_since'][i].split(\"-\")[0]) if  user['elite_since'][i]!= 0 else 0 for i in range(686543)]"
   ]
  },
  {
   "cell_type": "code",
   "execution_count": 19,
   "metadata": {
    "collapsed": false,
    "scrolled": false
   },
   "outputs": [
    {
     "data": {
      "text/plain": [
       "<matplotlib.text.Text at 0x114b07a58>"
      ]
     },
     "execution_count": 19,
     "metadata": {},
     "output_type": "execute_result"
    },
    {
     "data": {
      "image/png": "[encoded data removed]",
      "text/plain": [
       "<matplotlib.figure.Figure at 0x121303908>"
      ]
     },
     "metadata": {},
     "output_type": "display_data"
    }
   ],
   "source": [
    "plt.figure(figsize=(15,5))\n",
    "sns.countplot(user['year_before_elite'].ix[user['year_before_elite']!= 0])\n",
    "plt.title('How long it takes Yelp User to become Elite User')\n",
    "plt.xlabel('Year')\n",
    "plt.ylabel('User Count')"
   ]
  },
  {
   "cell_type": "code",
   "execution_count": null,
   "metadata": {
    "collapsed": false
   },
   "outputs": [],
   "source": [
    "plt.figure(figsize=(15,5))\n",
    "sns.countplot(user['elite_since'].ix[user['elite_since']!= 0])\n",
    "plt.title('When user upgrade to Elite status')\n",
    "plt.xlabel('Year')\n",
    "plt.ylabel('User Count')"
   ]
  },
  {
   "cell_type": "code",
   "execution_count": 27,
   "metadata": {
    "collapsed": false
   },
   "outputs": [
    {
     "data": {
      "text/plain": [
       "array([2005,    0, 2016, 2007, 2008, 2012, 2011, 2015, 2013, 2014, 2006,\n",
       "       2010, 2009])"
      ]
     },
     "execution_count": 27,
     "metadata": {},
     "output_type": "execute_result"
    }
   ],
   "source": [
    "user['elite_since'].unique()"
   ]
  },
  {
   "cell_type": "code",
   "execution_count": 28,
   "metadata": {
    "collapsed": false,
    "scrolled": true
   },
   "outputs": [
    {
     "data": {
      "text/plain": [
       "4.336"
      ]
     },
     "execution_count": 28,
     "metadata": {},
     "output_type": "execute_result"
    }
   ],
   "source": [
    "round((len(user) - 656772) * 100.0/ len(user),3) # percentage of elite users"
   ]
  },
  {
   "cell_type": "code",
   "execution_count": null,
   "metadata": {
    "collapsed": true
   },
   "outputs": [],
   "source": [
    "elite_dict = Counter(user['year_before_elite'])"
   ]
  },
  {
   "cell_type": "code",
   "execution_count": null,
   "metadata": {
    "collapsed": false
   },
   "outputs": [],
   "source": [
    "elite_pd = pd.DataFrame(list(elite_dict.items()),index = None,columns = ['year','user_count'])\n",
    "elite_pd"
   ]
  },
  {
   "cell_type": "code",
   "execution_count": 22,
   "metadata": {
    "collapsed": false
   },
   "outputs": [],
   "source": [
    "member_since = user.groupby('yelping_since')['user_id'].count()\n",
    "member_since = pd.DataFrame(member_since)"
   ]
  },
  {
   "cell_type": "code",
   "execution_count": 32,
   "metadata": {
    "collapsed": false,
    "scrolled": false
   },
   "outputs": [
    {
     "data": {
      "text/plain": [
       "<matplotlib.text.Text at 0x11d292588>"
      ]
     },
     "execution_count": 32,
     "metadata": {},
     "output_type": "execute_result"
    },
    {
     "data": {
      "image/png": "[encoded data removed]",
      "text/plain": [
       "<matplotlib.figure.Figure at 0x1218312e8>"
      ]
     },
     "metadata": {},
     "output_type": "display_data"
    }
   ],
   "source": [
    "member_since.plot()\n",
    "plt.title('Timeline Yelp User signup')\n",
    "plt.xlabel('Timeline')\n",
    "plt.ylabel('User Count')"
   ]
  },
  {
   "cell_type": "markdown",
   "metadata": {},
   "source": [
    "# Review"
   ]
  },
  {
   "cell_type": "code",
   "execution_count": null,
   "metadata": {
    "collapsed": false
   },
   "outputs": [],
   "source": [
    "review.head(2)"
   ]
  },
  {
   "cell_type": "code",
   "execution_count": 16,
   "metadata": {
    "collapsed": false
   },
   "outputs": [],
   "source": [
    "a = Counter(review.user_id)\n",
    "b = Counter(a.values()) # key : #review -- value: user count\n",
    "b = dict(b)"
   ]
  },
  {
   "cell_type": "code",
   "execution_count": 17,
   "metadata": {
    "collapsed": false
   },
   "outputs": [
    {
     "name": "stdout",
     "output_type": "stream",
     "text": [
      "447\n"
     ]
    },
    {
     "data": {
      "text/html": [
       "<div>\n",
       "<table border=\"1\" class=\"dataframe\">\n",
       "  <thead>\n",
       "    <tr style=\"text-align: right;\">\n",
       "      <th></th>\n",
       "      <th>review</th>\n",
       "      <th>user_count</th>\n",
       "    </tr>\n",
       "  </thead>\n",
       "  <tbody>\n",
       "    <tr>\n",
       "      <th>0</th>\n",
       "      <td>1</td>\n",
       "      <td>360566</td>\n",
       "    </tr>\n",
       "    <tr>\n",
       "      <th>1</th>\n",
       "      <td>2</td>\n",
       "      <td>115750</td>\n",
       "    </tr>\n",
       "  </tbody>\n",
       "</table>\n",
       "</div>"
      ],
      "text/plain": [
       "   review  user_count\n",
       "0       1      360566\n",
       "1       2      115750"
      ]
     },
     "execution_count": 17,
     "metadata": {},
     "output_type": "execute_result"
    }
   ],
   "source": [
    "c = pd.DataFrame(list(b.items()),index = None,columns = ['review','user_count'])\n",
    "print(len(c))\n",
    "c.head(2)"
   ]
  },
  {
   "cell_type": "code",
   "execution_count": 18,
   "metadata": {
    "collapsed": false
   },
   "outputs": [],
   "source": [
    "c['percentage'] = [(c.user_count[i] * 100/sum(c.user_count)) for i in range(447)]"
   ]
  },
  {
   "cell_type": "code",
   "execution_count": 19,
   "metadata": {
    "collapsed": false
   },
   "outputs": [],
   "source": [
    "reviews_dict = dict()\n",
    "label = ['one','two','three']\n",
    "for i,label in enumerate(label):\n",
    "    reviews_dict[label] = c.percentage[i]"
   ]
  },
  {
   "cell_type": "code",
   "execution_count": 20,
   "metadata": {
    "collapsed": false
   },
   "outputs": [],
   "source": [
    "reviews_dict['four_ten']= sum(c.percentage[3:10])\n",
    "reviews_dict['tens']= sum(c.percentage[10:100])\n",
    "reviews_dict['more_than_hundred']= sum(c.percentage[100:-1])"
   ]
  },
  {
   "cell_type": "code",
   "execution_count": 21,
   "metadata": {
    "collapsed": false,
    "scrolled": false
   },
   "outputs": [
    {
     "data": {
      "text/plain": [
       "{'four_ten': 15.839057556848969,\n",
       " 'more_than_hundred': 0.244699631202698,\n",
       " 'one': 52.518075728709675,\n",
       " 'tens': 5.975477601244473,\n",
       " 'three': 8.5630305466706282,\n",
       " 'two': 16.859513280781176}"
      ]
     },
     "execution_count": 21,
     "metadata": {},
     "output_type": "execute_result"
    }
   ],
   "source": [
    "reviews_dict"
   ]
  },
  {
   "cell_type": "code",
   "execution_count": 19,
   "metadata": {
    "collapsed": false,
    "scrolled": true
   },
   "outputs": [
    {
     "data": {
      "text/html": [
       "<div>\n",
       "<table border=\"1\" class=\"dataframe\">\n",
       "  <thead>\n",
       "    <tr style=\"text-align: right;\">\n",
       "      <th></th>\n",
       "      <th>review</th>\n",
       "      <th>user_percentage</th>\n",
       "    </tr>\n",
       "  </thead>\n",
       "  <tbody>\n",
       "    <tr>\n",
       "      <th>0</th>\n",
       "      <td>two</td>\n",
       "      <td>16.859513</td>\n",
       "    </tr>\n",
       "    <tr>\n",
       "      <th>1</th>\n",
       "      <td>tens</td>\n",
       "      <td>5.975478</td>\n",
       "    </tr>\n",
       "    <tr>\n",
       "      <th>2</th>\n",
       "      <td>three</td>\n",
       "      <td>8.563031</td>\n",
       "    </tr>\n",
       "    <tr>\n",
       "      <th>3</th>\n",
       "      <td>four_ten</td>\n",
       "      <td>15.839058</td>\n",
       "    </tr>\n",
       "    <tr>\n",
       "      <th>4</th>\n",
       "      <td>more_than_hundred</td>\n",
       "      <td>0.244700</td>\n",
       "    </tr>\n",
       "    <tr>\n",
       "      <th>5</th>\n",
       "      <td>one</td>\n",
       "      <td>52.518076</td>\n",
       "    </tr>\n",
       "  </tbody>\n",
       "</table>\n",
       "</div>"
      ],
      "text/plain": [
       "              review  user_percentage\n",
       "0                two        16.859513\n",
       "1               tens         5.975478\n",
       "2              three         8.563031\n",
       "3           four_ten        15.839058\n",
       "4  more_than_hundred         0.244700\n",
       "5                one        52.518076"
      ]
     },
     "execution_count": 19,
     "metadata": {},
     "output_type": "execute_result"
    }
   ],
   "source": [
    "review_pd = pd.DataFrame(list(reviews_dict.items()),index = None,columns = ['review','user_percentage'])\n",
    "review_pd"
   ]
  },
  {
   "cell_type": "code",
   "execution_count": 20,
   "metadata": {
    "collapsed": false,
    "scrolled": false
   },
   "outputs": [
    {
     "data": {
      "text/plain": [
       "<matplotlib.text.Text at 0x121609198>"
      ]
     },
     "execution_count": 20,
     "metadata": {},
     "output_type": "execute_result"
    },
    {
     "data": {
      "image/png": "[encoded data removed]",
      "text/plain": [
       "<matplotlib.figure.Figure at 0x121a6c7f0>"
      ]
     },
     "metadata": {},
     "output_type": "display_data"
    }
   ],
   "source": [
    "labels =[ i.capitalize() for i in  review_pd['review']]\n",
    "sizes = review_pd['user_percentage']\n",
    "colors = ['lightskyblue','yellowgreen', 'gold', 'lightcoral','red','violet']\n",
    "explode = (0, 0, 0,0,.1, 0) \n",
    "\n",
    "plt.pie(sizes, explode=explode,labels=labels, colors=colors,\n",
    "        autopct='%1.1f%%', shadow=True, startangle=200,center=(0,1));\n",
    "plt.title('Number of Reviews per User')"
   ]
  },
  {
   "cell_type": "markdown",
   "metadata": {},
   "source": [
    "# Filter business category to restaurant only"
   ]
  },
  {
   "cell_type": "code",
   "execution_count": 22,
   "metadata": {
    "collapsed": false,
    "scrolled": true
   },
   "outputs": [],
   "source": [
    "# create a dataframe with business id and category\n",
    "all_businesses = pd.concat([business['business_id'], business['categories']], axis=1, keys=['business_id', 'category'])"
   ]
  },
  {
   "cell_type": "code",
   "execution_count": 23,
   "metadata": {
    "collapsed": false
   },
   "outputs": [
    {
     "data": {
      "text/html": [
       "<div>\n",
       "<table border=\"1\" class=\"dataframe\">\n",
       "  <thead>\n",
       "    <tr style=\"text-align: right;\">\n",
       "      <th></th>\n",
       "      <th>business_id</th>\n",
       "      <th>category</th>\n",
       "    </tr>\n",
       "  </thead>\n",
       "  <tbody>\n",
       "    <tr>\n",
       "      <th>0</th>\n",
       "      <td>5UmKMjUEUNdYWqANhGckJw</td>\n",
       "      <td>['Fast Food', 'Restaurants']</td>\n",
       "    </tr>\n",
       "    <tr>\n",
       "      <th>1</th>\n",
       "      <td>UsFtqoBl7naz8AVUBZMjQQ</td>\n",
       "      <td>['Nightlife']</td>\n",
       "    </tr>\n",
       "    <tr>\n",
       "      <th>2</th>\n",
       "      <td>cE27W9VPgO88Qxe4ol6y_g</td>\n",
       "      <td>['Active Life', 'Mini Golf', 'Golf']</td>\n",
       "    </tr>\n",
       "  </tbody>\n",
       "</table>\n",
       "</div>"
      ],
      "text/plain": [
       "              business_id                              category\n",
       "0  5UmKMjUEUNdYWqANhGckJw          ['Fast Food', 'Restaurants']\n",
       "1  UsFtqoBl7naz8AVUBZMjQQ                         ['Nightlife']\n",
       "2  cE27W9VPgO88Qxe4ol6y_g  ['Active Life', 'Mini Golf', 'Golf']"
      ]
     },
     "execution_count": 23,
     "metadata": {},
     "output_type": "execute_result"
    }
   ],
   "source": [
    "all_businesses.head(3)"
   ]
  },
  {
   "cell_type": "code",
   "execution_count": 24,
   "metadata": {
    "collapsed": false
   },
   "outputs": [],
   "source": [
    "# get index of businesses that are not restaurants\n",
    "not_restaurant = [i for i,e in enumerate(all_businesses.values) if \"Restaurant\" not in e[1]]"
   ]
  },
  {
   "cell_type": "code",
   "execution_count": 25,
   "metadata": {
    "collapsed": false
   },
   "outputs": [],
   "source": [
    "all_businesses.drop(all_businesses.index[not_restaurant], inplace=True)"
   ]
  },
  {
   "cell_type": "code",
   "execution_count": 26,
   "metadata": {
    "collapsed": false
   },
   "outputs": [],
   "source": [
    "restaurant = all_businesses # after dropping all businesses that are not restaurants "
   ]
  },
  {
   "cell_type": "code",
   "execution_count": 27,
   "metadata": {
    "collapsed": false
   },
   "outputs": [],
   "source": [
    "restaurant = restaurant.reset_index() # reset the index "
   ]
  },
  {
   "cell_type": "code",
   "execution_count": 28,
   "metadata": {
    "collapsed": false
   },
   "outputs": [],
   "source": [
    "restaurant = restaurant.drop('index',axis = 1) # drop the old index "
   ]
  },
  {
   "cell_type": "code",
   "execution_count": 29,
   "metadata": {
    "collapsed": false,
    "scrolled": true
   },
   "outputs": [
    {
     "data": {
      "text/html": [
       "<div>\n",
       "<table border=\"1\" class=\"dataframe\">\n",
       "  <thead>\n",
       "    <tr style=\"text-align: right;\">\n",
       "      <th></th>\n",
       "      <th>business_id</th>\n",
       "      <th>category</th>\n",
       "    </tr>\n",
       "  </thead>\n",
       "  <tbody>\n",
       "    <tr>\n",
       "      <th>0</th>\n",
       "      <td>5UmKMjUEUNdYWqANhGckJw</td>\n",
       "      <td>['Fast Food', 'Restaurants']</td>\n",
       "    </tr>\n",
       "    <tr>\n",
       "      <th>1</th>\n",
       "      <td>mVHrayjG3uZ_RLHkLj-AMg</td>\n",
       "      <td>['Bars', 'American (New)', 'Nightlife', 'Loung...</td>\n",
       "    </tr>\n",
       "  </tbody>\n",
       "</table>\n",
       "</div>"
      ],
      "text/plain": [
       "              business_id                                           category\n",
       "0  5UmKMjUEUNdYWqANhGckJw                       ['Fast Food', 'Restaurants']\n",
       "1  mVHrayjG3uZ_RLHkLj-AMg  ['Bars', 'American (New)', 'Nightlife', 'Loung..."
      ]
     },
     "execution_count": 29,
     "metadata": {},
     "output_type": "execute_result"
    }
   ],
   "source": [
    "restaurant.head(2)"
   ]
  },
  {
   "cell_type": "code",
   "execution_count": 30,
   "metadata": {
    "collapsed": false
   },
   "outputs": [],
   "source": [
    "# len(restaurant) # 26729 -- number of businesses\n",
    "# len(restaurant.category.unique()) #4318--- number of unique categories "
   ]
  },
  {
   "cell_type": "code",
   "execution_count": 31,
   "metadata": {
    "collapsed": false
   },
   "outputs": [],
   "source": [
    "k = Counter(restaurant.category) # 4318 -- Count number of businesses / unique category --- most categories are very similar "
   ]
  },
  {
   "cell_type": "code",
   "execution_count": 32,
   "metadata": {
    "collapsed": false
   },
   "outputs": [],
   "source": [
    "label = [k for k,v in k.items() if v >100] # 41 --- get the label that has more than 100 businesses"
   ]
  },
  {
   "cell_type": "code",
   "execution_count": 33,
   "metadata": {
    "collapsed": false
   },
   "outputs": [
    {
     "data": {
      "text/plain": [
       "[\"['Pizza', 'Restaurants']\",\n",
       " \"['Vietnamese', 'Restaurants']\",\n",
       " \"['Canadian (New)', 'Restaurants']\",\n",
       " \"['Delis', 'Restaurants']\",\n",
       " \"['Chicken Wings', 'Restaurants']\"]"
      ]
     },
     "execution_count": 33,
     "metadata": {},
     "output_type": "execute_result"
    }
   ],
   "source": [
    "label[:5]"
   ]
  },
  {
   "cell_type": "code",
   "execution_count": 34,
   "metadata": {
    "collapsed": false,
    "scrolled": true
   },
   "outputs": [
    {
     "data": {
      "text/html": [
       "<div>\n",
       "<table border=\"1\" class=\"dataframe\">\n",
       "  <thead>\n",
       "    <tr style=\"text-align: right;\">\n",
       "      <th></th>\n",
       "      <th>user_id</th>\n",
       "      <th>review_id</th>\n",
       "      <th>text</th>\n",
       "      <th>votes_cool</th>\n",
       "      <th>business_id</th>\n",
       "      <th>votes_funny</th>\n",
       "      <th>stars</th>\n",
       "      <th>date</th>\n",
       "      <th>votes_useful</th>\n",
       "    </tr>\n",
       "  </thead>\n",
       "  <tbody>\n",
       "    <tr>\n",
       "      <th>0</th>\n",
       "      <td>PUFPaY9KxDAcGqfsorJp3Q</td>\n",
       "      <td>Ya85v4eqdd6k9Od8HbQjyA</td>\n",
       "      <td>Mr Hoagie is an institution. Walking in, it do...</td>\n",
       "      <td>0</td>\n",
       "      <td>5UmKMjUEUNdYWqANhGckJw</td>\n",
       "      <td>0</td>\n",
       "      <td>4</td>\n",
       "      <td>2012-08-01</td>\n",
       "      <td>0</td>\n",
       "    </tr>\n",
       "    <tr>\n",
       "      <th>1</th>\n",
       "      <td>Iu6AxdBYGR4A0wspR9BYHA</td>\n",
       "      <td>KPvLNJ21_4wbYNctrOwWdQ</td>\n",
       "      <td>Excellent food. Superb customer service. I mis...</td>\n",
       "      <td>0</td>\n",
       "      <td>5UmKMjUEUNdYWqANhGckJw</td>\n",
       "      <td>0</td>\n",
       "      <td>5</td>\n",
       "      <td>2014-02-13</td>\n",
       "      <td>0</td>\n",
       "    </tr>\n",
       "  </tbody>\n",
       "</table>\n",
       "</div>"
      ],
      "text/plain": [
       "                  user_id               review_id  \\\n",
       "0  PUFPaY9KxDAcGqfsorJp3Q  Ya85v4eqdd6k9Od8HbQjyA   \n",
       "1  Iu6AxdBYGR4A0wspR9BYHA  KPvLNJ21_4wbYNctrOwWdQ   \n",
       "\n",
       "                                                text  votes_cool  \\\n",
       "0  Mr Hoagie is an institution. Walking in, it do...           0   \n",
       "1  Excellent food. Superb customer service. I mis...           0   \n",
       "\n",
       "              business_id  votes_funny  stars        date  votes_useful  \n",
       "0  5UmKMjUEUNdYWqANhGckJw            0      4  2012-08-01             0  \n",
       "1  5UmKMjUEUNdYWqANhGckJw            0      5  2014-02-13             0  "
      ]
     },
     "execution_count": 34,
     "metadata": {},
     "output_type": "execute_result"
    }
   ],
   "source": [
    "review.head(2)"
   ]
  },
  {
   "cell_type": "code",
   "execution_count": 48,
   "metadata": {
    "collapsed": false,
    "scrolled": false
   },
   "outputs": [
    {
     "data": {
      "text/html": [
       "<div>\n",
       "<table border=\"1\" class=\"dataframe\">\n",
       "  <thead>\n",
       "    <tr style=\"text-align: right;\">\n",
       "      <th></th>\n",
       "      <th>business_id</th>\n",
       "      <th>category</th>\n",
       "    </tr>\n",
       "  </thead>\n",
       "  <tbody>\n",
       "    <tr>\n",
       "      <th>0</th>\n",
       "      <td>5UmKMjUEUNdYWqANhGckJw</td>\n",
       "      <td>['Fast Food', 'Restaurants']</td>\n",
       "    </tr>\n",
       "    <tr>\n",
       "      <th>1</th>\n",
       "      <td>mVHrayjG3uZ_RLHkLj-AMg</td>\n",
       "      <td>['Bars', 'American (New)', 'Nightlife', 'Loung...</td>\n",
       "    </tr>\n",
       "  </tbody>\n",
       "</table>\n",
       "</div>"
      ],
      "text/plain": [
       "              business_id                                           category\n",
       "0  5UmKMjUEUNdYWqANhGckJw                       ['Fast Food', 'Restaurants']\n",
       "1  mVHrayjG3uZ_RLHkLj-AMg  ['Bars', 'American (New)', 'Nightlife', 'Loung..."
      ]
     },
     "execution_count": 48,
     "metadata": {},
     "output_type": "execute_result"
    }
   ],
   "source": [
    "restaurant.head(2)"
   ]
  },
  {
   "cell_type": "markdown",
   "metadata": {},
   "source": [
    "# Get Reviews for Restaurants only"
   ]
  },
  {
   "cell_type": "code",
   "execution_count": 35,
   "metadata": {
    "collapsed": true
   },
   "outputs": [],
   "source": [
    "review_indices = review['business_id'].isin(restaurant['business_id'])"
   ]
  },
  {
   "cell_type": "code",
   "execution_count": 36,
   "metadata": {
    "collapsed": false
   },
   "outputs": [],
   "source": [
    "restaurant_review = review[review_indices]"
   ]
  },
  {
   "cell_type": "code",
   "execution_count": 37,
   "metadata": {
    "collapsed": false,
    "scrolled": true
   },
   "outputs": [
    {
     "data": {
      "text/html": [
       "<div>\n",
       "<table border=\"1\" class=\"dataframe\">\n",
       "  <thead>\n",
       "    <tr style=\"text-align: right;\">\n",
       "      <th></th>\n",
       "      <th>user_id</th>\n",
       "      <th>review_id</th>\n",
       "      <th>text</th>\n",
       "      <th>votes_cool</th>\n",
       "      <th>business_id</th>\n",
       "      <th>votes_funny</th>\n",
       "      <th>stars</th>\n",
       "      <th>date</th>\n",
       "      <th>votes_useful</th>\n",
       "    </tr>\n",
       "  </thead>\n",
       "  <tbody>\n",
       "    <tr>\n",
       "      <th>0</th>\n",
       "      <td>PUFPaY9KxDAcGqfsorJp3Q</td>\n",
       "      <td>Ya85v4eqdd6k9Od8HbQjyA</td>\n",
       "      <td>Mr Hoagie is an institution. Walking in, it do...</td>\n",
       "      <td>0</td>\n",
       "      <td>5UmKMjUEUNdYWqANhGckJw</td>\n",
       "      <td>0</td>\n",
       "      <td>4</td>\n",
       "      <td>2012-08-01</td>\n",
       "      <td>0</td>\n",
       "    </tr>\n",
       "    <tr>\n",
       "      <th>1</th>\n",
       "      <td>Iu6AxdBYGR4A0wspR9BYHA</td>\n",
       "      <td>KPvLNJ21_4wbYNctrOwWdQ</td>\n",
       "      <td>Excellent food. Superb customer service. I mis...</td>\n",
       "      <td>0</td>\n",
       "      <td>5UmKMjUEUNdYWqANhGckJw</td>\n",
       "      <td>0</td>\n",
       "      <td>5</td>\n",
       "      <td>2014-02-13</td>\n",
       "      <td>0</td>\n",
       "    </tr>\n",
       "  </tbody>\n",
       "</table>\n",
       "</div>"
      ],
      "text/plain": [
       "                  user_id               review_id  \\\n",
       "0  PUFPaY9KxDAcGqfsorJp3Q  Ya85v4eqdd6k9Od8HbQjyA   \n",
       "1  Iu6AxdBYGR4A0wspR9BYHA  KPvLNJ21_4wbYNctrOwWdQ   \n",
       "\n",
       "                                                text  votes_cool  \\\n",
       "0  Mr Hoagie is an institution. Walking in, it do...           0   \n",
       "1  Excellent food. Superb customer service. I mis...           0   \n",
       "\n",
       "              business_id  votes_funny  stars        date  votes_useful  \n",
       "0  5UmKMjUEUNdYWqANhGckJw            0      4  2012-08-01             0  \n",
       "1  5UmKMjUEUNdYWqANhGckJw            0      5  2014-02-13             0  "
      ]
     },
     "execution_count": 37,
     "metadata": {},
     "output_type": "execute_result"
    }
   ],
   "source": [
    "restaurant_review.head(2)"
   ]
  },
  {
   "cell_type": "code",
   "execution_count": 38,
   "metadata": {
    "collapsed": false
   },
   "outputs": [
    {
     "name": "stdout",
     "output_type": "stream",
     "text": [
      "26629\n"
     ]
    },
    {
     "data": {
      "text/plain": [
       "[('2e2e7WgqU1BnpxmQL5jbfw', 4103),\n",
       " ('aGbjLWzcrnEx2ZmMCFm3EA', 4149),\n",
       " ('zt1TpTuJ6y9n551sw9TaEg', 4333),\n",
       " ('sIyHTizqAiGu12XMLX3N3g', 4531),\n",
       " ('4bEjOyTaDG24SY5TxsaUNQ', 5558)]"
      ]
     },
     "execution_count": 38,
     "metadata": {},
     "output_type": "execute_result"
    }
   ],
   "source": [
    "review_count = Counter(restaurant_review['business_id']) ### number of restaurants\n",
    "print(len(review_count))\n",
    "top_restaurant = [(k,v)for k,v in review_count.items() if v > 300]#number of restaurants that have more than 300 reviews\n",
    "top_restaurant[:10]\n",
    "sorted_by_second = sorted(top_restaurant, key=lambda tup: tup[1])\n",
    "sorted_by_second[-5:]"
   ]
  },
  {
   "cell_type": "code",
   "execution_count": 39,
   "metadata": {
    "collapsed": false
   },
   "outputs": [
    {
     "data": {
      "text/plain": [
       "557659"
      ]
     },
     "execution_count": 39,
     "metadata": {},
     "output_type": "execute_result"
    }
   ],
   "source": [
    "sum([i[1] for i in sorted_by_second])"
   ]
  },
  {
   "cell_type": "code",
   "execution_count": 33,
   "metadata": {
    "collapsed": false,
    "scrolled": true
   },
   "outputs": [
    {
     "data": {
      "text/html": [
       "<div>\n",
       "<table border=\"1\" class=\"dataframe\">\n",
       "  <thead>\n",
       "    <tr style=\"text-align: right;\">\n",
       "      <th></th>\n",
       "      <th>ambience_divey</th>\n",
       "      <th>dietary_restrictions_vegan</th>\n",
       "      <th>happy_hour</th>\n",
       "      <th>hours_thursday_open</th>\n",
       "      <th>order_at_counter</th>\n",
       "      <th>hair_types_specialized_in_africanamerican</th>\n",
       "      <th>hair_types_specialized_in_kids</th>\n",
       "      <th>byob</th>\n",
       "      <th>hours_friday_open</th>\n",
       "      <th>good_for_latenight</th>\n",
       "      <th>...</th>\n",
       "      <th>noise_level</th>\n",
       "      <th>smoking</th>\n",
       "      <th>attire</th>\n",
       "      <th>hair_types_specialized_in_curly</th>\n",
       "      <th>good_for_groups</th>\n",
       "      <th>neighborhoods</th>\n",
       "      <th>open_24_hours</th>\n",
       "      <th>ambience_romantic</th>\n",
       "      <th>music_jukebox</th>\n",
       "      <th>ambience_upscale</th>\n",
       "    </tr>\n",
       "  </thead>\n",
       "  <tbody>\n",
       "    <tr>\n",
       "      <th>15883</th>\n",
       "      <td>False</td>\n",
       "      <td>False</td>\n",
       "      <td>NaN</td>\n",
       "      <td>11:00</td>\n",
       "      <td>NaN</td>\n",
       "      <td>NaN</td>\n",
       "      <td>NaN</td>\n",
       "      <td>False</td>\n",
       "      <td>11:00</td>\n",
       "      <td>False</td>\n",
       "      <td>...</td>\n",
       "      <td>average</td>\n",
       "      <td>NaN</td>\n",
       "      <td>casual</td>\n",
       "      <td>NaN</td>\n",
       "      <td>True</td>\n",
       "      <td>[]</td>\n",
       "      <td>NaN</td>\n",
       "      <td>False</td>\n",
       "      <td>NaN</td>\n",
       "      <td>False</td>\n",
       "    </tr>\n",
       "  </tbody>\n",
       "</table>\n",
       "<p>1 rows × 97 columns</p>\n",
       "</div>"
      ],
      "text/plain": [
       "      ambience_divey dietary_restrictions_vegan happy_hour  \\\n",
       "15883          False                      False        NaN   \n",
       "\n",
       "      hours_thursday_open order_at_counter  \\\n",
       "15883               11:00              NaN   \n",
       "\n",
       "      hair_types_specialized_in_africanamerican  \\\n",
       "15883                                       NaN   \n",
       "\n",
       "      hair_types_specialized_in_kids   byob hours_friday_open  \\\n",
       "15883                            NaN  False             11:00   \n",
       "\n",
       "      good_for_latenight       ...        noise_level smoking  attire  \\\n",
       "15883              False       ...            average     NaN  casual   \n",
       "\n",
       "      hair_types_specialized_in_curly good_for_groups neighborhoods  \\\n",
       "15883                             NaN            True            []   \n",
       "\n",
       "      open_24_hours ambience_romantic music_jukebox ambience_upscale  \n",
       "15883           NaN             False           NaN            False  \n",
       "\n",
       "[1 rows x 97 columns]"
      ]
     },
     "execution_count": 33,
     "metadata": {},
     "output_type": "execute_result"
    }
   ],
   "source": [
    "business.ix[business['business_id'] == 'dcd3C1gWv-vVdQ9XYV8Ubw']"
   ]
  },
  {
   "cell_type": "code",
   "execution_count": 42,
   "metadata": {
    "collapsed": true
   },
   "outputs": [],
   "source": [
    "selected_restaurants = pd.DataFrame(sorted_by_second,columns = ['business_id','review_count'])"
   ]
  },
  {
   "cell_type": "code",
   "execution_count": 44,
   "metadata": {
    "collapsed": false
   },
   "outputs": [
    {
     "data": {
      "text/html": [
       "<div>\n",
       "<table border=\"1\" class=\"dataframe\">\n",
       "  <thead>\n",
       "    <tr style=\"text-align: right;\">\n",
       "      <th></th>\n",
       "      <th>business_id</th>\n",
       "      <th>review_count</th>\n",
       "    </tr>\n",
       "  </thead>\n",
       "  <tbody>\n",
       "    <tr>\n",
       "      <th>932</th>\n",
       "      <td>2e2e7WgqU1BnpxmQL5jbfw</td>\n",
       "      <td>4103</td>\n",
       "    </tr>\n",
       "    <tr>\n",
       "      <th>933</th>\n",
       "      <td>aGbjLWzcrnEx2ZmMCFm3EA</td>\n",
       "      <td>4149</td>\n",
       "    </tr>\n",
       "    <tr>\n",
       "      <th>934</th>\n",
       "      <td>zt1TpTuJ6y9n551sw9TaEg</td>\n",
       "      <td>4333</td>\n",
       "    </tr>\n",
       "    <tr>\n",
       "      <th>935</th>\n",
       "      <td>sIyHTizqAiGu12XMLX3N3g</td>\n",
       "      <td>4531</td>\n",
       "    </tr>\n",
       "    <tr>\n",
       "      <th>936</th>\n",
       "      <td>4bEjOyTaDG24SY5TxsaUNQ</td>\n",
       "      <td>5558</td>\n",
       "    </tr>\n",
       "  </tbody>\n",
       "</table>\n",
       "</div>"
      ],
      "text/plain": [
       "                business_id  review_count\n",
       "932  2e2e7WgqU1BnpxmQL5jbfw          4103\n",
       "933  aGbjLWzcrnEx2ZmMCFm3EA          4149\n",
       "934  zt1TpTuJ6y9n551sw9TaEg          4333\n",
       "935  sIyHTizqAiGu12XMLX3N3g          4531\n",
       "936  4bEjOyTaDG24SY5TxsaUNQ          5558"
      ]
     },
     "execution_count": 44,
     "metadata": {},
     "output_type": "execute_result"
    }
   ],
   "source": [
    "selected_restaurants.tail()"
   ]
  },
  {
   "cell_type": "code",
   "execution_count": 45,
   "metadata": {
    "collapsed": true
   },
   "outputs": [],
   "source": [
    "selected_restaurants.to_csv('csv/high_reviews_restaurant.csv')"
   ]
  },
  {
   "cell_type": "code",
   "execution_count": null,
   "metadata": {
    "collapsed": true
   },
   "outputs": [],
   "source": [
    "rating_matrix = np.zeros( shape )"
   ]
  },
  {
   "cell_type": "code",
   "execution_count": null,
   "metadata": {
    "collapsed": true
   },
   "outputs": [],
   "source": [
    "self.SVD_matrix = np.zeros(shape = (944, 1683), dtype = np.float32)\n",
    "def modifyRatingsDataset(self): \n",
    "        ''' Assign rating values to a matrix (userid, movieid ) '''\n",
    "        for index, row in self.ratings.iterrows():\n",
    "            self.SVD_matrix[ int(row[0]) , int(row[1])] = float(row[2])\n",
    "        return csc_matrix(self.SVD_matrix, dtype=np.float32),self.SVD_matrix"
   ]
  },
  {
   "cell_type": "code",
   "execution_count": null,
   "metadata": {
    "collapsed": true
   },
   "outputs": [],
   "source": []
  },
  {
   "cell_type": "code",
   "execution_count": 34,
   "metadata": {
    "collapsed": true
   },
   "outputs": [],
   "source": [
    "# def clean_the_data(x):\n",
    "#     restaurant_review['text']  \n",
    "    "
   ]
  },
  {
   "cell_type": "code",
   "execution_count": 35,
   "metadata": {
    "collapsed": false
   },
   "outputs": [
    {
     "name": "stderr",
     "output_type": "stream",
     "text": [
      "/Users/Charlotte/anaconda/lib/python3.5/site-packages/ipykernel/__main__.py:1: SettingWithCopyWarning: \n",
      "A value is trying to be set on a copy of a slice from a DataFrame.\n",
      "Try using .loc[row_indexer,col_indexer] = value instead\n",
      "\n",
      "See the caveats in the documentation: http://pandas.pydata.org/pandas-docs/stable/indexing.html#indexing-view-versus-copy\n",
      "  if __name__ == '__main__':\n"
     ]
    }
   ],
   "source": [
    "restaurant_review['text']  =  [re.sub('['+string.punctuation+']', '', i.lower().replace('\\n','')) for i in restaurant_review['text']]"
   ]
  },
  {
   "cell_type": "code",
   "execution_count": 36,
   "metadata": {
    "collapsed": false
   },
   "outputs": [
    {
     "data": {
      "text/plain": [
       "'mr hoagie is an institution walking in it does seem like a throwback to 30 years ago old fashioned menu board booths out of the 70s and a large selection of food their speciality is the italian hoagie and it is voted the best in the area year after year i usually order the burger while the patties are obviously cooked from frozen all of the other ingredients are very fresh overall its a good alternative to subway which is down the road'"
      ]
     },
     "execution_count": 36,
     "metadata": {},
     "output_type": "execute_result"
    }
   ],
   "source": [
    "restaurant_review['text'][0]"
   ]
  },
  {
   "cell_type": "code",
   "execution_count": 37,
   "metadata": {
    "collapsed": false
   },
   "outputs": [],
   "source": [
    "def categorize_reviews(business_id):\n",
    "    business_index = restaurant_review['business_id'] == business_id # get the business index\n",
    "    one_restaurant = restaurant_review[business_index]\n",
    "    good = one_restaurant.ix[one_restaurant['stars'] >= 3]\n",
    "    bad = one_restaurant.ix[one_restaurant['stars'] < 3]\n",
    "    good = good.reset_index()\n",
    "    bad = bad.reset_index()\n",
    "    return good.text,bad.text"
   ]
  },
  {
   "cell_type": "code",
   "execution_count": 38,
   "metadata": {
    "collapsed": false
   },
   "outputs": [],
   "source": [
    "good,bad = categorize_reviews('BVCDPqlHMDPLWn9EhdDXNg')"
   ]
  },
  {
   "cell_type": "markdown",
   "metadata": {},
   "source": [
    "# Export csv file"
   ]
  },
  {
   "cell_type": "code",
   "execution_count": 40,
   "metadata": {
    "collapsed": false
   },
   "outputs": [],
   "source": [
    "restaurant.to_csv('csv/restaurant.csv')"
   ]
  },
  {
   "cell_type": "code",
   "execution_count": 41,
   "metadata": {
    "collapsed": true
   },
   "outputs": [],
   "source": [
    "restaurant_review.to_csv('csv/restaurant_review.csv')\n",
    "business.to_csv('csv/new_business.csv')\n",
    "review.to_csv('csv/new_review.csv')\n",
    "user.to_csv('csv/new_user.csv')\n"
   ]
  },
  {
   "cell_type": "code",
   "execution_count": null,
   "metadata": {
    "collapsed": true
   },
   "outputs": [],
   "source": [
    "# listings.to_csv('data/listings_new.csv')\n",
    "# reviews.to_csv('data/reviews_new.csv')\n",
    "# df.to_csv('data/df_new.csv')"
   ]
  },
  {
   "cell_type": "code",
   "execution_count": 64,
   "metadata": {
    "collapsed": false
   },
   "outputs": [],
   "source": [
    "# blah = restaurant_review['business_id'] == 'dcd3C1gWv-vVdQ9XYV8Ubw' # this\n",
    "# test = restaurant_review[blah]\n",
    "# good = test.ix[test['stars'] >= 3]\n",
    "# bad = test.ix[test['stars'] < 3]"
   ]
  },
  {
   "cell_type": "code",
   "execution_count": 227,
   "metadata": {
    "collapsed": false
   },
   "outputs": [],
   "source": [
    "def lda_topic_modeling(x):\n",
    "    tfidf = TfidfVectorizer(stop_words='english')\n",
    "    x = tfidf.fit_transform(x)\n",
    "    lda = LatentDirichletAllocation(n_topics=15,\n",
    "                                max_iter=5,\n",
    "                                learning_method='online',\n",
    "                                learning_offset=50.)\n",
    "    terms = tfidf.get_feature_names()\n",
    "    lda.fit(x)\n",
    "    C = lda.components_\n",
    "    for topic,term in enumerate(C):\n",
    "        top_indices = np.argsort(C)[topic][::-1][:10]\n",
    "        term_ranking = [terms[i] for i in top_indices]\n",
    "        print(\"Topic {}: {}\".format(topic+1, \", \".join(term_ranking)))\n",
    "    "
   ]
  },
  {
   "cell_type": "code",
   "execution_count": 228,
   "metadata": {
    "collapsed": false
   },
   "outputs": [
    {
     "name": "stdout",
     "output_type": "stream",
     "text": [
      "Topic 1: tasty, curry, fast, best, place, seats, brought, good, really, negatives\n",
      "Topic 2: place, balls, reason, 11am, bells, sawtelle, toosh, gold, curry, received\n",
      "Topic 3: curry, place, katsu, good, food, great, chicken, service, japanese, like\n",
      "Topic 4: curry, rokkyo, appetizers, gawking, service, ratings, load, offers, spice, bit\n",
      "Topic 5: shoots, scores, curry, simple, little, set, flavorful, mothers, enderloin, reasonable\n",
      "Topic 6: curry, japanese, chicken, great, good, place, loved, tofu, plating, given\n",
      "Topic 7: curry, love, 810ish, savory, hereactually, attentive, octopusif, elsegod, homesick, starchy\n",
      "Topic 8: curry, sauce, husband, felt, normal, duration, needing, zayyumm, pho, safe\n",
      "Topic 9: wanted, thingamabobs, unlv, alright, time, love, remarked, state, overallif, room\n",
      "Topic 10: curry, just, right, portion, staff, best, place, highly, choice, added\n",
      "Topic 11: curry, good, japanese, place, food, best, ランチで１０００円以下で食べられるところを探していたらこのyelpのサイトで評判が良い当店に決めました, 日本人の方が経営していますので安心して食べられる日本食のお店だと思います, vegas, like\n",
      "Topic 12: stomachs, food, ok, klub, greatly, tummy, portion, recipe, penny, time\n",
      "Topic 13: addonsside, chicken, pickled, preopening, shrimp, curry, volcano, overrated, joint, small\n",
      "Topic 14: curry, lowest, pork, delivered, spinach, olfactory, smiled, gaming, nachos, jonesin\n",
      "Topic 15: curry, place, love, katsu, chicken, eat, delicious, level, little, try\n"
     ]
    }
   ],
   "source": [
    "lda_topic_modeling(good)"
   ]
  },
  {
   "cell_type": "code",
   "execution_count": 229,
   "metadata": {
    "collapsed": false,
    "scrolled": true
   },
   "outputs": [
    {
     "name": "stdout",
     "output_type": "stream",
     "text": [
      "Topic 1: save, yuta, extraordinary, wrong, area, bestfriend, big, animal, great, watch\n",
      "Topic 2: completely, house, 30, rainbow, told, better, got, mentioned, forced, mood\n",
      "Topic 3: leave, waiting, paid, seat, sister, possible, 24hr, hot, payment, enjoy\n",
      "Topic 4: ready, better, disgusted, cute, deceiving, lived, suddenly, presentable, literally, udon\n",
      "Topic 5: depend, gone, dig, like, opened, clumsy, bigger, suddenly, come, beef\n",
      "Topic 6: 24hr, elses, busy, reach, center, purpose, tofu, remembered, sure, awful\n",
      "Topic 7: better, mediocre, trying, ordering, knows, trip, debra, did, distinguish, bad\n",
      "Topic 8: serve, decided, star, away, real, does, regret, behavior, dont, croquette\n",
      "Topic 9: payment, friends, later, big, wrong, mention, job, figure, told, introducing\n",
      "Topic 10: brings, hurrying, big, gone, half, katsu, watery, worth, service, bowl\n",
      "Topic 11: luckily, premade, paid, handed, rave, authentic, insisted, flavors, experienced, rock\n",
      "Topic 12: corn, paper, different, brief, comes, animal, vegas, isnt, checks, say\n",
      "Topic 13: waited, hurrying, service, drop, compared, explain, womp, mood, corn, staff\n",
      "Topic 14: squeeze, egg, base, short, tonkatsu, understand, clumsy, required, really, clarifies\n",
      "Topic 15: separated, taste, finished, 20, asked, away, determined, worst, pushed, sounds\n"
     ]
    }
   ],
   "source": [
    "lda_topic_modeling(bad)"
   ]
  },
  {
   "cell_type": "code",
   "execution_count": 230,
   "metadata": {
    "collapsed": true
   },
   "outputs": [],
   "source": [
    "def nmf_tm(x):\n",
    "    tfidf = TfidfVectorizer(stop_words='english')\n",
    "    x = tfidf.fit_transform(x)\n",
    "    nmf = NMF(init=\"nndsvd\",\n",
    "            n_components=15,\n",
    "            max_iter=200)\n",
    "    terms = tfidf.get_feature_names()\n",
    "    nmf.fit(x)\n",
    "    W = nmf.fit_transform(x)\n",
    "    H = nmf.components_\n",
    "    for topic,term in enumerate(H):\n",
    "        top_indices = np.argsort(H)[topic][::-1][:10]\n",
    "        term_ranking = [terms[i] for i in top_indices]\n",
    "        print(\"Topic {}: {}\".format(topic+1, \", \".join(term_ranking)))\n",
    "    "
   ]
  },
  {
   "cell_type": "code",
   "execution_count": 231,
   "metadata": {
    "collapsed": false,
    "scrolled": true
   },
   "outputs": [
    {
     "name": "stdout",
     "output_type": "stream",
     "text": [
      "Topic 1: just, curry, pretty, bit, little, price, small, cheese, size, okay\n",
      "Topic 2: great, service, food, fast, place, little, awesome, atmosphere, wrong, coming\n",
      "Topic 3: level, spicy, spice, oh, levels, time, curry, really, handle, got\n",
      "Topic 4: staff, small, friendly, nice, super, place, delicious, try, absolutely, menu\n",
      "Topic 5: katsu, chicken, curry, recommend, pork, favorite, definitely, vegetable, portion, takoyaki\n",
      "Topic 6: good, eat, comfort, food, really, expensive, service, little, come, pretty\n",
      "Topic 7: like, really, place, thing, thats, curry, didnt, ive, im, got\n",
      "Topic 8: love, place, curry, food, yummy, tenderloin, traditional, glad, awesome, growing\n",
      "Topic 9: amazing, time, food, come, eat, definitely, makes, coming, absolutely, feel\n",
      "Topic 10: rice, cutlet, pork, brown, curry, white, sauce, time, restaurant, pickled\n",
      "Topic 11: best, ive, far, places, curry, town, place, food, recommend, better\n",
      "Topic 12: curry, japanese, zen, place, japan, vegas, places, real, favorite, house\n",
      "Topic 13: fried, oysters, shumai, ordered, spam, kushi, quail, zucchini, curry, shrimp\n",
      "Topic 14: tofu, salad, dressing, loved, delicious, spice, right, katsudoni, flavorable, excellentcurry\n",
      "Topic 15: spot, vegas, yum, sweet, little, hit, vegetables, definitely, come, got\n"
     ]
    }
   ],
   "source": [
    "nmf_tm(good)"
   ]
  },
  {
   "cell_type": "code",
   "execution_count": 226,
   "metadata": {
    "collapsed": false
   },
   "outputs": [
    {
     "name": "stdout",
     "output_type": "stream",
     "text": [
      "Topic 1: curry, ambience, fan, unfortunately, mood, isnt, kaba, tasted, big, im\n",
      "Topic 2: check, didnt, ordered, location, supposed, sister, charged, checks, minutes, come\n",
      "Topic 3: bowl, pork, ginger, hair, seaweed, cooked, dig, going, katsu, just\n",
      "Topic 4: spice, spicy, level, adding, anymore, resemble, point, deceiving, tofu, spinach\n",
      "Topic 5: required, identification, credentials, explain, depend, animals, animal, glass, card, bother\n",
      "Topic 6: waitresses, worst, awful, attitude, world, bad, experience, came, minutes, wrong\n",
      "Topic 7: tonkatsu, days, hard, chew, rock, ago, serve, curry, katsu, chicken\n",
      "Topic 8: local, try, curry, ive, just, gas, cutlet, miles, experienced, id\n",
      "Topic 9: worth, way, rice, end, make, curry, sarcasm, butt, taking, girlfriend\n",
      "Topic 10: came, friends, finally, croquette, wrong, 20, ordered, food, katsu, poor\n",
      "Topic 11: best, japanese, curry, thing, vegas, hypemy, townits, las, disappointed, mediocre\n",
      "Topic 12: customers, line, sat, zen, order, like, table, really, curry, just\n",
      "Topic 13: house, curry, insisted, 110, doesnt, medium, authentic, western, spice, want\n",
      "Topic 14: table, seated, small, group, 30, minutes, waited, didnt, like, bigger\n",
      "Topic 15: spicy, level, chicken, crazy, went, place, got, food, great, katsu\n"
     ]
    }
   ],
   "source": [
    "nmf_tm(bad)"
   ]
  },
  {
   "cell_type": "code",
   "execution_count": null,
   "metadata": {
    "collapsed": true
   },
   "outputs": [],
   "source": []
  },
  {
   "cell_type": "code",
   "execution_count": null,
   "metadata": {
    "collapsed": true
   },
   "outputs": [],
   "source": []
  },
  {
   "cell_type": "code",
   "execution_count": null,
   "metadata": {
    "collapsed": true
   },
   "outputs": [],
   "source": []
  },
  {
   "cell_type": "code",
   "execution_count": null,
   "metadata": {
    "collapsed": true
   },
   "outputs": [],
   "source": []
  },
  {
   "cell_type": "code",
   "execution_count": null,
   "metadata": {
    "collapsed": true
   },
   "outputs": [],
   "source": []
  },
  {
   "cell_type": "code",
   "execution_count": null,
   "metadata": {
    "collapsed": true
   },
   "outputs": [],
   "source": []
  },
  {
   "cell_type": "code",
   "execution_count": 223,
   "metadata": {
    "collapsed": true
   },
   "outputs": [],
   "source": [
    "# pipe_lr = Pipeline([('scl', StandardScaler()),\n",
    "#    ...            ('pca', PCA(n_components=2)),\n",
    "#    ...            ('clf', LogisticRegression(random_state=1))])\n",
    "#    >>> pipe_lr.fit(X_train, y_train)\n",
    "#    >>> print('Test Accuracy: %.3f' % pipe_lr.score(X_test, y_test))\n",
    "#    Test Accuracy: 0.947"
   ]
  },
  {
   "cell_type": "code",
   "execution_count": 170,
   "metadata": {
    "collapsed": true
   },
   "outputs": [],
   "source": [
    "tfidf = TfidfVectorizer(stop_words='english')\n",
    "tfidf_good = tfidf.fit_transform(good.text)\n",
    "tfidf_bad = tfidf.fit_transform(bad.text)"
   ]
  },
  {
   "cell_type": "code",
   "execution_count": 164,
   "metadata": {
    "collapsed": false
   },
   "outputs": [],
   "source": [
    "lda = LatentDirichletAllocation(n_topics=10,\n",
    "                                max_iter=5,\n",
    "                                learning_method='online',\n",
    "                                learning_offset=50.,\n",
    "                                random_state=42)"
   ]
  },
  {
   "cell_type": "code",
   "execution_count": 165,
   "metadata": {
    "collapsed": false,
    "scrolled": false
   },
   "outputs": [],
   "source": [
    "# lda.fit(tfidf_good)"
   ]
  },
  {
   "cell_type": "code",
   "execution_count": 166,
   "metadata": {
    "collapsed": false
   },
   "outputs": [
    {
     "data": {
      "text/plain": [
       "LatentDirichletAllocation(batch_size=128, doc_topic_prior=None,\n",
       "             evaluate_every=-1, learning_decay=0.7,\n",
       "             learning_method='online', learning_offset=50.0,\n",
       "             max_doc_update_iter=100, max_iter=5, mean_change_tol=0.001,\n",
       "             n_jobs=1, n_topics=10, perp_tol=0.1, random_state=42,\n",
       "             topic_word_prior=None, total_samples=1000000.0, verbose=0)"
      ]
     },
     "execution_count": 166,
     "metadata": {},
     "output_type": "execute_result"
    }
   ],
   "source": [
    "lda.fit(tfidf_bad)"
   ]
  },
  {
   "cell_type": "code",
   "execution_count": 167,
   "metadata": {
    "collapsed": true
   },
   "outputs": [],
   "source": [
    "terms = tfidf.get_feature_names()"
   ]
  },
  {
   "cell_type": "code",
   "execution_count": 168,
   "metadata": {
    "collapsed": true
   },
   "outputs": [],
   "source": [
    "C = lda.components_"
   ]
  },
  {
   "cell_type": "code",
   "execution_count": 169,
   "metadata": {
    "collapsed": false
   },
   "outputs": [
    {
     "name": "stdout",
     "output_type": "stream",
     "text": [
      "Topic 1: bread, flopped, flavorless, person, sun, restaurants, reeked, smelled, crust, implication\n",
      "Topic 2: grimaldis, sauce, seats, cover, destination, paltry, rarely, 20, dark, concern\n",
      "Topic 3: grossed, flight, ended, likes, reeked, hype, seen, things, wineto, want\n",
      "Topic 4: ended, thank, feta, drinks, rocked, wasso, 60, peaks, grill, properly\n",
      "Topic 5: walking, ham, nice, able, trained, turned, dinner, bottle, yuck, favorite\n",
      "Topic 6: 12, pizza, pushy, recall, really, live, menu, placed, frozen, liked\n",
      "Topic 7: place, 30, disgusting, desert, crappy, pretentious, ordered, pay, didnt, handled\n",
      "Topic 8: legally, like, good, money, away, great, overpriced, times, considering, politely\n",
      "Topic 9: uncomfortable, garlic, friend, resolution, pleasant, eating, fruitfly, visit, shouldnt, atmosphere\n",
      "Topic 10: making, recommendmany, bite, decent, dry, coffee, truly, arizona, waitressi, couple\n"
     ]
    }
   ],
   "source": [
    "for topic,term in enumerate(C):\n",
    "    top_indices = np.argsort(C)[topic][::-1][:10]\n",
    "    term_ranking = [terms[i] for i in top_indices]\n",
    "    print(\"Topic {}: {}\".format(topic+1, \", \".join(term_ranking)))"
   ]
  },
  {
   "cell_type": "code",
   "execution_count": 138,
   "metadata": {
    "collapsed": true
   },
   "outputs": [],
   "source": [
    "nmf = NMF(init=\"nndsvd\",\n",
    "            n_components=4,\n",
    "            max_iter=200)"
   ]
  },
  {
   "cell_type": "code",
   "execution_count": 139,
   "metadata": {
    "collapsed": false
   },
   "outputs": [
    {
     "data": {
      "text/plain": [
       "NMF(alpha=0.0, beta=1, eta=0.1, init='nndsvd', l1_ratio=0.0, max_iter=200,\n",
       "  n_components=4, nls_max_iter=2000, random_state=None, shuffle=False,\n",
       "  solver='cd', sparseness=None, tol=0.0001, verbose=0)"
      ]
     },
     "execution_count": 139,
     "metadata": {},
     "output_type": "execute_result"
    }
   ],
   "source": [
    "nmf.fit(tfidf_bad)"
   ]
  },
  {
   "cell_type": "code",
   "execution_count": 140,
   "metadata": {
    "collapsed": false
   },
   "outputs": [],
   "source": [
    "W = nmf.fit_transform(tfidf_bad)\n",
    "H = nmf.components_"
   ]
  },
  {
   "cell_type": "code",
   "execution_count": 141,
   "metadata": {
    "collapsed": false
   },
   "outputs": [
    {
     "name": "stdout",
     "output_type": "stream",
     "text": [
      "Topic 1: pizza, sauce, crust, like, cheese, just, better, oven, grimaldis, way\n",
      "Topic 2: lunch, bartender, friend, talk, menus, orders, think, taking, establishment, brought\n",
      "Topic 3: party, food, told, table, manager, restaurant, service, time, people, asked\n",
      "Topic 4: pizza, say, really, good, place, places, nice, eat, money, visit\n"
     ]
    }
   ],
   "source": [
    "for topic,term in enumerate(H):\n",
    "    top_indices = np.argsort(H)[topic][::-1][:10]\n",
    "    term_ranking = [terms[i] for i in top_indices]\n",
    "    print(\"Topic {}: {}\".format(topic+1, \", \".join(term_ranking)))"
   ]
  },
  {
   "cell_type": "code",
   "execution_count": 142,
   "metadata": {
    "collapsed": false
   },
   "outputs": [
    {
     "data": {
      "text/plain": [
       "0     most overhyped pizza in townvery crunchy overb...\n",
       "2     although i have only eaten at patsy grimaldis ...\n",
       "4     at about 7 pm we arrive a bunch of pilots flig...\n",
       "6     tourist trap in downtown scottsdale  beau and ...\n",
       "8     unfortunately i have to say i was disappointed...\n",
       "10    walked in last night hoping to have a nice pie...\n",
       "12    first of all i love thin crust pizza from a co...\n",
       "14    i know i shouldnt look a gift horse in the mou...\n",
       "16    i cant really complain too muchthe servershost...\n",
       "18    so disappointed i have eaten grimaldis a few t...\n",
       "20    new to the area and decided to give gremaldis ...\n",
       "22    i had a calzone which was yummy but the servic...\n",
       "24    omg  went here on a quiet sunday afternoon  11...\n",
       "26    the food is wonderful  we continue to go month...\n",
       "28    wow i expected so much better from this ny sta...\n",
       "30    i have no idea why this restaurant has been ra...\n",
       "32    horrible servicei came in this past saturday w...\n",
       "34    crust was flavorless and limp as soon as they ...\n",
       "36    the place is full of picky people from what i ...\n",
       "38    i remember when this first opened back in the ...\n",
       "40    my experience here must have been quite the ex...\n",
       "42    i used to come here once a week for lunch when...\n",
       "44    waitress and manager bring pizzas to our table...\n",
       "Name: text, dtype: object"
      ]
     },
     "execution_count": 142,
     "metadata": {},
     "output_type": "execute_result"
    }
   ],
   "source": [
    "bad.text[::2]"
   ]
  },
  {
   "cell_type": "code",
   "execution_count": null,
   "metadata": {
    "collapsed": true
   },
   "outputs": [],
   "source": []
  },
  {
   "cell_type": "markdown",
   "metadata": {},
   "source": [
    "## TIPS"
   ]
  },
  {
   "cell_type": "code",
   "execution_count": 14,
   "metadata": {
    "collapsed": false
   },
   "outputs": [
    {
     "data": {
      "text/plain": [
       "658051"
      ]
     },
     "execution_count": 14,
     "metadata": {},
     "output_type": "execute_result"
    }
   ],
   "source": [
    "len(user['elite_age'].ix[user['elite_age'] == 1])"
   ]
  },
  {
   "cell_type": "code",
   "execution_count": 212,
   "metadata": {
    "collapsed": false
   },
   "outputs": [
    {
     "data": {
      "text/html": [
       "<div>\n",
       "<table border=\"1\" class=\"dataframe\">\n",
       "  <thead>\n",
       "    <tr style=\"text-align: right;\">\n",
       "      <th></th>\n",
       "      <th>user_id</th>\n",
       "      <th>text</th>\n",
       "      <th>business_id</th>\n",
       "      <th>likes</th>\n",
       "      <th>date</th>\n",
       "    </tr>\n",
       "  </thead>\n",
       "  <tbody>\n",
       "    <tr>\n",
       "      <th>0</th>\n",
       "      <td>ZxdojCZgZhw36xuSGaryRg</td>\n",
       "      <td>Pizza is garbage. Hoagies are excellent.</td>\n",
       "      <td>5UmKMjUEUNdYWqANhGckJw</td>\n",
       "      <td>0</td>\n",
       "      <td>2016-07-17</td>\n",
       "    </tr>\n",
       "    <tr>\n",
       "      <th>1</th>\n",
       "      <td>-6rEfobYjMxpUWLNxszaxQ</td>\n",
       "      <td>Don't waste your time.</td>\n",
       "      <td>cE27W9VPgO88Qxe4ol6y_g</td>\n",
       "      <td>0</td>\n",
       "      <td>2013-04-18</td>\n",
       "    </tr>\n",
       "  </tbody>\n",
       "</table>\n",
       "</div>"
      ],
      "text/plain": [
       "                  user_id                                      text  \\\n",
       "0  ZxdojCZgZhw36xuSGaryRg  Pizza is garbage. Hoagies are excellent.   \n",
       "1  -6rEfobYjMxpUWLNxszaxQ                    Don't waste your time.   \n",
       "\n",
       "              business_id  likes        date  \n",
       "0  5UmKMjUEUNdYWqANhGckJw      0  2016-07-17  \n",
       "1  cE27W9VPgO88Qxe4ol6y_g      0  2013-04-18  "
      ]
     },
     "execution_count": 212,
     "metadata": {},
     "output_type": "execute_result"
    }
   ],
   "source": [
    "tip.head(2)"
   ]
  },
  {
   "cell_type": "code",
   "execution_count": 222,
   "metadata": {
    "collapsed": false
   },
   "outputs": [],
   "source": [
    "tip_count = Counter(tip['user_id'])"
   ]
  },
  {
   "cell_type": "code",
   "execution_count": 223,
   "metadata": {
    "collapsed": false,
    "scrolled": true
   },
   "outputs": [],
   "source": [
    "g = pd.Series(tip_count)"
   ]
  },
  {
   "cell_type": "code",
   "execution_count": 221,
   "metadata": {
    "collapsed": true
   },
   "outputs": [],
   "source": [
    "df = pd.DataFrame({'User':g.index, 'count':g.values})"
   ]
  },
  {
   "cell_type": "code",
   "execution_count": 216,
   "metadata": {
    "collapsed": false,
    "scrolled": false
   },
   "outputs": [
    {
     "data": {
      "text/html": [
       "<div>\n",
       "<table border=\"1\" class=\"dataframe\">\n",
       "  <thead>\n",
       "    <tr style=\"text-align: right;\">\n",
       "      <th></th>\n",
       "      <th>User</th>\n",
       "      <th>count</th>\n",
       "    </tr>\n",
       "  </thead>\n",
       "  <tbody>\n",
       "    <tr>\n",
       "      <th>0</th>\n",
       "      <td>--0mI_q_0D1CdU4P_hoImQ</td>\n",
       "      <td>1</td>\n",
       "    </tr>\n",
       "    <tr>\n",
       "      <th>1</th>\n",
       "      <td>--2QZsyXGz1OhiD4-0FQLQ</td>\n",
       "      <td>5</td>\n",
       "    </tr>\n",
       "  </tbody>\n",
       "</table>\n",
       "</div>"
      ],
      "text/plain": [
       "                     User  count\n",
       "0  --0mI_q_0D1CdU4P_hoImQ      1\n",
       "1  --2QZsyXGz1OhiD4-0FQLQ      5"
      ]
     },
     "execution_count": 216,
     "metadata": {},
     "output_type": "execute_result"
    }
   ],
   "source": [
    "df.head(2)"
   ]
  },
  {
   "cell_type": "code",
   "execution_count": 217,
   "metadata": {
    "collapsed": false
   },
   "outputs": [],
   "source": [
    "# def ten(dl):\n",
    "#     if dl > 400: return 'more_than_400'\n",
    "#     elif 0 < dl <= 50: return 'under_50'\n",
    "#     elif 50 < dl <= 100: return 'under_100'\n",
    "#     elif 100 < dl <= 200: return 'under_200'\n",
    "#     elif 200 < dl <= 300: return 'under_300'\n",
    "#     elif 300 < dl <= 400: return 'under_400'\n",
    "    \n",
    "    \n",
    "#     else: return 'None'\n",
    "# f = df['count'].map(ten)"
   ]
  },
  {
   "cell_type": "code",
   "execution_count": 22,
   "metadata": {
    "collapsed": false
   },
   "outputs": [],
   "source": [
    "name = ['under_100','under_200','under_300','under_400','under_500','more_than_500']"
   ]
  },
  {
   "cell_type": "code",
   "execution_count": 23,
   "metadata": {
    "collapsed": false
   },
   "outputs": [],
   "source": [
    "# sns.countplot(x ='age_range', hue = 'sex', data = users, order=['under_100','under_200','under_300','under_400','under_500','more_than_500']);"
   ]
  },
  {
   "cell_type": "markdown",
   "metadata": {},
   "source": [
    "# Create a piechart"
   ]
  },
  {
   "cell_type": "code",
   "execution_count": 164,
   "metadata": {
    "collapsed": false
   },
   "outputs": [],
   "source": [
    "# plt.pie(f, explode=explode, labels=labels, colors=colors,\n",
    "#         autopct='%1.1f%%', shadow=True, startangle=140)"
   ]
  },
  {
   "cell_type": "code",
   "execution_count": 315,
   "metadata": {
    "collapsed": false
   },
   "outputs": [
    {
     "data": {
      "text/plain": [
       "<matplotlib.axes._subplots.AxesSubplot at 0x16cdf2a90>"
      ]
     },
     "execution_count": 315,
     "metadata": {},
     "output_type": "execute_result"
    },
    {
     "data": {
      "image/png": "[encoded data removed]",
      "text/plain": [
       "<matplotlib.figure.Figure at 0x165e97c88>"
      ]
     },
     "metadata": {},
     "output_type": "display_data"
    }
   ],
   "source": [
    "plt.figure(figsize=(15,5))\n",
    "sns.countplot(f.ix[f != \"under_50\"], order =['under_100','under_200','under_300','under_400','more_than_400'] )"
   ]
  },
  {
   "cell_type": "code",
   "execution_count": 284,
   "metadata": {
    "collapsed": false
   },
   "outputs": [],
   "source": [
    "def days_late_xform(dl):\n",
    "    if dl > 500: return 'more_1000'\n",
    "    elif 300 < dl <= 500: return 'f'\n",
    "    elif 100 < dl <= 300: return 'd'\n",
    "    elif 80 < dl <= 100: return 'd'\n",
    "    elif 50 < dl <= 80: return 'c'\n",
    "    elif 20 < dl <= 50: return 'b'\n",
    "    elif 10 < dl <= 20: return '10_20'\n",
    "    elif 5 < dl <= 10: return '5_10'\n",
    "    elif 2 < dl <= 3: return 'three'\n",
    "    elif 1 < dl <= 2: return 'two'\n",
    "    elif 0 < dl <= 1: return 'one'\n",
    "    else: return 'None'\n",
    "\n",
    "k = df['count'].map(days_late_xform)"
   ]
  },
  {
   "cell_type": "code",
   "execution_count": 285,
   "metadata": {
    "collapsed": false
   },
   "outputs": [
    {
     "data": {
      "text/plain": [
       "<matplotlib.axes._subplots.AxesSubplot at 0x15236e160>"
      ]
     },
     "execution_count": 285,
     "metadata": {},
     "output_type": "execute_result"
    },
    {
     "data": {
      "image/png": "[encoded data removed]",
      "text/plain": [
       "<matplotlib.figure.Figure at 0x152521128>"
      ]
     },
     "metadata": {},
     "output_type": "display_data"
    }
   ],
   "source": [
    "plt.figure(figsize=(15,5))\n",
    "sns.countplot(k.ix[k != \"i\"])"
   ]
  },
  {
   "cell_type": "code",
   "execution_count": 246,
   "metadata": {
    "collapsed": false
   },
   "outputs": [],
   "source": [
    "# sns.lmplot(\"x\", \"y\", data=c, hue='dataset', fit_reg=False)"
   ]
  },
  {
   "cell_type": "code",
   "execution_count": 204,
   "metadata": {
    "collapsed": false
   },
   "outputs": [],
   "source": [
    "# plt.figure(figsize= (10,5))\n",
    "# sns.countplot(tip['user_id'])\n",
    "# plt.title('Distribution of User Elite')\n",
    "# plt.xlabel('Years of Elite Status')\n",
    "# plt.ylabel('User Counts')"
   ]
  },
  {
   "cell_type": "code",
   "execution_count": null,
   "metadata": {
    "collapsed": true
   },
   "outputs": [],
   "source": []
  }
 ],
 "metadata": {
  "anaconda-cloud": {},
  "kernelspec": {
   "display_name": "Python [Root]",
   "language": "python",
   "name": "Python [Root]"
  },
  "language_info": {
   "codemirror_mode": {
    "name": "ipython",
    "version": 3
   },
   "file_extension": ".py",
   "mimetype": "text/x-python",
   "name": "python",
   "nbconvert_exporter": "python",
   "pygments_lexer": "ipython3",
   "version": "3.5.2"
  }
 },
 "nbformat": 4,
 "nbformat_minor": 0
}
