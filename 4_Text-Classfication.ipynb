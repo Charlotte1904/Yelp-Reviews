{
 "cells": [
  {
   "cell_type": "markdown",
   "metadata": {},
   "source": [
    "GOAL: Using User Reviews to classify user status \n",
    "\n",
    "Algorithms: \n",
    "\n",
    "    -mnb = MultinomialNB()\n",
    "    \n",
    "    -rf = RandomForestClassifier()\n",
    "    \n",
    "    -svc = SVC() \n",
    "    \n",
    "    -ada = AdaBoostClassifier()  \n",
    "    \n",
    "    -logit = LogisticRegression()\n",
    "    \n",
    "    -gbc = GradientBoostingClassifier()\n"
   ]
  },
  {
   "cell_type": "code",
   "execution_count": 1,
   "metadata": {
    "collapsed": false,
    "scrolled": false
   },
   "outputs": [
    {
     "name": "stdout",
     "output_type": "stream",
     "text": [
      "Populating the interactive namespace from numpy and matplotlib\n"
     ]
    },
    {
     "name": "stderr",
     "output_type": "stream",
     "text": [
      "/Users/Charlotte/anaconda/lib/python3.5/site-packages/sklearn/cross_validation.py:44: DeprecationWarning: This module was deprecated in version 0.18 in favor of the model_selection module into which all the refactored classes and functions are moved. Also note that the interface of the new CV iterators are different from that of this module. This module will be removed in 0.20.\n",
      "  \"This module will be removed in 0.20.\", DeprecationWarning)\n",
      "/Users/Charlotte/anaconda/lib/python3.5/site-packages/sklearn/grid_search.py:43: DeprecationWarning: This module was deprecated in version 0.18 in favor of the model_selection module into which all the refactored classes and functions are moved. This module will be removed in 0.20.\n",
      "  DeprecationWarning)\n"
     ]
    }
   ],
   "source": [
    "%pylab inline\n",
    "import pandas as pd\n",
    "import numpy as np\n",
    "import seaborn as sns\n",
    "import re\n",
    "import string\n",
    "from collections import Counter\n",
    "from collections import defaultdict\n",
    "\n",
    "# NLP Tools \n",
    "from nltk.corpus import stopwords\n",
    "from nltk import word_tokenize\n",
    "from sklearn.feature_extraction.text import CountVectorizer, TfidfVectorizer\n",
    "from confusion_mat import show_confusion_matrix\n",
    "from nltk.stem.porter import PorterStemmer\n",
    "from nltk.stem.snowball import SnowballStemmer\n",
    "from nltk.stem.wordnet import WordNetLemmatizer\n",
    "\n",
    "\n",
    "# Evaluation - Optimization Tools\n",
    "from sklearn.pipeline import Pipeline,make_pipeline\n",
    "from sklearn.model_selection import cross_val_score,train_test_split\n",
    "from sklearn.metrics import accuracy_score, precision_score, recall_score, f1_score, roc_curve, auc, classification_report,confusion_matrix\n",
    "from sklearn.preprocessing import normalize, scale, StandardScaler, Normalizer\n",
    "from sklearn.grid_search import GridSearchCV\n",
    "\n",
    "# Classification Algorithms\n",
    "from sklearn.naive_bayes import MultinomialNB, GaussianNB\n",
    "from sklearn.linear_model import LogisticRegression,SGDClassifier\n",
    "from sklearn.neighbors import KNeighborsClassifier\n",
    "from sklearn.naive_bayes import GaussianNB\n",
    "from sklearn.svm import SVC\n",
    "from sklearn.tree import DecisionTreeClassifier\n",
    "from sklearn.ensemble import RandomForestClassifier,AdaBoostClassifier,GradientBoostingClassifier"
   ]
  },
  {
   "cell_type": "code",
   "execution_count": 2,
   "metadata": {
    "collapsed": false,
    "scrolled": true
   },
   "outputs": [],
   "source": [
    "user = pd.read_pickle('data/user')\n",
    "review = pd.read_pickle('data/review') # 32k\n",
    "# business =pd.read_pickle('data/business')"
   ]
  },
  {
   "cell_type": "markdown",
   "metadata": {},
   "source": [
    "# Vectorize Text Data"
   ]
  },
  {
   "cell_type": "code",
   "execution_count": 3,
   "metadata": {
    "collapsed": true
   },
   "outputs": [],
   "source": [
    "elite_userid = user['user_id'].ix[user['elite_status'] == 1]"
   ]
  },
  {
   "cell_type": "code",
   "execution_count": 4,
   "metadata": {
    "collapsed": true
   },
   "outputs": [],
   "source": [
    "review['elite_status'] = np.where(review['user_id'].isin(elite_userid), 1, 0)"
   ]
  },
  {
   "cell_type": "code",
   "execution_count": 5,
   "metadata": {
    "collapsed": false
   },
   "outputs": [],
   "source": [
    "X = review['text']\n",
    "y = review['elite_status']\n",
    "X_train, X_test, y_train, y_test = train_test_split(X,y,test_size=0.2)"
   ]
  },
  {
   "cell_type": "code",
   "execution_count": 6,
   "metadata": {
    "collapsed": false
   },
   "outputs": [],
   "source": [
    "vectorizer = TfidfVectorizer()\n",
    "vect_X_train = vectorizer.fit_transform(X_train)\n",
    "vect_X_test = vectorizer.transform(X_test)"
   ]
  },
  {
   "cell_type": "markdown",
   "metadata": {},
   "source": [
    "# Select Best Models"
   ]
  },
  {
   "cell_type": "code",
   "execution_count": 10,
   "metadata": {
    "collapsed": true
   },
   "outputs": [],
   "source": [
    "def cross_val(model,X_train,y_train):\n",
    "   \n",
    "    model.fit(X_train,y_train)\n",
    "\n",
    "    print(str(model).split('(')[0],'CV:')\n",
    "    print('-- Accuracy:', round((cross_val_score(model, X_train, y_train, cv=3,scoring='accuracy').mean()), 3),\n",
    "          '| Recall:', round(cross_val_score(model, X_train, y_train, cv=3, scoring='recall').mean(), 3),\n",
    "          '| Precision:', round(cross_val_score(model, X_train, y_train, cv=3, scoring='precision').mean(), 3),\n",
    "          '| f1:', round(cross_val_score(model, X_train, y_train, cv=3, scoring='f1').mean(), 3),\n",
    "         '| auc:',round(cross_val_score(model, X_train, y_train, cv=3, scoring= 'roc_auc').mean(), 3))\n",
    "            "
   ]
  },
  {
   "cell_type": "code",
   "execution_count": 11,
   "metadata": {
    "collapsed": false
   },
   "outputs": [],
   "source": [
    "mnb = MultinomialNB()\n",
    "rf = RandomForestClassifier()\n",
    "svc = SVC() # takes forever to run \n",
    "ada = AdaBoostClassifier()  \n",
    "logit = LogisticRegression()\n",
    "gbc = GradientBoostingClassifier() # takes forever to run "
   ]
  },
  {
   "cell_type": "code",
   "execution_count": 11,
   "metadata": {
    "collapsed": false,
    "scrolled": true
   },
   "outputs": [
    {
     "name": "stdout",
     "output_type": "stream",
     "text": [
      "RandomForestClassifier CV:\n",
      "-- Accuracy: 0.775 | Recall: 0.049 | Precision: 0.503 | f1: 0.098 | auc: 0.661\n"
     ]
    }
   ],
   "source": [
    "cross_val(rf,vect_X_train, y_train)"
   ]
  },
  {
   "cell_type": "code",
   "execution_count": 12,
   "metadata": {
    "collapsed": false
   },
   "outputs": [
    {
     "name": "stdout",
     "output_type": "stream",
     "text": [
      "AdaBoostClassifier CV:\n",
      "-- Accuracy: 0.78 | Recall: 0.232 | Precision: 0.544 | f1: 0.325 | auc: 0.734\n"
     ]
    }
   ],
   "source": [
    "cross_val(ada,vect_X_train, y_train) "
   ]
  },
  {
   "cell_type": "code",
   "execution_count": 12,
   "metadata": {
    "collapsed": false
   },
   "outputs": [
    {
     "name": "stdout",
     "output_type": "stream",
     "text": [
      "MultinomialNB CV:\n",
      "-- Accuracy: 0.774 | Recall: 0.013 | Precision: 0.484 | f1: 0.025 | auc: 0.508\n"
     ]
    }
   ],
   "source": [
    "cross_val(mnb,vect_X_train, y_train)"
   ]
  },
  {
   "cell_type": "code",
   "execution_count": 13,
   "metadata": {
    "collapsed": false,
    "scrolled": true
   },
   "outputs": [
    {
     "name": "stdout",
     "output_type": "stream",
     "text": [
      "LogisticRegression CV:\n",
      "-- Accuracy: 0.792 | Recall: 0.193 | Precision: 0.627 | f1: 0.295 | auc: 0.77\n"
     ]
    }
   ],
   "source": [
    "cross_val(logit,vect_X_train, y_train)"
   ]
  },
  {
   "cell_type": "markdown",
   "metadata": {},
   "source": [
    "#### LogisticRegression and AdaBoostClassfier are selected to the next round due to their the highest score in accuracy and f1"
   ]
  },
  {
   "cell_type": "markdown",
   "metadata": {},
   "source": [
    "# Hyperparameters Tuning"
   ]
  },
  {
   "cell_type": "code",
   "execution_count": 14,
   "metadata": {
    "collapsed": true
   },
   "outputs": [],
   "source": [
    "def gs_abc(X_train,y_train):\n",
    "    param = [{'learning_rate': [0.5,0.8,1],'n_estimators': [30,50]}]\n",
    "    grid_search = GridSearchCV(AdaBoostClassifier(), param_grid = param, verbose = 1, cv = 3,n_jobs= -1, scoring = 'accuracy')\n",
    "    grid_search.fit(X_train, y_train)\n",
    "    param = grid_search.best_params_\n",
    "    return param\n"
   ]
  },
  {
   "cell_type": "code",
   "execution_count": 16,
   "metadata": {
    "collapsed": false,
    "scrolled": true
   },
   "outputs": [
    {
     "name": "stdout",
     "output_type": "stream",
     "text": [
      "Fitting 3 folds for each of 6 candidates, totalling 18 fits\n"
     ]
    },
    {
     "name": "stderr",
     "output_type": "stream",
     "text": [
      "[Parallel(n_jobs=-1)]: Done  18 out of  18 | elapsed:  4.2min finished\n"
     ]
    },
    {
     "data": {
      "text/plain": [
       "{'learning_rate': 0.5, 'n_estimators': 50}"
      ]
     },
     "execution_count": 16,
     "metadata": {},
     "output_type": "execute_result"
    }
   ],
   "source": [
    "gs_abc(vect_X_train, y_train) "
   ]
  },
  {
   "cell_type": "code",
   "execution_count": 19,
   "metadata": {
    "collapsed": true
   },
   "outputs": [],
   "source": [
    "#since learning rate and n_estimators are at the border , I want to run another GS "
   ]
  },
  {
   "cell_type": "code",
   "execution_count": 17,
   "metadata": {
    "collapsed": true
   },
   "outputs": [],
   "source": [
    "def gs_abc(X_train,y_train):\n",
    "    param = [{'learning_rate': [0.3,0.5],'n_estimators': [50,100]}]\n",
    "    grid_search = GridSearchCV(AdaBoostClassifier(), param_grid = param, verbose = 1, cv = 3,n_jobs= -1, scoring = 'accuracy')\n",
    "    grid_search.fit(X_train, y_train)\n",
    "    param = grid_search.best_params_\n",
    "    return param\n"
   ]
  },
  {
   "cell_type": "code",
   "execution_count": 18,
   "metadata": {
    "collapsed": false,
    "scrolled": false
   },
   "outputs": [
    {
     "name": "stdout",
     "output_type": "stream",
     "text": [
      "Fitting 3 folds for each of 4 candidates, totalling 12 fits\n"
     ]
    },
    {
     "name": "stderr",
     "output_type": "stream",
     "text": [
      "[Parallel(n_jobs=-1)]: Done  12 out of  12 | elapsed:  5.2min finished\n"
     ]
    },
    {
     "data": {
      "text/plain": [
       "{'learning_rate': 0.5, 'n_estimators': 100}"
      ]
     },
     "execution_count": 18,
     "metadata": {},
     "output_type": "execute_result"
    }
   ],
   "source": [
    "gs_abc(vect_X_train, y_train) "
   ]
  },
  {
   "cell_type": "code",
   "execution_count": 24,
   "metadata": {
    "collapsed": true
   },
   "outputs": [],
   "source": [
    "def gs_logit(X_train,y_train):\n",
    "    param_grid = [{'C': [0.1, 1, 10] }]\n",
    "    grid_search = GridSearchCV(LogisticRegression(penalty='l2'), param_grid, n_jobs=-1)\n",
    "    grid_search.fit(X_train, y_train)\n",
    "    param = grid_search.best_params_\n",
    "    return param\n"
   ]
  },
  {
   "cell_type": "code",
   "execution_count": 25,
   "metadata": {
    "collapsed": false
   },
   "outputs": [
    {
     "data": {
      "text/plain": [
       "{'C': 1}"
      ]
     },
     "execution_count": 25,
     "metadata": {},
     "output_type": "execute_result"
    }
   ],
   "source": [
    "gs_logit(vect_X_train, y_train) "
   ]
  },
  {
   "cell_type": "code",
   "execution_count": 29,
   "metadata": {
    "collapsed": true
   },
   "outputs": [],
   "source": [
    "def gs_logit(X_train,y_train):\n",
    "    param_grid = [{'C': [ 1, 3,5] ,'penalty': ['l1','l2']}]\n",
    "    grid_search = GridSearchCV(LogisticRegression(penalty='l2'), param_grid, n_jobs=-1)\n",
    "    grid_search.fit(X_train, y_train)\n",
    "    param = grid_search.best_params_\n",
    "    return param\n"
   ]
  },
  {
   "cell_type": "code",
   "execution_count": 30,
   "metadata": {
    "collapsed": false
   },
   "outputs": [
    {
     "data": {
      "text/plain": [
       "{'C': 1, 'penalty': 'l2'}"
      ]
     },
     "execution_count": 30,
     "metadata": {},
     "output_type": "execute_result"
    }
   ],
   "source": [
    "gs_logit(vect_X_train, y_train) "
   ]
  },
  {
   "cell_type": "markdown",
   "metadata": {},
   "source": [
    "# Final Testing"
   ]
  },
  {
   "cell_type": "code",
   "execution_count": 12,
   "metadata": {
    "collapsed": true
   },
   "outputs": [],
   "source": [
    "def fit_model(model,X_train,y_train,X_test,y_test):\n",
    "    \"Fit Model --- Return Evaluation Metrics\"\n",
    "    \n",
    "    model = model.fit(X_train, y_train)\n",
    "    train_pred = model.predict(X_train)\n",
    "    test_pred = model.predict(X_test)\n",
    "    prob = model.predict_proba(X_test)\n",
    "    \n",
    "\n",
    "    print(str(model).split('(')[0],':')\n",
    "    print('Train | Accuracy:', round(accuracy_score(y_train, train_pred),3),\n",
    "          '| Recall',round(recall_score(y_train, train_pred),3),\n",
    "          '| Precision',round(precision_score(y_train, train_pred),3),\n",
    "          '| f1',round(f1_score(y_train, train_pred),3))\n",
    "\n",
    "    print('Test | Accuracy:', round(accuracy_score(y_test, test_pred),3),\n",
    "          '| Recall',round(recall_score(y_test, test_pred),3),\n",
    "          '| Precision',round(precision_score(y_test, test_pred),3),\n",
    "          '| f1',round(f1_score(y_test, test_pred),3))\n",
    "    \n",
    "    return test_pred, prob[:,1]\n",
    "\n",
    "    \n"
   ]
  },
  {
   "cell_type": "code",
   "execution_count": 13,
   "metadata": {
    "collapsed": true
   },
   "outputs": [],
   "source": [
    "def plot_roc(y_test, pred_test):\n",
    "    fpr, tpr, _= roc_curve(y_test, pred_test)\n",
    "    roc_auc = auc(fpr,tpr)\n",
    "    plt.plot(fpr,tpr, label = 'area %.2f' %roc_auc)\n",
    "    plt.plot(np.linspace(0,1,10),np.linspace(0,1,10))\n",
    "    plt.xlim([-0.05,1.05])\n",
    "    plt.ylim([-0.05,1.05])\n",
    "    plt.legend(loc = 'lower right')\n",
    "    plt.show()"
   ]
  },
  {
   "cell_type": "code",
   "execution_count": 14,
   "metadata": {
    "collapsed": false
   },
   "outputs": [],
   "source": [
    "logit_tuned = LogisticRegression(C = 1, penalty = 'l2')\n",
    "ada_tuned = AdaBoostClassifier(learning_rate = 0.5, n_estimators = 500)"
   ]
  },
  {
   "cell_type": "code",
   "execution_count": 15,
   "metadata": {
    "collapsed": false,
    "scrolled": true
   },
   "outputs": [
    {
     "name": "stdout",
     "output_type": "stream",
     "text": [
      "LogisticRegression :\n",
      "Train | Accuracy: 0.83 | Recall 0.322 | Precision 0.816 | f1 0.462\n",
      "Test | Accuracy: 0.793 | Recall 0.252 | Precision 0.641 | f1 0.362\n"
     ]
    }
   ],
   "source": [
    "logit_test_pred, logit_prob = fit_model(logit_tuned, vect_X_train, y_train,vect_X_test, y_test)"
   ]
  },
  {
   "cell_type": "code",
   "execution_count": 16,
   "metadata": {
    "collapsed": false,
    "scrolled": true
   },
   "outputs": [
    {
     "name": "stdout",
     "output_type": "stream",
     "text": [
      "AdaBoostClassifier :\n",
      "Train | Accuracy: 0.821 | Recall 0.351 | Precision 0.711 | f1 0.47\n",
      "Test | Accuracy: 0.786 | Recall 0.28 | Precision 0.584 | f1 0.378\n"
     ]
    }
   ],
   "source": [
    "ada_test_pred, ada_prob  = fit_model(ada_tuned, vect_X_train, y_train,vect_X_test, y_test)"
   ]
  },
  {
   "cell_type": "code",
   "execution_count": 18,
   "metadata": {
    "collapsed": false
   },
   "outputs": [],
   "source": [
    "logit_confusion = confusion_matrix(y_test, logit_test_pred )\n",
    "ada_confusion = confusion_matrix(y_test, ada_test_pred )"
   ]
  },
  {
   "cell_type": "code",
   "execution_count": 19,
   "metadata": {
    "collapsed": false,
    "scrolled": false
   },
   "outputs": [
    {
     "name": "stdout",
     "output_type": "stream",
     "text": [
      "             precision    recall  f1-score   support\n",
      "\n",
      "          0       0.81      0.96      0.88      5001\n",
      "          1       0.64      0.25      0.36      1522\n",
      "\n",
      "avg / total       0.77      0.79      0.76      6523\n",
      "\n"
     ]
    }
   ],
   "source": [
    "print(classification_report(y_test, logit_test_pred ))"
   ]
  },
  {
   "cell_type": "markdown",
   "metadata": {},
   "source": [
    "# Evaluation"
   ]
  },
  {
   "cell_type": "code",
   "execution_count": 20,
   "metadata": {
    "collapsed": false
   },
   "outputs": [
    {
     "data": {
      "image/png": "[encoded data removed]",
      "text/plain": [
       "<matplotlib.figure.Figure at 0x128d80978>"
      ]
     },
     "metadata": {},
     "output_type": "display_data"
    },
    {
     "data": {
      "image/png": "[encoded data removed]",
      "text/plain": [
       "<matplotlib.figure.Figure at 0x128d80940>"
      ]
     },
     "metadata": {},
     "output_type": "display_data"
    }
   ],
   "source": [
    "show_confusion_matrix(logit_confusion,class_labels=[\"Non-Elite\", \"Elite\"])\n",
    "show_confusion_matrix(ada_confusion,class_labels=[\"Non-Elite\", \"Elite\"])"
   ]
  },
  {
   "cell_type": "code",
   "execution_count": 48,
   "metadata": {
    "collapsed": false
   },
   "outputs": [
    {
     "data": {
      "image/png": "[encoded data removed]",
      "text/plain": [
       "<matplotlib.figure.Figure at 0x128d06b38>"
      ]
     },
     "metadata": {},
     "output_type": "display_data"
    },
    {
     "data": {
      "image/png": "[encoded data removed]",
      "text/plain": [
       "<matplotlib.figure.Figure at 0x11c68e160>"
      ]
     },
     "metadata": {},
     "output_type": "display_data"
    }
   ],
   "source": [
    "plot_roc(y_test, logit_prob )\n",
    "plot_roc(y_test, ada_prob )"
   ]
  },
  {
   "cell_type": "code",
   "execution_count": null,
   "metadata": {
    "collapsed": true
   },
   "outputs": [],
   "source": []
  },
  {
   "cell_type": "code",
   "execution_count": null,
   "metadata": {
    "collapsed": true
   },
   "outputs": [],
   "source": []
  }
 ],
 "metadata": {
  "anaconda-cloud": {},
  "kernelspec": {
   "display_name": "Python [Root]",
   "language": "python",
   "name": "Python [Root]"
  },
  "language_info": {
   "codemirror_mode": {
    "name": "ipython",
    "version": 3
   },
   "file_extension": ".py",
   "mimetype": "text/x-python",
   "name": "python",
   "nbconvert_exporter": "python",
   "pygments_lexer": "ipython3",
   "version": "3.5.2"
  }
 },
 "nbformat": 4,
 "nbformat_minor": 0
}
