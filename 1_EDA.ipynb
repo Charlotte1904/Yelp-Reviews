{
 "cells": [
  {
   "cell_type": "markdown",
   "metadata": {},
   "source": [
    "# YELP DATASET\n"
   ]
  },
  {
   "cell_type": "markdown",
   "metadata": {},
   "source": [
    "# Goal: Using user information to improve restaurants quality"
   ]
  },
  {
   "cell_type": "markdown",
   "metadata": {},
   "source": [
    "\n",
    "### One: Review \n",
    "> #### Is there a common theme in users' first review? If yes, what is the prevelant theme? "
   ]
  },
  {
   "cell_type": "markdown",
   "metadata": {},
   "source": [
    "### Two: Elite User Program: \n",
    "\n",
    "> #### a. What factors make a user become elite? ( Quality vs Quantity ) \n",
    ">\n",
    "#### b. Is there a trend in users'reviews? If yes, what subtopics they usually pay attention to? \n",
    ">\n",
    "#### c. How many year each user maintain the elite status? \n",
    ">\n",
    "#### d. Is there any user who has quality review and/or with high quantity that does not have elite status? Does it affect there loyalty for yelp?\n",
    ">\n",
    "#### e. Do most people leave reviews when they travel?\n",
    "\n",
    "### Three: Tip \n",
    "> #### Correlation between tips & reviews. What makes one to leave tips? Tips predictions.\n"
   ]
  },
  {
   "cell_type": "markdown",
   "metadata": {},
   "source": [
    "Dataset Source: https://www.yelp.com/dataset_challenge"
   ]
  },
  {
   "cell_type": "code",
   "execution_count": 4,
   "metadata": {
    "collapsed": false
   },
   "outputs": [
    {
     "name": "stdout",
     "output_type": "stream",
     "text": [
      "Populating the interactive namespace from numpy and matplotlib\n"
     ]
    }
   ],
   "source": [
    "%pylab inline\n",
    "import pandas as pd\n",
    "import numpy as np\n",
    "import seaborn as sns\n",
    "import re\n",
    "from collections import Counter\n",
    "from sklearn.feature_extraction.text import CountVectorizer, TfidfVectorizer\n",
    "from sklearn.decomposition import NMF\n",
    "from sklearn.decomposition.online_lda import LatentDirichletAllocation\n",
    "import string\n",
    "from sklearn.pipeline import Pipeline"
   ]
  },
  {
   "cell_type": "code",
   "execution_count": 2,
   "metadata": {
    "collapsed": true
   },
   "outputs": [],
   "source": [
    "# %load_ext sql"
   ]
  },
  {
   "cell_type": "code",
   "execution_count": 3,
   "metadata": {
    "collapsed": false,
    "scrolled": true
   },
   "outputs": [],
   "source": [
    "# !pip install ipython-sql"
   ]
  },
  {
   "cell_type": "markdown",
   "metadata": {},
   "source": [
    "# Read Data"
   ]
  },
  {
   "cell_type": "code",
   "execution_count": 5,
   "metadata": {
    "collapsed": false
   },
   "outputs": [
    {
     "name": "stderr",
     "output_type": "stream",
     "text": [
      "/Users/Charlotte/anaconda/lib/python3.5/site-packages/IPython/core/interactiveshell.py:2723: DtypeWarning: Columns (1,4,7,17,26,29,49,60,62,79,86,94) have mixed types. Specify dtype option on import or set low_memory=False.\n",
      "  interactivity=interactivity, compiler=compiler, result=result)\n"
     ]
    }
   ],
   "source": [
    "user = pd.read_csv('csv/user.csv')\n",
    "business = pd.read_csv('csv/business.csv')\n",
    "review = pd.read_csv('csv/review.csv')\n",
    "tip = pd.read_csv('csv/tip.csv')"
   ]
  },
  {
   "cell_type": "code",
   "execution_count": 6,
   "metadata": {
    "collapsed": false
   },
   "outputs": [
    {
     "data": {
      "text/html": [
       "<div>\n",
       "<table border=\"1\" class=\"dataframe\">\n",
       "  <thead>\n",
       "    <tr style=\"text-align: right;\">\n",
       "      <th></th>\n",
       "      <th>user_id</th>\n",
       "      <th>text</th>\n",
       "      <th>business_id</th>\n",
       "      <th>likes</th>\n",
       "      <th>date</th>\n",
       "      <th>type</th>\n",
       "    </tr>\n",
       "  </thead>\n",
       "  <tbody>\n",
       "    <tr>\n",
       "      <th>0</th>\n",
       "      <td>ZxdojCZgZhw36xuSGaryRg</td>\n",
       "      <td>Pizza is garbage. Hoagies are excellent.</td>\n",
       "      <td>5UmKMjUEUNdYWqANhGckJw</td>\n",
       "      <td>0</td>\n",
       "      <td>2016-07-17</td>\n",
       "      <td>tip</td>\n",
       "    </tr>\n",
       "    <tr>\n",
       "      <th>1</th>\n",
       "      <td>-6rEfobYjMxpUWLNxszaxQ</td>\n",
       "      <td>Don't waste your time.</td>\n",
       "      <td>cE27W9VPgO88Qxe4ol6y_g</td>\n",
       "      <td>0</td>\n",
       "      <td>2013-04-18</td>\n",
       "      <td>tip</td>\n",
       "    </tr>\n",
       "  </tbody>\n",
       "</table>\n",
       "</div>"
      ],
      "text/plain": [
       "                  user_id                                      text  \\\n",
       "0  ZxdojCZgZhw36xuSGaryRg  Pizza is garbage. Hoagies are excellent.   \n",
       "1  -6rEfobYjMxpUWLNxszaxQ                    Don't waste your time.   \n",
       "\n",
       "              business_id  likes        date type  \n",
       "0  5UmKMjUEUNdYWqANhGckJw      0  2016-07-17  tip  \n",
       "1  cE27W9VPgO88Qxe4ol6y_g      0  2013-04-18  tip  "
      ]
     },
     "execution_count": 6,
     "metadata": {},
     "output_type": "execute_result"
    }
   ],
   "source": [
    "tip.head(2)"
   ]
  },
  {
   "cell_type": "code",
   "execution_count": 2,
   "metadata": {
    "collapsed": false
   },
   "outputs": [],
   "source": [
    "# review.business_id.value_counts()"
   ]
  },
  {
   "cell_type": "code",
   "execution_count": 5,
   "metadata": {
    "collapsed": true
   },
   "outputs": [],
   "source": [
    "# from sqlalchemy import create_engine\n",
    "# engine = create_engine('sqlite:///csv.db')\n",
    "# conn = engine.connect()"
   ]
  },
  {
   "cell_type": "code",
   "execution_count": 7,
   "metadata": {
    "collapsed": false
   },
   "outputs": [],
   "source": [
    "def rename_column(file):\n",
    "    new_names = list()\n",
    "    for col in file:\n",
    "        new_names.append(col.replace('.', '_', len(col)).replace(' ', '_', len(col)).lower())\n",
    "    return new_names"
   ]
  },
  {
   "cell_type": "code",
   "execution_count": 8,
   "metadata": {
    "collapsed": false
   },
   "outputs": [],
   "source": [
    "user.columns = rename_column(user.columns)\n",
    "business.columns = rename_column(business.columns)\n",
    "business.columns = [ re.sub('attributes_', '', c) for c in business.columns ]\n",
    "review.columns = rename_column(review.columns)"
   ]
  },
  {
   "cell_type": "code",
   "execution_count": 8,
   "metadata": {
    "collapsed": true
   },
   "outputs": [],
   "source": [
    "user = user.ix[user['review_count'] != 0]\n",
    "user = user.drop(['type','friends'],axis = 1 )"
   ]
  },
  {
   "cell_type": "code",
   "execution_count": 9,
   "metadata": {
    "collapsed": false
   },
   "outputs": [],
   "source": [
    "review = review.drop('type',axis = 1)\n",
    "business = business.drop('type',axis = 1)\n",
    "tip = tip.drop('type',axis = 1)"
   ]
  },
  {
   "cell_type": "code",
   "execution_count": 10,
   "metadata": {
    "collapsed": true
   },
   "outputs": [],
   "source": [
    "user = user.reset_index()"
   ]
  },
  {
   "cell_type": "code",
   "execution_count": 11,
   "metadata": {
    "collapsed": false,
    "scrolled": true
   },
   "outputs": [
    {
     "data": {
      "text/html": [
       "<div>\n",
       "<table border=\"1\" class=\"dataframe\">\n",
       "  <thead>\n",
       "    <tr style=\"text-align: right;\">\n",
       "      <th></th>\n",
       "      <th>index</th>\n",
       "      <th>yelping_since</th>\n",
       "      <th>compliments_plain</th>\n",
       "      <th>review_count</th>\n",
       "      <th>compliments_cute</th>\n",
       "      <th>compliments_writer</th>\n",
       "      <th>fans</th>\n",
       "      <th>compliments_note</th>\n",
       "      <th>compliments_hot</th>\n",
       "      <th>compliments_cool</th>\n",
       "      <th>...</th>\n",
       "      <th>compliments_more</th>\n",
       "      <th>elite</th>\n",
       "      <th>name</th>\n",
       "      <th>user_id</th>\n",
       "      <th>votes_cool</th>\n",
       "      <th>compliments_list</th>\n",
       "      <th>votes_funny</th>\n",
       "      <th>compliments_photos</th>\n",
       "      <th>compliments_funny</th>\n",
       "      <th>votes_useful</th>\n",
       "    </tr>\n",
       "  </thead>\n",
       "  <tbody>\n",
       "    <tr>\n",
       "      <th>686541</th>\n",
       "      <td>686554</td>\n",
       "      <td>2016-02</td>\n",
       "      <td>NaN</td>\n",
       "      <td>1</td>\n",
       "      <td>NaN</td>\n",
       "      <td>NaN</td>\n",
       "      <td>0</td>\n",
       "      <td>NaN</td>\n",
       "      <td>NaN</td>\n",
       "      <td>NaN</td>\n",
       "      <td>...</td>\n",
       "      <td>NaN</td>\n",
       "      <td>[]</td>\n",
       "      <td>MAureen</td>\n",
       "      <td>uRM8uxxbhum_Bedx1c1frw</td>\n",
       "      <td>1</td>\n",
       "      <td>NaN</td>\n",
       "      <td>0</td>\n",
       "      <td>NaN</td>\n",
       "      <td>NaN</td>\n",
       "      <td>2</td>\n",
       "    </tr>\n",
       "    <tr>\n",
       "      <th>686542</th>\n",
       "      <td>686555</td>\n",
       "      <td>2016-04</td>\n",
       "      <td>NaN</td>\n",
       "      <td>1</td>\n",
       "      <td>NaN</td>\n",
       "      <td>NaN</td>\n",
       "      <td>0</td>\n",
       "      <td>NaN</td>\n",
       "      <td>NaN</td>\n",
       "      <td>NaN</td>\n",
       "      <td>...</td>\n",
       "      <td>NaN</td>\n",
       "      <td>[]</td>\n",
       "      <td>Amelia</td>\n",
       "      <td>DL0S4Ro4KY77akGPbEkrug</td>\n",
       "      <td>0</td>\n",
       "      <td>NaN</td>\n",
       "      <td>1</td>\n",
       "      <td>NaN</td>\n",
       "      <td>NaN</td>\n",
       "      <td>0</td>\n",
       "    </tr>\n",
       "  </tbody>\n",
       "</table>\n",
       "<p>2 rows × 22 columns</p>\n",
       "</div>"
      ],
      "text/plain": [
       "         index yelping_since  compliments_plain  review_count  \\\n",
       "686541  686554       2016-02                NaN             1   \n",
       "686542  686555       2016-04                NaN             1   \n",
       "\n",
       "        compliments_cute  compliments_writer  fans  compliments_note  \\\n",
       "686541               NaN                 NaN     0               NaN   \n",
       "686542               NaN                 NaN     0               NaN   \n",
       "\n",
       "        compliments_hot  compliments_cool      ...       compliments_more  \\\n",
       "686541              NaN               NaN      ...                    NaN   \n",
       "686542              NaN               NaN      ...                    NaN   \n",
       "\n",
       "        elite     name                 user_id votes_cool compliments_list  \\\n",
       "686541     []  MAureen  uRM8uxxbhum_Bedx1c1frw          1              NaN   \n",
       "686542     []   Amelia  DL0S4Ro4KY77akGPbEkrug          0              NaN   \n",
       "\n",
       "        votes_funny  compliments_photos  compliments_funny  votes_useful  \n",
       "686541            0                 NaN                NaN             2  \n",
       "686542            1                 NaN                NaN             0  \n",
       "\n",
       "[2 rows x 22 columns]"
      ]
     },
     "execution_count": 11,
     "metadata": {},
     "output_type": "execute_result"
    }
   ],
   "source": [
    "user.tail(2)"
   ]
  },
  {
   "cell_type": "code",
   "execution_count": 9,
   "metadata": {
    "collapsed": false
   },
   "outputs": [
    {
     "data": {
      "text/html": [
       "<div>\n",
       "<table border=\"1\" class=\"dataframe\">\n",
       "  <thead>\n",
       "    <tr style=\"text-align: right;\">\n",
       "      <th></th>\n",
       "      <th>user_id</th>\n",
       "      <th>review_id</th>\n",
       "      <th>text</th>\n",
       "      <th>votes_cool</th>\n",
       "      <th>business_id</th>\n",
       "      <th>votes_funny</th>\n",
       "      <th>stars</th>\n",
       "      <th>date</th>\n",
       "      <th>type</th>\n",
       "      <th>votes_useful</th>\n",
       "    </tr>\n",
       "  </thead>\n",
       "  <tbody>\n",
       "    <tr>\n",
       "      <th>0</th>\n",
       "      <td>PUFPaY9KxDAcGqfsorJp3Q</td>\n",
       "      <td>Ya85v4eqdd6k9Od8HbQjyA</td>\n",
       "      <td>Mr Hoagie is an institution. Walking in, it do...</td>\n",
       "      <td>0</td>\n",
       "      <td>5UmKMjUEUNdYWqANhGckJw</td>\n",
       "      <td>0</td>\n",
       "      <td>4</td>\n",
       "      <td>2012-08-01</td>\n",
       "      <td>review</td>\n",
       "      <td>0</td>\n",
       "    </tr>\n",
       "    <tr>\n",
       "      <th>1</th>\n",
       "      <td>Iu6AxdBYGR4A0wspR9BYHA</td>\n",
       "      <td>KPvLNJ21_4wbYNctrOwWdQ</td>\n",
       "      <td>Excellent food. Superb customer service. I mis...</td>\n",
       "      <td>0</td>\n",
       "      <td>5UmKMjUEUNdYWqANhGckJw</td>\n",
       "      <td>0</td>\n",
       "      <td>5</td>\n",
       "      <td>2014-02-13</td>\n",
       "      <td>review</td>\n",
       "      <td>0</td>\n",
       "    </tr>\n",
       "  </tbody>\n",
       "</table>\n",
       "</div>"
      ],
      "text/plain": [
       "                  user_id               review_id  \\\n",
       "0  PUFPaY9KxDAcGqfsorJp3Q  Ya85v4eqdd6k9Od8HbQjyA   \n",
       "1  Iu6AxdBYGR4A0wspR9BYHA  KPvLNJ21_4wbYNctrOwWdQ   \n",
       "\n",
       "                                                text  votes_cool  \\\n",
       "0  Mr Hoagie is an institution. Walking in, it do...           0   \n",
       "1  Excellent food. Superb customer service. I mis...           0   \n",
       "\n",
       "              business_id  votes_funny  stars        date    type  \\\n",
       "0  5UmKMjUEUNdYWqANhGckJw            0      4  2012-08-01  review   \n",
       "1  5UmKMjUEUNdYWqANhGckJw            0      5  2014-02-13  review   \n",
       "\n",
       "   votes_useful  \n",
       "0             0  \n",
       "1             0  "
      ]
     },
     "execution_count": 9,
     "metadata": {},
     "output_type": "execute_result"
    }
   ],
   "source": [
    "review.head(2)"
   ]
  },
  {
   "cell_type": "code",
   "execution_count": 11,
   "metadata": {
    "collapsed": false
   },
   "outputs": [
    {
     "data": {
      "text/plain": [
       "453"
      ]
     },
     "execution_count": 11,
     "metadata": {},
     "output_type": "execute_result"
    }
   ],
   "source": [
    "len(review.text[0])"
   ]
  },
  {
   "cell_type": "code",
   "execution_count": null,
   "metadata": {
    "collapsed": true
   },
   "outputs": [],
   "source": []
  },
  {
   "cell_type": "code",
   "execution_count": null,
   "metadata": {
    "collapsed": true
   },
   "outputs": [],
   "source": []
  },
  {
   "cell_type": "code",
   "execution_count": null,
   "metadata": {
    "collapsed": true
   },
   "outputs": [],
   "source": []
  },
  {
   "cell_type": "markdown",
   "metadata": {},
   "source": [
    "# Convert csv to sql database"
   ]
  },
  {
   "cell_type": "code",
   "execution_count": 12,
   "metadata": {
    "collapsed": true
   },
   "outputs": [],
   "source": [
    "# user.to_sql('user', conn)\n",
    "# business.to_sql('business', conn)\n",
    "# review.to_sql('review', conn)"
   ]
  },
  {
   "cell_type": "markdown",
   "metadata": {},
   "source": [
    "# Data visualization"
   ]
  },
  {
   "cell_type": "code",
   "execution_count": 13,
   "metadata": {
    "collapsed": false,
    "scrolled": true
   },
   "outputs": [],
   "source": [
    "restaurant = business.categories.unique()"
   ]
  },
  {
   "cell_type": "code",
   "execution_count": 14,
   "metadata": {
    "collapsed": false
   },
   "outputs": [
    {
     "data": {
      "text/plain": [
       "\"['Fast Food', 'Restaurants']\""
      ]
     },
     "execution_count": 14,
     "metadata": {},
     "output_type": "execute_result"
    }
   ],
   "source": [
    "restaurant[0]"
   ]
  },
  {
   "cell_type": "code",
   "execution_count": 15,
   "metadata": {
    "collapsed": false,
    "scrolled": false
   },
   "outputs": [
    {
     "name": "stdout",
     "output_type": "stream",
     "text": [
      "<_sre.SRE_Match object; span=(15, 25), match='Restaurant'>\n"
     ]
    }
   ],
   "source": [
    "a = (re.search('Restaurant', restaurant[0]))\n",
    "print(a)"
   ]
  },
  {
   "cell_type": "markdown",
   "metadata": {},
   "source": [
    "## Business Rating"
   ]
  },
  {
   "cell_type": "code",
   "execution_count": 15,
   "metadata": {
    "collapsed": false
   },
   "outputs": [
    {
     "data": {
      "text/plain": [
       "<matplotlib.text.Text at 0x11427c6d8>"
      ]
     },
     "execution_count": 15,
     "metadata": {},
     "output_type": "execute_result"
    },
    {
     "data": {
      "image/png": "[encoded data removed]",
      "text/plain": [
       "<matplotlib.figure.Figure at 0x17274b518>"
      ]
     },
     "metadata": {},
     "output_type": "display_data"
    }
   ],
   "source": [
    "# plt.figure(figsize=(15,5))\n",
    "# sns.countplot(business['stars'])\n",
    "# plt.title('Business Rating')\n",
    "# plt.xlabel('Rating - Stars')\n",
    "# plt.ylabel('Review Count')"
   ]
  },
  {
   "cell_type": "markdown",
   "metadata": {},
   "source": [
    "## Elite Status"
   ]
  },
  {
   "cell_type": "code",
   "execution_count": 16,
   "metadata": {
    "collapsed": true
   },
   "outputs": [],
   "source": [
    "# to find how many users in each elite year period\n",
    "user['elite_year']  = [ len(i.split(',')) for i in user['elite']]"
   ]
  },
  {
   "cell_type": "code",
   "execution_count": 17,
   "metadata": {
    "collapsed": false
   },
   "outputs": [],
   "source": [
    "# plt.figure(figsize=(15,5))\n",
    "# sns.countplot(user['elite_year'])\n",
    "# plt.title('Distribution of Elite User')\n",
    "# plt.xlabel('Year')\n",
    "# plt.ylabel('User Count')"
   ]
  },
  {
   "cell_type": "code",
   "execution_count": 19,
   "metadata": {
    "collapsed": false,
    "scrolled": false
   },
   "outputs": [],
   "source": [
    "# plt.figure(figsize=(15,5))\n",
    "# sns.countplot(user['elite_year'].ix[user['elite_year'] != 1])\n",
    "# plt.title('Distribution of Elite User')\n",
    "# plt.xlabel('Year')\n",
    "# plt.ylabel('User Count')"
   ]
  },
  {
   "cell_type": "markdown",
   "metadata": {},
   "source": [
    "# Number of years since  Yelp Membership Start Year until Elite Status"
   ]
  },
  {
   "cell_type": "code",
   "execution_count": 20,
   "metadata": {
    "collapsed": true
   },
   "outputs": [],
   "source": [
    "user['elite_since'] = [i.replace('[','').replace(']','').split(',')[0] for i in user['elite']]"
   ]
  },
  {
   "cell_type": "code",
   "execution_count": 21,
   "metadata": {
    "collapsed": false,
    "scrolled": true
   },
   "outputs": [],
   "source": [
    "user['elite_since'] = [int(i) if i!= '' else 0 for i in user['elite_since'] ]"
   ]
  },
  {
   "cell_type": "code",
   "execution_count": 22,
   "metadata": {
    "collapsed": false
   },
   "outputs": [],
   "source": [
    "user['year_before_elite'] = [ user['elite_since'][i] - int(user['yelping_since'][i].split(\"-\")[0]) if  user['elite_since'][i]!= 0 else 0 for i in range(686543)]"
   ]
  },
  {
   "cell_type": "code",
   "execution_count": 23,
   "metadata": {
    "collapsed": false,
    "scrolled": false
   },
   "outputs": [],
   "source": [
    "# plt.figure(figsize=(15,5))\n",
    "# sns.countplot(user['year_before_elite'].ix[user['year_before_elite']!= 0])\n",
    "# plt.title('How long it takes Yelp User to become Elite User')\n",
    "# plt.xlabel('Year')\n",
    "# plt.ylabel('User Count')"
   ]
  },
  {
   "cell_type": "code",
   "execution_count": 24,
   "metadata": {
    "collapsed": false
   },
   "outputs": [],
   "source": [
    "# plt.figure(figsize=(15,5))\n",
    "# sns.countplot(user['elite_since'].ix[user['elite_since']!= 0])\n",
    "# plt.title('When user upgrade to Elite status')\n",
    "# plt.xlabel('Year')\n",
    "# plt.ylabel('User Count')"
   ]
  },
  {
   "cell_type": "code",
   "execution_count": 25,
   "metadata": {
    "collapsed": false
   },
   "outputs": [
    {
     "data": {
      "text/plain": [
       "array([2005,    0, 2016, 2007, 2008, 2012, 2011, 2015, 2013, 2014, 2006,\n",
       "       2010, 2009])"
      ]
     },
     "execution_count": 25,
     "metadata": {},
     "output_type": "execute_result"
    }
   ],
   "source": [
    "user['elite_since'].unique()"
   ]
  },
  {
   "cell_type": "code",
   "execution_count": 28,
   "metadata": {
    "collapsed": false,
    "scrolled": true
   },
   "outputs": [
    {
     "data": {
      "text/plain": [
       "4.336"
      ]
     },
     "execution_count": 28,
     "metadata": {},
     "output_type": "execute_result"
    }
   ],
   "source": [
    "round((len(user) - 656772) * 100.0/ len(user),3) # percentage of elite users"
   ]
  },
  {
   "cell_type": "code",
   "execution_count": 26,
   "metadata": {
    "collapsed": true
   },
   "outputs": [],
   "source": [
    "elite_dict = Counter(user['year_before_elite'])"
   ]
  },
  {
   "cell_type": "code",
   "execution_count": 27,
   "metadata": {
    "collapsed": false
   },
   "outputs": [
    {
     "data": {
      "text/html": [
       "<div>\n",
       "<table border=\"1\" class=\"dataframe\">\n",
       "  <thead>\n",
       "    <tr style=\"text-align: right;\">\n",
       "      <th></th>\n",
       "      <th>year</th>\n",
       "      <th>user_count</th>\n",
       "    </tr>\n",
       "  </thead>\n",
       "  <tbody>\n",
       "    <tr>\n",
       "      <th>0</th>\n",
       "      <td>0</td>\n",
       "      <td>656772</td>\n",
       "    </tr>\n",
       "    <tr>\n",
       "      <th>1</th>\n",
       "      <td>1</td>\n",
       "      <td>10512</td>\n",
       "    </tr>\n",
       "    <tr>\n",
       "      <th>2</th>\n",
       "      <td>2</td>\n",
       "      <td>7187</td>\n",
       "    </tr>\n",
       "    <tr>\n",
       "      <th>3</th>\n",
       "      <td>3</td>\n",
       "      <td>4777</td>\n",
       "    </tr>\n",
       "    <tr>\n",
       "      <th>4</th>\n",
       "      <td>4</td>\n",
       "      <td>3320</td>\n",
       "    </tr>\n",
       "    <tr>\n",
       "      <th>5</th>\n",
       "      <td>5</td>\n",
       "      <td>2097</td>\n",
       "    </tr>\n",
       "    <tr>\n",
       "      <th>6</th>\n",
       "      <td>6</td>\n",
       "      <td>1047</td>\n",
       "    </tr>\n",
       "    <tr>\n",
       "      <th>7</th>\n",
       "      <td>7</td>\n",
       "      <td>553</td>\n",
       "    </tr>\n",
       "    <tr>\n",
       "      <th>8</th>\n",
       "      <td>8</td>\n",
       "      <td>206</td>\n",
       "    </tr>\n",
       "    <tr>\n",
       "      <th>9</th>\n",
       "      <td>9</td>\n",
       "      <td>57</td>\n",
       "    </tr>\n",
       "    <tr>\n",
       "      <th>10</th>\n",
       "      <td>10</td>\n",
       "      <td>11</td>\n",
       "    </tr>\n",
       "    <tr>\n",
       "      <th>11</th>\n",
       "      <td>11</td>\n",
       "      <td>4</td>\n",
       "    </tr>\n",
       "  </tbody>\n",
       "</table>\n",
       "</div>"
      ],
      "text/plain": [
       "    year  user_count\n",
       "0      0      656772\n",
       "1      1       10512\n",
       "2      2        7187\n",
       "3      3        4777\n",
       "4      4        3320\n",
       "5      5        2097\n",
       "6      6        1047\n",
       "7      7         553\n",
       "8      8         206\n",
       "9      9          57\n",
       "10    10          11\n",
       "11    11           4"
      ]
     },
     "execution_count": 27,
     "metadata": {},
     "output_type": "execute_result"
    }
   ],
   "source": [
    "elite_pd = pd.DataFrame(list(elite_dict.items()),index = None,columns = ['year','user_count'])\n",
    "elite_pd"
   ]
  },
  {
   "cell_type": "code",
   "execution_count": 28,
   "metadata": {
    "collapsed": false
   },
   "outputs": [],
   "source": [
    "member_since = user.groupby('yelping_since')['user_id'].count()\n",
    "member_since = pd.DataFrame(member_since)"
   ]
  },
  {
   "cell_type": "code",
   "execution_count": 32,
   "metadata": {
    "collapsed": false,
    "scrolled": false
   },
   "outputs": [
    {
     "data": {
      "text/plain": [
       "<matplotlib.text.Text at 0x11d292588>"
      ]
     },
     "execution_count": 32,
     "metadata": {},
     "output_type": "execute_result"
    },
    {
     "data": {
      "image/png": "[encoded data removed]",
      "text/plain": [
       "<matplotlib.figure.Figure at 0x1218312e8>"
      ]
     },
     "metadata": {},
     "output_type": "display_data"
    }
   ],
   "source": [
    "# member_since.plot()\n",
    "# plt.title('Timeline Yelp User signup')\n",
    "# plt.xlabel('Timeline')\n",
    "# plt.ylabel('User Count')"
   ]
  },
  {
   "cell_type": "markdown",
   "metadata": {},
   "source": [
    "# Review"
   ]
  },
  {
   "cell_type": "code",
   "execution_count": null,
   "metadata": {
    "collapsed": false
   },
   "outputs": [],
   "source": [
    "review.head(2)"
   ]
  },
  {
   "cell_type": "code",
   "execution_count": 29,
   "metadata": {
    "collapsed": false
   },
   "outputs": [],
   "source": [
    "a = Counter(review.user_id)\n",
    "b = Counter(a.values()) # key : #review -- value: user count\n",
    "b = dict(b)"
   ]
  },
  {
   "cell_type": "code",
   "execution_count": 30,
   "metadata": {
    "collapsed": false
   },
   "outputs": [
    {
     "name": "stdout",
     "output_type": "stream",
     "text": [
      "447\n"
     ]
    },
    {
     "data": {
      "text/html": [
       "<div>\n",
       "<table border=\"1\" class=\"dataframe\">\n",
       "  <thead>\n",
       "    <tr style=\"text-align: right;\">\n",
       "      <th></th>\n",
       "      <th>review</th>\n",
       "      <th>user_count</th>\n",
       "    </tr>\n",
       "  </thead>\n",
       "  <tbody>\n",
       "    <tr>\n",
       "      <th>0</th>\n",
       "      <td>1</td>\n",
       "      <td>360566</td>\n",
       "    </tr>\n",
       "    <tr>\n",
       "      <th>1</th>\n",
       "      <td>2</td>\n",
       "      <td>115750</td>\n",
       "    </tr>\n",
       "  </tbody>\n",
       "</table>\n",
       "</div>"
      ],
      "text/plain": [
       "   review  user_count\n",
       "0       1      360566\n",
       "1       2      115750"
      ]
     },
     "execution_count": 30,
     "metadata": {},
     "output_type": "execute_result"
    }
   ],
   "source": [
    "c = pd.DataFrame(list(b.items()),index = None,columns = ['review','user_count'])\n",
    "print(len(c))\n",
    "c.head(2)"
   ]
  },
  {
   "cell_type": "code",
   "execution_count": 31,
   "metadata": {
    "collapsed": false
   },
   "outputs": [],
   "source": [
    "c['percentage'] = [(c.user_count[i] * 100/sum(c.user_count)) for i in range(447)]"
   ]
  },
  {
   "cell_type": "code",
   "execution_count": 32,
   "metadata": {
    "collapsed": false
   },
   "outputs": [],
   "source": [
    "reviews_dict = dict()\n",
    "label = ['one','two','three']\n",
    "for i,label in enumerate(label):\n",
    "    reviews_dict[label] = c.percentage[i]"
   ]
  },
  {
   "cell_type": "code",
   "execution_count": 33,
   "metadata": {
    "collapsed": false
   },
   "outputs": [],
   "source": [
    "reviews_dict['four_ten']= sum(c.percentage[3:10])\n",
    "reviews_dict['tens']= sum(c.percentage[10:100])\n",
    "reviews_dict['more_than_hundred']= sum(c.percentage[100:-1])"
   ]
  },
  {
   "cell_type": "code",
   "execution_count": 34,
   "metadata": {
    "collapsed": false,
    "scrolled": false
   },
   "outputs": [
    {
     "data": {
      "text/plain": [
       "{'four_ten': 15.839057556848969,\n",
       " 'more_than_hundred': 0.244699631202698,\n",
       " 'one': 52.518075728709675,\n",
       " 'tens': 5.975477601244473,\n",
       " 'three': 8.5630305466706282,\n",
       " 'two': 16.859513280781176}"
      ]
     },
     "execution_count": 34,
     "metadata": {},
     "output_type": "execute_result"
    }
   ],
   "source": [
    "reviews_dict"
   ]
  },
  {
   "cell_type": "code",
   "execution_count": 35,
   "metadata": {
    "collapsed": false,
    "scrolled": true
   },
   "outputs": [
    {
     "data": {
      "text/html": [
       "<div>\n",
       "<table border=\"1\" class=\"dataframe\">\n",
       "  <thead>\n",
       "    <tr style=\"text-align: right;\">\n",
       "      <th></th>\n",
       "      <th>review</th>\n",
       "      <th>user_percentage</th>\n",
       "    </tr>\n",
       "  </thead>\n",
       "  <tbody>\n",
       "    <tr>\n",
       "      <th>0</th>\n",
       "      <td>more_than_hundred</td>\n",
       "      <td>0.244700</td>\n",
       "    </tr>\n",
       "    <tr>\n",
       "      <th>1</th>\n",
       "      <td>three</td>\n",
       "      <td>8.563031</td>\n",
       "    </tr>\n",
       "    <tr>\n",
       "      <th>2</th>\n",
       "      <td>four_ten</td>\n",
       "      <td>15.839058</td>\n",
       "    </tr>\n",
       "    <tr>\n",
       "      <th>3</th>\n",
       "      <td>two</td>\n",
       "      <td>16.859513</td>\n",
       "    </tr>\n",
       "    <tr>\n",
       "      <th>4</th>\n",
       "      <td>one</td>\n",
       "      <td>52.518076</td>\n",
       "    </tr>\n",
       "    <tr>\n",
       "      <th>5</th>\n",
       "      <td>tens</td>\n",
       "      <td>5.975478</td>\n",
       "    </tr>\n",
       "  </tbody>\n",
       "</table>\n",
       "</div>"
      ],
      "text/plain": [
       "              review  user_percentage\n",
       "0  more_than_hundred         0.244700\n",
       "1              three         8.563031\n",
       "2           four_ten        15.839058\n",
       "3                two        16.859513\n",
       "4                one        52.518076\n",
       "5               tens         5.975478"
      ]
     },
     "execution_count": 35,
     "metadata": {},
     "output_type": "execute_result"
    }
   ],
   "source": [
    "review_pd = pd.DataFrame(list(reviews_dict.items()),index = None,columns = ['review','user_percentage'])\n",
    "review_pd"
   ]
  },
  {
   "cell_type": "code",
   "execution_count": 36,
   "metadata": {
    "collapsed": false,
    "scrolled": false
   },
   "outputs": [
    {
     "data": {
      "text/plain": [
       "<matplotlib.text.Text at 0x126c2e160>"
      ]
     },
     "execution_count": 36,
     "metadata": {},
     "output_type": "execute_result"
    },
    {
     "data": {
      "image/png": "[encoded data removed]",
      "text/plain": [
       "<matplotlib.figure.Figure at 0x177aa6390>"
      ]
     },
     "metadata": {},
     "output_type": "display_data"
    }
   ],
   "source": [
    "labels =[ i.capitalize() for i in  review_pd['review']]\n",
    "sizes = review_pd['user_percentage']\n",
    "colors = ['lightskyblue','yellowgreen', 'gold', 'lightcoral','red','violet']\n",
    "explode = (0, 0, 0,0,.1, 0) \n",
    "\n",
    "plt.pie(sizes, explode=explode,labels=labels, colors=colors,\n",
    "        autopct='%1.1f%%', shadow=True, startangle=200,center=(0,1));\n",
    "plt.title('Number of Reviews per User')"
   ]
  },
  {
   "cell_type": "markdown",
   "metadata": {},
   "source": [
    "# Filter business category to restaurant only"
   ]
  },
  {
   "cell_type": "code",
   "execution_count": 37,
   "metadata": {
    "collapsed": false,
    "scrolled": true
   },
   "outputs": [],
   "source": [
    "# create a dataframe with business id and category\n",
    "all_businesses = pd.concat([business['business_id'], business['categories']], axis=1, keys=['business_id', 'category'])"
   ]
  },
  {
   "cell_type": "code",
   "execution_count": 38,
   "metadata": {
    "collapsed": false
   },
   "outputs": [
    {
     "data": {
      "text/html": [
       "<div>\n",
       "<table border=\"1\" class=\"dataframe\">\n",
       "  <thead>\n",
       "    <tr style=\"text-align: right;\">\n",
       "      <th></th>\n",
       "      <th>business_id</th>\n",
       "      <th>category</th>\n",
       "    </tr>\n",
       "  </thead>\n",
       "  <tbody>\n",
       "    <tr>\n",
       "      <th>0</th>\n",
       "      <td>5UmKMjUEUNdYWqANhGckJw</td>\n",
       "      <td>['Fast Food', 'Restaurants']</td>\n",
       "    </tr>\n",
       "    <tr>\n",
       "      <th>1</th>\n",
       "      <td>UsFtqoBl7naz8AVUBZMjQQ</td>\n",
       "      <td>['Nightlife']</td>\n",
       "    </tr>\n",
       "    <tr>\n",
       "      <th>2</th>\n",
       "      <td>cE27W9VPgO88Qxe4ol6y_g</td>\n",
       "      <td>['Active Life', 'Mini Golf', 'Golf']</td>\n",
       "    </tr>\n",
       "  </tbody>\n",
       "</table>\n",
       "</div>"
      ],
      "text/plain": [
       "              business_id                              category\n",
       "0  5UmKMjUEUNdYWqANhGckJw          ['Fast Food', 'Restaurants']\n",
       "1  UsFtqoBl7naz8AVUBZMjQQ                         ['Nightlife']\n",
       "2  cE27W9VPgO88Qxe4ol6y_g  ['Active Life', 'Mini Golf', 'Golf']"
      ]
     },
     "execution_count": 38,
     "metadata": {},
     "output_type": "execute_result"
    }
   ],
   "source": [
    "all_businesses.head(3)"
   ]
  },
  {
   "cell_type": "code",
   "execution_count": 39,
   "metadata": {
    "collapsed": false
   },
   "outputs": [],
   "source": [
    "# get index of businesses that are not restaurants\n",
    "not_restaurant = [i for i,e in enumerate(all_businesses.values) if \"Restaurant\" not in e[1]]"
   ]
  },
  {
   "cell_type": "code",
   "execution_count": 40,
   "metadata": {
    "collapsed": false
   },
   "outputs": [],
   "source": [
    "all_businesses.drop(all_businesses.index[not_restaurant], inplace=True)"
   ]
  },
  {
   "cell_type": "code",
   "execution_count": 41,
   "metadata": {
    "collapsed": false
   },
   "outputs": [],
   "source": [
    "restaurant = all_businesses # after dropping all businesses that are not restaurants "
   ]
  },
  {
   "cell_type": "code",
   "execution_count": 42,
   "metadata": {
    "collapsed": false
   },
   "outputs": [],
   "source": [
    "restaurant = restaurant.reset_index() # reset the index "
   ]
  },
  {
   "cell_type": "code",
   "execution_count": 43,
   "metadata": {
    "collapsed": false
   },
   "outputs": [],
   "source": [
    "restaurant = restaurant.drop('index',axis = 1) # drop the old index "
   ]
  },
  {
   "cell_type": "code",
   "execution_count": 44,
   "metadata": {
    "collapsed": false,
    "scrolled": true
   },
   "outputs": [
    {
     "data": {
      "text/html": [
       "<div>\n",
       "<table border=\"1\" class=\"dataframe\">\n",
       "  <thead>\n",
       "    <tr style=\"text-align: right;\">\n",
       "      <th></th>\n",
       "      <th>business_id</th>\n",
       "      <th>category</th>\n",
       "    </tr>\n",
       "  </thead>\n",
       "  <tbody>\n",
       "    <tr>\n",
       "      <th>0</th>\n",
       "      <td>5UmKMjUEUNdYWqANhGckJw</td>\n",
       "      <td>['Fast Food', 'Restaurants']</td>\n",
       "    </tr>\n",
       "    <tr>\n",
       "      <th>1</th>\n",
       "      <td>mVHrayjG3uZ_RLHkLj-AMg</td>\n",
       "      <td>['Bars', 'American (New)', 'Nightlife', 'Loung...</td>\n",
       "    </tr>\n",
       "  </tbody>\n",
       "</table>\n",
       "</div>"
      ],
      "text/plain": [
       "              business_id                                           category\n",
       "0  5UmKMjUEUNdYWqANhGckJw                       ['Fast Food', 'Restaurants']\n",
       "1  mVHrayjG3uZ_RLHkLj-AMg  ['Bars', 'American (New)', 'Nightlife', 'Loung..."
      ]
     },
     "execution_count": 44,
     "metadata": {},
     "output_type": "execute_result"
    }
   ],
   "source": [
    "restaurant.head(2)"
   ]
  },
  {
   "cell_type": "code",
   "execution_count": 45,
   "metadata": {
    "collapsed": false
   },
   "outputs": [],
   "source": [
    "# len(restaurant) # 26729 -- number of businesses\n",
    "# len(restaurant.category.unique()) #4318--- number of unique categories "
   ]
  },
  {
   "cell_type": "code",
   "execution_count": 46,
   "metadata": {
    "collapsed": false
   },
   "outputs": [],
   "source": [
    "k = Counter(restaurant.category) # 4318 -- Count number of businesses / unique category --- most categories are very similar "
   ]
  },
  {
   "cell_type": "code",
   "execution_count": 47,
   "metadata": {
    "collapsed": false
   },
   "outputs": [],
   "source": [
    "label = [k for k,v in k.items() if v >100] # 41 --- get the label that has more than 100 businesses"
   ]
  },
  {
   "cell_type": "code",
   "execution_count": 48,
   "metadata": {
    "collapsed": false
   },
   "outputs": [
    {
     "data": {
      "text/plain": [
       "[\"['Breakfast & Brunch', 'Restaurants']\",\n",
       " \"['Greek', 'Mediterranean', 'Restaurants']\",\n",
       " \"['Vietnamese', 'Restaurants']\",\n",
       " \"['Sandwiches', 'Restaurants']\",\n",
       " \"['Sushi Bars', 'Japanese', 'Restaurants']\"]"
      ]
     },
     "execution_count": 48,
     "metadata": {},
     "output_type": "execute_result"
    }
   ],
   "source": [
    "label[:5]"
   ]
  },
  {
   "cell_type": "code",
   "execution_count": 49,
   "metadata": {
    "collapsed": false,
    "scrolled": true
   },
   "outputs": [
    {
     "data": {
      "text/html": [
       "<div>\n",
       "<table border=\"1\" class=\"dataframe\">\n",
       "  <thead>\n",
       "    <tr style=\"text-align: right;\">\n",
       "      <th></th>\n",
       "      <th>user_id</th>\n",
       "      <th>review_id</th>\n",
       "      <th>text</th>\n",
       "      <th>votes_cool</th>\n",
       "      <th>business_id</th>\n",
       "      <th>votes_funny</th>\n",
       "      <th>stars</th>\n",
       "      <th>date</th>\n",
       "      <th>votes_useful</th>\n",
       "    </tr>\n",
       "  </thead>\n",
       "  <tbody>\n",
       "    <tr>\n",
       "      <th>0</th>\n",
       "      <td>PUFPaY9KxDAcGqfsorJp3Q</td>\n",
       "      <td>Ya85v4eqdd6k9Od8HbQjyA</td>\n",
       "      <td>Mr Hoagie is an institution. Walking in, it do...</td>\n",
       "      <td>0</td>\n",
       "      <td>5UmKMjUEUNdYWqANhGckJw</td>\n",
       "      <td>0</td>\n",
       "      <td>4</td>\n",
       "      <td>2012-08-01</td>\n",
       "      <td>0</td>\n",
       "    </tr>\n",
       "    <tr>\n",
       "      <th>1</th>\n",
       "      <td>Iu6AxdBYGR4A0wspR9BYHA</td>\n",
       "      <td>KPvLNJ21_4wbYNctrOwWdQ</td>\n",
       "      <td>Excellent food. Superb customer service. I mis...</td>\n",
       "      <td>0</td>\n",
       "      <td>5UmKMjUEUNdYWqANhGckJw</td>\n",
       "      <td>0</td>\n",
       "      <td>5</td>\n",
       "      <td>2014-02-13</td>\n",
       "      <td>0</td>\n",
       "    </tr>\n",
       "  </tbody>\n",
       "</table>\n",
       "</div>"
      ],
      "text/plain": [
       "                  user_id               review_id  \\\n",
       "0  PUFPaY9KxDAcGqfsorJp3Q  Ya85v4eqdd6k9Od8HbQjyA   \n",
       "1  Iu6AxdBYGR4A0wspR9BYHA  KPvLNJ21_4wbYNctrOwWdQ   \n",
       "\n",
       "                                                text  votes_cool  \\\n",
       "0  Mr Hoagie is an institution. Walking in, it do...           0   \n",
       "1  Excellent food. Superb customer service. I mis...           0   \n",
       "\n",
       "              business_id  votes_funny  stars        date  votes_useful  \n",
       "0  5UmKMjUEUNdYWqANhGckJw            0      4  2012-08-01             0  \n",
       "1  5UmKMjUEUNdYWqANhGckJw            0      5  2014-02-13             0  "
      ]
     },
     "execution_count": 49,
     "metadata": {},
     "output_type": "execute_result"
    }
   ],
   "source": [
    "review.head(2)"
   ]
  },
  {
   "cell_type": "code",
   "execution_count": 50,
   "metadata": {
    "collapsed": false,
    "scrolled": false
   },
   "outputs": [
    {
     "data": {
      "text/html": [
       "<div>\n",
       "<table border=\"1\" class=\"dataframe\">\n",
       "  <thead>\n",
       "    <tr style=\"text-align: right;\">\n",
       "      <th></th>\n",
       "      <th>business_id</th>\n",
       "      <th>category</th>\n",
       "    </tr>\n",
       "  </thead>\n",
       "  <tbody>\n",
       "    <tr>\n",
       "      <th>0</th>\n",
       "      <td>5UmKMjUEUNdYWqANhGckJw</td>\n",
       "      <td>['Fast Food', 'Restaurants']</td>\n",
       "    </tr>\n",
       "    <tr>\n",
       "      <th>1</th>\n",
       "      <td>mVHrayjG3uZ_RLHkLj-AMg</td>\n",
       "      <td>['Bars', 'American (New)', 'Nightlife', 'Loung...</td>\n",
       "    </tr>\n",
       "  </tbody>\n",
       "</table>\n",
       "</div>"
      ],
      "text/plain": [
       "              business_id                                           category\n",
       "0  5UmKMjUEUNdYWqANhGckJw                       ['Fast Food', 'Restaurants']\n",
       "1  mVHrayjG3uZ_RLHkLj-AMg  ['Bars', 'American (New)', 'Nightlife', 'Loung..."
      ]
     },
     "execution_count": 50,
     "metadata": {},
     "output_type": "execute_result"
    }
   ],
   "source": [
    "restaurant.head(2)"
   ]
  },
  {
   "cell_type": "code",
   "execution_count": 51,
   "metadata": {
    "collapsed": false
   },
   "outputs": [
    {
     "data": {
      "text/plain": [
       "2685066"
      ]
     },
     "execution_count": 51,
     "metadata": {},
     "output_type": "execute_result"
    }
   ],
   "source": [
    "len(review)"
   ]
  },
  {
   "cell_type": "markdown",
   "metadata": {},
   "source": [
    "# Get Reviews for Restaurants only"
   ]
  },
  {
   "cell_type": "code",
   "execution_count": 52,
   "metadata": {
    "collapsed": false
   },
   "outputs": [],
   "source": [
    "review_indices = review['business_id'].isin(restaurant['business_id'])"
   ]
  },
  {
   "cell_type": "code",
   "execution_count": 53,
   "metadata": {
    "collapsed": false
   },
   "outputs": [],
   "source": [
    "restaurant_review = review[review_indices]"
   ]
  },
  {
   "cell_type": "code",
   "execution_count": 54,
   "metadata": {
    "collapsed": false,
    "scrolled": true
   },
   "outputs": [
    {
     "data": {
      "text/html": [
       "<div>\n",
       "<table border=\"1\" class=\"dataframe\">\n",
       "  <thead>\n",
       "    <tr style=\"text-align: right;\">\n",
       "      <th></th>\n",
       "      <th>user_id</th>\n",
       "      <th>review_id</th>\n",
       "      <th>text</th>\n",
       "      <th>votes_cool</th>\n",
       "      <th>business_id</th>\n",
       "      <th>votes_funny</th>\n",
       "      <th>stars</th>\n",
       "      <th>date</th>\n",
       "      <th>votes_useful</th>\n",
       "    </tr>\n",
       "  </thead>\n",
       "  <tbody>\n",
       "    <tr>\n",
       "      <th>0</th>\n",
       "      <td>PUFPaY9KxDAcGqfsorJp3Q</td>\n",
       "      <td>Ya85v4eqdd6k9Od8HbQjyA</td>\n",
       "      <td>Mr Hoagie is an institution. Walking in, it do...</td>\n",
       "      <td>0</td>\n",
       "      <td>5UmKMjUEUNdYWqANhGckJw</td>\n",
       "      <td>0</td>\n",
       "      <td>4</td>\n",
       "      <td>2012-08-01</td>\n",
       "      <td>0</td>\n",
       "    </tr>\n",
       "    <tr>\n",
       "      <th>1</th>\n",
       "      <td>Iu6AxdBYGR4A0wspR9BYHA</td>\n",
       "      <td>KPvLNJ21_4wbYNctrOwWdQ</td>\n",
       "      <td>Excellent food. Superb customer service. I mis...</td>\n",
       "      <td>0</td>\n",
       "      <td>5UmKMjUEUNdYWqANhGckJw</td>\n",
       "      <td>0</td>\n",
       "      <td>5</td>\n",
       "      <td>2014-02-13</td>\n",
       "      <td>0</td>\n",
       "    </tr>\n",
       "  </tbody>\n",
       "</table>\n",
       "</div>"
      ],
      "text/plain": [
       "                  user_id               review_id  \\\n",
       "0  PUFPaY9KxDAcGqfsorJp3Q  Ya85v4eqdd6k9Od8HbQjyA   \n",
       "1  Iu6AxdBYGR4A0wspR9BYHA  KPvLNJ21_4wbYNctrOwWdQ   \n",
       "\n",
       "                                                text  votes_cool  \\\n",
       "0  Mr Hoagie is an institution. Walking in, it do...           0   \n",
       "1  Excellent food. Superb customer service. I mis...           0   \n",
       "\n",
       "              business_id  votes_funny  stars        date  votes_useful  \n",
       "0  5UmKMjUEUNdYWqANhGckJw            0      4  2012-08-01             0  \n",
       "1  5UmKMjUEUNdYWqANhGckJw            0      5  2014-02-13             0  "
      ]
     },
     "execution_count": 54,
     "metadata": {},
     "output_type": "execute_result"
    }
   ],
   "source": [
    "restaurant_review.head(2)"
   ]
  },
  {
   "cell_type": "code",
   "execution_count": 1,
   "metadata": {
    "collapsed": false
   },
   "outputs": [
    {
     "ename": "NameError",
     "evalue": "name 'Counter' is not defined",
     "output_type": "error",
     "traceback": [
      "\u001b[0;31m---------------------------------------------------------------------------\u001b[0m",
      "\u001b[0;31mNameError\u001b[0m                                 Traceback (most recent call last)",
      "\u001b[0;32m<ipython-input-1-df4a530f061d>\u001b[0m in \u001b[0;36m<module>\u001b[0;34m()\u001b[0m\n\u001b[0;32m----> 1\u001b[0;31m \u001b[0mreview_count\u001b[0m \u001b[0;34m=\u001b[0m \u001b[0mCounter\u001b[0m\u001b[0;34m(\u001b[0m\u001b[0mrestaurant_review\u001b[0m\u001b[0;34m[\u001b[0m\u001b[0;34m'business_id'\u001b[0m\u001b[0;34m]\u001b[0m\u001b[0;34m)\u001b[0m \u001b[0;31m### number of restaurants\u001b[0m\u001b[0;34m\u001b[0m\u001b[0m\n\u001b[0m\u001b[1;32m      2\u001b[0m \u001b[0mprint\u001b[0m\u001b[0;34m(\u001b[0m\u001b[0mlen\u001b[0m\u001b[0;34m(\u001b[0m\u001b[0mreview_count\u001b[0m\u001b[0;34m)\u001b[0m\u001b[0;34m)\u001b[0m\u001b[0;34m\u001b[0m\u001b[0m\n\u001b[1;32m      3\u001b[0m \u001b[0mtop_restaurant\u001b[0m \u001b[0;34m=\u001b[0m \u001b[0;34m[\u001b[0m\u001b[0;34m(\u001b[0m\u001b[0mk\u001b[0m\u001b[0;34m,\u001b[0m\u001b[0mv\u001b[0m\u001b[0;34m)\u001b[0m\u001b[0;32mfor\u001b[0m \u001b[0mk\u001b[0m\u001b[0;34m,\u001b[0m\u001b[0mv\u001b[0m \u001b[0;32min\u001b[0m \u001b[0mreview_count\u001b[0m\u001b[0;34m.\u001b[0m\u001b[0mitems\u001b[0m\u001b[0;34m(\u001b[0m\u001b[0;34m)\u001b[0m \u001b[0;32mif\u001b[0m \u001b[0mv\u001b[0m \u001b[0;34m>\u001b[0m \u001b[0;36m300\u001b[0m\u001b[0;34m]\u001b[0m\u001b[0;31m#number of restaurants that have more than 300 reviews\u001b[0m\u001b[0;34m\u001b[0m\u001b[0m\n\u001b[1;32m      4\u001b[0m \u001b[0mtop_restaurant\u001b[0m\u001b[0;34m[\u001b[0m\u001b[0;34m:\u001b[0m\u001b[0;36m10\u001b[0m\u001b[0;34m]\u001b[0m\u001b[0;34m\u001b[0m\u001b[0m\n\u001b[1;32m      5\u001b[0m \u001b[0msorted_by_second\u001b[0m \u001b[0;34m=\u001b[0m \u001b[0msorted\u001b[0m\u001b[0;34m(\u001b[0m\u001b[0mtop_restaurant\u001b[0m\u001b[0;34m,\u001b[0m \u001b[0mkey\u001b[0m\u001b[0;34m=\u001b[0m\u001b[0;32mlambda\u001b[0m \u001b[0mtup\u001b[0m\u001b[0;34m:\u001b[0m \u001b[0mtup\u001b[0m\u001b[0;34m[\u001b[0m\u001b[0;36m1\u001b[0m\u001b[0;34m]\u001b[0m\u001b[0;34m)\u001b[0m\u001b[0;34m\u001b[0m\u001b[0m\n",
      "\u001b[0;31mNameError\u001b[0m: name 'Counter' is not defined"
     ]
    }
   ],
   "source": [
    "review_count = Counter(restaurant_review['business_id']) ### number of restaurants\n",
    "print(len(review_count))\n",
    "top_restaurant = [(k,v)for k,v in review_count.items() if v > 300]#number of restaurants that have more than 300 reviews\n",
    "top_restaurant[:10]\n",
    "sorted_by_second = sorted(top_restaurant, key=lambda tup: tup[1])\n",
    "sorted_by_second[-5:]"
   ]
  },
  {
   "cell_type": "code",
   "execution_count": 56,
   "metadata": {
    "collapsed": false
   },
   "outputs": [
    {
     "data": {
      "text/plain": [
       "557659"
      ]
     },
     "execution_count": 56,
     "metadata": {},
     "output_type": "execute_result"
    }
   ],
   "source": [
    "sum([i[1] for i in sorted_by_second])"
   ]
  },
  {
   "cell_type": "code",
   "execution_count": 38,
   "metadata": {
    "collapsed": false,
    "scrolled": true
   },
   "outputs": [
    {
     "data": {
      "text/html": [
       "<div>\n",
       "<table border=\"1\" class=\"dataframe\">\n",
       "  <thead>\n",
       "    <tr style=\"text-align: right;\">\n",
       "      <th></th>\n",
       "      <th>attributes.Ambience.divey</th>\n",
       "      <th>attributes.Dietary Restrictions.vegan</th>\n",
       "      <th>attributes.Happy Hour</th>\n",
       "      <th>hours.Thursday.open</th>\n",
       "      <th>attributes.Order at Counter</th>\n",
       "      <th>attributes.Hair Types Specialized In.africanamerican</th>\n",
       "      <th>attributes.Hair Types Specialized In.kids</th>\n",
       "      <th>attributes.BYOB</th>\n",
       "      <th>hours.Friday.open</th>\n",
       "      <th>attributes.Good For.latenight</th>\n",
       "      <th>...</th>\n",
       "      <th>attributes.Noise Level</th>\n",
       "      <th>attributes.Smoking</th>\n",
       "      <th>attributes.Attire</th>\n",
       "      <th>attributes.Hair Types Specialized In.curly</th>\n",
       "      <th>attributes.Good For Groups</th>\n",
       "      <th>neighborhoods</th>\n",
       "      <th>attributes.Open 24 Hours</th>\n",
       "      <th>attributes.Ambience.romantic</th>\n",
       "      <th>attributes.Music.jukebox</th>\n",
       "      <th>attributes.Ambience.upscale</th>\n",
       "    </tr>\n",
       "  </thead>\n",
       "  <tbody>\n",
       "    <tr>\n",
       "      <th>15883</th>\n",
       "      <td>False</td>\n",
       "      <td>False</td>\n",
       "      <td>NaN</td>\n",
       "      <td>11:00</td>\n",
       "      <td>NaN</td>\n",
       "      <td>NaN</td>\n",
       "      <td>NaN</td>\n",
       "      <td>False</td>\n",
       "      <td>11:00</td>\n",
       "      <td>False</td>\n",
       "      <td>...</td>\n",
       "      <td>average</td>\n",
       "      <td>NaN</td>\n",
       "      <td>casual</td>\n",
       "      <td>NaN</td>\n",
       "      <td>True</td>\n",
       "      <td>[]</td>\n",
       "      <td>NaN</td>\n",
       "      <td>False</td>\n",
       "      <td>NaN</td>\n",
       "      <td>False</td>\n",
       "    </tr>\n",
       "  </tbody>\n",
       "</table>\n",
       "<p>1 rows × 98 columns</p>\n",
       "</div>"
      ],
      "text/plain": [
       "      attributes.Ambience.divey attributes.Dietary Restrictions.vegan  \\\n",
       "15883                     False                                 False   \n",
       "\n",
       "      attributes.Happy Hour hours.Thursday.open attributes.Order at Counter  \\\n",
       "15883                   NaN               11:00                         NaN   \n",
       "\n",
       "      attributes.Hair Types Specialized In.africanamerican  \\\n",
       "15883                                                NaN     \n",
       "\n",
       "      attributes.Hair Types Specialized In.kids attributes.BYOB  \\\n",
       "15883                                       NaN           False   \n",
       "\n",
       "      hours.Friday.open attributes.Good For.latenight  \\\n",
       "15883             11:00                         False   \n",
       "\n",
       "                  ...             attributes.Noise Level attributes.Smoking  \\\n",
       "15883             ...                            average                NaN   \n",
       "\n",
       "      attributes.Attire attributes.Hair Types Specialized In.curly  \\\n",
       "15883            casual                                        NaN   \n",
       "\n",
       "      attributes.Good For Groups neighborhoods attributes.Open 24 Hours  \\\n",
       "15883                       True            []                      NaN   \n",
       "\n",
       "      attributes.Ambience.romantic attributes.Music.jukebox  \\\n",
       "15883                        False                      NaN   \n",
       "\n",
       "      attributes.Ambience.upscale  \n",
       "15883                       False  \n",
       "\n",
       "[1 rows x 98 columns]"
      ]
     },
     "execution_count": 38,
     "metadata": {},
     "output_type": "execute_result"
    }
   ],
   "source": [
    "business.ix[business['business_id'] == 'dcd3C1gWv-vVdQ9XYV8Ubw']"
   ]
  },
  {
   "cell_type": "code",
   "execution_count": 39,
   "metadata": {
    "collapsed": true
   },
   "outputs": [],
   "source": [
    "selected_restaurants = pd.DataFrame(sorted_by_second,columns = ['business_id','review_count'])"
   ]
  },
  {
   "cell_type": "code",
   "execution_count": 40,
   "metadata": {
    "collapsed": false
   },
   "outputs": [
    {
     "data": {
      "text/html": [
       "<div>\n",
       "<table border=\"1\" class=\"dataframe\">\n",
       "  <thead>\n",
       "    <tr style=\"text-align: right;\">\n",
       "      <th></th>\n",
       "      <th>business_id</th>\n",
       "      <th>review_count</th>\n",
       "    </tr>\n",
       "  </thead>\n",
       "  <tbody>\n",
       "    <tr>\n",
       "      <th>932</th>\n",
       "      <td>2e2e7WgqU1BnpxmQL5jbfw</td>\n",
       "      <td>4103</td>\n",
       "    </tr>\n",
       "    <tr>\n",
       "      <th>933</th>\n",
       "      <td>aGbjLWzcrnEx2ZmMCFm3EA</td>\n",
       "      <td>4149</td>\n",
       "    </tr>\n",
       "    <tr>\n",
       "      <th>934</th>\n",
       "      <td>zt1TpTuJ6y9n551sw9TaEg</td>\n",
       "      <td>4333</td>\n",
       "    </tr>\n",
       "    <tr>\n",
       "      <th>935</th>\n",
       "      <td>sIyHTizqAiGu12XMLX3N3g</td>\n",
       "      <td>4531</td>\n",
       "    </tr>\n",
       "    <tr>\n",
       "      <th>936</th>\n",
       "      <td>4bEjOyTaDG24SY5TxsaUNQ</td>\n",
       "      <td>5558</td>\n",
       "    </tr>\n",
       "  </tbody>\n",
       "</table>\n",
       "</div>"
      ],
      "text/plain": [
       "                business_id  review_count\n",
       "932  2e2e7WgqU1BnpxmQL5jbfw          4103\n",
       "933  aGbjLWzcrnEx2ZmMCFm3EA          4149\n",
       "934  zt1TpTuJ6y9n551sw9TaEg          4333\n",
       "935  sIyHTizqAiGu12XMLX3N3g          4531\n",
       "936  4bEjOyTaDG24SY5TxsaUNQ          5558"
      ]
     },
     "execution_count": 40,
     "metadata": {},
     "output_type": "execute_result"
    }
   ],
   "source": [
    "selected_restaurants.tail()"
   ]
  },
  {
   "cell_type": "code",
   "execution_count": 45,
   "metadata": {
    "collapsed": false
   },
   "outputs": [],
   "source": [
    "# self.SVD_matrix = np.zeros(shape = (944, 1683), dtype = np.float32)\n",
    "# def modifyRatingsDataset(self): \n",
    "#         ''' Assign rating values to a matrix (userid, movieid ) '''\n",
    "#         for index, row in self.ratings.iterrows():\n",
    "#             self.SVD_matrix[ int(row[0]) , int(row[1])] = float(row[2])\n",
    "#         return csc_matrix(self.SVD_matrix, dtype=np.float32),self.SVD_matrix"
   ]
  },
  {
   "cell_type": "code",
   "execution_count": 46,
   "metadata": {
    "collapsed": false
   },
   "outputs": [
    {
     "data": {
      "text/plain": [
       "1630712"
      ]
     },
     "execution_count": 46,
     "metadata": {},
     "output_type": "execute_result"
    }
   ],
   "source": [
    "len(restaurant_review)"
   ]
  },
  {
   "cell_type": "code",
   "execution_count": 81,
   "metadata": {
    "collapsed": false
   },
   "outputs": [
    {
     "name": "stderr",
     "output_type": "stream",
     "text": [
      "/Users/Charlotte/anaconda/lib/python3.5/site-packages/ipykernel/__main__.py:1: SettingWithCopyWarning: \n",
      "A value is trying to be set on a copy of a slice from a DataFrame.\n",
      "Try using .loc[row_indexer,col_indexer] = value instead\n",
      "\n",
      "See the caveats in the documentation: http://pandas.pydata.org/pandas-docs/stable/indexing.html#indexing-view-versus-copy\n",
      "  if __name__ == '__main__':\n"
     ]
    }
   ],
   "source": [
    "restaurant_review['text']  =  [re.sub('['+string.punctuation+']', '', i.lower().replace('\\n','')) for i in restaurant_review['text']]"
   ]
  },
  {
   "cell_type": "code",
   "execution_count": 48,
   "metadata": {
    "collapsed": false,
    "scrolled": true
   },
   "outputs": [
    {
     "data": {
      "text/plain": [
       "'mr hoagie is an institution walking in it does seem like a throwback to 30 years ago old fashioned menu board booths out of the 70s and a large selection of food their speciality is the italian hoagie and it is voted the best in the area year after year i usually order the burger while the patties are obviously cooked from frozen all of the other ingredients are very fresh overall its a good alternative to subway which is down the road'"
      ]
     },
     "execution_count": 48,
     "metadata": {},
     "output_type": "execute_result"
    }
   ],
   "source": [
    "restaurant_review['text'][0]"
   ]
  },
  {
   "cell_type": "code",
   "execution_count": 57,
   "metadata": {
    "collapsed": false,
    "scrolled": true
   },
   "outputs": [
    {
     "data": {
      "text/plain": [
       "1630712"
      ]
     },
     "execution_count": 57,
     "metadata": {},
     "output_type": "execute_result"
    }
   ],
   "source": [
    "len(restaurant_review)"
   ]
  },
  {
   "cell_type": "code",
   "execution_count": 62,
   "metadata": {
    "collapsed": false,
    "scrolled": true
   },
   "outputs": [
    {
     "data": {
      "text/plain": [
       "Index(['index', 'yelping_since', 'compliments_plain', 'review_count',\n",
       "       'compliments_cute', 'compliments_writer', 'fans', 'compliments_note',\n",
       "       'compliments_hot', 'compliments_cool', 'compliments_profile',\n",
       "       'average_stars', 'compliments_more', 'elite', 'name', 'user_id',\n",
       "       'votes_cool', 'compliments_list', 'votes_funny', 'compliments_photos',\n",
       "       'compliments_funny', 'votes_useful', 'elite_year', 'elite_since',\n",
       "       'year_before_elite'],\n",
       "      dtype='object')"
      ]
     },
     "execution_count": 62,
     "metadata": {},
     "output_type": "execute_result"
    }
   ],
   "source": [
    "user.columns"
   ]
  },
  {
   "cell_type": "code",
   "execution_count": 90,
   "metadata": {
    "collapsed": false
   },
   "outputs": [
    {
     "data": {
      "text/html": [
       "<div>\n",
       "<table border=\"1\" class=\"dataframe\">\n",
       "  <thead>\n",
       "    <tr style=\"text-align: right;\">\n",
       "      <th></th>\n",
       "      <th>index</th>\n",
       "      <th>yelping_since</th>\n",
       "      <th>compliments_plain</th>\n",
       "      <th>review_count</th>\n",
       "      <th>compliments_cute</th>\n",
       "      <th>compliments_writer</th>\n",
       "      <th>fans</th>\n",
       "      <th>compliments_note</th>\n",
       "      <th>compliments_hot</th>\n",
       "      <th>compliments_cool</th>\n",
       "      <th>...</th>\n",
       "      <th>user_id</th>\n",
       "      <th>votes_cool</th>\n",
       "      <th>compliments_list</th>\n",
       "      <th>votes_funny</th>\n",
       "      <th>compliments_photos</th>\n",
       "      <th>compliments_funny</th>\n",
       "      <th>votes_useful</th>\n",
       "      <th>elite_year</th>\n",
       "      <th>elite_since</th>\n",
       "      <th>year_before_elite</th>\n",
       "    </tr>\n",
       "  </thead>\n",
       "  <tbody>\n",
       "    <tr>\n",
       "      <th>219715</th>\n",
       "      <td>219719</td>\n",
       "      <td>2008-05</td>\n",
       "      <td>7.0</td>\n",
       "      <td>199</td>\n",
       "      <td>NaN</td>\n",
       "      <td>3.0</td>\n",
       "      <td>8</td>\n",
       "      <td>3.0</td>\n",
       "      <td>2.0</td>\n",
       "      <td>6.0</td>\n",
       "      <td>...</td>\n",
       "      <td>OOzsB8nI8MgD5G-egvstGw</td>\n",
       "      <td>28</td>\n",
       "      <td>NaN</td>\n",
       "      <td>25</td>\n",
       "      <td>NaN</td>\n",
       "      <td>NaN</td>\n",
       "      <td>130</td>\n",
       "      <td>2</td>\n",
       "      <td>2011</td>\n",
       "      <td>3</td>\n",
       "    </tr>\n",
       "  </tbody>\n",
       "</table>\n",
       "<p>1 rows × 25 columns</p>\n",
       "</div>"
      ],
      "text/plain": [
       "         index yelping_since  compliments_plain  review_count  \\\n",
       "219715  219719       2008-05                7.0           199   \n",
       "\n",
       "        compliments_cute  compliments_writer  fans  compliments_note  \\\n",
       "219715               NaN                 3.0     8               3.0   \n",
       "\n",
       "        compliments_hot  compliments_cool        ...          \\\n",
       "219715              2.0               6.0        ...           \n",
       "\n",
       "                       user_id  votes_cool  compliments_list votes_funny  \\\n",
       "219715  OOzsB8nI8MgD5G-egvstGw          28               NaN          25   \n",
       "\n",
       "       compliments_photos compliments_funny  votes_useful  elite_year  \\\n",
       "219715                NaN               NaN           130           2   \n",
       "\n",
       "        elite_since  year_before_elite  \n",
       "219715         2011                  3  \n",
       "\n",
       "[1 rows x 25 columns]"
      ]
     },
     "execution_count": 90,
     "metadata": {},
     "output_type": "execute_result"
    }
   ],
   "source": [
    "user.ix[user['user_id'] == 'OOzsB8nI8MgD5G-egvstGw']"
   ]
  },
  {
   "cell_type": "code",
   "execution_count": 92,
   "metadata": {
    "collapsed": false,
    "scrolled": true
   },
   "outputs": [],
   "source": [
    "elite_user = (user['user_id'].ix[user['elite_since'] != 0])"
   ]
  },
  {
   "cell_type": "code",
   "execution_count": 93,
   "metadata": {
    "collapsed": true
   },
   "outputs": [],
   "source": [
    "not_elite_user = (user['user_id'].ix[user['elite_since'] == 0])"
   ]
  },
  {
   "cell_type": "code",
   "execution_count": 74,
   "metadata": {
    "collapsed": false
   },
   "outputs": [],
   "source": [
    "elite_index = user[user['elite_since'] != 0].index.tolist()"
   ]
  },
  {
   "cell_type": "code",
   "execution_count": 91,
   "metadata": {
    "collapsed": true
   },
   "outputs": [],
   "source": [
    "# not_elite_index = user[user['elite_since'] == 0].index.tolist()"
   ]
  },
  {
   "cell_type": "code",
   "execution_count": 83,
   "metadata": {
    "collapsed": true
   },
   "outputs": [],
   "source": [
    "review_index = restaurant_review['user_id'].isin(elite_user )"
   ]
  },
  {
   "cell_type": "code",
   "execution_count": 94,
   "metadata": {
    "collapsed": true
   },
   "outputs": [],
   "source": [
    "not_elite_index = restaurant_review['user_id'].isin(not_elite_user)"
   ]
  },
  {
   "cell_type": "code",
   "execution_count": 84,
   "metadata": {
    "collapsed": false,
    "scrolled": true
   },
   "outputs": [],
   "source": [
    "elite_review = restaurant_review[review_index ]"
   ]
  },
  {
   "cell_type": "code",
   "execution_count": null,
   "metadata": {
    "collapsed": true
   },
   "outputs": [],
   "source": [
    "not_elite_review = restaurant_review[not_elite_index]"
   ]
  },
  {
   "cell_type": "code",
   "execution_count": 88,
   "metadata": {
    "collapsed": false
   },
   "outputs": [
    {
     "data": {
      "text/plain": [
       "9A2-wSoBUxlMd3LwmlGrrQ    937\n",
       "3gIfcQq5KxAegwCPXc83cQ    813\n",
       "Iu3Jo9ROp2IWC9FwtWOaUQ    729\n",
       "pEVf8GRshP9HUkSpizc9LA    689\n",
       "ia1nTRAQEaFWv0cwADeK7g    682\n",
       "kGgAARL2UmvCcTRfiscjug    665\n",
       "uZbTb-u-GVjTa2gtQfry5g    650\n",
       "glRXVWWD6x1EZKfjJawTOg    611\n",
       "5lq4LkrviYgQ4LJNsBYHcA    569\n",
       "0bNXP9quoJEgyVZu9ipGgQ    541\n",
       "C6IOtaaYdLIT5fWd7ZYIuA    513\n",
       "90a6z--_CUrl84aCzZyPsg    501\n",
       "_PzSNcfrCjeBxSLXRoMmgQ    500\n",
       "fczQCSmaWF78toLEmb0Zsw    482\n",
       "PV5voYSD43Cn_3gHmxG7DA    478\n",
       "k5p3YP1ZjCa8ZS3xqXgBug    473\n",
       "-_1ctLaz3jhPYc12hKXsEQ    471\n",
       "XqMkm-DD9VsdcKx2YVGhSA    437\n",
       "WmAyExqSWoiYZ5XEqpk_Uw    429\n",
       "OaFcpi3W4AwxrD8W2pgC_A    420\n",
       "4G68oLRY3aHE5XUt_MUUcA    411\n",
       "T7J9ae0wTskrI_Bgwp-4cA    405\n",
       "VhI6xyylcAxi0wOy2HOX3w    400\n",
       "4ozupHULqGyO42s3zNUzOQ    398\n",
       "qqtmFGhyyHc37coT4qJxaw    385\n",
       "GrSixRnGIxNUJ1Cn5DNX9A    384\n",
       "m7vtKWpZ9wdEQ95wJxrMrg    378\n",
       "lPaYMDmJbAnv_3pmZH_inw    378\n",
       "Kqvfep2mxS10S50FbVDi4Q    378\n",
       "M6oU3OBf_E6gqlfkLGlStQ    377\n",
       "                         ... \n",
       "OOzsB8nI8MgD5G-egvstGw      1\n",
       "fBh8nGMOjsZ1DOYQKNxfCQ      1\n",
       "HOLG-LUPZouqKLEvHW9tfg      1\n",
       "PAaElaJVuyfzBYd1SRGryA      1\n",
       "PxrMWsMKAZ6AfwWpofYstQ      1\n",
       "RmmZh2OFEyyavyQJwLBh2A      1\n",
       "QmVMZD1yPgVH2sto-1LaqQ      1\n",
       "kFYfJlTWvrY4Mw35-5sgFA      1\n",
       "RDgFstP33tjupmlHWJIXTw      1\n",
       "WARDFS4Hke0R25iGFA8WLw      1\n",
       "Nn39aBLci9pbgsiw4da0og      1\n",
       "5znPiN9CIEu-XZSEPL_duw      1\n",
       "WYfVgKWdSHr8NoOEjnf8BA      1\n",
       "JmVMMKzoaXYzxYTLCK7cWg      1\n",
       "TxML29kk-Mb13o-6qoRB0w      1\n",
       "lfA-iuiBeKt5Z1z7dOaxEw      1\n",
       "XohQ0lt3UTnhiwHoCAoNMw      1\n",
       "skbnaZSSB6OhByxF6KlwPA      1\n",
       "unXZMIiy4TrYT5SIr7beBw      1\n",
       "hIdHh1YBy7gHnSWXyb9ctg      1\n",
       "uvckOCym0IVsoMC2PUWYFA      1\n",
       "FXh6zuU0d0pFoYHCTzQcSw      1\n",
       "4v0hzgEZ8fHwByteExNRQg      1\n",
       "f_bs8s2uEF4cWVEeS_JY0Q      1\n",
       "IsUYdpAi_e58ZklhWBAqLA      1\n",
       "Wvhxd6P3bjymUTPP09aCxg      1\n",
       "044ayfuEbad7SKyM_c0OZw      1\n",
       "xphbftjdppFCkR0rHmSbig      1\n",
       "lDf5IrZf_jTdaz_JRfHgbw      1\n",
       "gSXgEuv2wf4QBwzu8ySbig      1\n",
       "Name: user_id, dtype: int64"
      ]
     },
     "execution_count": 88,
     "metadata": {},
     "output_type": "execute_result"
    }
   ],
   "source": [
    "elite_review['user_id'].value_counts()"
   ]
  },
  {
   "cell_type": "code",
   "execution_count": null,
   "metadata": {
    "collapsed": true
   },
   "outputs": [],
   "source": []
  },
  {
   "cell_type": "code",
   "execution_count": null,
   "metadata": {
    "collapsed": true
   },
   "outputs": [],
   "source": []
  },
  {
   "cell_type": "code",
   "execution_count": null,
   "metadata": {
    "collapsed": true
   },
   "outputs": [],
   "source": []
  },
  {
   "cell_type": "code",
   "execution_count": null,
   "metadata": {
    "collapsed": true
   },
   "outputs": [],
   "source": []
  },
  {
   "cell_type": "markdown",
   "metadata": {},
   "source": [
    "# Export to pickle"
   ]
  },
  {
   "cell_type": "code",
   "execution_count": 58,
   "metadata": {
    "collapsed": true
   },
   "outputs": [],
   "source": [
    "# restaurant_review.to_pickle('data/review') \n",
    "# business.to_pickle('data/business')\n",
    "# user.to_pickle('data/user')\n"
   ]
  },
  {
   "cell_type": "code",
   "execution_count": 55,
   "metadata": {
    "collapsed": false
   },
   "outputs": [],
   "source": [
    "# checking = pd.read_pickle('csv/test')\n",
    "# # checking = pd.read_csv('csv/restaurant_review.csv')\n"
   ]
  },
  {
   "cell_type": "code",
   "execution_count": 57,
   "metadata": {
    "collapsed": false
   },
   "outputs": [
    {
     "data": {
      "text/html": [
       "<div>\n",
       "<table border=\"1\" class=\"dataframe\">\n",
       "  <thead>\n",
       "    <tr style=\"text-align: right;\">\n",
       "      <th></th>\n",
       "      <th>business_id</th>\n",
       "      <th>category</th>\n",
       "    </tr>\n",
       "  </thead>\n",
       "  <tbody>\n",
       "    <tr>\n",
       "      <th>0</th>\n",
       "      <td>5UmKMjUEUNdYWqANhGckJw</td>\n",
       "      <td>['Fast Food', 'Restaurants']</td>\n",
       "    </tr>\n",
       "    <tr>\n",
       "      <th>1</th>\n",
       "      <td>mVHrayjG3uZ_RLHkLj-AMg</td>\n",
       "      <td>['Bars', 'American (New)', 'Nightlife', 'Loung...</td>\n",
       "    </tr>\n",
       "  </tbody>\n",
       "</table>\n",
       "</div>"
      ],
      "text/plain": [
       "              business_id                                           category\n",
       "0  5UmKMjUEUNdYWqANhGckJw                       ['Fast Food', 'Restaurants']\n",
       "1  mVHrayjG3uZ_RLHkLj-AMg  ['Bars', 'American (New)', 'Nightlife', 'Loung..."
      ]
     },
     "execution_count": 57,
     "metadata": {},
     "output_type": "execute_result"
    }
   ],
   "source": [
    "restaurant.head(2)"
   ]
  },
  {
   "cell_type": "code",
   "execution_count": null,
   "metadata": {
    "collapsed": true
   },
   "outputs": [],
   "source": []
  },
  {
   "cell_type": "code",
   "execution_count": null,
   "metadata": {
    "collapsed": true
   },
   "outputs": [],
   "source": []
  },
  {
   "cell_type": "code",
   "execution_count": null,
   "metadata": {
    "collapsed": true
   },
   "outputs": [],
   "source": []
  },
  {
   "cell_type": "code",
   "execution_count": null,
   "metadata": {
    "collapsed": true
   },
   "outputs": [],
   "source": []
  },
  {
   "cell_type": "code",
   "execution_count": null,
   "metadata": {
    "collapsed": true
   },
   "outputs": [],
   "source": []
  },
  {
   "cell_type": "code",
   "execution_count": 284,
   "metadata": {
    "collapsed": false
   },
   "outputs": [],
   "source": [
    "def days_late_xform(dl):\n",
    "    if dl > 500: return 'more_1000'\n",
    "    elif 300 < dl <= 500: return 'f'\n",
    "    elif 100 < dl <= 300: return 'd'\n",
    "    elif 80 < dl <= 100: return 'd'\n",
    "    elif 50 < dl <= 80: return 'c'\n",
    "    elif 20 < dl <= 50: return 'b'\n",
    "    elif 10 < dl <= 20: return '10_20'\n",
    "    elif 5 < dl <= 10: return '5_10'\n",
    "    elif 2 < dl <= 3: return 'three'\n",
    "    elif 1 < dl <= 2: return 'two'\n",
    "    elif 0 < dl <= 1: return 'one'\n",
    "    else: return 'None'\n",
    "\n",
    "k = df['count'].map(days_late_xform)"
   ]
  },
  {
   "cell_type": "code",
   "execution_count": 285,
   "metadata": {
    "collapsed": false
   },
   "outputs": [
    {
     "data": {
      "text/plain": [
       "<matplotlib.axes._subplots.AxesSubplot at 0x15236e160>"
      ]
     },
     "execution_count": 285,
     "metadata": {},
     "output_type": "execute_result"
    },
    {
     "data": {
      "image/png": "[encoded data removed]",
      "text/plain": [
       "<matplotlib.figure.Figure at 0x152521128>"
      ]
     },
     "metadata": {},
     "output_type": "display_data"
    }
   ],
   "source": [
    "plt.figure(figsize=(15,5))\n",
    "sns.countplot(k.ix[k != \"i\"])"
   ]
  },
  {
   "cell_type": "code",
   "execution_count": null,
   "metadata": {
    "collapsed": true
   },
   "outputs": [],
   "source": []
  }
 ],
 "metadata": {
  "anaconda-cloud": {},
  "kernelspec": {
   "display_name": "Python [Root]",
   "language": "python",
   "name": "Python [Root]"
  },
  "language_info": {
   "codemirror_mode": {
    "name": "ipython",
    "version": 3
   },
   "file_extension": ".py",
   "mimetype": "text/x-python",
   "name": "python",
   "nbconvert_exporter": "python",
   "pygments_lexer": "ipython3",
   "version": "3.5.2"
  }
 },
 "nbformat": 4,
 "nbformat_minor": 0
}
