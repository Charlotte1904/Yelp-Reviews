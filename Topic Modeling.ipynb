{
 "cells": [
  {
   "cell_type": "code",
   "execution_count": 2,
   "metadata": {
    "collapsed": false,
    "scrolled": true
   },
   "outputs": [
    {
     "name": "stdout",
     "output_type": "stream",
     "text": [
      "Populating the interactive namespace from numpy and matplotlib\n"
     ]
    }
   ],
   "source": [
    "%pylab inline\n",
    "import pandas as pd\n",
    "import numpy as np\n",
    "import seaborn as sns\n",
    "import re\n",
    "from collections import Counter\n",
    "from sklearn.feature_extraction.text import CountVectorizer, TfidfVectorizer\n",
    "from sklearn.decomposition import NMF\n",
    "from sklearn.decomposition.online_lda import LatentDirichletAllocation\n",
    "import string\n",
    "from sklearn.pipeline import Pipeline"
   ]
  },
  {
   "cell_type": "code",
   "execution_count": 3,
   "metadata": {
    "collapsed": false,
    "scrolled": true
   },
   "outputs": [
    {
     "name": "stderr",
     "output_type": "stream",
     "text": [
      "/Users/Charlotte/anaconda/lib/python3.5/site-packages/IPython/core/interactiveshell.py:2723: DtypeWarning: Columns (2,5,8,18,27,30,50,61,63,79,86,94) have mixed types. Specify dtype option on import or set low_memory=False.\n",
      "  interactivity=interactivity, compiler=compiler, result=result)\n",
      "/Users/Charlotte/anaconda/lib/python3.5/site-packages/IPython/core/interactiveshell.py:2723: DtypeWarning: Columns (0,1,2,3,5,8) have mixed types. Specify dtype option on import or set low_memory=False.\n",
      "  interactivity=interactivity, compiler=compiler, result=result)\n"
     ]
    }
   ],
   "source": [
    "user = pd.read_csv('csv/new_user.csv')\n",
    "business = pd.read_csv('csv/new_business.csv')\n",
    "review = pd.read_csv('csv/restaurant_review.csv')\n",
    "tip = pd.read_csv('csv/tip.csv')\n",
    "top_restaurant = pd.read_csv('csv/high_reviews_restaurant.csv')"
   ]
  },
  {
   "cell_type": "code",
   "execution_count": 4,
   "metadata": {
    "collapsed": false,
    "scrolled": true
   },
   "outputs": [
    {
     "data": {
      "text/html": [
       "<div>\n",
       "<table border=\"1\" class=\"dataframe\">\n",
       "  <thead>\n",
       "    <tr style=\"text-align: right;\">\n",
       "      <th></th>\n",
       "      <th>Unnamed: 0</th>\n",
       "      <th>user_id</th>\n",
       "      <th>review_id</th>\n",
       "      <th>text</th>\n",
       "      <th>votes_cool</th>\n",
       "      <th>business_id</th>\n",
       "      <th>votes_funny</th>\n",
       "      <th>stars</th>\n",
       "      <th>date</th>\n",
       "      <th>votes_useful</th>\n",
       "    </tr>\n",
       "  </thead>\n",
       "  <tbody>\n",
       "    <tr>\n",
       "      <th>3873428</th>\n",
       "      <td>2685064</td>\n",
       "      <td>nELVJlkX8T0mUAArSPSJxw</td>\n",
       "      <td>vwmqHxxmy9rEAwhbkLXmnQ</td>\n",
       "      <td>he stood in the face of a 25 star biz and brav...</td>\n",
       "      <td>4.0</td>\n",
       "      <td>DH2Ujt_hwcMBIz8VvCb0Lg</td>\n",
       "      <td>5.0</td>\n",
       "      <td>3.0</td>\n",
       "      <td>2016-04-30</td>\n",
       "      <td>4.0</td>\n",
       "    </tr>\n",
       "    <tr>\n",
       "      <th>3873429</th>\n",
       "      <td>2685065</td>\n",
       "      <td>maAimqEE4G483rtifPKlYg</td>\n",
       "      <td>DDmiTM_jMhshjYkXk5Sshg</td>\n",
       "      <td>2 pm monday afternoon out of sour cream ridicu...</td>\n",
       "      <td>0.0</td>\n",
       "      <td>DH2Ujt_hwcMBIz8VvCb0Lg</td>\n",
       "      <td>0.0</td>\n",
       "      <td>1.0</td>\n",
       "      <td>2016-07-11</td>\n",
       "      <td>0.0</td>\n",
       "    </tr>\n",
       "  </tbody>\n",
       "</table>\n",
       "</div>"
      ],
      "text/plain": [
       "        Unnamed: 0                 user_id               review_id  \\\n",
       "3873428    2685064  nELVJlkX8T0mUAArSPSJxw  vwmqHxxmy9rEAwhbkLXmnQ   \n",
       "3873429    2685065  maAimqEE4G483rtifPKlYg  DDmiTM_jMhshjYkXk5Sshg   \n",
       "\n",
       "                                                      text  votes_cool  \\\n",
       "3873428  he stood in the face of a 25 star biz and brav...         4.0   \n",
       "3873429  2 pm monday afternoon out of sour cream ridicu...         0.0   \n",
       "\n",
       "                    business_id  votes_funny  stars        date  votes_useful  \n",
       "3873428  DH2Ujt_hwcMBIz8VvCb0Lg          5.0    3.0  2016-04-30           4.0  \n",
       "3873429  DH2Ujt_hwcMBIz8VvCb0Lg          0.0    1.0  2016-07-11           0.0  "
      ]
     },
     "execution_count": 4,
     "metadata": {},
     "output_type": "execute_result"
    }
   ],
   "source": [
    "review.tail(2)"
   ]
  },
  {
   "cell_type": "code",
   "execution_count": 5,
   "metadata": {
    "collapsed": false
   },
   "outputs": [
    {
     "data": {
      "text/plain": [
       "3873430"
      ]
     },
     "execution_count": 5,
     "metadata": {},
     "output_type": "execute_result"
    }
   ],
   "source": [
    "len(review)"
   ]
  },
  {
   "cell_type": "code",
   "execution_count": null,
   "metadata": {
    "collapsed": false
   },
   "outputs": [],
   "source": [
    "# Counter(review.business_id)"
   ]
  },
  {
   "cell_type": "code",
   "execution_count": null,
   "metadata": {
    "collapsed": true
   },
   "outputs": [],
   "source": [
    "# Counter(review['business_id'])\n",
    "# review_count = Counter(review['business_id'])"
   ]
  },
  {
   "cell_type": "code",
   "execution_count": null,
   "metadata": {
    "collapsed": true
   },
   "outputs": [],
   "source": [
    "review_count"
   ]
  },
  {
   "cell_type": "code",
   "execution_count": null,
   "metadata": {
    "collapsed": true
   },
   "outputs": [],
   "source": [
    "print(1)"
   ]
  },
  {
   "cell_type": "code",
   "execution_count": null,
   "metadata": {
    "collapsed": false
   },
   "outputs": [],
   "source": [
    "# review_count = Counter(review['business_id']) # number of unique restaurants\n",
    "# print(len(review_count))\n",
    "# top_restaurant = [(k,v)for k,v in review_count.items() if v > 300]#number of restaurants that have more than 300 reviews\n",
    "# sorted_by_count = sorted(top_restaurant, key=lambda tup: tup[1])\n",
    "# sorted_by_count[-5:]"
   ]
  },
  {
   "cell_type": "code",
   "execution_count": 3,
   "metadata": {
    "collapsed": true
   },
   "outputs": [],
   "source": [
    "def categorize_reviews(business_id):\n",
    "    business_index = restaurant_review['business_id'] == business_id # get the business index\n",
    "    one_restaurant = restaurant_review[business_index]\n",
    "    good = one_restaurant.ix[one_restaurant['stars'] > 3.5]\n",
    "    bad = one_restaurant.ix[one_restaurant['stars'] <= 3.5]\n",
    "    good = good.reset_index()\n",
    "    bad = bad.reset_index()\n",
    "    return good.text,bad.text"
   ]
  },
  {
   "cell_type": "code",
   "execution_count": 4,
   "metadata": {
    "collapsed": true
   },
   "outputs": [],
   "source": [
    "def lda_tm(x):\n",
    "    tfidf = TfidfVectorizer(stop_words='english')\n",
    "    x = tfidf.fit_transform(x)\n",
    "    lda = LatentDirichletAllocation(n_topics=15,\n",
    "                                max_iter=5,\n",
    "                                learning_method='online',\n",
    "                                learning_offset=50.)\n",
    "    terms = tfidf.get_feature_names()\n",
    "    lda.fit(x)\n",
    "    C = lda.components_\n",
    "    for topic,term in enumerate(C):\n",
    "        top_indices = np.argsort(C)[topic][::-1][:10]\n",
    "        term_ranking = [terms[i] for i in top_indices]\n",
    "        print(\"Topic {}: {}\".format(topic+1, \", \".join(term_ranking)))\n",
    "    "
   ]
  },
  {
   "cell_type": "code",
   "execution_count": 5,
   "metadata": {
    "collapsed": true
   },
   "outputs": [],
   "source": [
    "def nmf_tm(x):\n",
    "    tfidf = TfidfVectorizer(stop_words='english')\n",
    "    x = tfidf.fit_transform(x)\n",
    "    nmf = NMF(init=\"nndsvd\",\n",
    "            n_components=15,\n",
    "            max_iter=200)\n",
    "    terms = tfidf.get_feature_names()\n",
    "    nmf.fit(x)\n",
    "    W = nmf.fit_transform(x)\n",
    "    H = nmf.components_\n",
    "    for topic,term in enumerate(H):\n",
    "        top_indices = np.argsort(H)[topic][::-1][:10]\n",
    "        term_ranking = [terms[i] for i in top_indices]\n",
    "        print(\"Topic {}: {}\".format(topic+1, \", \".join(term_ranking)))\n",
    "    "
   ]
  },
  {
   "cell_type": "code",
   "execution_count": 13,
   "metadata": {
    "collapsed": false,
    "scrolled": true
   },
   "outputs": [
    {
     "data": {
      "text/plain": [
       "3873430"
      ]
     },
     "execution_count": 13,
     "metadata": {},
     "output_type": "execute_result"
    }
   ],
   "source": [
    "len(review)"
   ]
  },
  {
   "cell_type": "code",
   "execution_count": 6,
   "metadata": {
    "collapsed": false,
    "scrolled": true
   },
   "outputs": [
    {
     "data": {
      "text/html": [
       "<div>\n",
       "<table border=\"1\" class=\"dataframe\">\n",
       "  <thead>\n",
       "    <tr style=\"text-align: right;\">\n",
       "      <th></th>\n",
       "      <th>Unnamed: 0</th>\n",
       "      <th>business_id</th>\n",
       "      <th>review_count</th>\n",
       "    </tr>\n",
       "  </thead>\n",
       "  <tbody>\n",
       "    <tr>\n",
       "      <th>0</th>\n",
       "      <td>0</td>\n",
       "      <td>FY_OXEVcewAQFZuu6fynLA</td>\n",
       "      <td>301</td>\n",
       "    </tr>\n",
       "    <tr>\n",
       "      <th>1</th>\n",
       "      <td>1</td>\n",
       "      <td>7WGBi29_vj_7RcPVxpLNHA</td>\n",
       "      <td>301</td>\n",
       "    </tr>\n",
       "  </tbody>\n",
       "</table>\n",
       "</div>"
      ],
      "text/plain": [
       "   Unnamed: 0             business_id  review_count\n",
       "0           0  FY_OXEVcewAQFZuu6fynLA           301\n",
       "1           1  7WGBi29_vj_7RcPVxpLNHA           301"
      ]
     },
     "execution_count": 6,
     "metadata": {},
     "output_type": "execute_result"
    }
   ],
   "source": [
    "top_restaurant.head(2)"
   ]
  },
  {
   "cell_type": "code",
   "execution_count": null,
   "metadata": {
    "collapsed": true
   },
   "outputs": [],
   "source": []
  },
  {
   "cell_type": "code",
   "execution_count": null,
   "metadata": {
    "collapsed": true
   },
   "outputs": [],
   "source": [
    "rating_matrix = np.zeros( shape )"
   ]
  },
  {
   "cell_type": "code",
   "execution_count": null,
   "metadata": {
    "collapsed": true
   },
   "outputs": [],
   "source": [
    "self.SVD_matrix = np.zeros(shape = (944, 1683), dtype = np.float32)\n",
    "def modifyRatingsDataset(self): \n",
    "        ''' Assign rating values to a matrix (userid, movieid ) '''\n",
    "        for index, row in self.ratings.iterrows():\n",
    "            self.SVD_matrix[ int(row[0]) , int(row[1])] = float(row[2])\n",
    "        return csc_matrix(self.SVD_matrix, dtype=np.float32),self.SVD_matrix"
   ]
  },
  {
   "cell_type": "code",
   "execution_count": null,
   "metadata": {
    "collapsed": true
   },
   "outputs": [],
   "source": []
  }
 ],
 "metadata": {
  "kernelspec": {
   "display_name": "Python [Root]",
   "language": "python",
   "name": "Python [Root]"
  },
  "language_info": {
   "codemirror_mode": {
    "name": "ipython",
    "version": 3
   },
   "file_extension": ".py",
   "mimetype": "text/x-python",
   "name": "python",
   "nbconvert_exporter": "python",
   "pygments_lexer": "ipython3",
   "version": "3.5.2"
  }
 },
 "nbformat": 4,
 "nbformat_minor": 0
}
