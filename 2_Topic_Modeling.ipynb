{
 "cells": [
  {
   "cell_type": "code",
   "execution_count": 1,
   "metadata": {
    "collapsed": false,
    "scrolled": true
   },
   "outputs": [
    {
     "name": "stdout",
     "output_type": "stream",
     "text": [
      "Populating the interactive namespace from numpy and matplotlib\n"
     ]
    }
   ],
   "source": [
    "%pylab inline\n",
    "import pandas as pd\n",
    "import numpy as np\n",
    "import seaborn as sns\n",
    "import re\n",
    "from collections import Counter\n",
    "from sklearn.feature_extraction.text import CountVectorizer, TfidfVectorizer\n",
    "from sklearn.decomposition import NMF\n",
    "from sklearn.decomposition.online_lda import LatentDirichletAllocation\n",
    "import string\n",
    "from sklearn.pipeline import Pipeline"
   ]
  },
  {
   "cell_type": "code",
   "execution_count": 4,
   "metadata": {
    "collapsed": false,
    "scrolled": true
   },
   "outputs": [],
   "source": [
    "user = pd.read_pickle('data/user')\n",
    "business =pd.read_pickle('data/business')\n",
    "review = pd.read_pickle('data/review')\n",
    "# top_restaurant = pd.read_csv('updated/high_reviews_restaurant.csv')"
   ]
  },
  {
   "cell_type": "code",
   "execution_count": 5,
   "metadata": {
    "collapsed": false,
    "scrolled": true
   },
   "outputs": [
    {
     "data": {
      "text/html": [
       "<div>\n",
       "<table border=\"1\" class=\"dataframe\">\n",
       "  <thead>\n",
       "    <tr style=\"text-align: right;\">\n",
       "      <th></th>\n",
       "      <th>user_id</th>\n",
       "      <th>review_id</th>\n",
       "      <th>text</th>\n",
       "      <th>votes.cool</th>\n",
       "      <th>business_id</th>\n",
       "      <th>votes.funny</th>\n",
       "      <th>stars</th>\n",
       "      <th>date</th>\n",
       "      <th>type</th>\n",
       "      <th>votes.useful</th>\n",
       "    </tr>\n",
       "  </thead>\n",
       "  <tbody>\n",
       "    <tr>\n",
       "      <th>2685064</th>\n",
       "      <td>nELVJlkX8T0mUAArSPSJxw</td>\n",
       "      <td>vwmqHxxmy9rEAwhbkLXmnQ</td>\n",
       "      <td>he stood in the face of a 25 star biz and brav...</td>\n",
       "      <td>4</td>\n",
       "      <td>DH2Ujt_hwcMBIz8VvCb0Lg</td>\n",
       "      <td>5</td>\n",
       "      <td>3</td>\n",
       "      <td>2016-04-30</td>\n",
       "      <td>review</td>\n",
       "      <td>4</td>\n",
       "    </tr>\n",
       "    <tr>\n",
       "      <th>2685065</th>\n",
       "      <td>maAimqEE4G483rtifPKlYg</td>\n",
       "      <td>DDmiTM_jMhshjYkXk5Sshg</td>\n",
       "      <td>2 pm monday afternoon out of sour cream ridicu...</td>\n",
       "      <td>0</td>\n",
       "      <td>DH2Ujt_hwcMBIz8VvCb0Lg</td>\n",
       "      <td>0</td>\n",
       "      <td>1</td>\n",
       "      <td>2016-07-11</td>\n",
       "      <td>review</td>\n",
       "      <td>0</td>\n",
       "    </tr>\n",
       "  </tbody>\n",
       "</table>\n",
       "</div>"
      ],
      "text/plain": [
       "                        user_id               review_id  \\\n",
       "2685064  nELVJlkX8T0mUAArSPSJxw  vwmqHxxmy9rEAwhbkLXmnQ   \n",
       "2685065  maAimqEE4G483rtifPKlYg  DDmiTM_jMhshjYkXk5Sshg   \n",
       "\n",
       "                                                      text  votes.cool  \\\n",
       "2685064  he stood in the face of a 25 star biz and brav...           4   \n",
       "2685065  2 pm monday afternoon out of sour cream ridicu...           0   \n",
       "\n",
       "                    business_id  votes.funny  stars        date    type  \\\n",
       "2685064  DH2Ujt_hwcMBIz8VvCb0Lg            5      3  2016-04-30  review   \n",
       "2685065  DH2Ujt_hwcMBIz8VvCb0Lg            0      1  2016-07-11  review   \n",
       "\n",
       "         votes.useful  \n",
       "2685064             4  \n",
       "2685065             0  "
      ]
     },
     "execution_count": 5,
     "metadata": {},
     "output_type": "execute_result"
    }
   ],
   "source": [
    "review.tail(2)"
   ]
  },
  {
   "cell_type": "code",
   "execution_count": 6,
   "metadata": {
    "collapsed": false
   },
   "outputs": [
    {
     "data": {
      "text/plain": [
       "1630712"
      ]
     },
     "execution_count": 6,
     "metadata": {},
     "output_type": "execute_result"
    }
   ],
   "source": [
    "len(review)"
   ]
  },
  {
   "cell_type": "code",
   "execution_count": 7,
   "metadata": {
    "collapsed": false
   },
   "outputs": [
    {
     "name": "stdout",
     "output_type": "stream",
     "text": [
      "10 loops, best of 3: 105 ms per loop\n"
     ]
    }
   ],
   "source": [
    "%timeit Counter(review.business_id)"
   ]
  },
  {
   "cell_type": "code",
   "execution_count": null,
   "metadata": {
    "collapsed": true
   },
   "outputs": [],
   "source": [
    "# Counter(review['business_id'])\n",
    "# review_count = Counter(review['business_id'])"
   ]
  },
  {
   "cell_type": "code",
   "execution_count": null,
   "metadata": {
    "collapsed": true
   },
   "outputs": [],
   "source": [
    "review_count"
   ]
  },
  {
   "cell_type": "code",
   "execution_count": null,
   "metadata": {
    "collapsed": true
   },
   "outputs": [],
   "source": [
    "print(1)"
   ]
  },
  {
   "cell_type": "code",
   "execution_count": 8,
   "metadata": {
    "collapsed": false
   },
   "outputs": [
    {
     "name": "stdout",
     "output_type": "stream",
     "text": [
      "26629\n"
     ]
    },
    {
     "data": {
      "text/plain": [
       "[('2e2e7WgqU1BnpxmQL5jbfw', 4103),\n",
       " ('aGbjLWzcrnEx2ZmMCFm3EA', 4149),\n",
       " ('zt1TpTuJ6y9n551sw9TaEg', 4333),\n",
       " ('sIyHTizqAiGu12XMLX3N3g', 4531),\n",
       " ('4bEjOyTaDG24SY5TxsaUNQ', 5558)]"
      ]
     },
     "execution_count": 8,
     "metadata": {},
     "output_type": "execute_result"
    }
   ],
   "source": [
    "review_count = Counter(review['business_id']) # number of unique restaurants\n",
    "print(len(review_count))\n",
    "top_restaurant = [(k,v)for k,v in review_count.items() if v > 300]#number of restaurants that have more than 300 reviews\n",
    "sorted_by_count = sorted(top_restaurant, key=lambda tup: tup[1])\n",
    "sorted_by_count[-5:]"
   ]
  },
  {
   "cell_type": "code",
   "execution_count": 4,
   "metadata": {
    "collapsed": true
   },
   "outputs": [],
   "source": [
    "def categorize_reviews(business_id):\n",
    "    business_index = restaurant_review['business_id'] == business_id # get the business index\n",
    "    one_restaurant = restaurant_review[business_index]\n",
    "    good = one_restaurant.ix[one_restaurant['stars'] > 3.5]\n",
    "    bad = one_restaurant.ix[one_restaurant['stars'] <= 3.5]\n",
    "    good = good.reset_index()\n",
    "    bad = bad.reset_index()\n",
    "    return good.text,bad.text"
   ]
  },
  {
   "cell_type": "code",
   "execution_count": 5,
   "metadata": {
    "collapsed": true
   },
   "outputs": [],
   "source": [
    "def lda_tm(x):\n",
    "    tfidf = TfidfVectorizer(stop_words='english')\n",
    "    x = tfidf.fit_transform(x)\n",
    "    lda = LatentDirichletAllocation(n_topics=15,\n",
    "                                max_iter=5,\n",
    "                                learning_method='online',\n",
    "                                learning_offset=50.)\n",
    "    terms = tfidf.get_feature_names()\n",
    "    lda.fit(x)\n",
    "    C = lda.components_\n",
    "    for topic,term in enumerate(C):\n",
    "        top_indices = np.argsort(C)[topic][::-1][:10]\n",
    "        term_ranking = [terms[i] for i in top_indices]\n",
    "        print(\"Topic {}: {}\".format(topic+1, \", \".join(term_ranking)))\n",
    "    "
   ]
  },
  {
   "cell_type": "code",
   "execution_count": 6,
   "metadata": {
    "collapsed": true
   },
   "outputs": [],
   "source": [
    "def nmf_tm(x):\n",
    "    tfidf = TfidfVectorizer(stop_words='english')\n",
    "    x = tfidf.fit_transform(x)\n",
    "    nmf = NMF(init=\"nndsvd\",\n",
    "            n_components=15,\n",
    "            max_iter=200)\n",
    "    terms = tfidf.get_feature_names()\n",
    "    nmf.fit(x)\n",
    "    W = nmf.fit_transform(x)\n",
    "    H = nmf.components_\n",
    "    for topic,term in enumerate(H):\n",
    "        top_indices = np.argsort(H)[topic][::-1][:10]\n",
    "        term_ranking = [terms[i] for i in top_indices]\n",
    "        print(\"Topic {}: {}\".format(topic+1, \", \".join(term_ranking)))\n",
    "    "
   ]
  },
  {
   "cell_type": "code",
   "execution_count": 7,
   "metadata": {
    "collapsed": false,
    "scrolled": true
   },
   "outputs": [
    {
     "data": {
      "text/plain": [
       "3873430"
      ]
     },
     "execution_count": 7,
     "metadata": {},
     "output_type": "execute_result"
    }
   ],
   "source": [
    "len(review)"
   ]
  },
  {
   "cell_type": "code",
   "execution_count": 8,
   "metadata": {
    "collapsed": false,
    "scrolled": true
   },
   "outputs": [
    {
     "data": {
      "text/html": [
       "<div>\n",
       "<table border=\"1\" class=\"dataframe\">\n",
       "  <thead>\n",
       "    <tr style=\"text-align: right;\">\n",
       "      <th></th>\n",
       "      <th>Unnamed: 0</th>\n",
       "      <th>business_id</th>\n",
       "      <th>review_count</th>\n",
       "    </tr>\n",
       "  </thead>\n",
       "  <tbody>\n",
       "    <tr>\n",
       "      <th>0</th>\n",
       "      <td>0</td>\n",
       "      <td>FY_OXEVcewAQFZuu6fynLA</td>\n",
       "      <td>301</td>\n",
       "    </tr>\n",
       "    <tr>\n",
       "      <th>1</th>\n",
       "      <td>1</td>\n",
       "      <td>7WGBi29_vj_7RcPVxpLNHA</td>\n",
       "      <td>301</td>\n",
       "    </tr>\n",
       "  </tbody>\n",
       "</table>\n",
       "</div>"
      ],
      "text/plain": [
       "   Unnamed: 0             business_id  review_count\n",
       "0           0  FY_OXEVcewAQFZuu6fynLA           301\n",
       "1           1  7WGBi29_vj_7RcPVxpLNHA           301"
      ]
     },
     "execution_count": 8,
     "metadata": {},
     "output_type": "execute_result"
    }
   ],
   "source": [
    "top_restaurant.head(2)"
   ]
  },
  {
   "cell_type": "code",
   "execution_count": null,
   "metadata": {
    "collapsed": true
   },
   "outputs": [],
   "source": []
  },
  {
   "cell_type": "code",
   "execution_count": 9,
   "metadata": {
    "collapsed": false
   },
   "outputs": [
    {
     "ename": "TypeError",
     "evalue": "expected sequence object with len >= 0 or a single integer",
     "output_type": "error",
     "traceback": [
      "\u001b[0;31m---------------------------------------------------------------------------\u001b[0m",
      "\u001b[0;31mTypeError\u001b[0m                                 Traceback (most recent call last)",
      "\u001b[0;32m<ipython-input-9-15dd4f21418b>\u001b[0m in \u001b[0;36m<module>\u001b[0;34m()\u001b[0m\n\u001b[0;32m----> 1\u001b[0;31m \u001b[0mrating_matrix\u001b[0m \u001b[0;34m=\u001b[0m \u001b[0mnp\u001b[0m\u001b[0;34m.\u001b[0m\u001b[0mzeros\u001b[0m\u001b[0;34m(\u001b[0m \u001b[0mshape\u001b[0m \u001b[0;34m)\u001b[0m\u001b[0;34m\u001b[0m\u001b[0m\n\u001b[0m",
      "\u001b[0;31mTypeError\u001b[0m: expected sequence object with len >= 0 or a single integer"
     ]
    }
   ],
   "source": [
    "rating_matrix = np.zeros( shape )"
   ]
  },
  {
   "cell_type": "code",
   "execution_count": null,
   "metadata": {
    "collapsed": true
   },
   "outputs": [],
   "source": [
    "self.SVD_matrix = np.zeros(shape = (944, 1683), dtype = np.float32)\n",
    "def modifyRatingsDataset(self): \n",
    "        ''' Assign rating values to a matrix (userid, movieid ) '''\n",
    "        for index, row in self.ratings.iterrows():\n",
    "            self.SVD_matrix[ int(row[0]) , int(row[1])] = float(row[2])\n",
    "        return csc_matrix(self.SVD_matrix, dtype=np.float32),self.SVD_matrix"
   ]
  },
  {
   "cell_type": "code",
   "execution_count": null,
   "metadata": {
    "collapsed": true
   },
   "outputs": [],
   "source": []
  }
 ],
 "metadata": {
  "kernelspec": {
   "display_name": "Python [Root]",
   "language": "python",
   "name": "Python [Root]"
  },
  "language_info": {
   "codemirror_mode": {
    "name": "ipython",
    "version": 3
   },
   "file_extension": ".py",
   "mimetype": "text/x-python",
   "name": "python",
   "nbconvert_exporter": "python",
   "pygments_lexer": "ipython3",
   "version": "3.5.2"
  }
 },
 "nbformat": 4,
 "nbformat_minor": 0
}
