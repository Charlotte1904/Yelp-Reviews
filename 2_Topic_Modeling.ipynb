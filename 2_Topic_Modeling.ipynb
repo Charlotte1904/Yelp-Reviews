{
 "cells": [
  {
   "cell_type": "markdown",
   "metadata": {},
   "source": [
    "GOAL:\n",
    "\n",
    "Clustering: LDA and NMG for Topic Modeling\n",
    "Classification: Random Forest, Continuous Data - Classifiy Elite Status -- Find people who are qualified to be elite but are not. \n",
    "Regression: \n",
    "\n"
   ]
  },
  {
   "cell_type": "code",
   "execution_count": 102,
   "metadata": {
    "collapsed": false,
    "scrolled": false
   },
   "outputs": [
    {
     "name": "stdout",
     "output_type": "stream",
     "text": [
      "Populating the interactive namespace from numpy and matplotlib\n"
     ]
    }
   ],
   "source": [
    "%pylab inline\n",
    "import pandas as pd\n",
    "import numpy as np\n",
    "import seaborn as sns\n",
    "import re\n",
    "from collections import Counter\n",
    "from sklearn.feature_extraction.text import CountVectorizer, TfidfVectorizer\n",
    "from sklearn.decomposition import NMF\n",
    "from sklearn.decomposition.online_lda import LatentDirichletAllocation\n",
    "import string\n",
    "from sklearn.pipeline import Pipeline\n",
    "from nltk.tokenize import word_tokenize\n",
    "from nltk.stem.porter import PorterStemmer\n",
    "from nltk.stem.snowball import SnowballStemmer\n",
    "from nltk.stem.wordnet import WordNetLemmatizer"
   ]
  },
  {
   "cell_type": "code",
   "execution_count": 2,
   "metadata": {
    "collapsed": false,
    "scrolled": true
   },
   "outputs": [],
   "source": [
    "user = pd.read_pickle('data/user')\n",
    "business =pd.read_pickle('data/business')\n",
    "review = pd.read_pickle('data/review')\n",
    "# top_restaurant = pd.read_csv('updated/high_reviews_restaurant.csv')"
   ]
  },
  {
   "cell_type": "code",
   "execution_count": 214,
   "metadata": {
    "collapsed": false
   },
   "outputs": [
    {
     "data": {
      "text/plain": [
       "Index(['user_id', 'review_id', 'text', 'votes_cool', 'business_id',\n",
       "       'votes_funny', 'stars', 'date', 'votes_useful'],\n",
       "      dtype='object')"
      ]
     },
     "execution_count": 214,
     "metadata": {},
     "output_type": "execute_result"
    }
   ],
   "source": [
    "review.columns"
   ]
  },
  {
   "cell_type": "code",
   "execution_count": 183,
   "metadata": {
    "collapsed": false,
    "scrolled": true
   },
   "outputs": [
    {
     "data": {
      "text/plain": [
       "Index(['index', 'yelping_since', 'compliments_plain', 'review_count',\n",
       "       'compliments_cute', 'compliments_writer', 'fans', 'compliments_note',\n",
       "       'compliments_hot', 'compliments_cool', 'compliments_profile',\n",
       "       'average_stars', 'compliments_more', 'elite', 'name', 'user_id',\n",
       "       'votes_cool', 'compliments_list', 'votes_funny', 'compliments_photos',\n",
       "       'compliments_funny', 'votes_useful', 'elite_year', 'elite_since',\n",
       "       'year_before_elite'],\n",
       "      dtype='object')"
      ]
     },
     "execution_count": 183,
     "metadata": {},
     "output_type": "execute_result"
    }
   ],
   "source": [
    "user.columns"
   ]
  },
  {
   "cell_type": "code",
   "execution_count": 215,
   "metadata": {
    "collapsed": false
   },
   "outputs": [],
   "source": [
    "# business.city.value_counts()"
   ]
  },
  {
   "cell_type": "code",
   "execution_count": 216,
   "metadata": {
    "collapsed": false
   },
   "outputs": [],
   "source": [
    "# business.city.unique()"
   ]
  },
  {
   "cell_type": "code",
   "execution_count": 217,
   "metadata": {
    "collapsed": false
   },
   "outputs": [],
   "source": [
    "# business.columns"
   ]
  },
  {
   "cell_type": "code",
   "execution_count": null,
   "metadata": {
    "collapsed": true
   },
   "outputs": [],
   "source": []
  },
  {
   "cell_type": "code",
   "execution_count": null,
   "metadata": {
    "collapsed": true
   },
   "outputs": [],
   "source": []
  },
  {
   "cell_type": "code",
   "execution_count": null,
   "metadata": {
    "collapsed": true
   },
   "outputs": [],
   "source": []
  },
  {
   "cell_type": "code",
   "execution_count": null,
   "metadata": {
    "collapsed": true
   },
   "outputs": [],
   "source": []
  },
  {
   "cell_type": "code",
   "execution_count": null,
   "metadata": {
    "collapsed": true
   },
   "outputs": [],
   "source": []
  },
  {
   "cell_type": "code",
   "execution_count": null,
   "metadata": {
    "collapsed": true
   },
   "outputs": [],
   "source": []
  },
  {
   "cell_type": "code",
   "execution_count": 184,
   "metadata": {
    "collapsed": true
   },
   "outputs": [],
   "source": [
    "elite_user = (user['user_id'].ix[user['elite_since'] != 0])\n",
    "not_elite_user = (user['user_id'].ix[user['elite_since'] == 0])"
   ]
  },
  {
   "cell_type": "code",
   "execution_count": 185,
   "metadata": {
    "collapsed": true
   },
   "outputs": [],
   "source": [
    "elite_index = review['user_id'].isin(elite_user )\n",
    "not_elite_index = review['user_id'].isin(not_elite_user)"
   ]
  },
  {
   "cell_type": "code",
   "execution_count": 186,
   "metadata": {
    "collapsed": true
   },
   "outputs": [],
   "source": [
    "elite_review = review[elite_index ]\n",
    "not_elite_review = review[not_elite_index]"
   ]
  },
  {
   "cell_type": "code",
   "execution_count": 187,
   "metadata": {
    "collapsed": false,
    "scrolled": true
   },
   "outputs": [
    {
     "data": {
      "text/html": [
       "<div>\n",
       "<table border=\"1\" class=\"dataframe\">\n",
       "  <thead>\n",
       "    <tr style=\"text-align: right;\">\n",
       "      <th></th>\n",
       "      <th>user_id</th>\n",
       "      <th>review_id</th>\n",
       "      <th>text</th>\n",
       "      <th>votes_cool</th>\n",
       "      <th>business_id</th>\n",
       "      <th>votes_funny</th>\n",
       "      <th>stars</th>\n",
       "      <th>date</th>\n",
       "      <th>votes_useful</th>\n",
       "    </tr>\n",
       "  </thead>\n",
       "  <tbody>\n",
       "    <tr>\n",
       "      <th>25</th>\n",
       "      <td>tAKjY3bQXH51msJbOHYPmQ</td>\n",
       "      <td>uf61rPucuICXhSPXlZ1hIQ</td>\n",
       "      <td>After a morning of Thrift Store hunting, a fri...</td>\n",
       "      <td>2</td>\n",
       "      <td>mVHrayjG3uZ_RLHkLj-AMg</td>\n",
       "      <td>0</td>\n",
       "      <td>5</td>\n",
       "      <td>2014-11-03</td>\n",
       "      <td>3</td>\n",
       "    </tr>\n",
       "    <tr>\n",
       "      <th>27</th>\n",
       "      <td>a0ULPTNi05w-BNVovVUz2w</td>\n",
       "      <td>1W1vq7D1ofwFKbCA_GWu_A</td>\n",
       "      <td>From reading the other reviews, I see this pla...</td>\n",
       "      <td>4</td>\n",
       "      <td>mVHrayjG3uZ_RLHkLj-AMg</td>\n",
       "      <td>1</td>\n",
       "      <td>5</td>\n",
       "      <td>2015-03-06</td>\n",
       "      <td>1</td>\n",
       "    </tr>\n",
       "  </tbody>\n",
       "</table>\n",
       "</div>"
      ],
      "text/plain": [
       "                   user_id               review_id  \\\n",
       "25  tAKjY3bQXH51msJbOHYPmQ  uf61rPucuICXhSPXlZ1hIQ   \n",
       "27  a0ULPTNi05w-BNVovVUz2w  1W1vq7D1ofwFKbCA_GWu_A   \n",
       "\n",
       "                                                 text  votes_cool  \\\n",
       "25  After a morning of Thrift Store hunting, a fri...           2   \n",
       "27  From reading the other reviews, I see this pla...           4   \n",
       "\n",
       "               business_id  votes_funny  stars        date  votes_useful  \n",
       "25  mVHrayjG3uZ_RLHkLj-AMg            0      5  2014-11-03             3  \n",
       "27  mVHrayjG3uZ_RLHkLj-AMg            1      5  2015-03-06             1  "
      ]
     },
     "execution_count": 187,
     "metadata": {},
     "output_type": "execute_result"
    }
   ],
   "source": [
    "elite_review.head(2)"
   ]
  },
  {
   "cell_type": "code",
   "execution_count": 191,
   "metadata": {
    "collapsed": true
   },
   "outputs": [
    {
     "data": {
      "text/html": [
       "<div>\n",
       "<table border=\"1\" class=\"dataframe\">\n",
       "  <thead>\n",
       "    <tr style=\"text-align: right;\">\n",
       "      <th></th>\n",
       "      <th>user_id</th>\n",
       "      <th>review_id</th>\n",
       "      <th>text</th>\n",
       "      <th>votes_cool</th>\n",
       "      <th>business_id</th>\n",
       "      <th>votes_funny</th>\n",
       "      <th>stars</th>\n",
       "      <th>date</th>\n",
       "      <th>votes_useful</th>\n",
       "    </tr>\n",
       "  </thead>\n",
       "  <tbody>\n",
       "    <tr>\n",
       "      <th>0</th>\n",
       "      <td>PUFPaY9KxDAcGqfsorJp3Q</td>\n",
       "      <td>Ya85v4eqdd6k9Od8HbQjyA</td>\n",
       "      <td>Mr Hoagie is an institution. Walking in, it do...</td>\n",
       "      <td>0</td>\n",
       "      <td>5UmKMjUEUNdYWqANhGckJw</td>\n",
       "      <td>0</td>\n",
       "      <td>4</td>\n",
       "      <td>2012-08-01</td>\n",
       "      <td>0</td>\n",
       "    </tr>\n",
       "  </tbody>\n",
       "</table>\n",
       "</div>"
      ],
      "text/plain": [
       "                  user_id               review_id  \\\n",
       "0  PUFPaY9KxDAcGqfsorJp3Q  Ya85v4eqdd6k9Od8HbQjyA   \n",
       "\n",
       "                                                text  votes_cool  \\\n",
       "0  Mr Hoagie is an institution. Walking in, it do...           0   \n",
       "\n",
       "              business_id  votes_funny  stars        date  votes_useful  \n",
       "0  5UmKMjUEUNdYWqANhGckJw            0      4  2012-08-01             0  "
      ]
     },
     "execution_count": 191,
     "metadata": {},
     "output_type": "execute_result"
    }
   ],
   "source": [
    "not_elite_review.head(1)"
   ]
  },
  {
   "cell_type": "code",
   "execution_count": 193,
   "metadata": {
    "collapsed": true
   },
   "outputs": [],
   "source": [
    "e_all,good,bad = get_user_reviews('tAKjY3bQXH51msJbOHYPmQ')"
   ]
  },
  {
   "cell_type": "code",
   "execution_count": 192,
   "metadata": {
    "collapsed": true
   },
   "outputs": [],
   "source": [
    "ne_all,g,b = get_user_reviews('PUFPaY9KxDAcGqfsorJp3Q')"
   ]
  },
  {
   "cell_type": "code",
   "execution_count": 199,
   "metadata": {
    "collapsed": false,
    "scrolled": true
   },
   "outputs": [
    {
     "data": {
      "text/plain": [
       "['yes',\n",
       " 'expecting',\n",
       " 'fry',\n",
       " 'frozen',\n",
       " 'feel',\n",
       " 'fashioned',\n",
       " 'family',\n",
       " 'experience',\n",
       " 'expensive',\n",
       " 'excellent',\n",
       " 'going',\n",
       " 'enjoy',\n",
       " 'eat',\n",
       " 'drink',\n",
       " 'doughy',\n",
       " 'dish',\n",
       " 'dinnertime',\n",
       " 'dining',\n",
       " 'garden',\n",
       " 'got',\n",
       " 'large',\n",
       " 'india',\n",
       " 'kennywood',\n",
       " 'ive',\n",
       " 'institution',\n",
       " 'instead',\n",
       " 'ingredient',\n",
       " 'inexpensive',\n",
       " 'indian',\n",
       " 'hungarian',\n",
       " 'great',\n",
       " 'hot',\n",
       " 'homemade',\n",
       " 'home',\n",
       " 'hoagie',\n",
       " 'hated',\n",
       " 'hate',\n",
       " 'grilled',\n",
       " 'different',\n",
       " 'desired',\n",
       " 'depending',\n",
       " 'area',\n",
       " 'best',\n",
       " 'batch',\n",
       " 'baked',\n",
       " 'bacon',\n",
       " 'ave',\n",
       " 'authentic',\n",
       " 'atmosphere',\n",
       " 'alternative']"
      ]
     },
     "execution_count": 199,
     "metadata": {},
     "output_type": "execute_result"
    }
   ],
   "source": [
    "vectorizer(ne_all)"
   ]
  },
  {
   "cell_type": "code",
   "execution_count": 198,
   "metadata": {
    "collapsed": false,
    "scrolled": true
   },
   "outputs": [
    {
     "data": {
      "text/plain": [
       "['misaki',\n",
       " 'jokingly',\n",
       " 'joined',\n",
       " 'joes',\n",
       " 'joemerican',\n",
       " 'jive',\n",
       " 'jimmy',\n",
       " 'jet',\n",
       " 'jerky',\n",
       " 'jelly',\n",
       " 'jasmine',\n",
       " 'james',\n",
       " 'jacket',\n",
       " 'jacked',\n",
       " 'jack',\n",
       " 'befitting',\n",
       " 'itswellfood',\n",
       " 'itso',\n",
       " 'itsa',\n",
       " 'itand',\n",
       " 'italy',\n",
       " 'iswelldeli',\n",
       " 'iswelladorable',\n",
       " 'joke',\n",
       " 'jonesing',\n",
       " 'belching',\n",
       " 'josh',\n",
       " 'kidney',\n",
       " 'kheer',\n",
       " 'kfc',\n",
       " 'keyword',\n",
       " 'kevin',\n",
       " 'kentucky',\n",
       " 'kelly',\n",
       " 'keg',\n",
       " 'keen',\n",
       " 'kaya',\n",
       " 'karaokeit',\n",
       " 'kapoor',\n",
       " 'kale',\n",
       " 'kaiser',\n",
       " 'justhealth',\n",
       " 'jury',\n",
       " 'jump',\n",
       " 'jummyjummy',\n",
       " 'jukebox',\n",
       " 'juiceless',\n",
       " 'judging',\n",
       " 'issuebecause',\n",
       " 'isdo']"
      ]
     },
     "execution_count": 198,
     "metadata": {},
     "output_type": "execute_result"
    }
   ],
   "source": [
    "vectorizer(e_all)"
   ]
  },
  {
   "cell_type": "code",
   "execution_count": 234,
   "metadata": {
    "collapsed": true
   },
   "outputs": [],
   "source": [
    "test_index =(review['business_id'] == 'SsGNAc9U-aKPZccnaDtFkA')  "
   ]
  },
  {
   "cell_type": "code",
   "execution_count": 235,
   "metadata": {
    "collapsed": false
   },
   "outputs": [],
   "source": [
    "test = review[test_index]"
   ]
  },
  {
   "cell_type": "code",
   "execution_count": 236,
   "metadata": {
    "collapsed": false
   },
   "outputs": [
    {
     "data": {
      "text/html": [
       "<div>\n",
       "<table border=\"1\" class=\"dataframe\">\n",
       "  <thead>\n",
       "    <tr style=\"text-align: right;\">\n",
       "      <th></th>\n",
       "      <th>user_id</th>\n",
       "      <th>review_id</th>\n",
       "      <th>text</th>\n",
       "      <th>votes_cool</th>\n",
       "      <th>business_id</th>\n",
       "      <th>votes_funny</th>\n",
       "      <th>stars</th>\n",
       "      <th>date</th>\n",
       "      <th>votes_useful</th>\n",
       "    </tr>\n",
       "  </thead>\n",
       "  <tbody>\n",
       "    <tr>\n",
       "      <th>1795637</th>\n",
       "      <td>nEYPahVwXGD2Pjvgkm7QqQ</td>\n",
       "      <td>TZIDxRA_49jy3wxuQ_ZUjw</td>\n",
       "      <td>When people asked me what I had at Meat and Po...</td>\n",
       "      <td>5</td>\n",
       "      <td>SsGNAc9U-aKPZccnaDtFkA</td>\n",
       "      <td>2</td>\n",
       "      <td>4</td>\n",
       "      <td>2011-06-01</td>\n",
       "      <td>6</td>\n",
       "    </tr>\n",
       "  </tbody>\n",
       "</table>\n",
       "</div>"
      ],
      "text/plain": [
       "                        user_id               review_id  \\\n",
       "1795637  nEYPahVwXGD2Pjvgkm7QqQ  TZIDxRA_49jy3wxuQ_ZUjw   \n",
       "\n",
       "                                                      text  votes_cool  \\\n",
       "1795637  When people asked me what I had at Meat and Po...           5   \n",
       "\n",
       "                    business_id  votes_funny  stars        date  votes_useful  \n",
       "1795637  SsGNAc9U-aKPZccnaDtFkA            2      4  2011-06-01             6  "
      ]
     },
     "execution_count": 236,
     "metadata": {},
     "output_type": "execute_result"
    }
   ],
   "source": [
    "test.head(1)"
   ]
  },
  {
   "cell_type": "code",
   "execution_count": 238,
   "metadata": {
    "collapsed": false
   },
   "outputs": [
    {
     "data": {
      "text/plain": [
       "{'SsGNAc9U-aKPZccnaDtFkA': 'dL6PnP11WKAafsL26-22aA'}"
      ]
     },
     "execution_count": 238,
     "metadata": {},
     "output_type": "execute_result"
    }
   ],
   "source": [
    "test.set_index('business_id')['user_id'].to_dict()"
   ]
  },
  {
   "cell_type": "code",
   "execution_count": 232,
   "metadata": {
    "collapsed": false
   },
   "outputs": [
    {
     "data": {
      "text/plain": [
       "1096"
      ]
     },
     "execution_count": 232,
     "metadata": {},
     "output_type": "execute_result"
    }
   ],
   "source": [
    "sum(review['business_id'] == 'SsGNAc9U-aKPZccnaDtFkA') "
   ]
  },
  {
   "cell_type": "code",
   "execution_count": 233,
   "metadata": {
    "collapsed": false,
    "scrolled": false
   },
   "outputs": [
    {
     "data": {
      "text/plain": [
       "9A2-wSoBUxlMd3LwmlGrrQ    937\n",
       "3gIfcQq5KxAegwCPXc83cQ    813\n",
       "Iu3Jo9ROp2IWC9FwtWOaUQ    729\n",
       "pEVf8GRshP9HUkSpizc9LA    689\n",
       "ia1nTRAQEaFWv0cwADeK7g    682\n",
       "kGgAARL2UmvCcTRfiscjug    665\n",
       "uZbTb-u-GVjTa2gtQfry5g    650\n",
       "glRXVWWD6x1EZKfjJawTOg    611\n",
       "5lq4LkrviYgQ4LJNsBYHcA    569\n",
       "p7dvahRPZIWL7T6pFA_0dg    560\n",
       "Name: user_id, dtype: int64"
      ]
     },
     "execution_count": 233,
     "metadata": {},
     "output_type": "execute_result"
    }
   ],
   "source": [
    "review['user_id'].value_counts()[:10]"
   ]
  },
  {
   "cell_type": "code",
   "execution_count": 116,
   "metadata": {
    "collapsed": false
   },
   "outputs": [],
   "source": [
    "def clean_text(x):\n",
    "    wordnet = WordNetLemmatizer()\n",
    "    words =  [re.sub('['+string.punctuation+']', '', i.lower().replace('\\n','')) for i in x.split()]\n",
    "    lemmetized_words = [wordnet.lemmatize(word) for word in words ]\n",
    "    return \" \".join(lemmetized_words)"
   ]
  },
  {
   "cell_type": "code",
   "execution_count": 170,
   "metadata": {
    "collapsed": false
   },
   "outputs": [],
   "source": [
    "# vectorizer = CountVectorizer(max_features=1000,max_df=0.95,  min_df=2,stop_words='english')\n",
    "# matrix = vectorizer.fit_transform(good) # documents x terms "
   ]
  },
  {
   "cell_type": "code",
   "execution_count": 174,
   "metadata": {
    "collapsed": false,
    "scrolled": true
   },
   "outputs": [
    {
     "name": "stdout",
     "output_type": "stream",
     "text": [
      "[('good', 339), ('menu', 294), ('sauce', 255), ('fresh', 254), ('service', 245), ('great', 232), ('dish', 228), ('like', 225), ('food', 216), ('place', 194), ('chicken', 190), ('order', 184), ('just', 184), ('salad', 177), ('cheese', 174), ('really', 157), ('portion', 154), ('dishes', 152), ('rice', 137), ('flavor', 133)]\n"
     ]
    }
   ],
   "source": [
    "freqs = [(word, matrix.getcol(idx).sum()) for word, idx in vectorizer.vocabulary_.items()]\n",
    "print (sorted(freqs, key = lambda x: -x[1])[:20])\n"
   ]
  },
  {
   "cell_type": "code",
   "execution_count": 181,
   "metadata": {
    "collapsed": true
   },
   "outputs": [],
   "source": [
    "matrix = vectorizer.fit_transform(bad2) # documents x terms "
   ]
  },
  {
   "cell_type": "code",
   "execution_count": 182,
   "metadata": {
    "collapsed": false
   },
   "outputs": [
    {
     "name": "stdout",
     "output_type": "stream",
     "text": [
      "[('good', 798), ('like', 543), ('got', 536), ('food', 529), ('just', 493), ('place', 489), ('really', 388), ('went', 323), ('chicken', 251), ('bf', 250), ('came', 244), ('wasn', 218), ('didn', 217), ('pretty', 213), ('restaurant', 212), ('kind', 195), ('time', 193), ('little', 192), ('ordered', 191), ('think', 188)]\n"
     ]
    }
   ],
   "source": [
    "freqs = [(word, matrix.getcol(idx).sum()) for word, idx in vectorizer.vocabulary_.items()]\n",
    "print (sorted(freqs, key = lambda x: -x[1])[:20])\n"
   ]
  },
  {
   "cell_type": "code",
   "execution_count": 188,
   "metadata": {
    "collapsed": false
   },
   "outputs": [],
   "source": [
    "# indices = np.argsort(vectorizer.idf_)[::-1]\n",
    "# features = vectorizer.get_feature_names()\n",
    "# top_n = 10\n",
    "# top_features = [features[i] for i in indices[:top_n]]"
   ]
  },
  {
   "cell_type": "code",
   "execution_count": null,
   "metadata": {
    "collapsed": true
   },
   "outputs": [],
   "source": [
    "lectures = [\"this is some food\", \"this is some drink\"]\n",
    "vectorizer = TfidfVectorizer()\n",
    "X = vectorizer.fit_transform(lectures)\n",
    "indices = np.argsort(vectorizer.idf_)[::-1]\n",
    "features = vectorizer.get_feature_names()\n",
    "top_n = 2\n",
    "top_features = [features[i] for i in indices[:top_n]]\n",
    "print top_features"
   ]
  },
  {
   "cell_type": "code",
   "execution_count": 197,
   "metadata": {
    "collapsed": true
   },
   "outputs": [],
   "source": [
    "def vectorizer(X):\n",
    "    x = []\n",
    "    for doc in X:\n",
    "        x.append(clean_text(doc))\n",
    "    tfidf = TfidfVectorizer(stop_words='english')\n",
    "    x = tfidf.fit_transform(x)\n",
    "    indices = np.argsort(tfidf.idf_)[::-1]\n",
    "    features = tfidf.get_feature_names()\n",
    "    top_features = [features[i] for i in indices[:50]]\n",
    "    return top_features"
   ]
  },
  {
   "cell_type": "code",
   "execution_count": 189,
   "metadata": {
    "collapsed": false
   },
   "outputs": [],
   "source": [
    "# vectorizer(good2)"
   ]
  },
  {
   "cell_type": "code",
   "execution_count": null,
   "metadata": {
    "collapsed": true
   },
   "outputs": [],
   "source": []
  },
  {
   "cell_type": "code",
   "execution_count": null,
   "metadata": {
    "collapsed": true
   },
   "outputs": [],
   "source": []
  },
  {
   "cell_type": "code",
   "execution_count": null,
   "metadata": {
    "collapsed": true
   },
   "outputs": [],
   "source": []
  },
  {
   "cell_type": "code",
   "execution_count": 126,
   "metadata": {
    "collapsed": false
   },
   "outputs": [],
   "source": [
    "# review['word'] = [clean_text(x) for x in review['text']]"
   ]
  },
  {
   "cell_type": "code",
   "execution_count": null,
   "metadata": {
    "collapsed": true
   },
   "outputs": [],
   "source": [
    "# Counter(review['business_id'])\n",
    "# review_count = Counter(review['business_id'])"
   ]
  },
  {
   "cell_type": "code",
   "execution_count": null,
   "metadata": {
    "collapsed": true
   },
   "outputs": [],
   "source": [
    "review_count"
   ]
  },
  {
   "cell_type": "code",
   "execution_count": null,
   "metadata": {
    "collapsed": true
   },
   "outputs": [],
   "source": [
    "print(1)"
   ]
  },
  {
   "cell_type": "code",
   "execution_count": 224,
   "metadata": {
    "collapsed": false,
    "scrolled": true
   },
   "outputs": [
    {
     "name": "stdout",
     "output_type": "stream",
     "text": [
      "26629\n"
     ]
    },
    {
     "data": {
      "text/plain": [
       "[('u6EUXOSFnjxvzLll4D21bA', 564),\n",
       " ('H3SaoIWnlG-HvGQ8v6J6yg', 567),\n",
       " ('MhMFi7hae_KsaK8lHcg0iQ', 567),\n",
       " ('aYAlzKHwXQn6JNLweRnZjQ', 569),\n",
       " ('QcTj9AgGJA0ifMHCCPNblg', 571),\n",
       " ('v1aLzjTphPc6IGIy9k96vg', 572),\n",
       " ('cp39VURFby4A6u9m2It8jg', 573),\n",
       " ('6IRoWd6N__OVMNQfvu1Ccw', 573),\n",
       " ('EHIZFzQQ_mjzwyjcaToPtQ', 575),\n",
       " ('cN6aBxe2mQvrQlzk26LyRQ', 577),\n",
       " ('UpMR63WZgIn8VDKnYpDwXA', 578),\n",
       " ('84bLhe1aibxNmogtqSO4rA', 579),\n",
       " ('Lq6CDJ2yHmMs4N7jscQhHQ', 579),\n",
       " ('63d0v1xVzzahrY7zLoy_FA', 580),\n",
       " ('6imLt53br7SJ3av07jjH7w', 581),\n",
       " ('m9haUi2_1lHR2eAKBhKwDg', 582),\n",
       " ('23SJEjfyU5gxY2chAKhgcw', 583),\n",
       " ('h_WtRK_umSU8LCCmAeqbFA', 583),\n",
       " ('itFwrNtjrQL5NPMYTeD44g', 584),\n",
       " ('cBpJIOrVXotDI0XAZH_k0g', 585),\n",
       " ('bgTB6MgdVQssXhkNJ7qIfw', 586),\n",
       " ('guLkdetJ603Bw_A6tuecIg', 586),\n",
       " ('N8cJk5s9yW3fLeJyHQeRAA', 586),\n",
       " ('b5cEoKR8iQliq-yT2_O0LQ', 587),\n",
       " ('_zrSQdISpB_qry9tb098rw', 587),\n",
       " ('uEJQSIjWui-TDWXaGlcqyQ', 588),\n",
       " ('mpDxBBGywUE6GRRKja3sBA', 590),\n",
       " ('-5RN56jH78MV2oquLV_G8g', 591),\n",
       " ('WzDvQdS7MQrWK7vyDjdR4Q', 593),\n",
       " ('5FLRsYrT6w2VSDvQDhphXg', 596),\n",
       " ('FV0BkoGOd3Yu_eJnXY15ZA', 596),\n",
       " ('Az85N0Z4OKxOAzGdigi1nA', 597),\n",
       " ('ADTZPVMIYJN0jAvvHxcBMw', 598),\n",
       " ('Xc8QYWMnGd0KkkJw4CL8-A', 601),\n",
       " ('JsDZZ9S3qntzCfo5N_Ci6A', 602),\n",
       " ('GJp4zTQPPsCEkUitopGfAQ', 604),\n",
       " ('ySpNcdz0tSpaPNqefAbfOw', 605),\n",
       " ('XWvht_1ZLdK7EHJ3jo4q0g', 605),\n",
       " ('G6mZKMiDqHDgH92IOg9QhQ', 606),\n",
       " ('z-vuSxK4jQvRBdsk4lFCAw', 607),\n",
       " ('eltTG6JOr9cg5FRAgGy8Jw', 607),\n",
       " ('fTFgrxLjA07UdR-1PKfIng', 609),\n",
       " ('d4bXnfbUc1SLu3jVcr-w1w', 611),\n",
       " ('O-Xa9GCFWI65YiBD5Jw_hA', 614),\n",
       " ('_VN5hYv1VgNIBgwxTQZ_1Q', 614),\n",
       " ('eoDEx1GGQA0CBDhy2ql_Kw', 615),\n",
       " ('YppzR-sn8y15dmUd1lLcfw', 616),\n",
       " ('rNahhyqDlouyDMHh57p3ug', 616),\n",
       " ('7SO_rX1F6rQEl-5s3wZxgQ', 616),\n",
       " ('ss5gVggeSmAgMUeL65UvYw', 619),\n",
       " ('M2SjLXsuAy5RNKwxaA5E1g', 621),\n",
       " ('-4A5xmN21zi_TXnUESauUQ', 623),\n",
       " ('npfVfumxVAkQNYpY1fSvew', 626),\n",
       " ('co0vxQ8ecXiBy2sGDeHi8A', 626),\n",
       " ('bmNPNlCLDplWB55ic3Bixg', 627),\n",
       " ('WCGU5Xn01lfNJG_LvEltzw', 628),\n",
       " ('_rrWTz0W1K_eWafh-8r3fA', 628),\n",
       " ('k8bSp5BfCNCKqTXcKALXtw', 629),\n",
       " ('EolW2H_wkpYwWbBURN_4gQ', 629),\n",
       " ('EKzMHI1tip8rC1-ZAy64yg', 630),\n",
       " ('a4cMKOjdVLTmJNhRl6-17g', 635),\n",
       " ('QGkM1TvUrc1gmd1qkpnMJg', 636),\n",
       " ('jmgKs7CTqSWWwJnFnPIf4A', 637),\n",
       " ('pgQ6o3Xyv4K69kTXp8z7Yw', 637),\n",
       " ('EMGkbiCMfMTflQux-_JY7Q', 638),\n",
       " ('kJfT-kJUHQ-gxq0fhu4vdg', 638),\n",
       " ('VgLiSW1iGkpzIEXOgvUBEw', 639),\n",
       " ('PiV7phVMf7glDpH_J630Ow', 643),\n",
       " ('ke4Z0EyWNoapfLnXEvheVw', 644),\n",
       " ('IVc23uY-36WUNYoIbz42Fg', 644),\n",
       " ('rMSje59v2QY82OBvE1zBuA', 647),\n",
       " ('y2FMWeHfbxQADvcdV2ja2w', 650),\n",
       " ('bwu0cUZfksuu-uzTPrrl2A', 652),\n",
       " ('mxrXVZWc6PWk81gvOVNOUw', 656),\n",
       " ('OeinO4b26UcICbrLxoj3DQ', 657),\n",
       " ('9Y3aQAVITkEJYe5vLZr13w', 657),\n",
       " ('Je396Ev-dvAvl3ei-O0EIg', 659),\n",
       " ('I4bSn5gXsHuSPu7L-d_8nQ', 659),\n",
       " ('Pgp3gbOQaJIdyjqC9AOz6g', 660),\n",
       " ('M-vOSYnyuaE2TsFJF0uMbQ', 660),\n",
       " ('Gvw2ewUbqq7PWkxKwjqifA', 662),\n",
       " ('hsM6PF4Of6RMNcQV_c-FVQ', 663),\n",
       " ('Zh_y9AmSfWZpR2JB9wye-A', 665),\n",
       " ('lAher1puKzN9r3LALx-JqQ', 669),\n",
       " ('1bJjWGYip-V2PGj4VIwbiQ', 669),\n",
       " ('XHr5mXFgobOHoxbPJxmYdg', 670),\n",
       " ('wfofFm3AqtyK_ujNQ893mQ', 670),\n",
       " ('c8Xamwyv5Tyi2VjjyQcwaw', 671),\n",
       " ('7Q19H5nM3oFRyCg_j0QV1A', 672),\n",
       " ('e8FMAuTswDueAlLsNyLhcA', 672),\n",
       " ('t80qleqEIqIyekB95IrAOA', 672),\n",
       " ('HpaYCM_NCauI72LLXxC6SA', 672),\n",
       " ('LJxNzBCR383zSpe0jdU04Q', 676),\n",
       " ('cmv6wUUe-H0xRiFEY0__iQ', 676),\n",
       " ('ntN85eu27C04nwyPa8IHtw', 677),\n",
       " ('_6gbnNRPIc-iM_0cBLPX1A', 677),\n",
       " ('tcphcsPONrP82kUyvcELoA', 679),\n",
       " ('E9ZsPtGovfEPHlMHkDdlQA', 683),\n",
       " ('6X9iyuM2XdoCGT4q9qv5cA', 683),\n",
       " ('y8VQQO_WkYNjSLcq6hyjPA', 686),\n",
       " ('Yq8LiVymGA7vBpGCQuDfRw', 688),\n",
       " ('pAHUC05ceak48e745i6G4g', 689),\n",
       " ('notMxQXE3BaBAgiD-o1jgg', 692),\n",
       " ('gkWEjZIVcrUerEzed6IKpg', 693),\n",
       " ('qLa_684GMvVfR4WNHshQSA', 694),\n",
       " ('nZgYNbl1XlZyyKlISMoG6w', 695),\n",
       " ('APe_0I6DqbNQonSlEkMSEQ', 696),\n",
       " ('dVAurLD1bBIi9IvuMFoL5g', 697),\n",
       " ('ggoYlZeQhATwb_yGSntfdw', 698),\n",
       " ('M3sHcgWd1gqw5c3L8QnAHQ', 699),\n",
       " ('sNBquLTaV3IbUWkzSUlTpw', 701),\n",
       " ('pwF_phwjD1ZHsY1xC9H7mA', 702),\n",
       " ('83DsSlg-swjLzmZnUzq2UA', 702),\n",
       " ('41j3GB7M-Lwq284Pfb9zgw', 705),\n",
       " ('AkOruz5CrCxUmXe1p_WoRg', 706),\n",
       " ('Gn7bMxhZgY0bivsthvJWJQ', 712),\n",
       " ('ZxmKA8b7njab1DNzCEU4Ow', 713),\n",
       " ('c12WDNrP2wyQgbnEYDdxCw', 714),\n",
       " ('H6CJflwclNpttYrtsBMsVg', 714),\n",
       " ('fkVBloMEFJG2HTgeCxeNDg', 720),\n",
       " ('OE5nAmaSVaopeRS1Cs9Kuw', 722),\n",
       " ('Ensu96ecI0OReupNS2x7ig', 724),\n",
       " ('J4qLz0nGzCTMf6-kf_SiQg', 725),\n",
       " ('Lp-A-JNRUUH72uou5-pMtQ', 725),\n",
       " ('UEUQS4z7s-DRzQjky92KYw', 725),\n",
       " ('hsRwhrj0zPJWm_5Z3ZemMw', 728),\n",
       " ('n5eQnMnVVt3FfrFENYoU0g', 733),\n",
       " ('yD1dRYi7USzhYVKiqZ7JVg', 734),\n",
       " ('pD7NzevYc6HhYu13wCxiiw', 735),\n",
       " ('05tazaFQt1EnQ_Gk_1AFyg', 739),\n",
       " ('tn5SXZvWiT-uVsjXLGSrww', 742),\n",
       " ('LXrq0Fw6MCz70KMA928ldQ', 743),\n",
       " ('5VMajxduxfLPSyQkVFKESg', 746),\n",
       " ('w29d_3Ua0_JlOaAk89Sr2w', 746),\n",
       " ('Fh6OndE60vzvyhCX1Wg7Aw', 748),\n",
       " ('79EG9Pv0bxNTmBjTVCd4CQ', 749),\n",
       " ('4uGHPY-OpJN08CabtTAvNg', 750),\n",
       " ('5rDosv0aIBhLg81IMSnlyg', 751),\n",
       " ('KcSJUq1kwO8awZRMS6Q49g', 755),\n",
       " ('qT4w8n27RBQ_slz_FiK0CQ', 762),\n",
       " ('EUmfOpiQxJ5yaEMypI30gQ', 765),\n",
       " ('LwTK65TMrmtjpdZRloQDwg', 767),\n",
       " ('qjmCVYkwP-HDa35jwYucbQ', 774),\n",
       " ('i3ogCoQD4MY_sR73GCk-BA', 774),\n",
       " ('PmPOuRvuN3CoNOi1nBj_TQ', 776),\n",
       " ('FURgKkRFtMK5yKbjYZVVwA', 779),\n",
       " ('OiCxoAIoBvEWxf7p1qVVmA', 781),\n",
       " ('q_DrPmiLrHEpR_SQvQXELQ', 781),\n",
       " ('OFBJtqWGSx6n6CchtVmoRw', 782),\n",
       " ('KKucN3P6aH84MCfPr56a8g', 784),\n",
       " ('z3yFuLVrmH-3RJruPEMYKw', 791),\n",
       " ('3n9mSKySEv3G03YjcU-YOQ', 793),\n",
       " ('xheJf3qJLLf4-Ck8ay3GFg', 796),\n",
       " ('rfDTJLEwZZ2EGOZiTDdqQA', 796),\n",
       " ('OHsuvX4rmhnPvvRBb-QK7A', 801),\n",
       " ('VkPzsY09S4zO0XqhA1mc6Q', 805),\n",
       " ('kwEQ3uY9Jwmknb5kNg3UlA', 807),\n",
       " ('lhsyRdDtRNjOJ41ferYagQ', 813),\n",
       " ('N50HceZf1595UtU867u4uQ', 819),\n",
       " ('9Bnc9YP0n5cR57xkP6fQmQ', 821),\n",
       " ('wNsmt1hF1uv3YvbwXZMAoQ', 822),\n",
       " ('zNzJkzZxPTeTbRIRfeU9_Q', 824),\n",
       " ('cN6qpVw6RaSrSI-JGGF4Tw', 826),\n",
       " ('rcCGdKxMPJk4lCzZZ1i_bA', 826),\n",
       " ('yJDSMugu_Pom3pJE8MRrJA', 827),\n",
       " ('kgt13cwkP03NS8FJKgdLMw', 830),\n",
       " ('QJlab4DqvBRJPUfg7Vn5ZQ', 830),\n",
       " ('BQjGE1Z3nk253XzIZqt8Gg', 834),\n",
       " ('Q4ULAiIE2qCA4RYplCTrUQ', 836),\n",
       " ('vARjqeIkSNsazHltujiq4Q', 837),\n",
       " ('25fxw_jOqZtJwl18cCarIA', 842),\n",
       " ('c1yGkETheht_1vjda7G5sA', 843),\n",
       " ('pPfQ73--Y_h5Or0aqDgEGA', 846),\n",
       " ('y6NFyThUU2wtTNa0rX7VrA', 850),\n",
       " ('XDYnLQC8ViZejuCDp4eCwg', 854),\n",
       " ('Pz7SWZQhxL6ZbhL9jE2NTA', 856),\n",
       " ('t6SuvEq9PPVGzNv5bJzDtw', 856),\n",
       " ('8Pzdk19tA2bKlKDSgwWqoQ', 857),\n",
       " ('1NZLxU5WvB5roPFzneAlLw', 857),\n",
       " ('blgSBn3CimrCHn2SuZvcZw', 860),\n",
       " ('-sC66z4SO3tR7nFCjfQwuQ', 865),\n",
       " ('pwpl-rxwNRQdgqFz_-qMPg', 866),\n",
       " ('_FXql6eVhbM923RdCi94SA', 866),\n",
       " ('D_BMUHbZk67hzRcK3xQQmg', 868),\n",
       " ('lPh02W25cOrAz57UbTpbFQ', 871),\n",
       " ('GmzpzmxinfLMw5OXQKFEBQ', 873),\n",
       " ('2lF_8RZRBd9STfk_QwAtmg', 876),\n",
       " ('LCeF1wK5OqP3PPEVBa5Xfw', 878),\n",
       " ('xY1sPHTA2RGVFlh5tZhs9g', 878),\n",
       " ('-2n-OHbbwIv3SY8RP9bgTQ', 883),\n",
       " ('ryvMJK6AlbU35HKrlFT61w', 899),\n",
       " ('UrIT2RgnCg3OfRBr9J3h7w', 901),\n",
       " ('JxqtmneayPXU0nSHxC5YOw', 916),\n",
       " ('VheAZ3k8hL4QJTFxpeFGmA', 920),\n",
       " ('1U1GRksKXF7q8FKcW0e5VQ', 924),\n",
       " ('naLrErBuJr9IWd6_rv6-XQ', 939),\n",
       " ('IyCwqORkMSmK4mAgAFHgnA', 942),\n",
       " ('3oZcTGb_oDHGwZFiP-7kxQ', 947),\n",
       " ('8zL3V6rmFKBess3bxPLAoQ', 950),\n",
       " ('ZHDf8TUICsB2peQ9AmXeFw', 951),\n",
       " ('j_pce4pG9krrBeYwUni8Pg', 959),\n",
       " ('ES-j5yNTgmgbL4He0h6otA', 966),\n",
       " ('L9UYbtAUOcfTgZFimehlXw', 968),\n",
       " ('3fV9sL5LklD9ZSeONKmjkw', 971),\n",
       " ('Z0kyK8wCBNGkkUT9UrMWcg', 973),\n",
       " ('3MmHmJXr8Ltk_Z5EGE4KUw', 978),\n",
       " ('QRXv7Jvq_SuiiT_SKvbdig', 978),\n",
       " ('xNcqwYAUeVOhe3KNC4Xjaw', 979),\n",
       " ('pVH6ngKnMdJSpkFEw0XKlQ', 986),\n",
       " ('OwBPjUz2o0J5K3DzcHkBtg', 1002),\n",
       " ('sih8j621A66QoiUFues5qQ', 1006),\n",
       " ('n_ZuPiXgB4YPbkuSINpabQ', 1007),\n",
       " ('iXA8Y2bzvZo8MjALfZxrIg', 1016),\n",
       " ('Zx8_4zKdDBSO3qGrkukBIA', 1021),\n",
       " ('KJnVuzpveyDrHARVNZaYVg', 1025),\n",
       " ('cMvN1j-LK64zqmT4vnl8NA', 1028),\n",
       " ('Xq9tkiHhyN_aBFswFeGLvA', 1032),\n",
       " ('H_SuH7uLiYahDMbNBB9kog', 1034),\n",
       " ('zp713qNhx8d9KCJJnrw1xA', 1036),\n",
       " ('3OB5gQqibKGTzx9R1w7wKQ', 1041),\n",
       " ('yPibH0T8M3EbM550S9LSHQ', 1044),\n",
       " ('gGeVLZ9j_wAYKbaqgnKSJA', 1054),\n",
       " ('RhbOa-Ft3sZB4B_1j5LfyA', 1055),\n",
       " ('EWMwV5V9BxNs_U6nNVMeqw', 1056),\n",
       " ('SDwYQ6eSu1htn8vHWv128g', 1067),\n",
       " ('Q_Rwcv9APBLggk2KAsBEvg', 1083),\n",
       " ('uKSX1n1RoAzGq4bV8GPHVg', 1083),\n",
       " ('BW1JCE3Qj4uIokg7kLUL7w', 1085),\n",
       " ('ASOiJ8MmbBTgK2D1_MQrqg', 1090),\n",
       " ('53YGfwmbW73JhFiemNeyzQ', 1091),\n",
       " ('4X_XAOeMw7AFkYhg3NINJA', 1096),\n",
       " ('FHqwLwpLjUjeLP-IdG_o_w', 1096),\n",
       " ('SsGNAc9U-aKPZccnaDtFkA', 1096),\n",
       " ('K8dQr_82-DMpDudEv8PDmw', 1103),\n",
       " ('K8pM6qQdYu5h6buRE1-_sw', 1110),\n",
       " ('vSf0pqvaLp5sVSjJPeOqqQ', 1120),\n",
       " ('GGyHZtnAA5LBgouB-32ARA', 1143),\n",
       " ('YacTpiq0ZptFcXD7I-kdGA', 1148),\n",
       " ('4UVhuOLaMm2-34SrW8y-ag', 1162),\n",
       " ('sAOpm86A4ukUhY5men3Xbg', 1163),\n",
       " ('v7OwbHgNgy_VQ9eP5FjvUA', 1166),\n",
       " ('5GKbGn9-fAgQ0njSh3OJ8A', 1177),\n",
       " ('YKOvlBNkF4KpUP9q7x862w', 1213),\n",
       " ('8buIr1zBCO7OEcAQSZko7w', 1216),\n",
       " ('BqD7X5CHXnJ14YbBBlLx1w', 1217),\n",
       " ('MuIXnv7Oq7X3-4aEsp9dDA', 1222),\n",
       " ('ngNvH4sxnH9aMukTZ67R_Q', 1233),\n",
       " ('YrIfgzLj0DPStJ1ESAS_Qg', 1264),\n",
       " ('WNy1uzcmm_UHmTyR--o5IA', 1265),\n",
       " ('MN0OLvP8i0SirMJ7AMuMzA', 1274),\n",
       " ('QnAzW6KMSciUcuJ20oI3Bw', 1285),\n",
       " ('SHfUGBOznEtDhK6WbVrvIw', 1290),\n",
       " ('KjymOs12Mpy0Kd54b7T9MA', 1293),\n",
       " ('SLyacGZuMUKqrQJEooSkjw', 1299),\n",
       " ('V1nEpIRmEa1768oj_tuxeQ', 1303),\n",
       " ('AeKTQBtPRDHLAFL9bzbUnA', 1307),\n",
       " ('zTCCbg7mGslxACL5KlAPIQ', 1351),\n",
       " ('eLPld7Q17XxlclFGzZQX5g', 1372),\n",
       " ('ZP6qFq7LUh6Tr7WHPoOW6g', 1385),\n",
       " ('aRkYtXfmEKYG-eTDf_qUsw', 1390),\n",
       " ('LLDGTT7FExklkQvHebEjRg', 1398),\n",
       " ('IRYj1b1-mlXqABVsl9SoqQ', 1441),\n",
       " ('rZbHg4ACfN3iShdsT47WKQ', 1446),\n",
       " ('HyfFenprdpIA4rmKu6DW3g', 1477),\n",
       " ('vxxMqBaAHuWdx4impsLSSA', 1533),\n",
       " ('rBPQuQgTcMtUq5-RYhY2uQ', 1541),\n",
       " ('tqu42L0qXzkvYKSruOz0IA', 1551),\n",
       " ('NsnZ5GhagXBKrCOelxVQxw', 1559),\n",
       " ('VVeogjZya58oiTxK7qUjAQ', 1578),\n",
       " ('QhwkFogGQA-Ar176Ul5PUQ', 1587),\n",
       " ('JokKtdXU7zXHcr20Lrk29A', 1610),\n",
       " ('s5-VDvUqyYnD8RG3LPqnbQ', 1611),\n",
       " ('HbUQ_3dlm3uCacmhTEMnuA', 1651),\n",
       " ('ateowLnq6kpgNNWHzCDByQ', 1670),\n",
       " ('DjOxXobyGDwWt89q4z1twg', 1675),\n",
       " ('05fTEsjUPVo5jks8PpNKCQ', 1729),\n",
       " ('SsTxjxo8qvqBMvan1rzNzg', 1875),\n",
       " ('r1YB-iVpNM8oP2eEqyaVbg', 1882),\n",
       " ('jOuERtVf7QePnK9ZcdH5XA', 1883),\n",
       " ('1yx2zLskVTe5WQdYjL2Apw', 1896),\n",
       " ('FV16IeXJp2W6pnghTz2FAw', 1921),\n",
       " ('xyTJYlbE_MLouK6rCou6zg', 2004),\n",
       " ('BqrTtox0JbG-P_DKBB5bBw', 2074),\n",
       " ('mDdqifuTrfXAOfxiLMGu5Q', 2251),\n",
       " ('DO3Gk17RyJVW7zYMCtYPnw', 2369),\n",
       " ('PXviRcHR1mqdH4vRc2LEAQ', 2388),\n",
       " ('xfwRO04KbAPw_zRotCfWQQ', 2579),\n",
       " ('eq6lQI039SBLC6sHm3idGA', 2705),\n",
       " ('tFU2Js_nbIZOrnKfYJYBBg', 2781),\n",
       " ('CZjcFdvJhksq9dy58NVEzw', 2832),\n",
       " ('lliksv-tglfUz1T3B3vgvA', 2911),\n",
       " ('YNQgak-ZLtYJQxlDwN-qIg', 3107),\n",
       " ('QbmcCE_cLq4WO8ZMKImaLw', 3202),\n",
       " ('Xhg93cMdemu5pAMkDoEdtQ', 3330),\n",
       " ('iUPJmJvHy9fVfRxsuwwdLQ', 3584),\n",
       " ('2e2e7WgqU1BnpxmQL5jbfw', 4103),\n",
       " ('aGbjLWzcrnEx2ZmMCFm3EA', 4149),\n",
       " ('zt1TpTuJ6y9n551sw9TaEg', 4333),\n",
       " ('sIyHTizqAiGu12XMLX3N3g', 4531),\n",
       " ('4bEjOyTaDG24SY5TxsaUNQ', 5558)]"
      ]
     },
     "execution_count": 224,
     "metadata": {},
     "output_type": "execute_result"
    }
   ],
   "source": [
    "review_count = Counter(review['business_id']) # number of unique restaurants\n",
    "print(len(review_count))\n",
    "top_restaurant = [(k,v)for k,v in review_count.items() if v > 300]#number of restaurants that have more than 300 reviews\n",
    "sorted_by_count = sorted(top_restaurant, key=lambda tup: tup[1])\n",
    "sorted_by_count[-300:]"
   ]
  },
  {
   "cell_type": "code",
   "execution_count": 190,
   "metadata": {
    "collapsed": true
   },
   "outputs": [],
   "source": [
    "def get_user_reviews(user_id):\n",
    "    review_index = review['user_id'] == user_id\n",
    "    user_review = review[review_index]\n",
    "    good = user_review.ix[user_review['stars'] > 3.5]\n",
    "    bad = user_review.ix[user_review['stars'] <= 3.5]\n",
    "    return user_review.text,good.text, bad.text"
   ]
  },
  {
   "cell_type": "code",
   "execution_count": 29,
   "metadata": {
    "collapsed": true
   },
   "outputs": [],
   "source": [
    "good2, bad2 = get_user_reviews('3gIfcQq5KxAegwCPXc83cQ')"
   ]
  },
  {
   "cell_type": "code",
   "execution_count": 212,
   "metadata": {
    "collapsed": false
   },
   "outputs": [],
   "source": [
    "a,good, bad = get_user_reviews('9A2-wSoBUxlMd3LwmlGrrQ')"
   ]
  },
  {
   "cell_type": "code",
   "execution_count": 35,
   "metadata": {
    "collapsed": true
   },
   "outputs": [],
   "source": [
    "tfidf = TfidfVectorizer(stop_words='english')\n",
    "x = tfidf.fit_transform(good)"
   ]
  },
  {
   "cell_type": "code",
   "execution_count": 39,
   "metadata": {
    "collapsed": false
   },
   "outputs": [
    {
     "name": "stdout",
     "output_type": "stream",
     "text": [
      "['ziplock', 'indicated', 'insisting', 'insanity', 'insanely', 'ins', 'inner', 'inlaid', 'inherit', 'inhale', 'ingested', 'ingenious', 'inflating', 'inevitable', 'induce', 'incurable', 'inspirada', 'increased', 'increase', 'inconveniently']\n"
     ]
    }
   ],
   "source": [
    "# lectures = [\"this is some food\", \"this is some drink\"]\n",
    "# vectorizer = TfidfVectorizer()\n",
    "# X = vectorizer.fit_transform(lectures)\n",
    "indices = np.argsort(tfidf.idf_)[::-1]\n",
    "features = tfidf.get_feature_names()\n",
    "top_n = 20\n",
    "top_features = [features[i] for i in indices[:top_n]]\n",
    "print (top_features)\n"
   ]
  },
  {
   "cell_type": "code",
   "execution_count": 37,
   "metadata": {
    "collapsed": false
   },
   "outputs": [
    {
     "data": {
      "text/plain": [
       "<2x6201 sparse matrix of type '<class 'numpy.float64'>'\n",
       "\twith 187 stored elements in Compressed Sparse Row format>"
      ]
     },
     "execution_count": 37,
     "metadata": {},
     "output_type": "execute_result"
    }
   ],
   "source": [
    "indices = np.argsort(vectorizer.idf_)[::-1]\n",
    "features = vectorizer.get_feature_names()\n",
    "top_n = 2\n",
    "top_features = [features[i] for i in indices[:top_n]]\n",
    "print top_features"
   ]
  },
  {
   "cell_type": "code",
   "execution_count": 213,
   "metadata": {
    "collapsed": false
   },
   "outputs": [
    {
     "name": "stdout",
     "output_type": "stream",
     "text": [
      "Topic 1: beesting, piroshky, worry, contains, 11pm, loose, ritzcracker, bros, returning, saw, lent, bare, overwhelm, szechuan, multipage, billion, wa, accessibly, boucher, grit\n",
      "Topic 2: wa, transformation, floor, miscommunication, onion, carrot, variation, hole, ginger, dish, ny, assume, huli, hut, mexican, looking, wild, snapper, living, styrofoam\n",
      "Topic 3: wa, taco, roll, place, shrimp, youre, avocado, enchilada, definitely, sauce, fresh, menu, extra, chicken, sound, sandwich, center, order, bar, friendly\n",
      "Topic 4: wa, roll, sushi, vin, bottle, graham, special, included, having, delicious, pricing, sauce, lack, mahi, taxtip, wcream, lemony, number, fregola, higher\n",
      "Topic 5: wa, fresh, gyro, served, piece, opening, unrestrained, dont, sauce, pommes, brown, friendly, dinein, succulent, feta, drowning, service, award, brightened, salad\n",
      "Topic 6: gallo, wa, loignon, loved, whine, fast, cloth, description, weekend, pita, tanginess, ebi, overeasy, spicyzesty, rice, noodle, hate, doubt, texan, tasty\n",
      "Topic 7: wa, frijol, tomato, radish, try, boudin, thing, dressing, sip, spud, switch, banana, suggestion, hang, starving, speaking, hearty, gasstation, definitely, proteinnoodles\n",
      "Topic 8: lobby, factory, dine, meal, pekora, metal, realized, poppin, exclusive, smoothly, purportedly, 24, 1013, hand, garden, phenomenal, pickthree, nba, underseasoned, goat\n",
      "Topic 9: wa, fresh, tortilla, vietnamese, artichoke, texas, dijon, cup, lomo, roll, clarify, article, sparingly, consistency, shell, price, sandwichburger, camille, ikura, skool\n",
      "Topic 10: chess, spiced, spirit, phone, originally, giant, patio, shuffleboard, gamey, public, pelmini, seasonal, small, sonora, bulgarian, fused, leave, strike, good, super\n",
      "Topic 11: seasoned, speedy, mongolian, plank, keg, fave, lessonsgroups, moist, music, jellyfish, jackass, bend, local, knocked, auntie, liked, man, pleasure, 215, liquid\n",
      "Topic 12: wa, dish, sauce, salad, roll, good, menu, fresh, great, option, service, food, flavor, place, chicken, like, order, spot, rice, portion\n",
      "Topic 13: wa, fried, dish, didnt, leaf, sandwich, fyi, steer, ferraro, soup, perfect, dipping, dessert, tea, good, tasty, macarons, wing, noodle, visit\n",
      "Topic 14: burger, ramen, im, order, minicrepes, check, bfs, lifechanging, taken, dreadlock, raku, cherry, add, pay, freshly, spot, hallway, weakness, place, camera\n",
      "Topic 15: requisite, assisted, carry, glass, shine, complimentary, glad, damn, grab, higherthanaverage, caved, traditional, dog, koobideh, marrow, want, minus, ciabatta, discounted, removed\n"
     ]
    }
   ],
   "source": [
    "lda_tm(good)"
   ]
  },
  {
   "cell_type": "code",
   "execution_count": 209,
   "metadata": {
    "collapsed": false,
    "scrolled": true
   },
   "outputs": [
    {
     "name": "stdout",
     "output_type": "stream",
     "text": [
      "Topic 1: wa, closed, décor, reminiscent, pushing, tagine, sort, fixe, good, begin, gravy, general, matador, vaughns, brewed, le, secretly, unlike, significantly, pouring\n",
      "Topic 2: meh, chees, blessing, placei, barely, currynothing, arcadia, watch, contraption, east, bagel, remedied, environment, thigh, stuffedosity, yellow, jack, mebut, salsa, boop\n",
      "Topic 3: devil, bread, junk, salty, pastor, heel, relish, compound, ball, pricy, bean, terse, shady, whipped, burger, subbed, pack, sonoran, noticed, seven\n",
      "Topic 4: wa, cocktail, woo, drink, brunch, mac, priced, cheese, stayed, pricier, 13, rich, chilaquiles, fig, delicious, solid, havent, badly, topping, pork\n",
      "Topic 5: wa, good, half, pizza, lunch, creamy, item, sweet, tasty, went, nice, complaint, frustrating, make, beer, salad, tangyeverything, different, complain, ling\n",
      "Topic 6: wa, good, cocktail, small, delicious, woo, drink, overall, salad, friend, place, sweet, got, like, food, mac, plate, tasty, flavor, priced\n",
      "Topic 7: sampler, pale, toast, spago, ordinary, seeing, hungry, fall, ha, teeny, crepe, distinct, just, mishap, muchi, bonenot, sunset, chest, tasted, chimi\n",
      "Topic 8: wa, sweet, victory, belly, bursting, got, crisp, 900, crispy, good, said, idd, event, spicy, champagne, ceiling, luggage, spice, tues, cakesso\n",
      "Topic 9: wa, good, got, like, fun, chicken, definitely, item, party, little, coffee, falafel, eye, tasty, thai, lateespecially, asap, delivered, date, skewer\n",
      "Topic 10: bagel, wa, good, location, creamit, goood, gooda, burger, plus, cjs, joyride, intended, margherita, nosh, grabyourown, ahwatukee, pleasure, thursdaysdefinitely, sample, crispy\n",
      "Topic 11: wa, bar, went, got, offer, mac, vaughns, good, saltado, diego, loved, putting, 10, tame, fun, rehab, pinball, preferred, gate, goodwill\n",
      "Topic 12: closedwhat, general, lessondont, live, awesomeness, reveling, cover, currynothing, proximity, bf, set, string, wellobviously, tomorrowawesome, 35s, decent, indulgent, counterwas, memory, oil\n",
      "Topic 13: wa, noodle, good, happy, waxy, super, place, vienna, coffeenothing, pastry, try, buffalo, bit, 10this, strawberry, elaborate, sopprasetta, feel, look, family\n",
      "Topic 14: wa, spare, pizza, answering, good, bourguignon, fusion, ling, classic, fishynot, really, chanpen, huthopefully, saidwell, prefer, existed, fave, bf, delicious, sip\n",
      "Topic 15: wa, good, yummy, didnt, club, food, lap, wonderful, bf, partly, offering, market, lentil, gallo, tapa, chicken, condiment, gimmicky, deer, slaw\n"
     ]
    }
   ],
   "source": [
    "lda_tm(good2)"
   ]
  },
  {
   "cell_type": "code",
   "execution_count": 208,
   "metadata": {
    "collapsed": false
   },
   "outputs": [
    {
     "name": "stdout",
     "output_type": "stream",
     "text": [
      "Topic 1: timely, increasing, necessarily, heading, important, tastier, gain, old, viewed, called, ethnic, gal, vegetarian, glued, difference, tonic, word, clothes, making, thinking\n",
      "Topic 2: chop, sandwich, bashing, hot, chew, checking, feeling, dollar, stuck, hola, 62, matching, refilled, cheese, admit, calling, fishing, frazzled, apple, brisket\n",
      "Topic 3: bierwurst, downright, cheek, smallsurfaced, lexusand, tall, mushy, selection, like, christmas, limitedyouve, baba, range, tow, degree, pew, sushi, kale, armands, lower\n",
      "Topic 4: kfc, bent, feel, hat, hoagie, cured, middleclass, patty, lardo, tenbuck, opened, rabbit, hotel, foodnot, truly, dreck, basic, grapenut, ive, starting\n",
      "Topic 5: ive, sliced, collection, wa, spud, forced, canned, anymore, haus, offering, starbucks, crew, checking, doing, joes, left, wurstlplatte, away, pair, polenta\n",
      "Topic 6: oddalmost, spicy, timely, pass, vinegar, appeared, buttered, warm, unitbut, city, based, philly, net, undead, hola, reuben, forth, suggestion, recent, hoagie\n",
      "Topic 7: wa, mindset, difference, tex, promptly, chemspuds, men, quite, quiche, request, genius, eats, content, ordered, probably, mouth, monster, noodle, package, replacement\n",
      "Topic 8: goodness, finished, orgasm, filled, incite, aboutwelleverythingfrom, close, welcoming, mean, neighbor, patrick, try, chopped, pleasantly, hamburger, mistaken, busy, imagine, clinic, renovation\n",
      "Topic 9: gave, wa, minimason, worth, heftily, unpleasant, 250, expecting, whistle, pretentiouspleasant, mortgage, partying, main, wider, bubba, small, air, poor, overpowering, imagine\n",
      "Topic 10: cheesecake, situation, strip, honey, amusement, ceo, naturally, seasoned, feature, dry, raw, latest, spot, granddaughter, preface, lineup, bitter, tasted, appointment, known\n",
      "Topic 11: pricey, deal, kind, tilapia, responded, germany, admitted, inch, aint, oil, dinner, wa, costume, jump, haired, passed, soooo, proclaiming, eater, 13\n",
      "Topic 12: basically, arabic, dare, ii, pipe, foreign, closely, came, medium, undead, important, expected, completely, em, grilled, nibble, citing, 25, tomlin, reviewsi\n",
      "Topic 13: fruit, collection, twotops, rarely, sameexcept, smoker, pm, inspired, liquid, iswelladorable, chicken, trough, shop, white, unitbut, entertainment, lukewarm, break, looked, spot\n",
      "Topic 14: collar, tomlin, rachel, hamburger, milk, yokel, ahhhhhh, aloof, refer, craig, larger, beefy, king, bad, kid, fat, hatchedarmands, almond, adding, foodiei\n",
      "Topic 15: dripped, adore, paused, dance, bell, gap, inquire, patronizing, manner, beverage, drastically, pine, question, guzzling, bangkok, itsa, cheez, coworkers, mediocrity, york\n"
     ]
    }
   ],
   "source": [
    "lda_tm(bad)"
   ]
  },
  {
   "cell_type": "code",
   "execution_count": 4,
   "metadata": {
    "collapsed": true
   },
   "outputs": [],
   "source": [
    "def categorize_reviews(business_id):\n",
    "    business_index = restaurant_review['business_id'] == business_id # get the business index\n",
    "    one_restaurant = restaurant_review[business_index]\n",
    "    good = one_restaurant.ix[one_restaurant['stars'] > 3.5]\n",
    "    bad = one_restaurant.ix[one_restaurant['stars'] <= 3.5]\n",
    "    good = good.reset_index()\n",
    "    bad = bad.reset_index()\n",
    "    return good.text,bad.text"
   ]
  },
  {
   "cell_type": "code",
   "execution_count": 207,
   "metadata": {
    "collapsed": true
   },
   "outputs": [],
   "source": [
    "def lda_tm(X):\n",
    "    x = [clean_text(x) for x in X]\n",
    "    tfidf = TfidfVectorizer(stop_words='english')\n",
    "    x = tfidf.fit_transform(x)\n",
    "    lda = LatentDirichletAllocation(n_topics=15,\n",
    "                                max_iter=5,\n",
    "                                learning_method='online',\n",
    "                                learning_offset=50.)\n",
    "    terms = tfidf.get_feature_names()\n",
    "    lda.fit(x)\n",
    "    C = lda.components_\n",
    "    for topic,term in enumerate(C):\n",
    "        top_indices = np.argsort(C)[topic][::-1][:20]\n",
    "        term_ranking = [terms[i] for i in top_indices]\n",
    "        print(\"Topic {}: {}\".format(topic+1, \", \".join(term_ranking)))\n",
    "    "
   ]
  },
  {
   "cell_type": "code",
   "execution_count": 11,
   "metadata": {
    "collapsed": true
   },
   "outputs": [],
   "source": [
    "def nmf_tm(x):\n",
    "    tfidf = TfidfVectorizer(stop_words='english')\n",
    "    x = tfidf.fit_transform(x)\n",
    "    nmf = NMF(init=\"nndsvd\",\n",
    "            n_components=15,\n",
    "            max_iter=200)\n",
    "    terms = tfidf.get_feature_names()\n",
    "    nmf.fit(x)\n",
    "    W = nmf.fit_transform(x)\n",
    "    H = nmf.components_\n",
    "    for topic,term in enumerate(H):\n",
    "        top_indices = np.argsort(H)[topic][::-1][:10]\n",
    "        term_ranking = [terms[i] for i in top_indices]\n",
    "        print(\"Topic {}: {}\".format(topic+1, \", \".join(term_ranking)))\n",
    "    "
   ]
  },
  {
   "cell_type": "code",
   "execution_count": null,
   "metadata": {
    "collapsed": true
   },
   "outputs": [],
   "source": []
  },
  {
   "cell_type": "code",
   "execution_count": 12,
   "metadata": {
    "collapsed": false,
    "scrolled": true
   },
   "outputs": [
    {
     "data": {
      "text/plain": [
       "1630712"
      ]
     },
     "execution_count": 12,
     "metadata": {},
     "output_type": "execute_result"
    }
   ],
   "source": [
    "len(review)"
   ]
  },
  {
   "cell_type": "code",
   "execution_count": 8,
   "metadata": {
    "collapsed": false,
    "scrolled": true
   },
   "outputs": [
    {
     "data": {
      "text/html": [
       "<div>\n",
       "<table border=\"1\" class=\"dataframe\">\n",
       "  <thead>\n",
       "    <tr style=\"text-align: right;\">\n",
       "      <th></th>\n",
       "      <th>Unnamed: 0</th>\n",
       "      <th>business_id</th>\n",
       "      <th>review_count</th>\n",
       "    </tr>\n",
       "  </thead>\n",
       "  <tbody>\n",
       "    <tr>\n",
       "      <th>0</th>\n",
       "      <td>0</td>\n",
       "      <td>FY_OXEVcewAQFZuu6fynLA</td>\n",
       "      <td>301</td>\n",
       "    </tr>\n",
       "    <tr>\n",
       "      <th>1</th>\n",
       "      <td>1</td>\n",
       "      <td>7WGBi29_vj_7RcPVxpLNHA</td>\n",
       "      <td>301</td>\n",
       "    </tr>\n",
       "  </tbody>\n",
       "</table>\n",
       "</div>"
      ],
      "text/plain": [
       "   Unnamed: 0             business_id  review_count\n",
       "0           0  FY_OXEVcewAQFZuu6fynLA           301\n",
       "1           1  7WGBi29_vj_7RcPVxpLNHA           301"
      ]
     },
     "execution_count": 8,
     "metadata": {},
     "output_type": "execute_result"
    }
   ],
   "source": [
    "top_restaurant.head(2)"
   ]
  },
  {
   "cell_type": "code",
   "execution_count": null,
   "metadata": {
    "collapsed": true
   },
   "outputs": [],
   "source": []
  },
  {
   "cell_type": "code",
   "execution_count": 9,
   "metadata": {
    "collapsed": false
   },
   "outputs": [
    {
     "ename": "TypeError",
     "evalue": "expected sequence object with len >= 0 or a single integer",
     "output_type": "error",
     "traceback": [
      "\u001b[0;31m---------------------------------------------------------------------------\u001b[0m",
      "\u001b[0;31mTypeError\u001b[0m                                 Traceback (most recent call last)",
      "\u001b[0;32m<ipython-input-9-15dd4f21418b>\u001b[0m in \u001b[0;36m<module>\u001b[0;34m()\u001b[0m\n\u001b[0;32m----> 1\u001b[0;31m \u001b[0mrating_matrix\u001b[0m \u001b[0;34m=\u001b[0m \u001b[0mnp\u001b[0m\u001b[0;34m.\u001b[0m\u001b[0mzeros\u001b[0m\u001b[0;34m(\u001b[0m \u001b[0mshape\u001b[0m \u001b[0;34m)\u001b[0m\u001b[0;34m\u001b[0m\u001b[0m\n\u001b[0m",
      "\u001b[0;31mTypeError\u001b[0m: expected sequence object with len >= 0 or a single integer"
     ]
    }
   ],
   "source": [
    "rating_matrix = np.zeros( shape )"
   ]
  },
  {
   "cell_type": "code",
   "execution_count": null,
   "metadata": {
    "collapsed": true
   },
   "outputs": [],
   "source": [
    "self.SVD_matrix = np.zeros(shape = (944, 1683), dtype = np.float32)\n",
    "def modifyRatingsDataset(self): \n",
    "        ''' Assign rating values to a matrix (userid, movieid ) '''\n",
    "        for index, row in self.ratings.iterrows():\n",
    "            self.SVD_matrix[ int(row[0]) , int(row[1])] = float(row[2])\n",
    "        return csc_matrix(self.SVD_matrix, dtype=np.float32),self.SVD_matrix"
   ]
  },
  {
   "cell_type": "code",
   "execution_count": null,
   "metadata": {
    "collapsed": true
   },
   "outputs": [],
   "source": []
  }
 ],
 "metadata": {
  "anaconda-cloud": {},
  "kernelspec": {
   "display_name": "Python [Root]",
   "language": "python",
   "name": "Python [Root]"
  },
  "language_info": {
   "codemirror_mode": {
    "name": "ipython",
    "version": 3
   },
   "file_extension": ".py",
   "mimetype": "text/x-python",
   "name": "python",
   "nbconvert_exporter": "python",
   "pygments_lexer": "ipython3",
   "version": "3.5.2"
  }
 },
 "nbformat": 4,
 "nbformat_minor": 0
}
